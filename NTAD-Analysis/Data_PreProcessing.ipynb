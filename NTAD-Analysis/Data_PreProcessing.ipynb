{
 "cells": [
  {
   "cell_type": "markdown",
   "id": "08bfb64c",
   "metadata": {},
   "source": [
    "### Used this Pre-Processing script to generate a csv file for making the data compatible to import in a DB2 SE database"
   ]
  },
  {
   "cell_type": "code",
   "execution_count": null,
   "id": "6eb9bc4b-f8a6-4812-9c49-6c025681d256",
   "metadata": {},
   "outputs": [
    {
     "name": "stdout",
     "output_type": "stream",
     "text": [
      "Simplification and export completed successfully.\n"
     ]
    }
   ],
   "source": [
    "import geopandas as gpd\n",
    "\n",
    "# Load your shapefile, replace this with the path to your shapefile\n",
    "gdf = gpd.read_file(\"D:/Advanced_Project/NTAD_North_American_Roads/North_American_Roads.shp\")\n",
    "\n",
    "# Reproject to WGS84\n",
    "gdf = gdf.to_crs(\"EPSG:4326\")\n",
    "\n",
    "# Simplify geometries to reduce complexity\n",
    "gdf['geometry'] = gdf['geometry'].simplify(tolerance=0.01, preserve_topology=True)\n",
    "\n",
    "# Recompute WKT\n",
    "gdf['wkt'] = gdf['geometry'].apply(lambda x: x.wkt if x is not None else '')\n",
    "\n",
    "# Export again\n",
    "gdf.to_csv(\"D:/Advanced_Project/NTAD_North_American_Roads/North_American_Roads_WKT_Simplified.csv\", index=False)\n",
    "\n",
    "print(\"Simplification and export completed successfully.\")\n"
   ]
  },
  {
   "cell_type": "code",
   "execution_count": null,
   "id": "c5d7364b-8fe6-4327-b778-f0700e5c9850",
   "metadata": {},
   "outputs": [
    {
     "name": "stdout",
     "output_type": "stream",
     "text": [
      "       ID  DIR  LENGTH      LINKID  COUNTRY JURISCODE JURISNAME ROADNUM  \\\n",
      "0   34287    0  201.62    01_34287        1     01_60     Yukon       5   \n",
      "1   34288    0   42.88    01_34288        1     01_60     Yukon       5   \n",
      "2   34289    0  185.29    01_34289        1     01_60     Yukon       5   \n",
      "3  440304    0    1.57  02_2752236        2     02_02    Alaska    None   \n",
      "4  440305    0    1.41  02_2752403        2     02_02    Alaska    None   \n",
      "\n",
      "           ROADNAME        ADMIN  SURFACE  LANES  SPEEDLIM  CLASS  NHS  \\\n",
      "0  Dempster Highway  Territorial  Unpaved      2        80      2  3.0   \n",
      "1  Dempster Highway  Territorial  Unpaved      2        80      2  3.0   \n",
      "2  Dempster Highway  Territorial  Unpaved      2        80      2  3.0   \n",
      "3      AHMOAGAK AVE    Municipal    Paved      2        88      5  0.0   \n",
      "4      AHMOAGAK AVE    Municipal    Paved      2        88      5  0.0   \n",
      "\n",
      "   BORDER                                           geometry  \\\n",
      "0       0  LINESTRING (-138.52554 64.23732, -138.52424 64...   \n",
      "1       0  LINESTRING (-138.12287 65.67244, -138.11811 65...   \n",
      "2       0  LINESTRING (-137.56098 65.86093, -137.56142 65...   \n",
      "3       0  LINESTRING (-156.70138 71.30802, -156.70097 71...   \n",
      "4       0  LINESTRING (-156.70138 71.30802, -156.70224 71...   \n",
      "\n",
      "                                                 wkt  \n",
      "0  LINESTRING (-138.5255350003073 64.237324000109...  \n",
      "1  LINESTRING (-138.1228709997753 65.672440999995...  \n",
      "2  LINESTRING (-137.5609809996121 65.860927999969...  \n",
      "3  LINESTRING (-156.70138400016864 71.30802199990...  \n",
      "4  LINESTRING (-156.70138400016864 71.30802199990...  \n"
     ]
    }
   ],
   "source": [
    "print(gdf.head())"
   ]
  },
  {
   "cell_type": "code",
   "execution_count": 13,
   "id": "5a584ec0-571f-4da2-9486-2b61db90f6e5",
   "metadata": {},
   "outputs": [
    {
     "name": "stdout",
     "output_type": "stream",
     "text": [
      "Index(['ID', 'DIR', 'LENGTH', 'LINKID', 'COUNTRY', 'JURISCODE', 'JURISNAME',\n",
      "       'ROADNUM', 'ROADNAME', 'ADMIN', 'SURFACE', 'LANES', 'SPEEDLIM', 'CLASS',\n",
      "       'NHS', 'BORDER', 'geometry', 'wkt'],\n",
      "      dtype='object')\n"
     ]
    }
   ],
   "source": [
    "print(gdf.columns)"
   ]
  },
  {
   "cell_type": "code",
   "execution_count": 15,
   "id": "cd82e68c-5050-403f-8af7-16292788fa01",
   "metadata": {},
   "outputs": [
    {
     "name": "stdout",
     "output_type": "stream",
     "text": [
      "            ID  DIR  LENGTH       LINKID  COUNTRY JURISCODE JURISNAME ROADNUM  \\\n",
      "535614  928953    0   13.92  02_32913913        2     02_13   Georgia    S320   \n",
      "533920  928901    0   10.77  02_33188627        2     02_13   Georgia    S327   \n",
      "533919  929061    0   12.43  02_33146739        2     02_13   Georgia     S59   \n",
      "535615  928947    0    9.63  02_32965978        2     02_13   Georgia    S106   \n",
      "457128  858411    0   11.28  02_28648297        2     02_13   Georgia     S53   \n",
      "\n",
      "       ROADNAME  ADMIN SURFACE  LANES  SPEEDLIM  CLASS   NHS  BORDER  \\\n",
      "535614      NaN  State   Paved      2        88      4   0.0       0   \n",
      "533920      NaN  State   Paved      2        88      5   0.0       0   \n",
      "533919      NaN  State   Paved      2        88      5   0.0       0   \n",
      "535615      NaN  State   Paved      2        88      5   0.0       0   \n",
      "457128      NaN  State   Paved      2        56      3  10.0       0   \n",
      "\n",
      "                                                 geometry  \\\n",
      "535614  LINESTRING (-83.25926999982323 34.377322000276...   \n",
      "533920  LINESTRING (-83.15258999962404 34.326648000284...   \n",
      "533919  LINESTRING (-83.22350499971742 34.392492000013...   \n",
      "535615  LINESTRING (-83.31936700037835 34.472112000149...   \n",
      "457128  LINESTRING (-84.80963299978072 34.448106000313...   \n",
      "\n",
      "                                                      wkt  wkt_length  \n",
      "535614  LINESTRING (-83.25926999982323 34.377322000276...    834300.0  \n",
      "533920  LINESTRING (-83.15258999962404 34.326648000284...    694038.0  \n",
      "533919  LINESTRING (-83.22350499971742 34.392492000013...    671078.0  \n",
      "535615  LINESTRING (-83.31936700037835 34.472112000149...    654634.0  \n",
      "457128  LINESTRING (-84.80963299978072 34.448106000313...    586290.0  \n"
     ]
    }
   ],
   "source": [
    "import pandas as pd\n",
    "\n",
    "df = pd.read_csv(\"D:/Advanced_Project/NTAD_North_American_Roads/North_American_Roads_WKT.csv\")\n",
    "df['wkt_length'] = df['wkt'].str.len()\n",
    "print(df.sort_values('wkt_length', ascending=False).head(5))\n"
   ]
  }
 ],
 "metadata": {
  "kernelspec": {
   "display_name": "Python 3 (ipykernel)",
   "language": "python",
   "name": "python3"
  },
  "language_info": {
   "codemirror_mode": {
    "name": "ipython",
    "version": 3
   },
   "file_extension": ".py",
   "mimetype": "text/x-python",
   "name": "python",
   "nbconvert_exporter": "python",
   "pygments_lexer": "ipython3",
   "version": "3.12.4"
  }
 },
 "nbformat": 4,
 "nbformat_minor": 5
}
