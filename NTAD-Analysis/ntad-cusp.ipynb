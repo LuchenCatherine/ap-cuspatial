{
 "cells": [
  {
   "cell_type": "markdown",
   "id": "9dc37f5a",
   "metadata": {},
   "source": [
    "### This file was used o evaluate and understand cuSpatial and cuDF functionality for NTAD Dataset"
   ]
  },
  {
   "cell_type": "code",
   "execution_count": 2,
   "id": "0a6cd243",
   "metadata": {},
   "outputs": [],
   "source": [
    "# Imports used throughout this notebook.\n",
    "import cuspatial\n",
    "import cudf\n",
    "import cupy  \n",
    "import geopandas as gpd\n",
    "import os\n",
    "import pandas as pd\n",
    "import numpy as np\n",
    "from shapely.geometry import *\n",
    "from shapely import wkt"
   ]
  },
  {
   "cell_type": "code",
   "execution_count": null,
   "id": "303a30ea",
   "metadata": {},
   "outputs": [],
   "source": [
    "gdf = gpd.read_file(\"data/North_American_Roads.shp\")"
   ]
  },
  {
   "cell_type": "code",
   "execution_count": 4,
   "id": "524cf92b",
   "metadata": {},
   "outputs": [
    {
     "name": "stdout",
     "output_type": "stream",
     "text": [
      "       ID  DIR  LENGTH      LINKID  COUNTRY JURISCODE JURISNAME ROADNUM  \\\n",
      "0   34287    0  201.62    01_34287        1     01_60     Yukon       5   \n",
      "1   34288    0   42.88    01_34288        1     01_60     Yukon       5   \n",
      "2   34289    0  185.29    01_34289        1     01_60     Yukon       5   \n",
      "3  440304    0    1.57  02_2752236        2     02_02    Alaska    None   \n",
      "4  440305    0    1.41  02_2752403        2     02_02    Alaska    None   \n",
      "\n",
      "           ROADNAME        ADMIN  SURFACE  LANES  SPEEDLIM  CLASS  NHS  \\\n",
      "0  Dempster Highway  Territorial  Unpaved      2        80      2  3.0   \n",
      "1  Dempster Highway  Territorial  Unpaved      2        80      2  3.0   \n",
      "2  Dempster Highway  Territorial  Unpaved      2        80      2  3.0   \n",
      "3      AHMOAGAK AVE    Municipal    Paved      2        88      5  0.0   \n",
      "4      AHMOAGAK AVE    Municipal    Paved      2        88      5  0.0   \n",
      "\n",
      "   BORDER                                           geometry  \n",
      "0       0  LINESTRING (-138.52554 64.23732, -138.52424 64...  \n",
      "1       0  LINESTRING (-138.12287 65.67244, -138.11811 65...  \n",
      "2       0  LINESTRING (-137.56098 65.86093, -137.56142 65...  \n",
      "3       0  LINESTRING (-156.70138 71.30802, -156.70097 71...  \n",
      "4       0  LINESTRING (-156.70138 71.30802, -156.70224 71...  \n"
     ]
    }
   ],
   "source": [
    "print(gdf.head())"
   ]
  },
  {
   "cell_type": "code",
   "execution_count": 5,
   "id": "7f8440f9",
   "metadata": {},
   "outputs": [
    {
     "name": "stdout",
     "output_type": "stream",
     "text": [
      "['LineString' 'MultiLineString' None]\n"
     ]
    }
   ],
   "source": [
    "print(gdf.geom_type.unique())"
   ]
  },
  {
   "cell_type": "code",
   "execution_count": 6,
   "id": "70e7bc30",
   "metadata": {},
   "outputs": [],
   "source": [
    "# Filtering out None geometries\n",
    "gdf = gdf[~gdf['geometry'].isna()]"
   ]
  },
  {
   "cell_type": "code",
   "execution_count": 7,
   "id": "04c97f73",
   "metadata": {},
   "outputs": [],
   "source": [
    "def extract_coords(geom):\n",
    "    if geom is None:\n",
    "        return []\n",
    "    if geom.geom_type == 'LineString':\n",
    "        return list(geom.coords)\n",
    "    elif geom.geom_type == 'MultiLineString':\n",
    "        return [list(line.coords) for line in geom.geoms]\n",
    "    else:\n",
    "        return []\n",
    "\n",
    "# Apply extraction\n",
    "gdf['coords'] = gdf['geometry'].apply(extract_coords)"
   ]
  },
  {
   "cell_type": "code",
   "execution_count": 8,
   "id": "66930d18",
   "metadata": {},
   "outputs": [],
   "source": [
    "#Convert to flattened list of coordinates\n",
    "def flatten_coords(coords):\n",
    "    # Handle MultiLineString which returns list of lists\n",
    "    if coords and isinstance(coords[0], list):\n",
    "        return [pt for line in coords for pt in line]\n",
    "    return coords\n",
    "\n",
    "gdf['flat_coords'] = gdf['coords'].apply(flatten_coords)"
   ]
  },
  {
   "cell_type": "code",
   "execution_count": 9,
   "id": "49565a48",
   "metadata": {},
   "outputs": [
    {
     "name": "stdout",
     "output_type": "stream",
     "text": [
      "       ID  DIR  LENGTH      LINKID  COUNTRY JURISCODE JURISNAME ROADNUM  \\\n",
      "0   34287    0  201.62    01_34287        1     01_60     Yukon       5   \n",
      "1   34288    0   42.88    01_34288        1     01_60     Yukon       5   \n",
      "2   34289    0  185.29    01_34289        1     01_60     Yukon       5   \n",
      "3  440304    0    1.57  02_2752236        2     02_02    Alaska    None   \n",
      "4  440305    0    1.41  02_2752403        2     02_02    Alaska    None   \n",
      "\n",
      "           ROADNAME        ADMIN  SURFACE  LANES  SPEEDLIM  CLASS  NHS  \\\n",
      "0  Dempster Highway  Territorial  Unpaved      2        80      2  3.0   \n",
      "1  Dempster Highway  Territorial  Unpaved      2        80      2  3.0   \n",
      "2  Dempster Highway  Territorial  Unpaved      2        80      2  3.0   \n",
      "3      AHMOAGAK AVE    Municipal    Paved      2        88      5  0.0   \n",
      "4      AHMOAGAK AVE    Municipal    Paved      2        88      5  0.0   \n",
      "\n",
      "   BORDER                                           geometry  \\\n",
      "0       0  LINESTRING (-138.52554 64.23732, -138.52424 64...   \n",
      "1       0  LINESTRING (-138.12287 65.67244, -138.11811 65...   \n",
      "2       0  LINESTRING (-137.56098 65.86093, -137.56142 65...   \n",
      "3       0  LINESTRING (-156.70138 71.30802, -156.70097 71...   \n",
      "4       0  LINESTRING (-156.70138 71.30802, -156.70224 71...   \n",
      "\n",
      "                                              coords  \\\n",
      "0  [(-138.5255350003073, 64.23732400010914), (-13...   \n",
      "1  [(-138.1228709997753, 65.67244099999529), (-13...   \n",
      "2  [(-137.5609809996121, 65.86092799996901), (-13...   \n",
      "3  [(-156.70138400016864, 71.30802199990404), (-1...   \n",
      "4  [(-156.70138400016864, 71.30802199990404), (-1...   \n",
      "\n",
      "                                         flat_coords  \n",
      "0  [(-138.5255350003073, 64.23732400010914), (-13...  \n",
      "1  [(-138.1228709997753, 65.67244099999529), (-13...  \n",
      "2  [(-137.5609809996121, 65.86092799996901), (-13...  \n",
      "3  [(-156.70138400016864, 71.30802199990404), (-1...  \n",
      "4  [(-156.70138400016864, 71.30802199990404), (-1...  \n"
     ]
    }
   ],
   "source": [
    "print(gdf.head())"
   ]
  },
  {
   "cell_type": "markdown",
   "id": "414fdd95",
   "metadata": {},
   "source": [
    "#### Separating longitude (x) and latitude (y) values into two flat arrays."
   ]
  },
  {
   "cell_type": "code",
   "execution_count": 10,
   "id": "42d69089",
   "metadata": {},
   "outputs": [],
   "source": [
    "# Separate x and y into lists\n",
    "x_coords = []\n",
    "y_coords = []\n",
    "\n",
    "for coord_list in gdf['flat_coords']:\n",
    "    for lon, lat in coord_list:\n",
    "        x_coords.append(lon)\n",
    "        y_coords.append(lat)"
   ]
  },
  {
   "cell_type": "code",
   "execution_count": 11,
   "id": "7355063e",
   "metadata": {},
   "outputs": [
    {
     "name": "stdout",
     "output_type": "stream",
     "text": [
      "Total points loaded to GPU: 25224400\n"
     ]
    }
   ],
   "source": [
    "# Convert to cuDF Series for GPU processing\n",
    "x_series = cudf.Series(x_coords)\n",
    "y_series = cudf.Series(y_coords)\n",
    "\n",
    "print(f\"Total points loaded to GPU: {len(x_series)}\")"
   ]
  },
  {
   "cell_type": "markdown",
   "id": "50f58b04",
   "metadata": {},
   "source": [
    "#### Define Bounding Box for Pre-Filtering"
   ]
  },
  {
   "cell_type": "code",
   "execution_count": 12,
   "id": "cd7b64fc",
   "metadata": {},
   "outputs": [
    {
     "name": "stdout",
     "output_type": "stream",
     "text": [
      "Filtered points within bounding box: 14649383\n"
     ]
    }
   ],
   "source": [
    "# Example bounding box: (minx, miny, maxx, maxy)\n",
    "bbox_minx, bbox_miny, bbox_maxx, bbox_maxy = -140, 30, -60, 70  # Adjust to your target region\n",
    "\n",
    "# Create mask to filter points within bounding box\n",
    "mask = (x_series >= bbox_minx) & (x_series <= bbox_maxx) & \\\n",
    "       (y_series >= bbox_miny) & (y_series <= bbox_maxy)\n",
    "\n",
    "filtered_x = x_series[mask]\n",
    "filtered_y = y_series[mask]\n",
    "\n",
    "print(f\"Filtered points within bounding box: {len(filtered_x)}\")"
   ]
  },
  {
   "cell_type": "code",
   "execution_count": 14,
   "id": "adbdeade",
   "metadata": {},
   "outputs": [],
   "source": [
    "# Example bounding box around a target area\n",
    "target_lon, target_lat = -75.0, 40.0\n",
    "offset = 0.05\n",
    "\n",
    "# Define bounding box corners (in lon/lat degrees)\n",
    "poly_x = cudf.Series([target_lon - offset, target_lon - offset,\n",
    "                      target_lon + offset, target_lon + offset,\n",
    "                      target_lon - offset])\n",
    "poly_y = cudf.Series([target_lat - offset, target_lat + offset,\n",
    "                      target_lat + offset, target_lat - offset,\n",
    "                      target_lat - offset])\n",
    "\n",
    "# Offsets defining one polygon with one ring\n",
    "poly_offsets = cudf.Series([0])\n",
    "ring_offsets = cudf.Series([0])"
   ]
  },
  {
   "cell_type": "code",
   "execution_count": 15,
   "id": "f910a5d8",
   "metadata": {},
   "outputs": [],
   "source": [
    "points_x = cudf.Series(filtered_x.to_numpy())\n",
    "points_y = cudf.Series(filtered_y.to_numpy())"
   ]
  }
 ],
 "metadata": {
  "kernelspec": {
   "display_name": "cuspatial_env",
   "language": "python",
   "name": "python3"
  },
  "language_info": {
   "codemirror_mode": {
    "name": "ipython",
    "version": 3
   },
   "file_extension": ".py",
   "mimetype": "text/x-python",
   "name": "python",
   "nbconvert_exporter": "python",
   "pygments_lexer": "ipython3",
   "version": "3.9.21"
  }
 },
 "nbformat": 4,
 "nbformat_minor": 5
}
