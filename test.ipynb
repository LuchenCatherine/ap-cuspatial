{
 "cells": [
  {
   "cell_type": "code",
   "execution_count": 9,
   "id": "e1362e5e",
   "metadata": {},
   "outputs": [],
   "source": [
    "import cudf\n",
    "import cupy as cp\n",
    "import matplotlib.pyplot as plt\n",
    "from cuml.cluster import DBSCAN\n",
    "from cuspatial import haversine_distance\n",
    "import pandas as pd\n",
    "from cuspatial import haversine_distance\n",
    "from cuspatial import GeoSeries"
   ]
  },
  {
   "cell_type": "code",
   "execution_count": 2,
   "id": "3b7f54c5",
   "metadata": {},
   "outputs": [
    {
     "name": "stdout",
     "output_type": "stream",
     "text": [
      "✅ Date parsing fixed. Cleaned data rows: 79596\n"
     ]
    }
   ],
   "source": [
    "# Load using cuDF\n",
    "df_cases = cudf.read_csv(\"./data/WHO-COVID-19-global-data-2.csv\")\n",
    "df_locs = cudf.read_csv(\"./data/world_country_and_usa_states_latitude_and_longitude_values.csv\")\n",
    "\n",
    "# Clean column names\n",
    "df_cases = df_cases.rename(columns={\n",
    "    ' Country': 'Country',\n",
    "    ' Country_code': 'Country_code',\n",
    "    ' WHO_region': 'WHO_region'\n",
    "})\n",
    "df_locs = df_locs.rename(columns={\n",
    "    'country': 'Country',\n",
    "    'latitude': 'lat',\n",
    "    'longitude': 'lon'\n",
    "})\n",
    "\n",
    "# Convert to pandas to safely parse datetime\n",
    "df_cases_pd = df_cases.to_pandas()\n",
    "df_cases_pd['Date_reported'] = pd.to_datetime(df_cases_pd['Date_reported'], errors='coerce')\n",
    "df_cases_pd = df_cases_pd.dropna(subset=['Date_reported'])\n",
    "\n",
    "# Convert back to cuDF\n",
    "df_cases = cudf.from_pandas(df_cases_pd)\n",
    "\n",
    "# Merge and clean\n",
    "df = df_cases.merge(df_locs, on=\"Country\", how=\"inner\")\n",
    "df = df.dropna(subset=[\"lat\", \"lon\"])\n",
    "df = df[df['Date_reported'] > '2021-01-01']\n",
    "\n",
    "print(\"✅ Date parsing fixed. Cleaned data rows:\", len(df))\n"
   ]
  },
  {
   "cell_type": "code",
   "execution_count": 3,
   "id": "feda3485",
   "metadata": {},
   "outputs": [],
   "source": [
    "df['prev_lat'] = df['lat'].shift(1).fillna(df['lat'])\n",
    "df['prev_lon'] = df['lon'].shift(1).fillna(df['lon'])\n"
   ]
  },
  {
   "cell_type": "code",
   "execution_count": 4,
   "id": "e33e770b",
   "metadata": {},
   "outputs": [
    {
     "name": "stdout",
     "output_type": "stream",
     "text": [
      "Index(['Date_reported', 'Country_code', 'Country', 'WHO_region', 'New_cases',\n",
      "       'Cumulative_cases', 'New_deaths', 'Cumulative_deaths', 'country_code',\n",
      "       'lat', 'lon', 'usa_state_code', 'usa_state_latitude',\n",
      "       'usa_state_longitude', 'usa_state', 'prev_lat', 'prev_lon'],\n",
      "      dtype='object')\n"
     ]
    }
   ],
   "source": [
    "print(df.columns)\n"
   ]
  },
  {
   "cell_type": "code",
   "execution_count": 5,
   "id": "22f2a7e6",
   "metadata": {},
   "outputs": [],
   "source": [
    "df.columns = df.columns.str.strip()\n"
   ]
  },
  {
   "cell_type": "code",
   "execution_count": 6,
   "id": "8daf5877",
   "metadata": {},
   "outputs": [
    {
     "name": "stdout",
     "output_type": "stream",
     "text": [
      "Index(['Date_reported', 'Country_code', 'Country', 'WHO_region', 'New_cases',\n",
      "       'Cumulative_cases', 'New_deaths', 'Cumulative_deaths', 'country_code',\n",
      "       'lat', 'lon', 'usa_state_code', 'usa_state_latitude',\n",
      "       'usa_state_longitude', 'usa_state', 'prev_lat', 'prev_lon'],\n",
      "      dtype='object')\n"
     ]
    }
   ],
   "source": [
    "print(df.columns)\n"
   ]
  },
  {
   "cell_type": "code",
   "execution_count": 8,
   "id": "652ae775",
   "metadata": {},
   "outputs": [
    {
     "name": "stdout",
     "output_type": "stream",
     "text": [
      "    prev_lon   prev_lat        lon        lat\n",
      "0  17.873887 -11.202692  17.873887 -11.202692\n",
      "1  17.873887 -11.202692  17.873887 -11.202692\n",
      "2  17.873887 -11.202692  17.873887 -11.202692\n",
      "3  17.873887 -11.202692  17.873887 -11.202692\n",
      "4  17.873887 -11.202692  17.873887 -11.202692\n"
     ]
    }
   ],
   "source": [
    "print(df[[\"prev_lon\", \"prev_lat\", \"lon\", \"lat\"]].head())\n"
   ]
  },
  {
   "cell_type": "code",
   "execution_count": 11,
   "id": "7193f262",
   "metadata": {},
   "outputs": [],
   "source": [
    "\n",
    "p1 = GeoSeries.from_xy(df[\"prev_lon\"].to_numpy(), df[\"prev_lat\"].to_numpy())\n"
   ]
  },
  {
   "cell_type": "code",
   "execution_count": 12,
   "id": "f7d0899e",
   "metadata": {},
   "outputs": [],
   "source": [
    "import geopandas as gpd\n",
    "\n",
    "# Convert GPU DataFrame to CPU (pandas) first\n",
    "pdf = df.to_pandas()\n",
    "\n",
    "# Then create GeoDataFrame safely\n",
    "gdf = gpd.GeoDataFrame(\n",
    "    pdf,\n",
    "    geometry=gpd.points_from_xy(pdf[\"lon\"], pdf[\"lat\"]),\n",
    "    crs=\"EPSG:4326\"\n",
    ")\n"
   ]
  },
  {
   "cell_type": "code",
   "execution_count": 13,
   "id": "29501e9e",
   "metadata": {},
   "outputs": [],
   "source": [
    "import pandas as pd\n",
    "\n",
    "# Load cleaned dataset\n",
    "pdf_clean = pd.read_csv(\"cleaned_sample.csv\")  # or your actual path\n",
    "\n",
    "# Now safely sample\n",
    "subset = pdf_clean.sample(n=min(198, len(pdf_clean)), random_state=42)\n"
   ]
  },
  {
   "cell_type": "code",
   "execution_count": 14,
   "id": "1b6d74dd",
   "metadata": {},
   "outputs": [],
   "source": [
    "from sklearn.metrics.pairwise import haversine_distances\n",
    "import numpy as np\n",
    "\n",
    "coords = np.radians(subset[[\"lat\", \"lon\"]])\n",
    "dist_matrix = haversine_distances(coords, coords)\n",
    "dist_matrix_km = dist_matrix * 6371.0\n"
   ]
  },
  {
   "cell_type": "code",
   "execution_count": 15,
   "id": "5a9dc4d8",
   "metadata": {},
   "outputs": [],
   "source": [
    "\n",
    "# Sample from unique coordinate locations\n",
    "unique_coords = pdf_clean.drop_duplicates(subset=[\"lat\", \"lon\"])\n",
    "subset = unique_coords.sample(n=min(198, len(unique_coords)), random_state=42)\n"
   ]
  },
  {
   "cell_type": "code",
   "execution_count": 17,
   "id": "c25d9072",
   "metadata": {},
   "outputs": [],
   "source": [
    "\n",
    "from sklearn.metrics.pairwise import haversine_distances\n",
    "import numpy as np\n",
    "\n",
    "# Convert to radians\n",
    "coords_rad = np.radians(subset[[\"lat\", \"lon\"]])\n"
   ]
  },
  {
   "cell_type": "code",
   "execution_count": 18,
   "id": "a98a3051",
   "metadata": {},
   "outputs": [],
   "source": [
    "# Compute haversine distance matrix\n",
    "dist_matrix = haversine_distances(coords_rad, coords_rad) * 6371.0  # Earth radius in km\n"
   ]
  },
  {
   "cell_type": "code",
   "execution_count": 19,
   "id": "fa263add",
   "metadata": {},
   "outputs": [
    {
     "data": {
      "image/png": "[encoded data removed]",
      "text/plain": [
       "<Figure size 1000x800 with 2 Axes>"
      ]
     },
     "metadata": {},
     "output_type": "display_data"
    }
   ],
   "source": [
    "import seaborn as sns\n",
    "import matplotlib.pyplot as plt\n",
    "\n",
    "plt.figure(figsize=(10, 8))\n",
    "sns.heatmap(dist_matrix[:50, :50], cmap=\"magma\", cbar_kws={\"label\": \"Distance (km)\"})\n",
    "plt.title(\"Haversine Distance Matrix (Sample of 50 Locations)\")\n",
    "plt.xlabel(\"Location Index\")\n",
    "plt.ylabel(\"Location Index\")\n",
    "plt.tight_layout()\n",
    "plt.show()\n"
   ]
  },
  {
   "cell_type": "code",
   "execution_count": 20,
   "id": "f4822458",
   "metadata": {},
   "outputs": [
    {
     "data": {
      "image/png": "[encoded data removed]",
      "text/plain": [
       "<Figure size 1000x800 with 2 Axes>"
      ]
     },
     "metadata": {},
     "output_type": "display_data"
    }
   ],
   "source": [
    "import seaborn as sns\n",
    "import matplotlib.pyplot as plt\n",
    "\n",
    "plt.figure(figsize=(10, 8))\n",
    "sns.heatmap(dist_matrix_km[:50, :50], cmap=\"magma\")\n",
    "plt.title(\"Haversine Distance Matrix (First 50 Points)\")\n",
    "plt.xlabel(\"Location Index\")\n",
    "plt.ylabel(\"Location Index\")\n",
    "plt.show()\n"
   ]
  },
  {
   "cell_type": "code",
   "execution_count": 21,
   "id": "d3472f2b",
   "metadata": {},
   "outputs": [],
   "source": [
    "df[\"bucket_x\"] = (df[\"lon\"] * 10).astype(\"int32\")\n",
    "df[\"bucket_y\"] = (df[\"lat\"] * 10).astype(\"int32\")\n",
    "df[\"bucket\"] = df[\"bucket_x\"].astype(\"str\") + \"_\" + df[\"bucket_y\"].astype(\"str\")\n"
   ]
  },
  {
   "cell_type": "code",
   "execution_count": 22,
   "id": "6eafed1f",
   "metadata": {},
   "outputs": [],
   "source": [
    "density = df.groupby(\"bucket\").size().rename(\"count\")\n"
   ]
  },
  {
   "cell_type": "code",
   "execution_count": 23,
   "id": "76aa63af",
   "metadata": {},
   "outputs": [
    {
     "name": "stdout",
     "output_type": "stream",
     "text": [
      "[W] [12:23:55.112166] Batch size limited by the chosen integer type (4 bytes). 34037 -> 26979. Using the larger integer type might result in better performance\n"
     ]
    }
   ],
   "source": [
    "from cuml.cluster import DBSCAN\n",
    "\n",
    "# Drop rows with missing coordinates\n",
    "df_cluster = df.dropna(subset=[\"lon\", \"lat\"]).copy()\n",
    "\n",
    "# Convert to float32 (cuML requirement)\n",
    "X = df_cluster[[\"lon\", \"lat\"]].astype(\"float32\")\n",
    "\n",
    "# Apply DBSCAN (e.g., epsilon 3km, min_samples 10)\n",
    "db = DBSCAN(eps=3.0, min_samples=10)\n",
    "df_cluster[\"cluster\"] = db.fit_predict(X)\n",
    "\n",
    "# Merge back with full dataframe\n",
    "df = df.merge(df_cluster[[\"lon\", \"lat\", \"cluster\"]], on=[\"lon\", \"lat\"], how=\"left\")\n"
   ]
  },
  {
   "cell_type": "code",
   "execution_count": 24,
   "id": "c8e89f4c",
   "metadata": {},
   "outputs": [],
   "source": [
    "# Ensure the 'month' column exists\n",
    "df['month'] = df['Date_reported'].dt.month\n",
    "\n",
    "# Group by cluster and month\n",
    "monthly_clusters = df.dropna(subset=[\"cluster\"]).groupby([\"cluster\", \"month\"]).agg({\n",
    "    \"New_cases\": \"sum\"\n",
    "})\n"
   ]
  },
  {
   "cell_type": "code",
   "execution_count": 26,
   "id": "30cc2c7d",
   "metadata": {},
   "outputs": [],
   "source": [
    "df_centroids = df.groupby('cluster')[['lon', 'lat']].mean().reset_index()\n"
   ]
  },
  {
   "cell_type": "code",
   "execution_count": 28,
   "id": "15685bee",
   "metadata": {},
   "outputs": [
    {
     "name": "stdout",
     "output_type": "stream",
     "text": [
      "        lat       lon  prev_lat  prev_lon\n",
      "1  56.26392  9.501785  56.26392  9.501785\n",
      "2  56.26392  9.501785  56.26392  9.501785\n",
      "3  56.26392  9.501785  56.26392  9.501785\n",
      "4  56.26392  9.501785  56.26392  9.501785\n",
      "5  56.26392  9.501785  56.26392  9.501785\n"
     ]
    }
   ],
   "source": [
    "# 1. Convert only 1000 rows to CPU to avoid GPU memory overload\n",
    "import pandas as pd\n",
    "\n",
    "# This will bypass GPU memory limits\n",
    "pdf_sample = df.head(1000).to_pandas().copy()\n",
    "\n",
    "# 2. Clean and prepare necessary columns\n",
    "pdf_sample[\"prev_lat\"] = pdf_sample[\"lat\"].shift(1)\n",
    "pdf_sample[\"prev_lon\"] = pdf_sample[\"lon\"].shift(1)\n",
    "\n",
    "# 3. Drop missing values created by shift\n",
    "pdf_sample.dropna(subset=[\"prev_lat\", \"prev_lon\"], inplace=True)\n",
    "\n",
    "# ✅ This is your clean, CPU-based working sample\n",
    "print(pdf_sample[[\"lat\", \"lon\", \"prev_lat\", \"prev_lon\"]].head())\n"
   ]
  },
  {
   "cell_type": "code",
   "execution_count": 29,
   "id": "41be49c1",
   "metadata": {},
   "outputs": [],
   "source": [
    "import pandas as pd\n",
    "import numpy as np\n",
    "from sklearn.metrics.pairwise import haversine_distances\n",
    "\n",
    "# Create a fake time series if real Date_reported is unavailable\n",
    "pdf_sample[\"Date_reported\"] = pd.date_range(start=\"2020-01-01\", periods=len(pdf_sample), freq=\"D\")\n",
    "\n",
    "# Compute time difference in days\n",
    "pdf_sample[\"prev_time\"] = pdf_sample[\"Date_reported\"].shift(1)\n",
    "pdf_sample[\"time_diff_days\"] = (pdf_sample[\"Date_reported\"] - pdf_sample[\"prev_time\"]).dt.days.fillna(0) + 0.01\n",
    "\n",
    "# Convert coordinates to radians\n",
    "p1 = np.radians(pdf_sample[[\"prev_lat\", \"prev_lon\"]].values)\n",
    "p2 = np.radians(pdf_sample[[\"lat\", \"lon\"]].values)\n",
    "\n",
    "# Haversine distance (in km)\n",
    "pdf_sample[\"distance_to_prev\"] = np.diag(haversine_distances(p1, p2)) * 6371.0\n",
    "\n",
    "# Velocity = distance / time\n",
    "pdf_sample[\"velocity_km_per_day\"] = pdf_sample[\"distance_to_prev\"] / pdf_sample[\"time_diff_days\"]\n"
   ]
  },
  {
   "cell_type": "code",
   "execution_count": 30,
   "id": "ba55f88b",
   "metadata": {},
   "outputs": [],
   "source": [
    "pdf_sample[\"is_fast_spread\"] = pdf_sample[\"velocity_km_per_day\"] > 100\n"
   ]
  },
  {
   "cell_type": "code",
   "execution_count": 31,
   "id": "43f110a8",
   "metadata": {},
   "outputs": [],
   "source": [
    "pdf_sample[\"dx\"] = pdf_sample[\"lon\"] - pdf_sample[\"prev_lon\"]\n",
    "pdf_sample[\"dy\"] = pdf_sample[\"lat\"] - pdf_sample[\"prev_lat\"]\n",
    "pdf_sample[\"angle_deg\"] = np.degrees(np.arctan2(pdf_sample[\"dy\"], pdf_sample[\"dx\"]))\n"
   ]
  },
  {
   "cell_type": "code",
   "execution_count": 32,
   "id": "71225603",
   "metadata": {},
   "outputs": [],
   "source": [
    "buffer_km = 300\n",
    "pdf_sample[\"buffer_lat\"] = pdf_sample[\"lat\"] + (buffer_km / 111.0)\n",
    "pdf_sample[\"buffer_lon\"] = pdf_sample[\"lon\"] + (buffer_km / (111.0 * np.cos(np.radians(pdf_sample[\"lat\"]))))\n"
   ]
  },
  {
   "cell_type": "code",
   "execution_count": 33,
   "id": "3fb286ac",
   "metadata": {},
   "outputs": [],
   "source": [
    "pdf_sample[\"close_to_prev\"] = pdf_sample[\"distance_to_prev\"] < 300\n"
   ]
  },
  {
   "cell_type": "code",
   "execution_count": 34,
   "id": "b1009e66",
   "metadata": {},
   "outputs": [],
   "source": [
    "# Compute dx and dy for direction\n",
    "pdf_sample[\"dx\"] = pdf_sample[\"lon\"] - pdf_sample[\"prev_lon\"]\n",
    "pdf_sample[\"dy\"] = pdf_sample[\"lat\"] - pdf_sample[\"prev_lat\"]\n",
    "\n",
    "# Angle in degrees from East (atan2 gives result in radians)\n",
    "pdf_sample[\"angle_deg\"] = np.degrees(np.arctan2(pdf_sample[\"dy\"], pdf_sample[\"dx\"]))\n"
   ]
  },
  {
   "cell_type": "code",
   "execution_count": 35,
   "id": "14d2bbe6",
   "metadata": {},
   "outputs": [],
   "source": [
    "# Simulate 10 fake clusters\n",
    "pdf_sample[\"fake_cluster\"] = pd.cut(pdf_sample.index, bins=10, labels=False)\n",
    "\n",
    "# Compute cluster centroids\n",
    "cluster_centroids = pdf_sample.groupby(\"fake_cluster\")[[\"lat\", \"lon\"]].mean().reset_index()\n",
    "\n",
    "# Compute pairwise distances between adjacent cluster centroids\n",
    "lat1 = np.radians(cluster_centroids[\"lat\"].values[:-1])\n",
    "lon1 = np.radians(cluster_centroids[\"lon\"].values[:-1])\n",
    "lat2 = np.radians(cluster_centroids[\"lat\"].values[1:])\n",
    "lon2 = np.radians(cluster_centroids[\"lon\"].values[1:])\n",
    "\n",
    "from sklearn.metrics.pairwise import haversine_distances\n",
    "\n",
    "p1 = np.column_stack((lat1, lon1))\n",
    "p2 = np.column_stack((lat2, lon2))\n",
    "\n",
    "cluster_centroids[\"inter_cluster_dist_km\"] = np.append(\n",
    "    np.diag(haversine_distances(p1, p2)) * 6371, 0\n",
    ")\n"
   ]
  },
  {
   "cell_type": "code",
   "execution_count": 36,
   "id": "70772f20",
   "metadata": {},
   "outputs": [],
   "source": [
    "# Sum cases per cluster and divide by an approximate area (πr²), assume r = 10 km\n",
    "pdf_sample[\"cluster_cases\"] = pdf_sample.groupby(\"fake_cluster\")[\"New_cases\"].transform(\"sum\")\n",
    "pdf_sample[\"cases_density\"] = pdf_sample[\"cluster_cases\"] / (np.pi * 10**2)\n"
   ]
  },
  {
   "cell_type": "code",
   "execution_count": 37,
   "id": "05f2e887",
   "metadata": {},
   "outputs": [],
   "source": [
    "# Shift and compute jump\n",
    "pdf_sample[\"density_jump\"] = pdf_sample[\"cases_density\"].diff().fillna(0)\n",
    "pdf_sample[\"is_jump\"] = np.abs(pdf_sample[\"density_jump\"]) > 0.5 * pdf_sample[\"cases_density\"]\n"
   ]
  },
  {
   "cell_type": "code",
   "execution_count": 38,
   "id": "d4a7e985",
   "metadata": {},
   "outputs": [],
   "source": [
    "# Identify travel corridors that fall within dangerous angles\n",
    "pdf_sample[\"is_directional_threat\"] = pdf_sample[\"angle_deg\"].between(30, 150)\n"
   ]
  },
  {
   "cell_type": "code",
   "execution_count": 39,
   "id": "a6c07752",
   "metadata": {},
   "outputs": [],
   "source": [
    "# Create synthetic dates\n",
    "pdf_sample[\"Date_reported\"] = pd.date_range(start=\"2020-01-01\", periods=len(pdf_sample), freq=\"D\")\n",
    "lifespan = pdf_sample.groupby(\"fake_cluster\")[\"Date_reported\"].agg([\"min\", \"max\"])\n",
    "lifespan[\"lifespan_days\"] = (lifespan[\"max\"] - lifespan[\"min\"]).dt.days\n"
   ]
  },
  {
   "cell_type": "code",
   "execution_count": 40,
   "id": "86f996b5",
   "metadata": {},
   "outputs": [],
   "source": [
    "# Create a fake velocity and radius if not available\n",
    "pdf_sample[\"velocity_km_per_day\"] = pdf_sample[\"distance_to_prev\"] / (pdf_sample[\"Date_reported\"].diff().dt.days.fillna(1))\n",
    "pdf_sample[\"radius_km\"] = np.random.uniform(5, 20, size=len(pdf_sample))\n",
    "\n",
    "# Composite score\n",
    "pdf_sample[\"risk_score\"] = (pdf_sample[\"cases_density\"] * pdf_sample[\"velocity_km_per_day\"]) / (pdf_sample[\"radius_km\"] + 1)\n",
    "\n",
    "# Categorize risk\n",
    "pdf_sample[\"risk_tier\"] = pd.cut(\n",
    "    pdf_sample[\"risk_score\"],\n",
    "    bins=[-np.inf, 500, 2000, np.inf],\n",
    "    labels=[\"Low\", \"Medium\", \"High\"]\n",
    ")\n"
   ]
  },
  {
   "cell_type": "code",
   "execution_count": 41,
   "id": "9627befe",
   "metadata": {},
   "outputs": [],
   "source": [
    "# Simulate two hospital coordinates\n",
    "hosp_coords = [(77.1, 28.6), (72.8, 19.1)]  # (lon, lat)\n",
    "\n",
    "# Compute distances using haversine\n",
    "def haversine_np(lon1, lat1, lon2, lat2):\n",
    "    lon1, lat1, lon2, lat2 = map(np.radians, [lon1, lat1, lon2, lat2])\n",
    "    dlon = lon2 - lon1\n",
    "    dlat = lat2 - lat1\n",
    "    a = np.sin(dlat / 2.0)**2 + np.cos(lat1) * np.cos(lat2) * np.sin(dlon / 2.0)**2\n",
    "    c = 2 * np.arcsin(np.sqrt(a))\n",
    "    return 6371 * c\n",
    "\n",
    "pdf_sample[\"dist_to_hosp1\"] = haversine_np(\n",
    "    pdf_sample[\"lon\"], pdf_sample[\"lat\"], hosp_coords[0][0], hosp_coords[0][1]\n",
    ")\n",
    "pdf_sample[\"dist_to_hosp2\"] = haversine_np(\n",
    "    pdf_sample[\"lon\"], pdf_sample[\"lat\"], hosp_coords[1][0], hosp_coords[1][1]\n",
    ")\n"
   ]
  },
  {
   "cell_type": "code",
   "execution_count": 42,
   "id": "15ae4a28",
   "metadata": {},
   "outputs": [],
   "source": [
    "# Composite heatmap score\n",
    "pdf_sample[\"heatmap_value\"] = (\n",
    "    pdf_sample[\"New_cases\"] / (pdf_sample[\"radius_km\"] + 1)\n",
    ") * np.log1p(pdf_sample[\"velocity_km_per_day\"])\n"
   ]
  },
  {
   "cell_type": "code",
   "execution_count": 125,
   "id": "ca529a59",
   "metadata": {},
   "outputs": [],
   "source": [
    "pdf_sample.to_csv(\"cleaned_sample.csv\", index=False)\n"
   ]
  },
  {
   "cell_type": "code",
   "execution_count": 43,
   "id": "98ce03a5",
   "metadata": {},
   "outputs": [],
   "source": [
    "# Step 15.5: Compute direction angle (in degrees) using dx, dy\n",
    "pdf_sample[\"dx\"] = pdf_sample[\"lon\"] - pdf_sample[\"prev_lon\"]\n",
    "pdf_sample[\"dy\"] = pdf_sample[\"lat\"] - pdf_sample[\"prev_lat\"]\n",
    "pdf_sample[\"angle\"] = np.degrees(np.arctan2(pdf_sample[\"dy\"], pdf_sample[\"dx\"]))\n"
   ]
  },
  {
   "cell_type": "code",
   "execution_count": 44,
   "id": "7872c4db",
   "metadata": {},
   "outputs": [
    {
     "data": {
      "image/png": "[encoded data removed]",
      "text/plain": [
       "<Figure size 1000x600 with 1 Axes>"
      ]
     },
     "metadata": {},
     "output_type": "display_data"
    }
   ],
   "source": [
    "import matplotlib.pyplot as plt\n",
    "import pandas as pd\n",
    "\n",
    "# Ensure you have a DataFrame called `pdf_sample` with these columns:\n",
    "# ['lat', 'lon', 'radius_km']\n",
    "\n",
    "# Step 12: Mark points within 300 km of their cluster centroid\n",
    "pdf_sample[\"close_to_centroid\"] = pdf_sample[\"radius_km\"] < 300\n",
    "\n",
    "# Map boolean to color\n",
    "colors = pdf_sample[\"close_to_centroid\"].map({True: \"green\", False: \"gray\"})\n",
    "\n",
    "# Plot\n",
    "plt.figure(figsize=(10, 6))\n",
    "plt.scatter(pdf_sample[\"lon\"], pdf_sample[\"lat\"], c=colors, s=20, alpha=0.7)\n",
    "plt.title(\"Step 12: Points Within 300km of Cluster Centroid\")\n",
    "plt.xlabel(\"Longitude\")\n",
    "plt.ylabel(\"Latitude\")\n",
    "plt.grid(True)\n",
    "plt.tight_layout()\n",
    "plt.show()\n"
   ]
  },
  {
   "cell_type": "code",
   "execution_count": 45,
   "id": "30eefcbd",
   "metadata": {},
   "outputs": [],
   "source": [
    "from sklearn.cluster import DBSCAN\n",
    "\n",
    "model = DBSCAN(eps=2.5, min_samples=5)\n",
    "pdf_sample[\"cluster\"] = model.fit_predict(pdf_sample[[\"lon\", \"lat\"]])\n"
   ]
  },
  {
   "cell_type": "code",
   "execution_count": 46,
   "id": "bfcbaecb",
   "metadata": {},
   "outputs": [
    {
     "name": "stderr",
     "output_type": "stream",
     "text": [
      "/home/deepak/miniconda3/envs/cuspatial_env/lib/python3.9/site-packages/IPython/core/pylabtools.py:152: UserWarning: Glyph 129517 (\\N{COMPASS}) missing from font(s) DejaVu Sans.\n",
      "  fig.canvas.print_figure(bytes_io, **kw)\n"
     ]
    },
    {
     "data": {
      "image/png": "[encoded data removed]",
      "text/plain": [
       "<Figure size 1000x600 with 2 Axes>"
      ]
     },
     "metadata": {},
     "output_type": "display_data"
    }
   ],
   "source": [
    "import matplotlib.pyplot as plt\n",
    "\n",
    "plt.figure(figsize=(10, 6))\n",
    "plt.scatter(pdf_sample[\"lon\"], pdf_sample[\"lat\"], c=pdf_sample[\"cases_density\"], cmap=\"plasma\", s=20)\n",
    "plt.colorbar(label=\"Cases Density\")\n",
    "plt.title(\"🧭 COVID-19 Cases Density Gradient\")\n",
    "plt.xlabel(\"Longitude\")\n",
    "plt.ylabel(\"Latitude\")\n",
    "plt.grid(True)\n",
    "plt.show()\n"
   ]
  },
  {
   "cell_type": "code",
   "execution_count": 47,
   "id": "583edcfd",
   "metadata": {},
   "outputs": [
    {
     "name": "stderr",
     "output_type": "stream",
     "text": [
      "/home/deepak/miniconda3/envs/cuspatial_env/lib/python3.9/site-packages/IPython/core/pylabtools.py:152: UserWarning: Glyph 128680 (\\N{POLICE CARS REVOLVING LIGHT}) missing from font(s) DejaVu Sans.\n",
      "  fig.canvas.print_figure(bytes_io, **kw)\n"
     ]
    },
    {
     "data": {
      "image/png": "[encoded data removed]",
      "text/plain": [
       "<Figure size 1000x600 with 2 Axes>"
      ]
     },
     "metadata": {},
     "output_type": "display_data"
    }
   ],
   "source": [
    "plt.figure(figsize=(10, 6))\n",
    "plt.scatter(pdf_sample[\"lon\"], pdf_sample[\"lat\"], c=pdf_sample[\"is_jump\"], cmap=\"coolwarm\", s=20)\n",
    "plt.colorbar(label=\"Jump Detected\")\n",
    "plt.title(\"🚨 Sudden Density Jumps\")\n",
    "plt.xlabel(\"Longitude\")\n",
    "plt.ylabel(\"Latitude\")\n",
    "plt.grid(True)\n",
    "plt.show()\n"
   ]
  },
  {
   "cell_type": "code",
   "execution_count": 48,
   "id": "d2d2dd9c",
   "metadata": {},
   "outputs": [
    {
     "name": "stderr",
     "output_type": "stream",
     "text": [
      "/home/deepak/miniconda3/envs/cuspatial_env/lib/python3.9/site-packages/IPython/core/pylabtools.py:152: UserWarning: Glyph 128198 (\\N{TEAR-OFF CALENDAR}) missing from font(s) DejaVu Sans.\n",
      "  fig.canvas.print_figure(bytes_io, **kw)\n"
     ]
    },
    {
     "data": {
      "image/png": "[encoded data removed]",
      "text/plain": [
       "<Figure size 1000x500 with 1 Axes>"
      ]
     },
     "metadata": {},
     "output_type": "display_data"
    }
   ],
   "source": [
    "# If not already done:\n",
    "# Group by cluster and compute lifespan\n",
    "lifespan = pdf_sample.groupby(\"cluster\")[\"Date_reported\"].agg([\"min\", \"max\"])\n",
    "lifespan[\"lifespan_days\"] = (lifespan[\"max\"] - lifespan[\"min\"]).dt.days\n",
    "lifespan = lifespan.reset_index()\n",
    "\n",
    "# 📊 Plotting\n",
    "import matplotlib.pyplot as plt\n",
    "\n",
    "plt.figure(figsize=(10, 5))\n",
    "plt.bar(lifespan[\"cluster\"], lifespan[\"lifespan_days\"], color=\"skyblue\")\n",
    "plt.title(\"📆 Cluster Lifespan in Days\")\n",
    "plt.xlabel(\"Cluster ID\")\n",
    "plt.ylabel(\"Lifespan (days)\")\n",
    "plt.xticks(rotation=45)\n",
    "plt.grid(True)\n",
    "plt.show()\n"
   ]
  },
  {
   "cell_type": "code",
   "execution_count": 49,
   "id": "5bc4412a",
   "metadata": {},
   "outputs": [
    {
     "name": "stderr",
     "output_type": "stream",
     "text": [
      "/home/deepak/miniconda3/envs/cuspatial_env/lib/python3.9/site-packages/IPython/core/pylabtools.py:152: UserWarning: Glyph 128721 (\\N{OCTAGONAL SIGN}) missing from font(s) DejaVu Sans.\n",
      "  fig.canvas.print_figure(bytes_io, **kw)\n"
     ]
    },
    {
     "data": {
      "image/png": "[encoded data removed]",
      "text/plain": [
       "<Figure size 1000x600 with 1 Axes>"
      ]
     },
     "metadata": {},
     "output_type": "display_data"
    }
   ],
   "source": [
    "colors = {'High': 'red', 'Medium': 'orange', 'Low': 'green'}\n",
    "plt.figure(figsize=(10, 6))\n",
    "for tier, group in pdf_sample.groupby(\"risk_tier\"):\n",
    "    plt.scatter(group[\"lon\"], group[\"lat\"], label=tier, color=colors[tier], s=15)\n",
    "\n",
    "plt.legend()\n",
    "plt.title(\"🛑 Risk Tier Map by Velocity × Density\")\n",
    "plt.xlabel(\"Longitude\")\n",
    "plt.ylabel(\"Latitude\")\n",
    "plt.grid(True)\n",
    "plt.show()\n"
   ]
  },
  {
   "cell_type": "code",
   "execution_count": 50,
   "id": "e17e148f",
   "metadata": {},
   "outputs": [
    {
     "name": "stderr",
     "output_type": "stream",
     "text": [
      "/home/deepak/miniconda3/envs/cuspatial_env/lib/python3.9/site-packages/IPython/core/pylabtools.py:152: UserWarning: Glyph 127973 (\\N{HOSPITAL}) missing from font(s) DejaVu Sans.\n",
      "  fig.canvas.print_figure(bytes_io, **kw)\n"
     ]
    },
    {
     "data": {
      "image/png": "[encoded data removed]",
      "text/plain": [
       "<Figure size 1000x600 with 2 Axes>"
      ]
     },
     "metadata": {},
     "output_type": "display_data"
    }
   ],
   "source": [
    "plt.figure(figsize=(10, 6))\n",
    "plt.scatter(pdf_sample[\"lon\"], pdf_sample[\"lat\"], c=pdf_sample[\"dist_to_hosp1\"], cmap=\"cool\", s=20)\n",
    "plt.colorbar(label=\"Distance to Hospital 1 (km)\")\n",
    "plt.title(\"🏥 Proximity to Hospital 1\")\n",
    "plt.xlabel(\"Longitude\")\n",
    "plt.ylabel(\"Latitude\")\n",
    "plt.grid(True)\n",
    "plt.show()\n"
   ]
  },
  {
   "cell_type": "code",
   "execution_count": 51,
   "id": "dcbc2f5f",
   "metadata": {},
   "outputs": [
    {
     "name": "stderr",
     "output_type": "stream",
     "text": [
      "/home/deepak/miniconda3/envs/cuspatial_env/lib/python3.9/site-packages/IPython/core/pylabtools.py:152: UserWarning: Glyph 128293 (\\N{FIRE}) missing from font(s) DejaVu Sans.\n",
      "  fig.canvas.print_figure(bytes_io, **kw)\n"
     ]
    },
    {
     "data": {
      "image/png": "[encoded data removed]",
      "text/plain": [
       "<Figure size 1000x600 with 2 Axes>"
      ]
     },
     "metadata": {},
     "output_type": "display_data"
    }
   ],
   "source": [
    "plt.figure(figsize=(10, 6))\n",
    "plt.scatter(pdf_sample[\"lon\"], pdf_sample[\"lat\"], c=pdf_sample[\"heatmap_value\"], cmap=\"hot\", s=25)\n",
    "plt.colorbar(label=\"🔥 Heatmap Risk Value\")\n",
    "plt.title(\"🔥 COVID Geospatial Risk Heatmap\")\n",
    "plt.xlabel(\"Longitude\")\n",
    "plt.ylabel(\"Latitude\")\n",
    "plt.grid(True)\n",
    "plt.show()\n"
   ]
  },
  {
   "cell_type": "code",
   "execution_count": 52,
   "id": "e7d0f4e1",
   "metadata": {},
   "outputs": [
    {
     "data": {
      "application/vnd.plotly.v1+json": {
       "config": {
        "plotlyServerURL": "https://plot.ly"
       },
       "data": [
        {
         "geo": "geo",
         "hovertemplate": "<b>%{hovertext}</b><br><br>lifespan_days=%{marker.color}<br>lat=%{lat}<br>lon=%{lon}<extra></extra>",
         "hovertext": {
          "bdata": "AAAAAAAAAAAAAAAAAADwPw==",
          "dtype": "f8"
         },
         "lat": {
          "bdata": "U2FsIcghTEBmvK302tpKQA==",
          "dtype": "f8"
         },
         "legendgroup": "",
         "lon": {
          "bdata": "KT+p9ukAI0C7XS9NEfQ7QA==",
          "dtype": "f8"
         },
         "marker": {
          "color": {
           "bdata": "5gM/Aw==",
           "dtype": "i2"
          },
          "coloraxis": "coloraxis",
          "size": {
           "bdata": "5gM/Aw==",
           "dtype": "i2"
          },
          "sizemode": "area",
          "sizeref": 2.495,
          "symbol": "circle"
         },
         "mode": "markers",
         "name": "",
         "showlegend": false,
         "type": "scattergeo"
        }
       ],
       "layout": {
        "coloraxis": {
         "colorbar": {
          "title": {
           "text": "lifespan_days"
          }
         },
         "colorscale": [
          [
           0,
           "#440154"
          ],
          [
           0.1111111111111111,
           "#482878"
          ],
          [
           0.2222222222222222,
           "#3e4989"
          ],
          [
           0.3333333333333333,
           "#31688e"
          ],
          [
           0.4444444444444444,
           "#26828e"
          ],
          [
           0.5555555555555556,
           "#1f9e89"
          ],
          [
           0.6666666666666666,
           "#35b779"
          ],
          [
           0.7777777777777778,
           "#6ece58"
          ],
          [
           0.8888888888888888,
           "#b5de2b"
          ],
          [
           1,
           "#fde725"
          ]
         ]
        },
        "geo": {
         "center": {},
         "domain": {
          "x": [
           0,
           1
          ],
          "y": [
           0,
           1
          ]
         },
         "projection": {
          "type": "natural earth"
         },
         "showcountries": true,
         "showland": true
        },
        "legend": {
         "itemsizing": "constant",
         "tracegroupgap": 0
        },
        "template": {
         "data": {
          "bar": [
           {
            "error_x": {
             "color": "#2a3f5f"
            },
            "error_y": {
             "color": "#2a3f5f"
            },
            "marker": {
             "line": {
              "color": "#E5ECF6",
              "width": 0.5
             },
             "pattern": {
              "fillmode": "overlay",
              "size": 10,
              "solidity": 0.2
             }
            },
            "type": "bar"
           }
          ],
          "barpolar": [
           {
            "marker": {
             "line": {
              "color": "#E5ECF6",
              "width": 0.5
             },
             "pattern": {
              "fillmode": "overlay",
              "size": 10,
              "solidity": 0.2
             }
            },
            "type": "barpolar"
           }
          ],
          "carpet": [
           {
            "aaxis": {
             "endlinecolor": "#2a3f5f",
             "gridcolor": "white",
             "linecolor": "white",
             "minorgridcolor": "white",
             "startlinecolor": "#2a3f5f"
            },
            "baxis": {
             "endlinecolor": "#2a3f5f",
             "gridcolor": "white",
             "linecolor": "white",
             "minorgridcolor": "white",
             "startlinecolor": "#2a3f5f"
            },
            "type": "carpet"
           }
          ],
          "choropleth": [
           {
            "colorbar": {
             "outlinewidth": 0,
             "ticks": ""
            },
            "type": "choropleth"
           }
          ],
          "contour": [
           {
            "colorbar": {
             "outlinewidth": 0,
             "ticks": ""
            },
            "colorscale": [
             [
              0,
              "#0d0887"
             ],
             [
              0.1111111111111111,
              "#46039f"
             ],
             [
              0.2222222222222222,
              "#7201a8"
             ],
             [
              0.3333333333333333,
              "#9c179e"
             ],
             [
              0.4444444444444444,
              "#bd3786"
             ],
             [
              0.5555555555555556,
              "#d8576b"
             ],
             [
              0.6666666666666666,
              "#ed7953"
             ],
             [
              0.7777777777777778,
              "#fb9f3a"
             ],
             [
              0.8888888888888888,
              "#fdca26"
             ],
             [
              1,
              "#f0f921"
             ]
            ],
            "type": "contour"
           }
          ],
          "contourcarpet": [
           {
            "colorbar": {
             "outlinewidth": 0,
             "ticks": ""
            },
            "type": "contourcarpet"
           }
          ],
          "heatmap": [
           {
            "colorbar": {
             "outlinewidth": 0,
             "ticks": ""
            },
            "colorscale": [
             [
              0,
              "#0d0887"
             ],
             [
              0.1111111111111111,
              "#46039f"
             ],
             [
              0.2222222222222222,
              "#7201a8"
             ],
             [
              0.3333333333333333,
              "#9c179e"
             ],
             [
              0.4444444444444444,
              "#bd3786"
             ],
             [
              0.5555555555555556,
              "#d8576b"
             ],
             [
              0.6666666666666666,
              "#ed7953"
             ],
             [
              0.7777777777777778,
              "#fb9f3a"
             ],
             [
              0.8888888888888888,
              "#fdca26"
             ],
             [
              1,
              "#f0f921"
             ]
            ],
            "type": "heatmap"
           }
          ],
          "histogram": [
           {
            "marker": {
             "pattern": {
              "fillmode": "overlay",
              "size": 10,
              "solidity": 0.2
             }
            },
            "type": "histogram"
           }
          ],
          "histogram2d": [
           {
            "colorbar": {
             "outlinewidth": 0,
             "ticks": ""
            },
            "colorscale": [
             [
              0,
              "#0d0887"
             ],
             [
              0.1111111111111111,
              "#46039f"
             ],
             [
              0.2222222222222222,
              "#7201a8"
             ],
             [
              0.3333333333333333,
              "#9c179e"
             ],
             [
              0.4444444444444444,
              "#bd3786"
             ],
             [
              0.5555555555555556,
              "#d8576b"
             ],
             [
              0.6666666666666666,
              "#ed7953"
             ],
             [
              0.7777777777777778,
              "#fb9f3a"
             ],
             [
              0.8888888888888888,
              "#fdca26"
             ],
             [
              1,
              "#f0f921"
             ]
            ],
            "type": "histogram2d"
           }
          ],
          "histogram2dcontour": [
           {
            "colorbar": {
             "outlinewidth": 0,
             "ticks": ""
            },
            "colorscale": [
             [
              0,
              "#0d0887"
             ],
             [
              0.1111111111111111,
              "#46039f"
             ],
             [
              0.2222222222222222,
              "#7201a8"
             ],
             [
              0.3333333333333333,
              "#9c179e"
             ],
             [
              0.4444444444444444,
              "#bd3786"
             ],
             [
              0.5555555555555556,
              "#d8576b"
             ],
             [
              0.6666666666666666,
              "#ed7953"
             ],
             [
              0.7777777777777778,
              "#fb9f3a"
             ],
             [
              0.8888888888888888,
              "#fdca26"
             ],
             [
              1,
              "#f0f921"
             ]
            ],
            "type": "histogram2dcontour"
           }
          ],
          "mesh3d": [
           {
            "colorbar": {
             "outlinewidth": 0,
             "ticks": ""
            },
            "type": "mesh3d"
           }
          ],
          "parcoords": [
           {
            "line": {
             "colorbar": {
              "outlinewidth": 0,
              "ticks": ""
             }
            },
            "type": "parcoords"
           }
          ],
          "pie": [
           {
            "automargin": true,
            "type": "pie"
           }
          ],
          "scatter": [
           {
            "fillpattern": {
             "fillmode": "overlay",
             "size": 10,
             "solidity": 0.2
            },
            "type": "scatter"
           }
          ],
          "scatter3d": [
           {
            "line": {
             "colorbar": {
              "outlinewidth": 0,
              "ticks": ""
             }
            },
            "marker": {
             "colorbar": {
              "outlinewidth": 0,
              "ticks": ""
             }
            },
            "type": "scatter3d"
           }
          ],
          "scattercarpet": [
           {
            "marker": {
             "colorbar": {
              "outlinewidth": 0,
              "ticks": ""
             }
            },
            "type": "scattercarpet"
           }
          ],
          "scattergeo": [
           {
            "marker": {
             "colorbar": {
              "outlinewidth": 0,
              "ticks": ""
             }
            },
            "type": "scattergeo"
           }
          ],
          "scattergl": [
           {
            "marker": {
             "colorbar": {
              "outlinewidth": 0,
              "ticks": ""
             }
            },
            "type": "scattergl"
           }
          ],
          "scattermap": [
           {
            "marker": {
             "colorbar": {
              "outlinewidth": 0,
              "ticks": ""
             }
            },
            "type": "scattermap"
           }
          ],
          "scattermapbox": [
           {
            "marker": {
             "colorbar": {
              "outlinewidth": 0,
              "ticks": ""
             }
            },
            "type": "scattermapbox"
           }
          ],
          "scatterpolar": [
           {
            "marker": {
             "colorbar": {
              "outlinewidth": 0,
              "ticks": ""
             }
            },
            "type": "scatterpolar"
           }
          ],
          "scatterpolargl": [
           {
            "marker": {
             "colorbar": {
              "outlinewidth": 0,
              "ticks": ""
             }
            },
            "type": "scatterpolargl"
           }
          ],
          "scatterternary": [
           {
            "marker": {
             "colorbar": {
              "outlinewidth": 0,
              "ticks": ""
             }
            },
            "type": "scatterternary"
           }
          ],
          "surface": [
           {
            "colorbar": {
             "outlinewidth": 0,
             "ticks": ""
            },
            "colorscale": [
             [
              0,
              "#0d0887"
             ],
             [
              0.1111111111111111,
              "#46039f"
             ],
             [
              0.2222222222222222,
              "#7201a8"
             ],
             [
              0.3333333333333333,
              "#9c179e"
             ],
             [
              0.4444444444444444,
              "#bd3786"
             ],
             [
              0.5555555555555556,
              "#d8576b"
             ],
             [
              0.6666666666666666,
              "#ed7953"
             ],
             [
              0.7777777777777778,
              "#fb9f3a"
             ],
             [
              0.8888888888888888,
              "#fdca26"
             ],
             [
              1,
              "#f0f921"
             ]
            ],
            "type": "surface"
           }
          ],
          "table": [
           {
            "cells": {
             "fill": {
              "color": "#EBF0F8"
             },
             "line": {
              "color": "white"
             }
            },
            "header": {
             "fill": {
              "color": "#C8D4E3"
             },
             "line": {
              "color": "white"
             }
            },
            "type": "table"
           }
          ]
         },
         "layout": {
          "annotationdefaults": {
           "arrowcolor": "#2a3f5f",
           "arrowhead": 0,
           "arrowwidth": 1
          },
          "autotypenumbers": "strict",
          "coloraxis": {
           "colorbar": {
            "outlinewidth": 0,
            "ticks": ""
           }
          },
          "colorscale": {
           "diverging": [
            [
             0,
             "#8e0152"
            ],
            [
             0.1,
             "#c51b7d"
            ],
            [
             0.2,
             "#de77ae"
            ],
            [
             0.3,
             "#f1b6da"
            ],
            [
             0.4,
             "#fde0ef"
            ],
            [
             0.5,
             "#f7f7f7"
            ],
            [
             0.6,
             "#e6f5d0"
            ],
            [
             0.7,
             "#b8e186"
            ],
            [
             0.8,
             "#7fbc41"
            ],
            [
             0.9,
             "#4d9221"
            ],
            [
             1,
             "#276419"
            ]
           ],
           "sequential": [
            [
             0,
             "#0d0887"
            ],
            [
             0.1111111111111111,
             "#46039f"
            ],
            [
             0.2222222222222222,
             "#7201a8"
            ],
            [
             0.3333333333333333,
             "#9c179e"
            ],
            [
             0.4444444444444444,
             "#bd3786"
            ],
            [
             0.5555555555555556,
             "#d8576b"
            ],
            [
             0.6666666666666666,
             "#ed7953"
            ],
            [
             0.7777777777777778,
             "#fb9f3a"
            ],
            [
             0.8888888888888888,
             "#fdca26"
            ],
            [
             1,
             "#f0f921"
            ]
           ],
           "sequentialminus": [
            [
             0,
             "#0d0887"
            ],
            [
             0.1111111111111111,
             "#46039f"
            ],
            [
             0.2222222222222222,
             "#7201a8"
            ],
            [
             0.3333333333333333,
             "#9c179e"
            ],
            [
             0.4444444444444444,
             "#bd3786"
            ],
            [
             0.5555555555555556,
             "#d8576b"
            ],
            [
             0.6666666666666666,
             "#ed7953"
            ],
            [
             0.7777777777777778,
             "#fb9f3a"
            ],
            [
             0.8888888888888888,
             "#fdca26"
            ],
            [
             1,
             "#f0f921"
            ]
           ]
          },
          "colorway": [
           "#636efa",
           "#EF553B",
           "#00cc96",
           "#ab63fa",
           "#FFA15A",
           "#19d3f3",
           "#FF6692",
           "#B6E880",
           "#FF97FF",
           "#FECB52"
          ],
          "font": {
           "color": "#2a3f5f"
          },
          "geo": {
           "bgcolor": "white",
           "lakecolor": "white",
           "landcolor": "#E5ECF6",
           "showlakes": true,
           "showland": true,
           "subunitcolor": "white"
          },
          "hoverlabel": {
           "align": "left"
          },
          "hovermode": "closest",
          "mapbox": {
           "style": "light"
          },
          "paper_bgcolor": "white",
          "plot_bgcolor": "#E5ECF6",
          "polar": {
           "angularaxis": {
            "gridcolor": "white",
            "linecolor": "white",
            "ticks": ""
           },
           "bgcolor": "#E5ECF6",
           "radialaxis": {
            "gridcolor": "white",
            "linecolor": "white",
            "ticks": ""
           }
          },
          "scene": {
           "xaxis": {
            "backgroundcolor": "#E5ECF6",
            "gridcolor": "white",
            "gridwidth": 2,
            "linecolor": "white",
            "showbackground": true,
            "ticks": "",
            "zerolinecolor": "white"
           },
           "yaxis": {
            "backgroundcolor": "#E5ECF6",
            "gridcolor": "white",
            "gridwidth": 2,
            "linecolor": "white",
            "showbackground": true,
            "ticks": "",
            "zerolinecolor": "white"
           },
           "zaxis": {
            "backgroundcolor": "#E5ECF6",
            "gridcolor": "white",
            "gridwidth": 2,
            "linecolor": "white",
            "showbackground": true,
            "ticks": "",
            "zerolinecolor": "white"
           }
          },
          "shapedefaults": {
           "line": {
            "color": "#2a3f5f"
           }
          },
          "ternary": {
           "aaxis": {
            "gridcolor": "white",
            "linecolor": "white",
            "ticks": ""
           },
           "baxis": {
            "gridcolor": "white",
            "linecolor": "white",
            "ticks": ""
           },
           "bgcolor": "#E5ECF6",
           "caxis": {
            "gridcolor": "white",
            "linecolor": "white",
            "ticks": ""
           }
          },
          "title": {
           "x": 0.05
          },
          "xaxis": {
           "automargin": true,
           "gridcolor": "white",
           "linecolor": "white",
           "ticks": "",
           "title": {
            "standoff": 15
           },
           "zerolinecolor": "white",
           "zerolinewidth": 2
          },
          "yaxis": {
           "automargin": true,
           "gridcolor": "white",
           "linecolor": "white",
           "ticks": "",
           "title": {
            "standoff": 15
           },
           "zerolinecolor": "white",
           "zerolinewidth": 2
          }
         }
        },
        "title": {
         "text": "🌍 Cluster Lifespan Mapped Globally"
        }
       }
      }
     },
     "metadata": {},
     "output_type": "display_data"
    }
   ],
   "source": [
    "import plotly.express as px\n",
    "import pandas as pd\n",
    "\n",
    "# 1. Compute cluster centroids again if needed\n",
    "cluster_centroids = pdf_sample.groupby(\"cluster\")[[\"lat\", \"lon\"]].mean().reset_index()\n",
    "\n",
    "# 2. Compute lifespan as before\n",
    "lifespan = pdf_sample.groupby(\"cluster\")[\"Date_reported\"].agg([\"min\", \"max\"])\n",
    "lifespan[\"lifespan_days\"] = (lifespan[\"max\"] - lifespan[\"min\"]).dt.days\n",
    "lifespan = lifespan.reset_index()\n",
    "\n",
    "# 3. Merge lifespan with centroids for plotting\n",
    "lifespan_map = pd.merge(cluster_centroids, lifespan, on=\"cluster\")\n",
    "\n",
    "# 4. Plot on world map\n",
    "fig = px.scatter_geo(\n",
    "    lifespan_map,\n",
    "    lat=\"lat\",\n",
    "    lon=\"lon\",\n",
    "    color=\"lifespan_days\",\n",
    "    size=\"lifespan_days\",\n",
    "    projection=\"natural earth\",\n",
    "    title=\"🌍 Cluster Lifespan Mapped Globally\",\n",
    "    color_continuous_scale=\"Viridis\",\n",
    "    hover_name=\"cluster\",\n",
    "    size_max=20,\n",
    ")\n",
    "\n",
    "fig.update_layout(geo=dict(showland=True, showcountries=True))\n",
    "fig.show()\n"
   ]
  },
  {
   "cell_type": "code",
   "execution_count": 53,
   "id": "009765f0",
   "metadata": {},
   "outputs": [
    {
     "name": "stdout",
     "output_type": "stream",
     "text": [
      "Index(['Date_reported', 'Country_code', 'Country', 'WHO_region', 'New_cases',\n",
      "       'Cumulative_cases', 'New_deaths', 'Cumulative_deaths', 'country_code',\n",
      "       'lat', 'lon', 'usa_state_code', 'usa_state_latitude',\n",
      "       'usa_state_longitude', 'usa_state', 'prev_lat', 'prev_lon', 'bucket_x',\n",
      "       'bucket_y', 'bucket', 'cluster', 'month', 'prev_time', 'time_diff_days',\n",
      "       'distance_to_prev', 'velocity_km_per_day', 'is_fast_spread', 'dx', 'dy',\n",
      "       'angle_deg', 'buffer_lat', 'buffer_lon', 'close_to_prev',\n",
      "       'fake_cluster', 'cluster_cases', 'cases_density', 'density_jump',\n",
      "       'is_jump', 'is_directional_threat', 'radius_km', 'risk_score',\n",
      "       'risk_tier', 'dist_to_hosp1', 'dist_to_hosp2', 'heatmap_value', 'angle',\n",
      "       'close_to_centroid'],\n",
      "      dtype='object')\n"
     ]
    }
   ],
   "source": [
    "import plotly.express as px\n",
    "import plotly.graph_objects as go\n",
    "\n",
    "# Ensure you have latitude, longitude, and cluster/risk values in your DataFrame\n",
    "print(pdf_sample.columns)  # preview to ensure necessary columns like 'lon', 'lat', 'cluster', etc. exist\n"
   ]
  },
  {
   "cell_type": "code",
   "execution_count": 54,
   "id": "2527093a",
   "metadata": {},
   "outputs": [
    {
     "data": {
      "application/vnd.plotly.v1+json": {
       "config": {
        "plotlyServerURL": "https://plot.ly"
       },
       "data": [
        {
         "geo": "geo",
         "hovertemplate": "<b>%{hovertext}</b><br><br>lat=%{lat}<br>lon=%{lon}<br>cluster=%{marker.color}<extra></extra>",
         "hovertext": {
          "bdata": "AAAAAAAAAAAAAAAAAAAAAAAAAAAAAAAAAAAAAAAAAAAAAAAAAAAAAAAAAAAAAAAAAAAAAAAAAAAAAAAAAAAAAAAAAAAAAAAAAAAAAAAAAAAAAAAAAAAAAAAAAAAAAAAAAAAAAAAAAAAAAAAAAAAAAAAAAAAAAAAAAAAAAAAAAAAAAAAAAAAAAAAAAAAAAAAAAAAAAAAAAAAAAAAAAAAAAAAAAAAAAAAAAAAAAAAAAAAAAAAAAAAAAAAAAAAAAAAAAAAAAAAAAAAAAAAAAAAAAAAAAAAAAAAAAAAAAAAAAAAAAAAAAAAAAAAAAAAAAAAAAAAAAAAAAAAAAAAAAAAAAAAAAAAAAAAAAAAAAAAAAAAAAAAAAAAAAAAAAAAAAAAAAAAAAAAAAAAAAAAAAAAAAAAAAAAAAAAAAAAAAAAAAAAAAAAAAAAAAAAAAAAAAAAAAAAAAAAAAAAAAAAAAAAAAAAAAAAAAAAAAAAAAAAAAAAAAAAAAAAAAAAAAAAAAAAAAAAAAAAAAAAAAAAAAAAAAAAAAAAAAAAAAAAAAAAAAAAAAAAAAAAAAAAAAAAAAAAAAAAAAAAAAAAAAAAAAAAAAAAAAAAAAAAAAAAAAAAAAAAAAAAAAAAAAAAAAAAAAAAAAAAAAAAAAAAAAAAAAAAAAAAAAAAAAAAAAAAAAAAA8D8AAAAAAADwPwAAAAAAAPA/AAAAAAAA8D8AAAAAAADwPwAAAAAAAPA/AAAAAAAA8D8AAAAAAADwPwAAAAAAAPA/AAAAAAAA8D8AAAAAAADwPwAAAAAAAPA/AAAAAAAA8D8AAAAAAADwPwAAAAAAAPA/AAAAAAAA8D8AAAAAAADwPwAAAAAAAPA/AAAAAAAA8D8AAAAAAADwPwAAAAAAAPA/AAAAAAAA8D8AAAAAAADwPwAAAAAAAPA/AAAAAAAA8D8AAAAAAADwPwAAAAAAAPA/AAAAAAAA8D8AAAAAAADwPwAAAAAAAPA/AAAAAAAA8D8AAAAAAADwPwAAAAAAAPA/AAAAAAAA8D8AAAAAAADwPwAAAAAAAPA/AAAAAAAA8D8AAAAAAADwPwAAAAAAAPA/AAAAAAAA8D8AAAAAAADwPwAAAAAAAPA/AAAAAAAA8D8AAAAAAADwPwAAAAAAAPA/AAAAAAAA8D8AAAAAAADwPwAAAAAAAPA/AAAAAAAA8D8AAAAAAADwPwAAAAAAAPA/AAAAAAAA8D8AAAAAAADwPwAAAAAAAPA/AAAAAAAA8D8AAAAAAADwPwAAAAAAAPA/AAAAAAAA8D8AAAAAAADwPwAAAAAAAPA/AAAAAAAA8D8AAAAAAADwPwAAAAAAAPA/AAAAAAAA8D8AAAAAAADwPwAAAAAAAPA/AAAAAAAA8D8AAAAAAADwPwAAAAAAAPA/AAAAAAAA8D8AAAAAAADwPwAAAAAAAPA/AAAAAAAA8D8AAAAAAADwPwAAAAAAAPA/AAAAAAAA8D8AAAAAAADwPwAAAAAAAPA/AAAAAAAA8D8AAAAAAADwPwAAAAAAAPA/AAAAAAAA8D8AAAAAAADwPwAAAAAAAPA/AAAAAAAA8D8AAAAAAADwPwAAAAAAAPA/AAAAAAAA8D8AAAAAAADwPwAAAAAAAPA/AAAAAAAA8D8AAAAAAADwPwAAAAAAAPA/AAAAAAAA8D8AAAAAAADwPwAAAAAAAPA/AAAAAAAA8D8AAAAAAADwPwAAAAAAAPA/AAAAAAAA8D8AAAAAAADwPwAAAAAAAPA/AAAAAAAA8D8AAAAAAADwPwAAAAAAAPA/AAAAAAAA8D8AAAAAAADwPwAAAAAAAPA/AAAAAAAA8D8AAAAAAADwPwAAAAAAAPA/AAAAAAAA8D8AAAAAAADwPwAAAAAAAPA/AAAAAAAA8D8AAAAAAADwPwAAAAAAAPA/AAAAAAAA8D8AAAAAAADwPwAAAAAAAPA/AAAAAAAA8D8AAAAAAADwPwAAAAAAAPA/AAAAAAAA8D8AAAAAAADwPwAAAAAAAPA/AAAAAAAA8D8AAAAAAADwPwAAAAAAAAAAAAAAAAAAAAAAAAAAAAAAAAAAAAAAAAAAAAAAAAAAAAAAAAAAAAAAAAAAAAAAAAAAAAAAAAAAAAAAAAAAAAAAAAAAAAAAAAAAAAAAAAAAAAAAAAAAAAAAAAAAAAAAAAAAAAAAAAAAAAAAAAAAAAAAAAAAAAAAAAAAAAAAAAAAAAAAAAAAAAAAAAAAAAAAAAAAAAAAAAAAAAAAAAAAAAAAAAAAAAAAAAAAAAAAAAAAAAAAAAAAAAAAAAAAAAAAAAAAAAAAAAAAAAAAAAAAAAAAAAAAAAAAAAAAAAAAAAAAAAAAAAAAAAAAAAAAAAAAAAAAAAAAAAAAAAAAAAAAAAAAAAAAAAAAAAAAAAAAAAAAAAAAAAAAAAAAAAAAAAAAAAAAAAAAAAAAAAAAAAAAAAAAAAAAAAAAAAAAAAAAAAAAAAAAAAAAAAAAAAAAAAAAAAAAAAAAAAAAAAAAAAAAAAAAAAAAAAAAAAAAAAAAAAAAAAAAAAAAAAAAAAAAAAAAAAAAAAAAAAAAAAAAAAAAAAAAAAAAAAAAAAAAAAAAAAAAAAAAAAAAAAAAAAAAAAAAAAAAAAAAAAAAAAAAAAAAAAAAAAAAAAAAAAAAAAAAAAAAAAAAAAAAAAAAAAAAAAAAAAAAAAAAAAAAAAAAAAAAAAAAAAAAAAAAAAAAAAAAAAAA8D8AAAAAAADwPwAAAAAAAPA/AAAAAAAA8D8AAAAAAADwPwAAAAAAAPA/AAAAAAAA8D8AAAAAAADwPwAAAAAAAPA/AAAAAAAA8D8AAAAAAADwPwAAAAAAAPA/AAAAAAAA8D8AAAAAAADwPwAAAAAAAPA/AAAAAAAA8D8AAAAAAADwPwAAAAAAAPA/AAAAAAAA8D8AAAAAAADwPwAAAAAAAPA/AAAAAAAA8D8AAAAAAADwPwAAAAAAAPA/AAAAAAAA8D8AAAAAAADwPwAAAAAAAPA/AAAAAAAA8D8AAAAAAADwPwAAAAAAAPA/AAAAAAAA8D8AAAAAAADwPwAAAAAAAPA/AAAAAAAA8D8AAAAAAADwPwAAAAAAAPA/AAAAAAAA8D8AAAAAAADwPwAAAAAAAPA/AAAAAAAA8D8AAAAAAADwPwAAAAAAAPA/AAAAAAAA8D8AAAAAAADwPwAAAAAAAPA/AAAAAAAA8D8AAAAAAADwPwAAAAAAAPA/AAAAAAAA8D8AAAAAAADwPwAAAAAAAPA/AAAAAAAA8D8AAAAAAADwPwAAAAAAAPA/AAAAAAAA8D8AAAAAAADwPwAAAAAAAPA/AAAAAAAA8D8AAAAAAADwPwAAAAAAAPA/AAAAAAAA8D8AAAAAAADwPwAAAAAAAPA/AAAAAAAA8D8AAAAAAAAAAAAAAAAAAAAAAAAAAAAAAAAAAAAAAAAAAAAAAAAAAAAAAAAAAAAAAAAAAAAAAAAAAAAAAAAAAAAAAAAAAAAAAAAAAAAAAAAAAAAAAAAAAAAAAAAAAAAAAAAAAAAAAAAAAAAAAAAAAAAAAAAAAAAAAAAAAAAAAAAAAAAAAAAAAAAAAAAAAAAAAAAAAAAAAAAAAAAAAAAAAAAAAAAAAAAAAAAAAAAAAAAAAAAAAAAAAAAAAAAAAAAAAAAAAAAAAAAAAAAAAAAAAAAAAAAAAAAAAAAAAAAAAAAAAAAAAAAAAAAAAAAAAAAAAAAAAAAAAAAAAAAAAAAAAAAAAAAAAAAAAAAAAAAAAAAAAAAAAAAAAAAAAAAAAAAAAAAAAAAAAAAAAAAAAAAAAAAAAAAAAAAAAAAAAAAAAAAAAAAAAAAAAAAAAAAAAAAAAAAAAAAAAAAAAAAAAAAAAAAAAAAAAAAAAAAAAAAAAAAAAAAAAAAAAAAAAAAAAAAAAAAAAAAAAAAAAAAAAAAAAAAAAAAAAAAAAAAAAAAAAAAAAAAAAAAAAAAAAAAAAAAAAAAAAAAAAAAAAAAAAAAAAAAAAAAAAAAAAAAAAAAAAAAAAAAAAAAAAAAAAAAAAAAAAAAAAAAAAAAAAAAAAAAAAAAAAAAAAAAAAAAAAAAAAAAAAAAAAAAAAAAAAAAAAAAAAAAAAAAAAAAAAAAAAAAAAAAAAAAAAAAAAAAAAAAAAAAAAAAAAAAAAAAAAAAAAAAAAAAAAAAAAAAAAAAAAAAAAAAAAAAAAAAAAAAAAAAAAAAAAAAAAAAAAAAAAAAAAAAAAAAAAAAAAAAAAAAAAAAAAAAAAAAAAAAAAAAAAAAAAAAAAAAAAAAAAAAAAAAAAAAAAAAAAAAAAAAAAAAAAAAAAAAAAAAAAAAAAAAAAAAAAAAAAAAAAAAAAAAAAAAAAAAAAAAAAAAAAAAAAAAAAAAAAAAAAAAAAAAAAAAAAAAAAAAAAAAAAAAAAAAAAAAAAAAAAAAAAAAAAAAAAAAAAAAAAAAAAAAAAAAAAAAAAAAAAAAAAAAAAAAAAAAAAAAAAAAAAAAAAAAAAAAAAAAAAAAAAAAAAAAAAAAAAAAAAAAAAAAAAAAAAAAAAAAAAAAAAAAAAAAAAAAAAAAAAAAAAAAAAAAAAAAAAAAAAAAAAAAAAAAAAAAAAAAAAAAAAAAAAAAAAAAAAAAAAAAAAAAAAAAAAAAAAAAAAAAAAAAAAAAAAAAAAAAAAAAAAAAAAAAAAAAAAAAAAAAAAAAAAAAAAAAAAAAAAAAAAAAAAAAAAAAAAAAAAAAAAAAAAAAAAAAAAAAAAAAAAAAAAAAAAAAAAAAAAAAAAAAAAAAAAAAAAAAAAAAAAAAAAAAAAAAAAAAAAAAAAAAAAAAAAAAAAAAAAAAAAAAAAAAAAAAAAAAAAAAAAAAAAAAAAAAAAAAAAAAAAAAAAAAAAAAAAAAAAAAAAAAAAAAAAAAAAAAAAAAAAAAAAAAAAAAAAAAAAAAAAAAAAAAAAAAAAAAAAAAAAAAAAAAAAAAAAAAAAAAAAAAAAAAAAAAAAAAAAAAAAAAAAAAAAAAAAAAAAAAAAAAAAAAAAAAAAAAAAAAAAAAAAAAAAAAAAAAAAAAAAAAAAAAAAAAAAAAAAAAAAAAAAAAAAAAAAAAAAAAAAAAAAAAAAAAAAAAAAAAAAAAAAAAAAAAAAAAAAAAAAAAAAAAAAAAAAAAAAAAAAAAAAAAAAAAAAAAAAAAAAAAAAAAAAAAAAAAAAAAAAAAAAAAAAAAAAAAAAAAAAAAAAAAAAAAAAAAAAAAAAAAAAAAAAAAAAAAAAAAAAAAAAAAAAAAAAAAAAAAAAAAAAAAAAAAAAAAAAAAAAAAAAAAAAAAAAAAAAAAAAAAAAAAAAAAAAAAAAAAAAAAAAAAAAAAAAAAAAAAAAAAAAAAAAAAAAAAAAAAAAAAAAAAAAAAAAAAAAAAAAAAAAAAAAAAAAAAAAAAAAAAAAAAAAAAAAAAAAAAAAAAAAAAAAAAAAAAAAAAAAAAAAAAAAAAAAAAAAAAAAAAAAAAAAAAAAAAAAAAAAAAAAAAAAAAAAAAAAAAAAAAAAAAAAAAAAAAAAAAAAAAAAAAAAAAAAAAAAAAAAAAAAAAAAAAAAAAAAAAAAAAAAAAAAAAAAAAAAAAAAAAAAAAAAAAAAAAAAAAAAAAAAAAAAAAAAAAAAAAAAAAAAAAAAAAAAAAAAAAAAAAAAAAAAAAAAAAAAAAAAAAAAAAAAAAAAAAAAAAAAAAAAAAAAAAAAAAAAAAAAAAAAAAAAAAAAAAAAAAAAAAAAAAAAAAAAAAAAAAAAAAAAAAAAAAAAAAAAAAAAAAAAAAAAAAAAAAAAAAAAAAAAAAAAAAAAAAAAAAAAAAAAAAAAAAAAAAAAAAAAAAAAAAAAAAAAAAAAAAAAAAAAAAAAAAAAAAAAAAAAAAAAAAAAAAAAAAAAAAAAAAAAAAAAAAAAAAAAAAAAAAAAAAAAAAAAAAAAAAAAAAAAAAAAAAAAAAAAAAAAAAAAAAAAAAAAAAAAAAAAAAAAAAAAAAAAAAAAAAAAAAAAAAAAAAAAAAAAAAAAAAAAAAAAAAAAAAAAAAAAAAAAAAAAAAAAAAAAAAAAAAAAAAAAAAAAAAAAAAAAAAAAAAAAAAAAAAAAAAAAAAAAAAAAAAAAAAAAAAAAAAAAAAAAAAAAAAAAAAAAAAAAAAAAAAAAAAAAAAAAAAAAAAAAAAAAAAAAAAAAAAAAAAAAAAAAAAAAAAAAAAAAAAAAAAAAAAAAAAAAAAAAAAAAAAAAAAAAAAAAAAAAAAAAAAAAAAAAAAAAAAAAAAAAAAAAAAAAAAAAAAAAAAAAAAAAAAAAAAAAAAAAAAAAAAAAAAAAAAAAAAAAAAAAAAAAAAAAAAAAAAAAAAAAAAAAAAAAAAAAAAAAAAAAAAAAAAAAAAAAAAAAAAAAAAAAAAAAAAAAAAAAAAAAAAAAAAAAAAAAAAAAAAAAAAAAAAAAAAAAAAAAAAAAAAAAAAAAAAAAAAAAAAAAAAAAAAAAAAAAAAAAAAAAAAAAAAAAAAAAAAAAAAAAAAAAAAAAAAAAAAAAAAAAAAAAAAAAAAAAAAAAAAAAAAAAAAAAAAAAAAAAAAAAAAAAAAAAAAAAAAAAAAAAAAAAAAAAAAAAAAAAAAAAAAAAAAAAAAAAAAAAAAAAAAAAAAAAAAAAAAAAAAAAAAAAAAAAAAAAAAAAAAAAAAAAAAAAAAAAAAAAAAAAAAAAAAAAAAAAAAAAAAAAAAAAAAAAAAAAAAAAAAAAAAAAAAAAAAAAAAAAAAAAAAAAAAAAAAAAAAAAAAAAAAAAAAAAAAAAAAAAAAAAAAAAAAAAAAAAAAAAAAAAAAAAAAAAAAAAAAAAAAAAAAAAAAAAAAAAAAAAAAAAAAAAAAAAAAAAAAAAAAAAAAAAAAAAAAAAAAAAAAAAAAAAAAAAAAAAAAAAAAAAAAAAAAAAAAAAAAAAAAAAAAAAAAAAAAAAAAAAAAAAAAAAAAAAAAAAAAAAAAAAAAAAAAAAAAAAAAAAAAAAAAAAAAAAAAAAAAAAAAAAAAAAAAAAAAAAAAAAAAAAAAAAAAAAAAAAAAAAAAAAAAAAAAAAAAAAAAAAAAAAAAAAAAAAAAAAAAAAAAAAAAAAAAAAAAAAAAAAAAAAAAAAAAAAAAAAAAAAAAAAAAAAAAAAAAAAAAAAAAAAAAAAAAAAAAAAAAAAAAAAAAAAAAAAAAAAAAAAAAAAAAAAAAAAAAAAAAAAAAAAAAAAAAAAAAAAAAAAAAAAAAAAAAAAAAAAAAAAAAAAAAAAAAAAAAAAAAAAAAAAAAAAAAAAAAAAAAAAAAAAAAAAAAAAAAAAAAAAAAAAAAAAAAAAAAAAAAAAAAAAAAAAAAAAAAAAAAAAAAAAAAAAAAAAAAAAAAAAAAAAAAAAAAAAAAAAAAAAAAAAAAAAAAAAAAAAAAAAAAAAAAAAAAAAAAAAAAAAAAAAAAAAAAAAAAAAAAAAAAAAAAAAAAAAAAAAAAAAAAAAAAAAAAAAAAAAAAAAAAAAAAAAAAAAAAAAAAAAAAAAAAAAAAAAADwPwAAAAAAAPA/AAAAAAAA8D8AAAAAAADwPwAAAAAAAPA/AAAAAAAA8D8AAAAAAADwPwAAAAAAAPA/AAAAAAAA8D8AAAAAAADwPwAAAAAAAPA/AAAAAAAA8D8AAAAAAADwPwAAAAAAAPA/AAAAAAAA8D8AAAAAAADwPwAAAAAAAPA/AAAAAAAA8D8AAAAAAADwPwAAAAAAAPA/AAAAAAAA8D8AAAAAAADwPwAAAAAAAPA/AAAAAAAA8D8AAAAAAADwPwAAAAAAAPA/AAAAAAAA8D8AAAAAAADwPwAAAAAAAPA/AAAAAAAA8D8AAAAAAADwPwAAAAAAAPA/AAAAAAAA8D8AAAAAAADwPwAAAAAAAPA/AAAAAAAA8D8AAAAAAADwPwAAAAAAAPA/AAAAAAAA8D8AAAAAAADwPwAAAAAAAPA/AAAAAAAA8D8AAAAAAADwPwAAAAAAAPA/AAAAAAAA8D8AAAAAAADwPwAAAAAAAPA/AAAAAAAA8D8AAAAAAADwPwAAAAAAAPA/AAAAAAAA8D8AAAAAAADwPwAAAAAAAPA/AAAAAAAA8D8AAAAAAADwPwAAAAAAAPA/AAAAAAAA8D8AAAAAAADwPwAAAAAAAPA/AAAAAAAA8D8AAAAAAADwPwAAAAAAAPA/AAAAAAAA8D8AAAAAAADwPwAAAAAAAAAAAAAAAAAAAAAAAAAAAAAAAAAAAAAAAAAAAAAAAAAAAAAAAAAAAAAAAAAAAAAAAAAAAAAAAAAAAAAAAAAAAAAAAAAAAAAAAAAAAAAAAAAAAAAAAAAAAAAAAAAAAAAAAAAAAAAAAAAAAAAAAAAAAAAAAAAAAAAAAAAAAAAAAAAAAAAAAAAAAAAAAAAAAAAAAAAAAAAAAAAAAAAAAAAAAAAAAAAAAAAAAAAAAAAAAAAAAAAAAAAAAAAAAAAAAAAAAAAAAAAAAAAAAAAAAAAAAAAAAAAAAAAAAAAAAAAAAAAAAAAAAAAAAAAAAAAAAAAAAAAAAAAAAAAAAAAAAAAAAAAAAAAAAAAAAAAAAAAAAAAAAAAAAAAAAAAAAAAAAAAAAAAAAAAAAAAAAAAAAAAAAAAAAAAAAAAAAAAAAAAAAAAAAAAAAAAAAAAAAAAAAAAAAAAAAAAAAAAAAAAAAAAAAAAAAAAAAAAAAAAAAAAAAAAAAAAAAAAAAAAAAAAAAAAAAAAAAAAAAAAAAAAAAAAAAAAAAAAAAAAAAAAAAAAAAAAAAAAAAAAAAAAAAAAAAAAAAAAAAAAAAAAAAAAAAAAAAAAAAAAAAAAAAAAAAAAAAAAAAAAAAAAAAAAAAAAAAAAAAAAAAAAAAAAAAAAAAAAAAAAAAAAAAAAAAAAAAAAAAAAA8D8AAAAAAADwPwAAAAAAAPA/AAAAAAAA8D8AAAAAAADwPwAAAAAAAPA/AAAAAAAA8D8AAAAAAADwPwAAAAAAAPA/AAAAAAAA8D8AAAAAAADwPwAAAAAAAPA/AAAAAAAA8D8AAAAAAADwPwAAAAAAAPA/AAAAAAAA8D8AAAAAAADwPwAAAAAAAPA/AAAAAAAA8D8AAAAAAADwPwAAAAAAAPA/AAAAAAAA8D8AAAAAAADwPwAAAAAAAPA/AAAAAAAA8D8AAAAAAADwPwAAAAAAAPA/AAAAAAAA8D8AAAAAAADwPwAAAAAAAPA/AAAAAAAA8D8AAAAAAADwPwAAAAAAAPA/AAAAAAAA8D8AAAAAAADwPwAAAAAAAPA/AAAAAAAA8D8AAAAAAADwPwAAAAAAAPA/AAAAAAAA8D8AAAAAAADwPwAAAAAAAPA/AAAAAAAA8D8AAAAAAADwPwAAAAAAAPA/AAAAAAAA8D8AAAAAAADwPwAAAAAAAPA/AAAAAAAA8D8AAAAAAADwPwAAAAAAAPA/AAAAAAAA8D8AAAAAAADwPwAAAAAAAPA/AAAAAAAA8D8AAAAAAADwPwAAAAAAAPA/AAAAAAAA8D8AAAAAAADwPwAAAAAAAPA/AAAAAAAA8D8AAAAAAADwPwAAAAAAAPA/AAAAAAAA8D8AAAAAAAAAAAAAAAAAAAAAAAAAAAAAAAAAAAAAAAAAAAAAAAAAAAAAAAAAAAAAAAAAAAAAAAAAAAAAAAAAAAAAAAAAAAAAAAAAAAAAAAAAAAAAAAAAAAAAAAAAAAAAAAAAAAAAAAAAAAAAAAAAAAAAAAAAAAAAAAAAAAAAAAAAAAAAAAAAAAAAAAAAAAAAAAAAAAAAAAAAAAAAAAAAAAAAAAAAAAAAAAAAAAAAAAAAAAAAAAAAAAAAAAAAAAAAAAAAAAAAAAAAAAAAAAAAAAAAAAAAAAAAAAAAAAAAAAAAAAAAAAAAAAAAAAAAAAAAAAAAAAAAAAAAAAAAAAAAAAAAAAAAAAAAAAAAAAAAAAAAAAAAAAAAAAAAAAAAAAAAAAAAAAAAAAAAAAAAAAAAAAAAAAAAAAAAAAAAAAAAAAAAAAAAAAAAAAAAAAAAAAAAAAAAAAAAAAAAAAAAAAAAAAAAAAAAAAAAAAAAAAAAAAAAAAAAAAAAAAAAAAAAAAAAAAAAAAAAAAAAAAAAAAAAAAAAAAAAAAAAAAAAAAAAAAAAAAAAAAAAAAAAAAAAAAAAAAAAAAAAAAAAAAAAAAAAAAAAAAAAAAAAAAAAAAAAAAAAAAAAAAAAAAAAAAAAAAAAAAAAAAAAAAAAAAAAAAAAAAAAAAAAAAAAAAAAAAAAAAAAAAAAAAAAAAAAAAAAAAAAAAAAAAAAAAAAAAAAAAAAAAAAAAAAAAAAAAAAAAAAAAAAAAAAAAAAAAAAAAAAAAAAAAAAAAAAAAAAAAAAAAAAAAAAAAAAAAAAAAAAAAAAAAAAAAAAAAAAAAAAAAAAAAAAAAAAAAAAAAAAAAAAAAAAAAAAAAAAAAAAAAAAAAAAAAAAAAAAAAAAAAAAAAAAAAAAAAAAAAAAAAAAAAAAAAAAAAAAAAAAAAAAAAAAAAAAAAAAAAAAAAAAAAAAAAAAAAAAAAAAAAAAAAAAAAAAAAAAAAAAAAAAAAAAAAAAAAAAAAAAAAAAAAAAAAAAAAAAAAAAAAAAAAAAAAAAAAAAAAAAAAAAAAAAAAAAAAAAAAAAAAAAAAAAAAAAAAAAAAAAAAAAAAAAAAAAAAAAAAAAAAAAAAAA",
          "dtype": "f8"
         },
         "lat": {
          "bdata": "U2FsIcghTEBTYWwhyCFMQFNhbCHIIUxAU2FsIcghTEBTYWwhyCFMQFNhbCHIIUxAU2FsIcghTEBTYWwhyCFMQFNhbCHIIUxAU2FsIcghTEBTYWwhyCFMQFNhbCHIIUxAU2FsIcghTEBTYWwhyCFMQFNhbCHIIUxAU2FsIcghTEBTYWwhyCFMQFNhbCHIIUxAU2FsIcghTEBTYWwhyCFMQFNhbCHIIUxAU2FsIcghTEBTYWwhyCFMQFNhbCHIIUxAU2FsIcghTEBTYWwhyCFMQFNhbCHIIUxAU2FsIcghTEBTYWwhyCFMQFNhbCHIIUxAU2FsIcghTEBTYWwhyCFMQFNhbCHIIUxAU2FsIcghTEBTYWwhyCFMQFNhbCHIIUxAU2FsIcghTEBTYWwhyCFMQFNhbCHIIUxAU2FsIcghTEBTYWwhyCFMQFNhbCHIIUxAU2FsIcghTEBTYWwhyCFMQFNhbCHIIUxAU2FsIcghTEBTYWwhyCFMQFNhbCHIIUxAU2FsIcghTEBTYWwhyCFMQFNhbCHIIUxAU2FsIcghTEBTYWwhyCFMQFNhbCHIIUxAU2FsIcghTEBTYWwhyCFMQFNhbCHIIUxAU2FsIcghTEBTYWwhyCFMQFNhbCHIIUxAU2FsIcghTEBTYWwhyCFMQFNhbCHIIUxAZryt9NraSkBmvK302tpKQGa8rfTa2kpAZryt9NraSkBmvK302tpKQGa8rfTa2kpAZryt9NraSkBmvK302tpKQGa8rfTa2kpAZryt9NraSkBmvK302tpKQGa8rfTa2kpAZryt9NraSkBmvK302tpKQGa8rfTa2kpAZryt9NraSkBmvK302tpKQGa8rfTa2kpAZryt9NraSkBmvK302tpKQGa8rfTa2kpAZryt9NraSkBmvK302tpKQGa8rfTa2kpAZryt9NraSkBmvK302tpKQGa8rfTa2kpAZryt9NraSkBmvK302tpKQGa8rfTa2kpAZryt9NraSkBmvK302tpKQGa8rfTa2kpAZryt9NraSkBmvK302tpKQGa8rfTa2kpAZryt9NraSkBmvK302tpKQGa8rfTa2kpAZryt9NraSkBmvK302tpKQGa8rfTa2kpAZryt9NraSkBmvK302tpKQGa8rfTa2kpAZryt9NraSkBmvK302tpKQGa8rfTa2kpAZryt9NraSkBmvK302tpKQGa8rfTa2kpAZryt9NraSkBmvK302tpKQGa8rfTa2kpAZryt9NraSkBmvK302tpKQGa8rfTa2kpAZryt9NraSkBmvK302tpKQGa8rfTa2kpAZryt9NraSkBmvK302tpKQGa8rfTa2kpAZryt9NraSkBmvK302tpKQGa8rfTa2kpAZryt9NraSkBmvK302tpKQGa8rfTa2kpAZryt9NraSkBmvK302tpKQGa8rfTa2kpAZryt9NraSkBmvK302tpKQGa8rfTa2kpAZryt9NraSkBmvK302tpKQGa8rfTa2kpAZryt9NraSkBmvK302tpKQGa8rfTa2kpAZryt9NraSkBmvK302tpKQGa8rfTa2kpAZryt9NraSkBmvK302tpKQGa8rfTa2kpAZryt9NraSkBmvK302tpKQGa8rfTa2kpAZryt9NraSkBmvK302tpKQGa8rfTa2kpAZryt9NraSkBmvK302tpKQGa8rfTa2kpAZryt9NraSkBmvK302tpKQGa8rfTa2kpAZryt9NraSkBmvK302tpKQGa8rfTa2kpAZryt9NraSkBmvK302tpKQGa8rfTa2kpAZryt9NraSkBmvK302tpKQGa8rfTa2kpAZryt9NraSkBmvK302tpKQGa8rfTa2kpAZryt9NraSkBmvK302tpKQGa8rfTa2kpAZryt9NraSkBmvK302tpKQGa8rfTa2kpAZryt9NraSkBmvK302tpKQGa8rfTa2kpAZryt9NraSkBmvK302tpKQGa8rfTa2kpAZryt9NraSkBmvK302tpKQGa8rfTa2kpAZryt9NraSkBmvK302tpKQFNhbCHIIUxAU2FsIcghTEBTYWwhyCFMQFNhbCHIIUxAU2FsIcghTEBTYWwhyCFMQFNhbCHIIUxAU2FsIcghTEBTYWwhyCFMQFNhbCHIIUxAU2FsIcghTEBTYWwhyCFMQFNhbCHIIUxAU2FsIcghTEBTYWwhyCFMQFNhbCHIIUxAU2FsIcghTEBTYWwhyCFMQFNhbCHIIUxAU2FsIcghTEBTYWwhyCFMQFNhbCHIIUxAU2FsIcghTEBTYWwhyCFMQFNhbCHIIUxAU2FsIcghTEBTYWwhyCFMQFNhbCHIIUxAU2FsIcghTEBTYWwhyCFMQFNhbCHIIUxAU2FsIcghTEBTYWwhyCFMQFNhbCHIIUxAU2FsIcghTEBTYWwhyCFMQFNhbCHIIUxAU2FsIcghTEBTYWwhyCFMQFNhbCHIIUxAU2FsIcghTEBTYWwhyCFMQFNhbCHIIUxAU2FsIcghTEBTYWwhyCFMQFNhbCHIIUxAU2FsIcghTEBTYWwhyCFMQFNhbCHIIUxAU2FsIcghTEBTYWwhyCFMQFNhbCHIIUxAU2FsIcghTEBTYWwhyCFMQFNhbCHIIUxAU2FsIcghTEBTYWwhyCFMQFNhbCHIIUxAU2FsIcghTEBTYWwhyCFMQFNhbCHIIUxAU2FsIcghTEBTYWwhyCFMQFNhbCHIIUxAZryt9NraSkBmvK302tpKQGa8rfTa2kpAZryt9NraSkBmvK302tpKQGa8rfTa2kpAZryt9NraSkBmvK302tpKQGa8rfTa2kpAZryt9NraSkBmvK302tpKQGa8rfTa2kpAZryt9NraSkBmvK302tpKQGa8rfTa2kpAZryt9NraSkBmvK302tpKQGa8rfTa2kpAZryt9NraSkBmvK302tpKQGa8rfTa2kpAZryt9NraSkBmvK302tpKQGa8rfTa2kpAZryt9NraSkBmvK302tpKQGa8rfTa2kpAZryt9NraSkBmvK302tpKQGa8rfTa2kpAZryt9NraSkBmvK302tpKQGa8rfTa2kpAZryt9NraSkBmvK302tpKQGa8rfTa2kpAZryt9NraSkBmvK302tpKQGa8rfTa2kpAZryt9NraSkBmvK302tpKQGa8rfTa2kpAZryt9NraSkBmvK302tpKQGa8rfTa2kpAZryt9NraSkBmvK302tpKQGa8rfTa2kpAZryt9NraSkBmvK302tpKQGa8rfTa2kpAZryt9NraSkBmvK302tpKQGa8rfTa2kpAZryt9NraSkBmvK302tpKQGa8rfTa2kpAZryt9NraSkBmvK302tpKQGa8rfTa2kpAZryt9NraSkBmvK302tpKQGa8rfTa2kpAZryt9NraSkBTYWwhyCFMQFNhbCHIIUxAU2FsIcghTEBTYWwhyCFMQFNhbCHIIUxAU2FsIcghTEBTYWwhyCFMQFNhbCHIIUxAU2FsIcghTEBTYWwhyCFMQFNhbCHIIUxAU2FsIcghTEBTYWwhyCFMQFNhbCHIIUxAU2FsIcghTEBTYWwhyCFMQFNhbCHIIUxAU2FsIcghTEBTYWwhyCFMQFNhbCHIIUxAU2FsIcghTEBTYWwhyCFMQFNhbCHIIUxAU2FsIcghTEBTYWwhyCFMQFNhbCHIIUxAU2FsIcghTEBTYWwhyCFMQFNhbCHIIUxAU2FsIcghTEBTYWwhyCFMQFNhbCHIIUxAU2FsIcghTEBTYWwhyCFMQFNhbCHIIUxAU2FsIcghTEBTYWwhyCFMQFNhbCHIIUxAU2FsIcghTEBTYWwhyCFMQFNhbCHIIUxAU2FsIcghTEBTYWwhyCFMQFNhbCHIIUxAU2FsIcghTEBTYWwhyCFMQFNhbCHIIUxAU2FsIcghTEBTYWwhyCFMQFNhbCHIIUxAU2FsIcghTEBTYWwhyCFMQFNhbCHIIUxAU2FsIcghTEBTYWwhyCFMQFNhbCHIIUxAU2FsIcghTEBTYWwhyCFMQFNhbCHIIUxAU2FsIcghTEBTYWwhyCFMQFNhbCHIIUxAU2FsIcghTEBTYWwhyCFMQFNhbCHIIUxAU2FsIcghTEBTYWwhyCFMQFNhbCHIIUxAU2FsIcghTEBTYWwhyCFMQFNhbCHIIUxAU2FsIcghTEBTYWwhyCFMQFNhbCHIIUxAU2FsIcghTEBTYWwhyCFMQFNhbCHIIUxAU2FsIcghTEBTYWwhyCFMQFNhbCHIIUxAU2FsIcghTEBTYWwhyCFMQFNhbCHIIUxAU2FsIcghTEBTYWwhyCFMQFNhbCHIIUxAU2FsIcghTEBTYWwhyCFMQFNhbCHIIUxAU2FsIcghTEBTYWwhyCFMQFNhbCHIIUxAU2FsIcghTEBTYWwhyCFMQFNhbCHIIUxAU2FsIcghTEBTYWwhyCFMQFNhbCHIIUxAU2FsIcghTEBTYWwhyCFMQFNhbCHIIUxAU2FsIcghTEBTYWwhyCFMQFNhbCHIIUxAU2FsIcghTEBTYWwhyCFMQFNhbCHIIUxAU2FsIcghTEBTYWwhyCFMQFNhbCHIIUxAU2FsIcghTEBTYWwhyCFMQFNhbCHIIUxAU2FsIcghTEBTYWwhyCFMQFNhbCHIIUxAU2FsIcghTEBTYWwhyCFMQFNhbCHIIUxAU2FsIcghTEBTYWwhyCFMQFNhbCHIIUxAU2FsIcghTEBTYWwhyCFMQFNhbCHIIUxAU2FsIcghTEBTYWwhyCFMQFNhbCHIIUxAU2FsIcghTEBTYWwhyCFMQFNhbCHIIUxAU2FsIcghTEBTYWwhyCFMQFNhbCHIIUxAU2FsIcghTEBTYWwhyCFMQFNhbCHIIUxAU2FsIcghTEBTYWwhyCFMQFNhbCHIIUxAU2FsIcghTEBTYWwhyCFMQFNhbCHIIUxAU2FsIcghTEBTYWwhyCFMQFNhbCHIIUxAU2FsIcghTEBTYWwhyCFMQFNhbCHIIUxAU2FsIcghTEBTYWwhyCFMQFNhbCHIIUxAU2FsIcghTEBTYWwhyCFMQFNhbCHIIUxAU2FsIcghTEBTYWwhyCFMQFNhbCHIIUxAU2FsIcghTEBTYWwhyCFMQFNhbCHIIUxAU2FsIcghTEBTYWwhyCFMQFNhbCHIIUxAU2FsIcghTEBTYWwhyCFMQFNhbCHIIUxAU2FsIcghTEBTYWwhyCFMQFNhbCHIIUxAU2FsIcghTEBTYWwhyCFMQFNhbCHIIUxAU2FsIcghTEBTYWwhyCFMQFNhbCHIIUxAU2FsIcghTEBTYWwhyCFMQFNhbCHIIUxAU2FsIcghTEBTYWwhyCFMQFNhbCHIIUxAU2FsIcghTEBTYWwhyCFMQFNhbCHIIUxAU2FsIcghTEBTYWwhyCFMQFNhbCHIIUxAU2FsIcghTEBTYWwhyCFMQFNhbCHIIUxAU2FsIcghTEBTYWwhyCFMQFNhbCHIIUxAU2FsIcghTEBTYWwhyCFMQFNhbCHIIUxAU2FsIcghTEBTYWwhyCFMQFNhbCHIIUxAU2FsIcghTEBTYWwhyCFMQFNhbCHIIUxAU2FsIcghTEBTYWwhyCFMQFNhbCHIIUxAU2FsIcghTEBTYWwhyCFMQFNhbCHIIUxAU2FsIcghTEBTYWwhyCFMQFNhbCHIIUxAU2FsIcghTEBTYWwhyCFMQFNhbCHIIUxAU2FsIcghTEBTYWwhyCFMQFNhbCHIIUxAU2FsIcghTEBTYWwhyCFMQFNhbCHIIUxAU2FsIcghTEBTYWwhyCFMQFNhbCHIIUxAU2FsIcghTEBTYWwhyCFMQFNhbCHIIUxAU2FsIcghTEBTYWwhyCFMQFNhbCHIIUxAU2FsIcghTEBTYWwhyCFMQFNhbCHIIUxAU2FsIcghTEBTYWwhyCFMQFNhbCHIIUxAU2FsIcghTEBTYWwhyCFMQFNhbCHIIUxAU2FsIcghTEBTYWwhyCFMQFNhbCHIIUxAU2FsIcghTEBTYWwhyCFMQFNhbCHIIUxAU2FsIcghTEBTYWwhyCFMQFNhbCHIIUxAU2FsIcghTEBTYWwhyCFMQFNhbCHIIUxAU2FsIcghTEBTYWwhyCFMQFNhbCHIIUxAU2FsIcghTEBTYWwhyCFMQFNhbCHIIUxAU2FsIcghTEBTYWwhyCFMQFNhbCHIIUxAU2FsIcghTEBTYWwhyCFMQFNhbCHIIUxAU2FsIcghTEBTYWwhyCFMQFNhbCHIIUxAU2FsIcghTEBTYWwhyCFMQFNhbCHIIUxAU2FsIcghTEBTYWwhyCFMQFNhbCHIIUxAU2FsIcghTEBTYWwhyCFMQFNhbCHIIUxAU2FsIcghTEBTYWwhyCFMQFNhbCHIIUxAU2FsIcghTEBTYWwhyCFMQFNhbCHIIUxAU2FsIcghTEBTYWwhyCFMQFNhbCHIIUxAU2FsIcghTEBTYWwhyCFMQFNhbCHIIUxAU2FsIcghTEBTYWwhyCFMQFNhbCHIIUxAU2FsIcghTEBTYWwhyCFMQFNhbCHIIUxAU2FsIcghTEBTYWwhyCFMQFNhbCHIIUxAU2FsIcghTEBTYWwhyCFMQFNhbCHIIUxAU2FsIcghTEBTYWwhyCFMQFNhbCHIIUxAU2FsIcghTEBTYWwhyCFMQFNhbCHIIUxAU2FsIcghTEBTYWwhyCFMQFNhbCHIIUxAU2FsIcghTEBTYWwhyCFMQFNhbCHIIUxAU2FsIcghTEBTYWwhyCFMQFNhbCHIIUxAU2FsIcghTEBTYWwhyCFMQFNhbCHIIUxAU2FsIcghTEBTYWwhyCFMQFNhbCHIIUxAU2FsIcghTEBTYWwhyCFMQFNhbCHIIUxAU2FsIcghTEBTYWwhyCFMQFNhbCHIIUxAU2FsIcghTEBTYWwhyCFMQFNhbCHIIUxAU2FsIcghTEBTYWwhyCFMQFNhbCHIIUxAU2FsIcghTEBTYWwhyCFMQFNhbCHIIUxAU2FsIcghTEBTYWwhyCFMQFNhbCHIIUxAU2FsIcghTEBTYWwhyCFMQFNhbCHIIUxAU2FsIcghTEBTYWwhyCFMQFNhbCHIIUxAU2FsIcghTEBTYWwhyCFMQFNhbCHIIUxAU2FsIcghTEBTYWwhyCFMQFNhbCHIIUxAU2FsIcghTEBTYWwhyCFMQFNhbCHIIUxAU2FsIcghTEBTYWwhyCFMQFNhbCHIIUxAU2FsIcghTEBTYWwhyCFMQFNhbCHIIUxAU2FsIcghTEBTYWwhyCFMQFNhbCHIIUxAU2FsIcghTEBTYWwhyCFMQFNhbCHIIUxAU2FsIcghTEBTYWwhyCFMQFNhbCHIIUxAU2FsIcghTEBTYWwhyCFMQFNhbCHIIUxAU2FsIcghTEBTYWwhyCFMQFNhbCHIIUxAU2FsIcghTEBTYWwhyCFMQFNhbCHIIUxAU2FsIcghTEBTYWwhyCFMQFNhbCHIIUxAU2FsIcghTEBTYWwhyCFMQFNhbCHIIUxAU2FsIcghTEBmvK302tpKQGa8rfTa2kpAZryt9NraSkBmvK302tpKQGa8rfTa2kpAZryt9NraSkBmvK302tpKQGa8rfTa2kpAZryt9NraSkBmvK302tpKQGa8rfTa2kpAZryt9NraSkBmvK302tpKQGa8rfTa2kpAZryt9NraSkBmvK302tpKQGa8rfTa2kpAZryt9NraSkBmvK302tpKQGa8rfTa2kpAZryt9NraSkBmvK302tpKQGa8rfTa2kpAZryt9NraSkBmvK302tpKQGa8rfTa2kpAZryt9NraSkBmvK302tpKQGa8rfTa2kpAZryt9NraSkBmvK302tpKQGa8rfTa2kpAZryt9NraSkBmvK302tpKQGa8rfTa2kpAZryt9NraSkBmvK302tpKQGa8rfTa2kpAZryt9NraSkBmvK302tpKQGa8rfTa2kpAZryt9NraSkBmvK302tpKQGa8rfTa2kpAZryt9NraSkBmvK302tpKQGa8rfTa2kpAZryt9NraSkBmvK302tpKQGa8rfTa2kpAZryt9NraSkBmvK302tpKQGa8rfTa2kpAZryt9NraSkBmvK302tpKQGa8rfTa2kpAZryt9NraSkBmvK302tpKQGa8rfTa2kpAZryt9NraSkBmvK302tpKQGa8rfTa2kpAZryt9NraSkBmvK302tpKQFNhbCHIIUxAU2FsIcghTEBTYWwhyCFMQFNhbCHIIUxAU2FsIcghTEBTYWwhyCFMQFNhbCHIIUxAU2FsIcghTEBTYWwhyCFMQFNhbCHIIUxAU2FsIcghTEBTYWwhyCFMQFNhbCHIIUxAU2FsIcghTEBTYWwhyCFMQFNhbCHIIUxAU2FsIcghTEBTYWwhyCFMQFNhbCHIIUxAU2FsIcghTEBTYWwhyCFMQFNhbCHIIUxAU2FsIcghTEBTYWwhyCFMQFNhbCHIIUxAU2FsIcghTEBTYWwhyCFMQFNhbCHIIUxAU2FsIcghTEBTYWwhyCFMQFNhbCHIIUxAU2FsIcghTEBTYWwhyCFMQFNhbCHIIUxAU2FsIcghTEBTYWwhyCFMQFNhbCHIIUxAU2FsIcghTEBTYWwhyCFMQFNhbCHIIUxAU2FsIcghTEBTYWwhyCFMQFNhbCHIIUxAU2FsIcghTEBTYWwhyCFMQFNhbCHIIUxAU2FsIcghTEBTYWwhyCFMQFNhbCHIIUxAU2FsIcghTEBTYWwhyCFMQFNhbCHIIUxAU2FsIcghTEBTYWwhyCFMQFNhbCHIIUxAU2FsIcghTEBTYWwhyCFMQFNhbCHIIUxAU2FsIcghTEBTYWwhyCFMQFNhbCHIIUxAU2FsIcghTEBTYWwhyCFMQFNhbCHIIUxAZryt9NraSkBmvK302tpKQGa8rfTa2kpAZryt9NraSkBmvK302tpKQGa8rfTa2kpAZryt9NraSkBmvK302tpKQGa8rfTa2kpAZryt9NraSkBmvK302tpKQGa8rfTa2kpAZryt9NraSkBmvK302tpKQGa8rfTa2kpAZryt9NraSkBmvK302tpKQGa8rfTa2kpAZryt9NraSkBmvK302tpKQGa8rfTa2kpAZryt9NraSkBmvK302tpKQGa8rfTa2kpAZryt9NraSkBmvK302tpKQGa8rfTa2kpAZryt9NraSkBmvK302tpKQGa8rfTa2kpAZryt9NraSkBmvK302tpKQGa8rfTa2kpAZryt9NraSkBmvK302tpKQGa8rfTa2kpAZryt9NraSkBmvK302tpKQGa8rfTa2kpAZryt9NraSkBmvK302tpKQGa8rfTa2kpAZryt9NraSkBmvK302tpKQGa8rfTa2kpAZryt9NraSkBmvK302tpKQGa8rfTa2kpAZryt9NraSkBmvK302tpKQGa8rfTa2kpAZryt9NraSkBmvK302tpKQGa8rfTa2kpAZryt9NraSkBmvK302tpKQGa8rfTa2kpAZryt9NraSkBmvK302tpKQGa8rfTa2kpAZryt9NraSkBmvK302tpKQGa8rfTa2kpAZryt9NraSkBTYWwhyCFMQFNhbCHIIUxAU2FsIcghTEBTYWwhyCFMQFNhbCHIIUxAU2FsIcghTEBTYWwhyCFMQFNhbCHIIUxAU2FsIcghTEBTYWwhyCFMQFNhbCHIIUxAU2FsIcghTEBTYWwhyCFMQFNhbCHIIUxAU2FsIcghTEBTYWwhyCFMQFNhbCHIIUxAU2FsIcghTEBTYWwhyCFMQFNhbCHIIUxAU2FsIcghTEBTYWwhyCFMQFNhbCHIIUxAU2FsIcghTEBTYWwhyCFMQFNhbCHIIUxAU2FsIcghTEBTYWwhyCFMQFNhbCHIIUxAU2FsIcghTEBTYWwhyCFMQFNhbCHIIUxAU2FsIcghTEBTYWwhyCFMQFNhbCHIIUxAU2FsIcghTEBTYWwhyCFMQFNhbCHIIUxAU2FsIcghTEBTYWwhyCFMQFNhbCHIIUxAU2FsIcghTEBTYWwhyCFMQFNhbCHIIUxAU2FsIcghTEBTYWwhyCFMQFNhbCHIIUxAU2FsIcghTEBTYWwhyCFMQFNhbCHIIUxAU2FsIcghTEBTYWwhyCFMQFNhbCHIIUxAU2FsIcghTEBTYWwhyCFMQFNhbCHIIUxAU2FsIcghTEBTYWwhyCFMQFNhbCHIIUxAU2FsIcghTEBTYWwhyCFMQFNhbCHIIUxAU2FsIcghTEBTYWwhyCFMQFNhbCHIIUxAU2FsIcghTEBTYWwhyCFMQFNhbCHIIUxAU2FsIcghTEBTYWwhyCFMQFNhbCHIIUxAU2FsIcghTEBTYWwhyCFMQFNhbCHIIUxAU2FsIcghTEBTYWwhyCFMQFNhbCHIIUxAU2FsIcghTEBTYWwhyCFMQFNhbCHIIUxAU2FsIcghTEBTYWwhyCFMQFNhbCHIIUxAU2FsIcghTEBTYWwhyCFMQFNhbCHIIUxAU2FsIcghTEBTYWwhyCFMQFNhbCHIIUxAU2FsIcghTEBTYWwhyCFMQFNhbCHIIUxAU2FsIcghTEBTYWwhyCFMQFNhbCHIIUxAU2FsIcghTEBTYWwhyCFMQFNhbCHIIUxAU2FsIcghTEBTYWwhyCFMQFNhbCHIIUxAU2FsIcghTEBTYWwhyCFMQFNhbCHIIUxA",
          "dtype": "f8"
         },
         "legendgroup": "",
         "lon": {
          "bdata": "KT+p9ukAI0ApP6n26QAjQCk/qfbpACNAKT+p9ukAI0ApP6n26QAjQCk/qfbpACNAKT+p9ukAI0ApP6n26QAjQCk/qfbpACNAKT+p9ukAI0ApP6n26QAjQCk/qfbpACNAKT+p9ukAI0ApP6n26QAjQCk/qfbpACNAKT+p9ukAI0ApP6n26QAjQCk/qfbpACNAKT+p9ukAI0ApP6n26QAjQCk/qfbpACNAKT+p9ukAI0ApP6n26QAjQCk/qfbpACNAKT+p9ukAI0ApP6n26QAjQCk/qfbpACNAKT+p9ukAI0ApP6n26QAjQCk/qfbpACNAKT+p9ukAI0ApP6n26QAjQCk/qfbpACNAKT+p9ukAI0ApP6n26QAjQCk/qfbpACNAKT+p9ukAI0ApP6n26QAjQCk/qfbpACNAKT+p9ukAI0ApP6n26QAjQCk/qfbpACNAKT+p9ukAI0ApP6n26QAjQCk/qfbpACNAKT+p9ukAI0ApP6n26QAjQCk/qfbpACNAKT+p9ukAI0ApP6n26QAjQCk/qfbpACNAKT+p9ukAI0ApP6n26QAjQCk/qfbpACNAKT+p9ukAI0ApP6n26QAjQCk/qfbpACNAKT+p9ukAI0ApP6n26QAjQCk/qfbpACNAKT+p9ukAI0ApP6n26QAjQCk/qfbpACNAu10vTRH0O0C7XS9NEfQ7QLtdL00R9DtAu10vTRH0O0C7XS9NEfQ7QLtdL00R9DtAu10vTRH0O0C7XS9NEfQ7QLtdL00R9DtAu10vTRH0O0C7XS9NEfQ7QLtdL00R9DtAu10vTRH0O0C7XS9NEfQ7QLtdL00R9DtAu10vTRH0O0C7XS9NEfQ7QLtdL00R9DtAu10vTRH0O0C7XS9NEfQ7QLtdL00R9DtAu10vTRH0O0C7XS9NEfQ7QLtdL00R9DtAu10vTRH0O0C7XS9NEfQ7QLtdL00R9DtAu10vTRH0O0C7XS9NEfQ7QLtdL00R9DtAu10vTRH0O0C7XS9NEfQ7QLtdL00R9DtAu10vTRH0O0C7XS9NEfQ7QLtdL00R9DtAu10vTRH0O0C7XS9NEfQ7QLtdL00R9DtAu10vTRH0O0C7XS9NEfQ7QLtdL00R9DtAu10vTRH0O0C7XS9NEfQ7QLtdL00R9DtAu10vTRH0O0C7XS9NEfQ7QLtdL00R9DtAu10vTRH0O0C7XS9NEfQ7QLtdL00R9DtAu10vTRH0O0C7XS9NEfQ7QLtdL00R9DtAu10vTRH0O0C7XS9NEfQ7QLtdL00R9DtAu10vTRH0O0C7XS9NEfQ7QLtdL00R9DtAu10vTRH0O0C7XS9NEfQ7QLtdL00R9DtAu10vTRH0O0C7XS9NEfQ7QLtdL00R9DtAu10vTRH0O0C7XS9NEfQ7QLtdL00R9DtAu10vTRH0O0C7XS9NEfQ7QLtdL00R9DtAu10vTRH0O0C7XS9NEfQ7QLtdL00R9DtAu10vTRH0O0C7XS9NEfQ7QLtdL00R9DtAu10vTRH0O0C7XS9NEfQ7QLtdL00R9DtAu10vTRH0O0C7XS9NEfQ7QLtdL00R9DtAu10vTRH0O0C7XS9NEfQ7QLtdL00R9DtAu10vTRH0O0C7XS9NEfQ7QLtdL00R9DtAu10vTRH0O0C7XS9NEfQ7QLtdL00R9DtAu10vTRH0O0C7XS9NEfQ7QLtdL00R9DtAu10vTRH0O0C7XS9NEfQ7QLtdL00R9DtAu10vTRH0O0C7XS9NEfQ7QLtdL00R9DtAu10vTRH0O0C7XS9NEfQ7QLtdL00R9DtAu10vTRH0O0C7XS9NEfQ7QLtdL00R9DtAu10vTRH0O0C7XS9NEfQ7QLtdL00R9DtAu10vTRH0O0C7XS9NEfQ7QLtdL00R9DtAu10vTRH0O0C7XS9NEfQ7QLtdL00R9DtAu10vTRH0O0C7XS9NEfQ7QLtdL00R9DtAu10vTRH0O0C7XS9NEfQ7QLtdL00R9DtAu10vTRH0O0C7XS9NEfQ7QLtdL00R9DtAu10vTRH0O0C7XS9NEfQ7QCk/qfbpACNAKT+p9ukAI0ApP6n26QAjQCk/qfbpACNAKT+p9ukAI0ApP6n26QAjQCk/qfbpACNAKT+p9ukAI0ApP6n26QAjQCk/qfbpACNAKT+p9ukAI0ApP6n26QAjQCk/qfbpACNAKT+p9ukAI0ApP6n26QAjQCk/qfbpACNAKT+p9ukAI0ApP6n26QAjQCk/qfbpACNAKT+p9ukAI0ApP6n26QAjQCk/qfbpACNAKT+p9ukAI0ApP6n26QAjQCk/qfbpACNAKT+p9ukAI0ApP6n26QAjQCk/qfbpACNAKT+p9ukAI0ApP6n26QAjQCk/qfbpACNAKT+p9ukAI0ApP6n26QAjQCk/qfbpACNAKT+p9ukAI0ApP6n26QAjQCk/qfbpACNAKT+p9ukAI0ApP6n26QAjQCk/qfbpACNAKT+p9ukAI0ApP6n26QAjQCk/qfbpACNAKT+p9ukAI0ApP6n26QAjQCk/qfbpACNAKT+p9ukAI0ApP6n26QAjQCk/qfbpACNAKT+p9ukAI0ApP6n26QAjQCk/qfbpACNAKT+p9ukAI0ApP6n26QAjQCk/qfbpACNAKT+p9ukAI0ApP6n26QAjQCk/qfbpACNAKT+p9ukAI0ApP6n26QAjQCk/qfbpACNAKT+p9ukAI0ApP6n26QAjQCk/qfbpACNAu10vTRH0O0C7XS9NEfQ7QLtdL00R9DtAu10vTRH0O0C7XS9NEfQ7QLtdL00R9DtAu10vTRH0O0C7XS9NEfQ7QLtdL00R9DtAu10vTRH0O0C7XS9NEfQ7QLtdL00R9DtAu10vTRH0O0C7XS9NEfQ7QLtdL00R9DtAu10vTRH0O0C7XS9NEfQ7QLtdL00R9DtAu10vTRH0O0C7XS9NEfQ7QLtdL00R9DtAu10vTRH0O0C7XS9NEfQ7QLtdL00R9DtAu10vTRH0O0C7XS9NEfQ7QLtdL00R9DtAu10vTRH0O0C7XS9NEfQ7QLtdL00R9DtAu10vTRH0O0C7XS9NEfQ7QLtdL00R9DtAu10vTRH0O0C7XS9NEfQ7QLtdL00R9DtAu10vTRH0O0C7XS9NEfQ7QLtdL00R9DtAu10vTRH0O0C7XS9NEfQ7QLtdL00R9DtAu10vTRH0O0C7XS9NEfQ7QLtdL00R9DtAu10vTRH0O0C7XS9NEfQ7QLtdL00R9DtAu10vTRH0O0C7XS9NEfQ7QLtdL00R9DtAu10vTRH0O0C7XS9NEfQ7QLtdL00R9DtAu10vTRH0O0C7XS9NEfQ7QLtdL00R9DtAu10vTRH0O0C7XS9NEfQ7QLtdL00R9DtAu10vTRH0O0C7XS9NEfQ7QLtdL00R9DtAu10vTRH0O0ApP6n26QAjQCk/qfbpACNAKT+p9ukAI0ApP6n26QAjQCk/qfbpACNAKT+p9ukAI0ApP6n26QAjQCk/qfbpACNAKT+p9ukAI0ApP6n26QAjQCk/qfbpACNAKT+p9ukAI0ApP6n26QAjQCk/qfbpACNAKT+p9ukAI0ApP6n26QAjQCk/qfbpACNAKT+p9ukAI0ApP6n26QAjQCk/qfbpACNAKT+p9ukAI0ApP6n26QAjQCk/qfbpACNAKT+p9ukAI0ApP6n26QAjQCk/qfbpACNAKT+p9ukAI0ApP6n26QAjQCk/qfbpACNAKT+p9ukAI0ApP6n26QAjQCk/qfbpACNAKT+p9ukAI0ApP6n26QAjQCk/qfbpACNAKT+p9ukAI0ApP6n26QAjQCk/qfbpACNAKT+p9ukAI0ApP6n26QAjQCk/qfbpACNAKT+p9ukAI0ApP6n26QAjQCk/qfbpACNAKT+p9ukAI0ApP6n26QAjQCk/qfbpACNAKT+p9ukAI0ApP6n26QAjQCk/qfbpACNAKT+p9ukAI0ApP6n26QAjQCk/qfbpACNAKT+p9ukAI0ApP6n26QAjQCk/qfbpACNAKT+p9ukAI0ApP6n26QAjQCk/qfbpACNAKT+p9ukAI0ApP6n26QAjQCk/qfbpACNAKT+p9ukAI0ApP6n26QAjQCk/qfbpACNAKT+p9ukAI0ApP6n26QAjQCk/qfbpACNAKT+p9ukAI0ApP6n26QAjQCk/qfbpACNAKT+p9ukAI0ApP6n26QAjQCk/qfbpACNAKT+p9ukAI0ApP6n26QAjQCk/qfbpACNAKT+p9ukAI0ApP6n26QAjQCk/qfbpACNAKT+p9ukAI0ApP6n26QAjQCk/qfbpACNAKT+p9ukAI0ApP6n26QAjQCk/qfbpACNAKT+p9ukAI0ApP6n26QAjQCk/qfbpACNAKT+p9ukAI0ApP6n26QAjQCk/qfbpACNAKT+p9ukAI0ApP6n26QAjQCk/qfbpACNAKT+p9ukAI0ApP6n26QAjQCk/qfbpACNAKT+p9ukAI0ApP6n26QAjQCk/qfbpACNAKT+p9ukAI0ApP6n26QAjQCk/qfbpACNAKT+p9ukAI0ApP6n26QAjQCk/qfbpACNAKT+p9ukAI0ApP6n26QAjQCk/qfbpACNAKT+p9ukAI0ApP6n26QAjQCk/qfbpACNAKT+p9ukAI0ApP6n26QAjQCk/qfbpACNAKT+p9ukAI0ApP6n26QAjQCk/qfbpACNAKT+p9ukAI0ApP6n26QAjQCk/qfbpACNAKT+p9ukAI0ApP6n26QAjQCk/qfbpACNAKT+p9ukAI0ApP6n26QAjQCk/qfbpACNAKT+p9ukAI0ApP6n26QAjQCk/qfbpACNAKT+p9ukAI0ApP6n26QAjQCk/qfbpACNAKT+p9ukAI0ApP6n26QAjQCk/qfbpACNAKT+p9ukAI0ApP6n26QAjQCk/qfbpACNAKT+p9ukAI0ApP6n26QAjQCk/qfbpACNAKT+p9ukAI0ApP6n26QAjQCk/qfbpACNAKT+p9ukAI0ApP6n26QAjQCk/qfbpACNAKT+p9ukAI0ApP6n26QAjQCk/qfbpACNAKT+p9ukAI0ApP6n26QAjQCk/qfbpACNAKT+p9ukAI0ApP6n26QAjQCk/qfbpACNAKT+p9ukAI0ApP6n26QAjQCk/qfbpACNAKT+p9ukAI0ApP6n26QAjQCk/qfbpACNAKT+p9ukAI0ApP6n26QAjQCk/qfbpACNAKT+p9ukAI0ApP6n26QAjQCk/qfbpACNAKT+p9ukAI0ApP6n26QAjQCk/qfbpACNAKT+p9ukAI0ApP6n26QAjQCk/qfbpACNAKT+p9ukAI0ApP6n26QAjQCk/qfbpACNAKT+p9ukAI0ApP6n26QAjQCk/qfbpACNAKT+p9ukAI0ApP6n26QAjQCk/qfbpACNAKT+p9ukAI0ApP6n26QAjQCk/qfbpACNAKT+p9ukAI0ApP6n26QAjQCk/qfbpACNAKT+p9ukAI0ApP6n26QAjQCk/qfbpACNAKT+p9ukAI0ApP6n26QAjQCk/qfbpACNAKT+p9ukAI0ApP6n26QAjQCk/qfbpACNAKT+p9ukAI0ApP6n26QAjQCk/qfbpACNAKT+p9ukAI0ApP6n26QAjQCk/qfbpACNAKT+p9ukAI0ApP6n26QAjQCk/qfbpACNAKT+p9ukAI0ApP6n26QAjQCk/qfbpACNAKT+p9ukAI0ApP6n26QAjQCk/qfbpACNAKT+p9ukAI0ApP6n26QAjQCk/qfbpACNAKT+p9ukAI0ApP6n26QAjQCk/qfbpACNAKT+p9ukAI0ApP6n26QAjQCk/qfbpACNAKT+p9ukAI0ApP6n26QAjQCk/qfbpACNAKT+p9ukAI0ApP6n26QAjQCk/qfbpACNAKT+p9ukAI0ApP6n26QAjQCk/qfbpACNAKT+p9ukAI0ApP6n26QAjQCk/qfbpACNAKT+p9ukAI0ApP6n26QAjQCk/qfbpACNAKT+p9ukAI0ApP6n26QAjQCk/qfbpACNAKT+p9ukAI0ApP6n26QAjQCk/qfbpACNAKT+p9ukAI0ApP6n26QAjQCk/qfbpACNAKT+p9ukAI0ApP6n26QAjQCk/qfbpACNAKT+p9ukAI0ApP6n26QAjQCk/qfbpACNAKT+p9ukAI0ApP6n26QAjQCk/qfbpACNAKT+p9ukAI0ApP6n26QAjQCk/qfbpACNAKT+p9ukAI0ApP6n26QAjQCk/qfbpACNAKT+p9ukAI0ApP6n26QAjQCk/qfbpACNAKT+p9ukAI0ApP6n26QAjQCk/qfbpACNAKT+p9ukAI0ApP6n26QAjQCk/qfbpACNAKT+p9ukAI0ApP6n26QAjQCk/qfbpACNAKT+p9ukAI0ApP6n26QAjQCk/qfbpACNAKT+p9ukAI0ApP6n26QAjQCk/qfbpACNAKT+p9ukAI0ApP6n26QAjQCk/qfbpACNAKT+p9ukAI0ApP6n26QAjQCk/qfbpACNAKT+p9ukAI0ApP6n26QAjQCk/qfbpACNAKT+p9ukAI0ApP6n26QAjQCk/qfbpACNAKT+p9ukAI0ApP6n26QAjQCk/qfbpACNAKT+p9ukAI0ApP6n26QAjQCk/qfbpACNAKT+p9ukAI0ApP6n26QAjQCk/qfbpACNAKT+p9ukAI0ApP6n26QAjQCk/qfbpACNAKT+p9ukAI0ApP6n26QAjQCk/qfbpACNAKT+p9ukAI0ApP6n26QAjQCk/qfbpACNAKT+p9ukAI0ApP6n26QAjQCk/qfbpACNAKT+p9ukAI0ApP6n26QAjQCk/qfbpACNAKT+p9ukAI0ApP6n26QAjQCk/qfbpACNAKT+p9ukAI0ApP6n26QAjQCk/qfbpACNAKT+p9ukAI0ApP6n26QAjQCk/qfbpACNAKT+p9ukAI0ApP6n26QAjQCk/qfbpACNAKT+p9ukAI0ApP6n26QAjQCk/qfbpACNAKT+p9ukAI0ApP6n26QAjQCk/qfbpACNAKT+p9ukAI0ApP6n26QAjQCk/qfbpACNAKT+p9ukAI0ApP6n26QAjQCk/qfbpACNAKT+p9ukAI0ApP6n26QAjQCk/qfbpACNAKT+p9ukAI0ApP6n26QAjQCk/qfbpACNAKT+p9ukAI0ApP6n26QAjQCk/qfbpACNAKT+p9ukAI0ApP6n26QAjQCk/qfbpACNAKT+p9ukAI0ApP6n26QAjQCk/qfbpACNAKT+p9ukAI0ApP6n26QAjQCk/qfbpACNAKT+p9ukAI0ApP6n26QAjQCk/qfbpACNAKT+p9ukAI0ApP6n26QAjQCk/qfbpACNAKT+p9ukAI0ApP6n26QAjQCk/qfbpACNAKT+p9ukAI0ApP6n26QAjQCk/qfbpACNAKT+p9ukAI0ApP6n26QAjQCk/qfbpACNAKT+p9ukAI0ApP6n26QAjQCk/qfbpACNAKT+p9ukAI0ApP6n26QAjQCk/qfbpACNAKT+p9ukAI0ApP6n26QAjQCk/qfbpACNAKT+p9ukAI0C7XS9NEfQ7QLtdL00R9DtAu10vTRH0O0C7XS9NEfQ7QLtdL00R9DtAu10vTRH0O0C7XS9NEfQ7QLtdL00R9DtAu10vTRH0O0C7XS9NEfQ7QLtdL00R9DtAu10vTRH0O0C7XS9NEfQ7QLtdL00R9DtAu10vTRH0O0C7XS9NEfQ7QLtdL00R9DtAu10vTRH0O0C7XS9NEfQ7QLtdL00R9DtAu10vTRH0O0C7XS9NEfQ7QLtdL00R9DtAu10vTRH0O0C7XS9NEfQ7QLtdL00R9DtAu10vTRH0O0C7XS9NEfQ7QLtdL00R9DtAu10vTRH0O0C7XS9NEfQ7QLtdL00R9DtAu10vTRH0O0C7XS9NEfQ7QLtdL00R9DtAu10vTRH0O0C7XS9NEfQ7QLtdL00R9DtAu10vTRH0O0C7XS9NEfQ7QLtdL00R9DtAu10vTRH0O0C7XS9NEfQ7QLtdL00R9DtAu10vTRH0O0C7XS9NEfQ7QLtdL00R9DtAu10vTRH0O0C7XS9NEfQ7QLtdL00R9DtAu10vTRH0O0C7XS9NEfQ7QLtdL00R9DtAu10vTRH0O0C7XS9NEfQ7QLtdL00R9DtAu10vTRH0O0C7XS9NEfQ7QLtdL00R9DtAu10vTRH0O0C7XS9NEfQ7QLtdL00R9DtAu10vTRH0O0C7XS9NEfQ7QCk/qfbpACNAKT+p9ukAI0ApP6n26QAjQCk/qfbpACNAKT+p9ukAI0ApP6n26QAjQCk/qfbpACNAKT+p9ukAI0ApP6n26QAjQCk/qfbpACNAKT+p9ukAI0ApP6n26QAjQCk/qfbpACNAKT+p9ukAI0ApP6n26QAjQCk/qfbpACNAKT+p9ukAI0ApP6n26QAjQCk/qfbpACNAKT+p9ukAI0ApP6n26QAjQCk/qfbpACNAKT+p9ukAI0ApP6n26QAjQCk/qfbpACNAKT+p9ukAI0ApP6n26QAjQCk/qfbpACNAKT+p9ukAI0ApP6n26QAjQCk/qfbpACNAKT+p9ukAI0ApP6n26QAjQCk/qfbpACNAKT+p9ukAI0ApP6n26QAjQCk/qfbpACNAKT+p9ukAI0ApP6n26QAjQCk/qfbpACNAKT+p9ukAI0ApP6n26QAjQCk/qfbpACNAKT+p9ukAI0ApP6n26QAjQCk/qfbpACNAKT+p9ukAI0ApP6n26QAjQCk/qfbpACNAKT+p9ukAI0ApP6n26QAjQCk/qfbpACNAKT+p9ukAI0ApP6n26QAjQCk/qfbpACNAKT+p9ukAI0ApP6n26QAjQCk/qfbpACNAKT+p9ukAI0ApP6n26QAjQCk/qfbpACNAKT+p9ukAI0ApP6n26QAjQCk/qfbpACNAu10vTRH0O0C7XS9NEfQ7QLtdL00R9DtAu10vTRH0O0C7XS9NEfQ7QLtdL00R9DtAu10vTRH0O0C7XS9NEfQ7QLtdL00R9DtAu10vTRH0O0C7XS9NEfQ7QLtdL00R9DtAu10vTRH0O0C7XS9NEfQ7QLtdL00R9DtAu10vTRH0O0C7XS9NEfQ7QLtdL00R9DtAu10vTRH0O0C7XS9NEfQ7QLtdL00R9DtAu10vTRH0O0C7XS9NEfQ7QLtdL00R9DtAu10vTRH0O0C7XS9NEfQ7QLtdL00R9DtAu10vTRH0O0C7XS9NEfQ7QLtdL00R9DtAu10vTRH0O0C7XS9NEfQ7QLtdL00R9DtAu10vTRH0O0C7XS9NEfQ7QLtdL00R9DtAu10vTRH0O0C7XS9NEfQ7QLtdL00R9DtAu10vTRH0O0C7XS9NEfQ7QLtdL00R9DtAu10vTRH0O0C7XS9NEfQ7QLtdL00R9DtAu10vTRH0O0C7XS9NEfQ7QLtdL00R9DtAu10vTRH0O0C7XS9NEfQ7QLtdL00R9DtAu10vTRH0O0C7XS9NEfQ7QLtdL00R9DtAu10vTRH0O0C7XS9NEfQ7QLtdL00R9DtAu10vTRH0O0C7XS9NEfQ7QLtdL00R9DtAu10vTRH0O0C7XS9NEfQ7QLtdL00R9DtAu10vTRH0O0ApP6n26QAjQCk/qfbpACNAKT+p9ukAI0ApP6n26QAjQCk/qfbpACNAKT+p9ukAI0ApP6n26QAjQCk/qfbpACNAKT+p9ukAI0ApP6n26QAjQCk/qfbpACNAKT+p9ukAI0ApP6n26QAjQCk/qfbpACNAKT+p9ukAI0ApP6n26QAjQCk/qfbpACNAKT+p9ukAI0ApP6n26QAjQCk/qfbpACNAKT+p9ukAI0ApP6n26QAjQCk/qfbpACNAKT+p9ukAI0ApP6n26QAjQCk/qfbpACNAKT+p9ukAI0ApP6n26QAjQCk/qfbpACNAKT+p9ukAI0ApP6n26QAjQCk/qfbpACNAKT+p9ukAI0ApP6n26QAjQCk/qfbpACNAKT+p9ukAI0ApP6n26QAjQCk/qfbpACNAKT+p9ukAI0ApP6n26QAjQCk/qfbpACNAKT+p9ukAI0ApP6n26QAjQCk/qfbpACNAKT+p9ukAI0ApP6n26QAjQCk/qfbpACNAKT+p9ukAI0ApP6n26QAjQCk/qfbpACNAKT+p9ukAI0ApP6n26QAjQCk/qfbpACNAKT+p9ukAI0ApP6n26QAjQCk/qfbpACNAKT+p9ukAI0ApP6n26QAjQCk/qfbpACNAKT+p9ukAI0ApP6n26QAjQCk/qfbpACNAKT+p9ukAI0ApP6n26QAjQCk/qfbpACNAKT+p9ukAI0ApP6n26QAjQCk/qfbpACNAKT+p9ukAI0ApP6n26QAjQCk/qfbpACNAKT+p9ukAI0ApP6n26QAjQCk/qfbpACNAKT+p9ukAI0ApP6n26QAjQCk/qfbpACNAKT+p9ukAI0ApP6n26QAjQCk/qfbpACNAKT+p9ukAI0ApP6n26QAjQCk/qfbpACNAKT+p9ukAI0ApP6n26QAjQCk/qfbpACNAKT+p9ukAI0ApP6n26QAjQCk/qfbpACNAKT+p9ukAI0ApP6n26QAjQCk/qfbpACNAKT+p9ukAI0ApP6n26QAjQCk/qfbpACNAKT+p9ukAI0ApP6n26QAjQCk/qfbpACNAKT+p9ukAI0ApP6n26QAjQCk/qfbpACNAKT+p9ukAI0ApP6n26QAjQCk/qfbpACNA",
          "dtype": "f8"
         },
         "marker": {
          "color": {
           "bdata": "AAAAAAAAAAAAAAAAAAAAAAAAAAAAAAAAAAAAAAAAAAAAAAAAAAAAAAAAAAAAAAAAAAAAAAAAAAAAAAAAAAAAAQEBAQEBAQEBAQEBAQEBAQEBAQEBAQEBAQEBAQEBAQEBAQEBAQEBAQEBAQEBAQEBAQEBAQEBAQEBAQEBAQEBAQEBAQEBAQEBAQEBAQEBAQEBAQEBAQEBAQEBAQEBAQEBAQEBAQEBAQEBAQEBAQEBAQEBAQEBAQEBAQEBAQEBAQEAAAAAAAAAAAAAAAAAAAAAAAAAAAAAAAAAAAAAAAAAAAAAAAAAAAAAAAAAAAAAAAAAAAAAAAAAAAAAAAAAAAAAAQEBAQEBAQEBAQEBAQEBAQEBAQEBAQEBAQEBAQEBAQEBAQEBAQEBAQEBAQEBAQEBAQEBAQEBAQEBAQEBAQEBAQAAAAAAAAAAAAAAAAAAAAAAAAAAAAAAAAAAAAAAAAAAAAAAAAAAAAAAAAAAAAAAAAAAAAAAAAAAAAAAAAAAAAAAAAAAAAAAAAAAAAAAAAAAAAAAAAAAAAAAAAAAAAAAAAAAAAAAAAAAAAAAAAAAAAAAAAAAAAAAAAAAAAAAAAAAAAAAAAAAAAAAAAAAAAAAAAAAAAAAAAAAAAAAAAAAAAAAAAAAAAAAAAAAAAAAAAAAAAAAAAAAAAAAAAAAAAAAAAAAAAAAAAAAAAAAAAAAAAAAAAAAAAAAAAAAAAAAAAAAAAAAAAAAAAAAAAAAAAAAAAAAAAAAAAAAAAAAAAAAAAAAAAAAAAAAAAAAAAAAAAAAAAAAAAAAAAAAAAAAAAAAAAAAAAAAAAAAAAAAAAAAAAAAAAAAAAAAAAAAAAAAAAAAAAAAAAAAAAAAAAAAAAAAAAAAAAAAAAAAAAAAAAAAAAAAAAAAAAAAAAAAAAAAAAAAAAAAAAAAAAAAAAAAAAAAAAEBAQEBAQEBAQEBAQEBAQEBAQEBAQEBAQEBAQEBAQEBAQEBAQEBAQEBAQEBAQEBAQEBAQEBAQEBAQEBAQEBAQEAAAAAAAAAAAAAAAAAAAAAAAAAAAAAAAAAAAAAAAAAAAAAAAAAAAAAAAAAAAAAAAAAAAAAAAAAAAAAAAAAAAAAAQEBAQEBAQEBAQEBAQEBAQEBAQEBAQEBAQEBAQEBAQEBAQEBAQEBAQEBAQEBAQEBAQEBAQEBAQEBAQEBAQEBAQAAAAAAAAAAAAAAAAAAAAAAAAAAAAAAAAAAAAAAAAAAAAAAAAAAAAAAAAAAAAAAAAAAAAAAAAAAAAAAAAAAAAAAAAAAAAAAAAAAAAAAAAAAAAAAAAAAAAAAAAAAAAAAAAAAAAAAAAAA",
           "dtype": "i1"
          },
          "coloraxis": "coloraxis",
          "size": 6,
          "symbol": "circle"
         },
         "mode": "markers",
         "name": "",
         "showlegend": false,
         "type": "scattergeo"
        }
       ],
       "layout": {
        "coloraxis": {
         "colorbar": {
          "title": {
           "text": "cluster"
          }
         },
         "colorscale": [
          [
           0,
           "#0d0887"
          ],
          [
           0.1111111111111111,
           "#46039f"
          ],
          [
           0.2222222222222222,
           "#7201a8"
          ],
          [
           0.3333333333333333,
           "#9c179e"
          ],
          [
           0.4444444444444444,
           "#bd3786"
          ],
          [
           0.5555555555555556,
           "#d8576b"
          ],
          [
           0.6666666666666666,
           "#ed7953"
          ],
          [
           0.7777777777777778,
           "#fb9f3a"
          ],
          [
           0.8888888888888888,
           "#fdca26"
          ],
          [
           1,
           "#f0f921"
          ]
         ]
        },
        "geo": {
         "center": {},
         "domain": {
          "x": [
           0,
           1
          ],
          "y": [
           0,
           1
          ]
         },
         "projection": {
          "type": "natural earth"
         }
        },
        "legend": {
         "tracegroupgap": 0
        },
        "template": {
         "data": {
          "bar": [
           {
            "error_x": {
             "color": "#f2f5fa"
            },
            "error_y": {
             "color": "#f2f5fa"
            },
            "marker": {
             "line": {
              "color": "rgb(17,17,17)",
              "width": 0.5
             },
             "pattern": {
              "fillmode": "overlay",
              "size": 10,
              "solidity": 0.2
             }
            },
            "type": "bar"
           }
          ],
          "barpolar": [
           {
            "marker": {
             "line": {
              "color": "rgb(17,17,17)",
              "width": 0.5
             },
             "pattern": {
              "fillmode": "overlay",
              "size": 10,
              "solidity": 0.2
             }
            },
            "type": "barpolar"
           }
          ],
          "carpet": [
           {
            "aaxis": {
             "endlinecolor": "#A2B1C6",
             "gridcolor": "#506784",
             "linecolor": "#506784",
             "minorgridcolor": "#506784",
             "startlinecolor": "#A2B1C6"
            },
            "baxis": {
             "endlinecolor": "#A2B1C6",
             "gridcolor": "#506784",
             "linecolor": "#506784",
             "minorgridcolor": "#506784",
             "startlinecolor": "#A2B1C6"
            },
            "type": "carpet"
           }
          ],
          "choropleth": [
           {
            "colorbar": {
             "outlinewidth": 0,
             "ticks": ""
            },
            "type": "choropleth"
           }
          ],
          "contour": [
           {
            "colorbar": {
             "outlinewidth": 0,
             "ticks": ""
            },
            "colorscale": [
             [
              0,
              "#0d0887"
             ],
             [
              0.1111111111111111,
              "#46039f"
             ],
             [
              0.2222222222222222,
              "#7201a8"
             ],
             [
              0.3333333333333333,
              "#9c179e"
             ],
             [
              0.4444444444444444,
              "#bd3786"
             ],
             [
              0.5555555555555556,
              "#d8576b"
             ],
             [
              0.6666666666666666,
              "#ed7953"
             ],
             [
              0.7777777777777778,
              "#fb9f3a"
             ],
             [
              0.8888888888888888,
              "#fdca26"
             ],
             [
              1,
              "#f0f921"
             ]
            ],
            "type": "contour"
           }
          ],
          "contourcarpet": [
           {
            "colorbar": {
             "outlinewidth": 0,
             "ticks": ""
            },
            "type": "contourcarpet"
           }
          ],
          "heatmap": [
           {
            "colorbar": {
             "outlinewidth": 0,
             "ticks": ""
            },
            "colorscale": [
             [
              0,
              "#0d0887"
             ],
             [
              0.1111111111111111,
              "#46039f"
             ],
             [
              0.2222222222222222,
              "#7201a8"
             ],
             [
              0.3333333333333333,
              "#9c179e"
             ],
             [
              0.4444444444444444,
              "#bd3786"
             ],
             [
              0.5555555555555556,
              "#d8576b"
             ],
             [
              0.6666666666666666,
              "#ed7953"
             ],
             [
              0.7777777777777778,
              "#fb9f3a"
             ],
             [
              0.8888888888888888,
              "#fdca26"
             ],
             [
              1,
              "#f0f921"
             ]
            ],
            "type": "heatmap"
           }
          ],
          "histogram": [
           {
            "marker": {
             "pattern": {
              "fillmode": "overlay",
              "size": 10,
              "solidity": 0.2
             }
            },
            "type": "histogram"
           }
          ],
          "histogram2d": [
           {
            "colorbar": {
             "outlinewidth": 0,
             "ticks": ""
            },
            "colorscale": [
             [
              0,
              "#0d0887"
             ],
             [
              0.1111111111111111,
              "#46039f"
             ],
             [
              0.2222222222222222,
              "#7201a8"
             ],
             [
              0.3333333333333333,
              "#9c179e"
             ],
             [
              0.4444444444444444,
              "#bd3786"
             ],
             [
              0.5555555555555556,
              "#d8576b"
             ],
             [
              0.6666666666666666,
              "#ed7953"
             ],
             [
              0.7777777777777778,
              "#fb9f3a"
             ],
             [
              0.8888888888888888,
              "#fdca26"
             ],
             [
              1,
              "#f0f921"
             ]
            ],
            "type": "histogram2d"
           }
          ],
          "histogram2dcontour": [
           {
            "colorbar": {
             "outlinewidth": 0,
             "ticks": ""
            },
            "colorscale": [
             [
              0,
              "#0d0887"
             ],
             [
              0.1111111111111111,
              "#46039f"
             ],
             [
              0.2222222222222222,
              "#7201a8"
             ],
             [
              0.3333333333333333,
              "#9c179e"
             ],
             [
              0.4444444444444444,
              "#bd3786"
             ],
             [
              0.5555555555555556,
              "#d8576b"
             ],
             [
              0.6666666666666666,
              "#ed7953"
             ],
             [
              0.7777777777777778,
              "#fb9f3a"
             ],
             [
              0.8888888888888888,
              "#fdca26"
             ],
             [
              1,
              "#f0f921"
             ]
            ],
            "type": "histogram2dcontour"
           }
          ],
          "mesh3d": [
           {
            "colorbar": {
             "outlinewidth": 0,
             "ticks": ""
            },
            "type": "mesh3d"
           }
          ],
          "parcoords": [
           {
            "line": {
             "colorbar": {
              "outlinewidth": 0,
              "ticks": ""
             }
            },
            "type": "parcoords"
           }
          ],
          "pie": [
           {
            "automargin": true,
            "type": "pie"
           }
          ],
          "scatter": [
           {
            "marker": {
             "line": {
              "color": "#283442"
             }
            },
            "type": "scatter"
           }
          ],
          "scatter3d": [
           {
            "line": {
             "colorbar": {
              "outlinewidth": 0,
              "ticks": ""
             }
            },
            "marker": {
             "colorbar": {
              "outlinewidth": 0,
              "ticks": ""
             }
            },
            "type": "scatter3d"
           }
          ],
          "scattercarpet": [
           {
            "marker": {
             "colorbar": {
              "outlinewidth": 0,
              "ticks": ""
             }
            },
            "type": "scattercarpet"
           }
          ],
          "scattergeo": [
           {
            "marker": {
             "colorbar": {
              "outlinewidth": 0,
              "ticks": ""
             }
            },
            "type": "scattergeo"
           }
          ],
          "scattergl": [
           {
            "marker": {
             "line": {
              "color": "#283442"
             }
            },
            "type": "scattergl"
           }
          ],
          "scattermap": [
           {
            "marker": {
             "colorbar": {
              "outlinewidth": 0,
              "ticks": ""
             }
            },
            "type": "scattermap"
           }
          ],
          "scattermapbox": [
           {
            "marker": {
             "colorbar": {
              "outlinewidth": 0,
              "ticks": ""
             }
            },
            "type": "scattermapbox"
           }
          ],
          "scatterpolar": [
           {
            "marker": {
             "colorbar": {
              "outlinewidth": 0,
              "ticks": ""
             }
            },
            "type": "scatterpolar"
           }
          ],
          "scatterpolargl": [
           {
            "marker": {
             "colorbar": {
              "outlinewidth": 0,
              "ticks": ""
             }
            },
            "type": "scatterpolargl"
           }
          ],
          "scatterternary": [
           {
            "marker": {
             "colorbar": {
              "outlinewidth": 0,
              "ticks": ""
             }
            },
            "type": "scatterternary"
           }
          ],
          "surface": [
           {
            "colorbar": {
             "outlinewidth": 0,
             "ticks": ""
            },
            "colorscale": [
             [
              0,
              "#0d0887"
             ],
             [
              0.1111111111111111,
              "#46039f"
             ],
             [
              0.2222222222222222,
              "#7201a8"
             ],
             [
              0.3333333333333333,
              "#9c179e"
             ],
             [
              0.4444444444444444,
              "#bd3786"
             ],
             [
              0.5555555555555556,
              "#d8576b"
             ],
             [
              0.6666666666666666,
              "#ed7953"
             ],
             [
              0.7777777777777778,
              "#fb9f3a"
             ],
             [
              0.8888888888888888,
              "#fdca26"
             ],
             [
              1,
              "#f0f921"
             ]
            ],
            "type": "surface"
           }
          ],
          "table": [
           {
            "cells": {
             "fill": {
              "color": "#506784"
             },
             "line": {
              "color": "rgb(17,17,17)"
             }
            },
            "header": {
             "fill": {
              "color": "#2a3f5f"
             },
             "line": {
              "color": "rgb(17,17,17)"
             }
            },
            "type": "table"
           }
          ]
         },
         "layout": {
          "annotationdefaults": {
           "arrowcolor": "#f2f5fa",
           "arrowhead": 0,
           "arrowwidth": 1
          },
          "autotypenumbers": "strict",
          "coloraxis": {
           "colorbar": {
            "outlinewidth": 0,
            "ticks": ""
           }
          },
          "colorscale": {
           "diverging": [
            [
             0,
             "#8e0152"
            ],
            [
             0.1,
             "#c51b7d"
            ],
            [
             0.2,
             "#de77ae"
            ],
            [
             0.3,
             "#f1b6da"
            ],
            [
             0.4,
             "#fde0ef"
            ],
            [
             0.5,
             "#f7f7f7"
            ],
            [
             0.6,
             "#e6f5d0"
            ],
            [
             0.7,
             "#b8e186"
            ],
            [
             0.8,
             "#7fbc41"
            ],
            [
             0.9,
             "#4d9221"
            ],
            [
             1,
             "#276419"
            ]
           ],
           "sequential": [
            [
             0,
             "#0d0887"
            ],
            [
             0.1111111111111111,
             "#46039f"
            ],
            [
             0.2222222222222222,
             "#7201a8"
            ],
            [
             0.3333333333333333,
             "#9c179e"
            ],
            [
             0.4444444444444444,
             "#bd3786"
            ],
            [
             0.5555555555555556,
             "#d8576b"
            ],
            [
             0.6666666666666666,
             "#ed7953"
            ],
            [
             0.7777777777777778,
             "#fb9f3a"
            ],
            [
             0.8888888888888888,
             "#fdca26"
            ],
            [
             1,
             "#f0f921"
            ]
           ],
           "sequentialminus": [
            [
             0,
             "#0d0887"
            ],
            [
             0.1111111111111111,
             "#46039f"
            ],
            [
             0.2222222222222222,
             "#7201a8"
            ],
            [
             0.3333333333333333,
             "#9c179e"
            ],
            [
             0.4444444444444444,
             "#bd3786"
            ],
            [
             0.5555555555555556,
             "#d8576b"
            ],
            [
             0.6666666666666666,
             "#ed7953"
            ],
            [
             0.7777777777777778,
             "#fb9f3a"
            ],
            [
             0.8888888888888888,
             "#fdca26"
            ],
            [
             1,
             "#f0f921"
            ]
           ]
          },
          "colorway": [
           "#636efa",
           "#EF553B",
           "#00cc96",
           "#ab63fa",
           "#FFA15A",
           "#19d3f3",
           "#FF6692",
           "#B6E880",
           "#FF97FF",
           "#FECB52"
          ],
          "font": {
           "color": "#f2f5fa"
          },
          "geo": {
           "bgcolor": "rgb(17,17,17)",
           "lakecolor": "rgb(17,17,17)",
           "landcolor": "rgb(17,17,17)",
           "showlakes": true,
           "showland": true,
           "subunitcolor": "#506784"
          },
          "hoverlabel": {
           "align": "left"
          },
          "hovermode": "closest",
          "mapbox": {
           "style": "dark"
          },
          "paper_bgcolor": "rgb(17,17,17)",
          "plot_bgcolor": "rgb(17,17,17)",
          "polar": {
           "angularaxis": {
            "gridcolor": "#506784",
            "linecolor": "#506784",
            "ticks": ""
           },
           "bgcolor": "rgb(17,17,17)",
           "radialaxis": {
            "gridcolor": "#506784",
            "linecolor": "#506784",
            "ticks": ""
           }
          },
          "scene": {
           "xaxis": {
            "backgroundcolor": "rgb(17,17,17)",
            "gridcolor": "#506784",
            "gridwidth": 2,
            "linecolor": "#506784",
            "showbackground": true,
            "ticks": "",
            "zerolinecolor": "#C8D4E3"
           },
           "yaxis": {
            "backgroundcolor": "rgb(17,17,17)",
            "gridcolor": "#506784",
            "gridwidth": 2,
            "linecolor": "#506784",
            "showbackground": true,
            "ticks": "",
            "zerolinecolor": "#C8D4E3"
           },
           "zaxis": {
            "backgroundcolor": "rgb(17,17,17)",
            "gridcolor": "#506784",
            "gridwidth": 2,
            "linecolor": "#506784",
            "showbackground": true,
            "ticks": "",
            "zerolinecolor": "#C8D4E3"
           }
          },
          "shapedefaults": {
           "line": {
            "color": "#f2f5fa"
           }
          },
          "sliderdefaults": {
           "bgcolor": "#C8D4E3",
           "bordercolor": "rgb(17,17,17)",
           "borderwidth": 1,
           "tickwidth": 0
          },
          "ternary": {
           "aaxis": {
            "gridcolor": "#506784",
            "linecolor": "#506784",
            "ticks": ""
           },
           "baxis": {
            "gridcolor": "#506784",
            "linecolor": "#506784",
            "ticks": ""
           },
           "bgcolor": "rgb(17,17,17)",
           "caxis": {
            "gridcolor": "#506784",
            "linecolor": "#506784",
            "ticks": ""
           }
          },
          "title": {
           "x": 0.05
          },
          "updatemenudefaults": {
           "bgcolor": "#506784",
           "borderwidth": 0
          },
          "xaxis": {
           "automargin": true,
           "gridcolor": "#283442",
           "linecolor": "#506784",
           "ticks": "",
           "title": {
            "standoff": 15
           },
           "zerolinecolor": "#283442",
           "zerolinewidth": 2
          },
          "yaxis": {
           "automargin": true,
           "gridcolor": "#283442",
           "linecolor": "#506784",
           "ticks": "",
           "title": {
            "standoff": 15
           },
           "zerolinecolor": "#283442",
           "zerolinewidth": 2
          }
         }
        },
        "title": {
         "text": "COVID-19 Clusters on World Map"
        }
       }
      }
     },
     "metadata": {},
     "output_type": "display_data"
    }
   ],
   "source": [
    "fig = px.scatter_geo(\n",
    "    pdf_sample,\n",
    "    lat=\"lat\",\n",
    "    lon=\"lon\",\n",
    "    color=\"cluster\",  # Requires that clustering step has been done\n",
    "    hover_name=\"cluster\",\n",
    "    title=\"COVID-19 Clusters on World Map\",\n",
    "    projection=\"natural earth\",\n",
    "    template=\"plotly_dark\"\n",
    ")\n",
    "fig.update_traces(marker=dict(size=6))\n",
    "fig.show()"
   ]
  },
  {
   "cell_type": "code",
   "execution_count": 55,
   "id": "383eda4a",
   "metadata": {},
   "outputs": [
    {
     "data": {
      "application/vnd.plotly.v1+json": {
       "config": {
        "plotlyServerURL": "https://plot.ly"
       },
       "data": [
        {
         "geo": "geo",
         "hovertemplate": "lat=%{lat}<br>lon=%{lon}<br>velocity_km_per_day=%{marker.color}<extra></extra>",
         "lat": {
          "bdata": "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",
          "dtype": "f8"
         },
         "legendgroup": "",
         "lon": {
          "bdata": "KT+p9ukAI0ApP6n26QAjQCk/qfbpACNAKT+p9ukAI0ApP6n26QAjQCk/qfbpACNAKT+p9ukAI0ApP6n26QAjQCk/qfbpACNAKT+p9ukAI0ApP6n26QAjQCk/qfbpACNAKT+p9ukAI0ApP6n26QAjQCk/qfbpACNAKT+p9ukAI0ApP6n26QAjQCk/qfbpACNAKT+p9ukAI0ApP6n26QAjQCk/qfbpACNAKT+p9ukAI0ApP6n26QAjQCk/qfbpACNAKT+p9ukAI0ApP6n26QAjQCk/qfbpACNAKT+p9ukAI0ApP6n26QAjQCk/qfbpACNAKT+p9ukAI0ApP6n26QAjQCk/qfbpACNAKT+p9ukAI0ApP6n26QAjQCk/qfbpACNAKT+p9ukAI0ApP6n26QAjQCk/qfbpACNAKT+p9ukAI0ApP6n26QAjQCk/qfbpACNAKT+p9ukAI0ApP6n26QAjQCk/qfbpACNAKT+p9ukAI0ApP6n26QAjQCk/qfbpACNAKT+p9ukAI0ApP6n26QAjQCk/qfbpACNAKT+p9ukAI0ApP6n26QAjQCk/qfbpACNAKT+p9ukAI0ApP6n26QAjQCk/qfbpACNAKT+p9ukAI0ApP6n26QAjQCk/qfbpACNAKT+p9ukAI0ApP6n26QAjQCk/qfbpACNAu10vTRH0O0C7XS9NEfQ7QLtdL00R9DtAu10vTRH0O0C7XS9NEfQ7QLtdL00R9DtAu10vTRH0O0C7XS9NEfQ7QLtdL00R9DtAu10vTRH0O0C7XS9NEfQ7QLtdL00R9DtAu10vTRH0O0C7XS9NEfQ7QLtdL00R9DtAu10vTRH0O0C7XS9NEfQ7QLtdL00R9DtAu10vTRH0O0C7XS9NEfQ7QLtdL00R9DtAu10vTRH0O0C7XS9NEfQ7QLtdL00R9DtAu10vTRH0O0C7XS9NEfQ7QLtdL00R9DtAu10vTRH0O0C7XS9NEfQ7QLtdL00R9DtAu10vTRH0O0C7XS9NEfQ7QLtdL00R9DtAu10vTRH0O0C7XS9NEfQ7QLtdL00R9DtAu10vTRH0O0C7XS9NEfQ7QLtdL00R9DtAu10vTRH0O0C7XS9NEfQ7QLtdL00R9DtAu10vTRH0O0C7XS9NEfQ7QLtdL00R9DtAu10vTRH0O0C7XS9NEfQ7QLtdL00R9DtAu10vTRH0O0C7XS9NEfQ7QLtdL00R9DtAu10vTRH0O0C7XS9NEfQ7QLtdL00R9DtAu10vTRH0O0C7XS9NEfQ7QLtdL00R9DtAu10vTRH0O0C7XS9NEfQ7QLtdL00R9DtAu10vTRH0O0C7XS9NEfQ7QLtdL00R9DtAu10vTRH0O0C7XS9NEfQ7QLtdL00R9DtAu10vTRH0O0C7XS9NEfQ7QLtdL00R9DtAu10vTRH0O0C7XS9NEfQ7QLtdL00R9DtAu10vTRH0O0C7XS9NEfQ7QLtdL00R9DtAu10vTRH0O0C7XS9NEfQ7QLtdL00R9DtAu10vTRH0O0C7XS9NEfQ7QLtdL00R9DtAu10vTRH0O0C7XS9NEfQ7QLtdL00R9DtAu10vTRH0O0C7XS9NEfQ7QLtdL00R9DtAu10vTRH0O0C7XS9NEfQ7QLtdL00R9DtAu10vTRH0O0C7XS9NEfQ7QLtdL00R9DtAu10vTRH0O0C7XS9NEfQ7QLtdL00R9DtAu10vTRH0O0C7XS9NEfQ7QLtdL00R9DtAu10vTRH0O0C7XS9NEfQ7QLtdL00R9DtAu10vTRH0O0C7XS9NEfQ7QLtdL00R9DtAu10vTRH0O0C7XS9NEfQ7QLtdL00R9DtAu10vTRH0O0C7XS9NEfQ7QLtdL00R9DtAu10vTRH0O0C7XS9NEfQ7QLtdL00R9DtAu10vTRH0O0C7XS9NEfQ7QLtdL00R9DtAu10vTRH0O0C7XS9NEfQ7QLtdL00R9DtAu10vTRH0O0C7XS9NEfQ7QLtdL00R9DtAu10vTRH0O0C7XS9NEfQ7QLtdL00R9DtAu10vTRH0O0C7XS9NEfQ7QCk/qfbpACNAKT+p9ukAI0ApP6n26QAjQCk/qfbpACNAKT+p9ukAI0ApP6n26QAjQCk/qfbpACNAKT+p9ukAI0ApP6n26QAjQCk/qfbpACNAKT+p9ukAI0ApP6n26QAjQCk/qfbpACNAKT+p9ukAI0ApP6n26QAjQCk/qfbpACNAKT+p9ukAI0ApP6n26QAjQCk/qfbpACNAKT+p9ukAI0ApP6n26QAjQCk/qfbpACNAKT+p9ukAI0ApP6n26QAjQCk/qfbpACNAKT+p9ukAI0ApP6n26QAjQCk/qfbpACNAKT+p9ukAI0ApP6n26QAjQCk/qfbpACNAKT+p9ukAI0ApP6n26QAjQCk/qfbpACNAKT+p9ukAI0ApP6n26QAjQCk/qfbpACNAKT+p9ukAI0ApP6n26QAjQCk/qfbpACNAKT+p9ukAI0ApP6n26QAjQCk/qfbpACNAKT+p9ukAI0ApP6n26QAjQCk/qfbpACNAKT+p9ukAI0ApP6n26QAjQCk/qfbpACNAKT+p9ukAI0ApP6n26QAjQCk/qfbpACNAKT+p9ukAI0ApP6n26QAjQCk/qfbpACNAKT+p9ukAI0ApP6n26QAjQCk/qfbpACNAKT+p9ukAI0ApP6n26QAjQCk/qfbpACNAKT+p9ukAI0ApP6n26QAjQCk/qfbpACNAu10vTRH0O0C7XS9NEfQ7QLtdL00R9DtAu10vTRH0O0C7XS9NEfQ7QLtdL00R9DtAu10vTRH0O0C7XS9NEfQ7QLtdL00R9DtAu10vTRH0O0C7XS9NEfQ7QLtdL00R9DtAu10vTRH0O0C7XS9NEfQ7QLtdL00R9DtAu10vTRH0O0C7XS9NEfQ7QLtdL00R9DtAu10vTRH0O0C7XS9NEfQ7QLtdL00R9DtAu10vTRH0O0C7XS9NEfQ7QLtdL00R9DtAu10vTRH0O0C7XS9NEfQ7QLtdL00R9DtAu10vTRH0O0C7XS9NEfQ7QLtdL00R9DtAu10vTRH0O0C7XS9NEfQ7QLtdL00R9DtAu10vTRH0O0C7XS9NEfQ7QLtdL00R9DtAu10vTRH0O0C7XS9NEfQ7QLtdL00R9DtAu10vTRH0O0C7XS9NEfQ7QLtdL00R9DtAu10vTRH0O0C7XS9NEfQ7QLtdL00R9DtAu10vTRH0O0C7XS9NEfQ7QLtdL00R9DtAu10vTRH0O0C7XS9NEfQ7QLtdL00R9DtAu10vTRH0O0C7XS9NEfQ7QLtdL00R9DtAu10vTRH0O0C7XS9NEfQ7QLtdL00R9DtAu10vTRH0O0C7XS9NEfQ7QLtdL00R9DtAu10vTRH0O0C7XS9NEfQ7QLtdL00R9DtAu10vTRH0O0ApP6n26QAjQCk/qfbpACNAKT+p9ukAI0ApP6n26QAjQCk/qfbpACNAKT+p9ukAI0ApP6n26QAjQCk/qfbpACNAKT+p9ukAI0ApP6n26QAjQCk/qfbpACNAKT+p9ukAI0ApP6n26QAjQCk/qfbpACNAKT+p9ukAI0ApP6n26QAjQCk/qfbpACNAKT+p9ukAI0ApP6n26QAjQCk/qfbpACNAKT+p9ukAI0ApP6n26QAjQCk/qfbpACNAKT+p9ukAI0ApP6n26QAjQCk/qfbpACNAKT+p9ukAI0ApP6n26QAjQCk/qfbpACNAKT+p9ukAI0ApP6n26QAjQCk/qfbpACNAKT+p9ukAI0ApP6n26QAjQCk/qfbpACNAKT+p9ukAI0ApP6n26QAjQCk/qfbpACNAKT+p9ukAI0ApP6n26QAjQCk/qfbpACNAKT+p9ukAI0ApP6n26QAjQCk/qfbpACNAKT+p9ukAI0ApP6n26QAjQCk/qfbpACNAKT+p9ukAI0ApP6n26QAjQCk/qfbpACNAKT+p9ukAI0ApP6n26QAjQCk/qfbpACNAKT+p9ukAI0ApP6n26QAjQCk/qfbpACNAKT+p9ukAI0ApP6n26QAjQCk/qfbpACNAKT+p9ukAI0ApP6n26QAjQCk/qfbpACNAKT+p9ukAI0ApP6n26QAjQCk/qfbpACNAKT+p9ukAI0ApP6n26QAjQCk/qfbpACNAKT+p9ukAI0ApP6n26QAjQCk/qfbpACNAKT+p9ukAI0ApP6n26QAjQCk/qfbpACNAKT+p9ukAI0ApP6n26QAjQCk/qfbpACNAKT+p9ukAI0ApP6n26QAjQCk/qfbpACNAKT+p9ukAI0ApP6n26QAjQCk/qfbpACNAKT+p9ukAI0ApP6n26QAjQCk/qfbpACNAKT+p9ukAI0ApP6n26QAjQCk/qfbpACNAKT+p9ukAI0ApP6n26QAjQCk/qfbpACNAKT+p9ukAI0ApP6n26QAjQCk/qfbpACNAKT+p9ukAI0ApP6n26QAjQCk/qfbpACNAKT+p9ukAI0ApP6n26QAjQCk/qfbpACNAKT+p9ukAI0ApP6n26QAjQCk/qfbpACNAKT+p9ukAI0ApP6n26QAjQCk/qfbpACNAKT+p9ukAI0ApP6n26QAjQCk/qfbpACNAKT+p9ukAI0ApP6n26QAjQCk/qfbpACNAKT+p9ukAI0ApP6n26QAjQCk/qfbpACNAKT+p9ukAI0ApP6n26QAjQCk/qfbpACNAKT+p9ukAI0ApP6n26QAjQCk/qfbpACNAKT+p9ukAI0ApP6n26QAjQCk/qfbpACNAKT+p9ukAI0ApP6n26QAjQCk/qfbpACNAKT+p9ukAI0ApP6n26QAjQCk/qfbpACNAKT+p9ukAI0ApP6n26QAjQCk/qfbpACNAKT+p9ukAI0ApP6n26QAjQCk/qfbpACNAKT+p9ukAI0ApP6n26QAjQCk/qfbpACNAKT+p9ukAI0ApP6n26QAjQCk/qfbpACNAKT+p9ukAI0ApP6n26QAjQCk/qfbpACNAKT+p9ukAI0ApP6n26QAjQCk/qfbpACNAKT+p9ukAI0ApP6n26QAjQCk/qfbpACNAKT+p9ukAI0ApP6n26QAjQCk/qfbpACNAKT+p9ukAI0ApP6n26QAjQCk/qfbpACNAKT+p9ukAI0ApP6n26QAjQCk/qfbpACNAKT+p9ukAI0ApP6n26QAjQCk/qfbpACNAKT+p9ukAI0ApP6n26QAjQCk/qfbpACNAKT+p9ukAI0ApP6n26QAjQCk/qfbpACNAKT+p9ukAI0ApP6n26QAjQCk/qfbpACNAKT+p9ukAI0ApP6n26QAjQCk/qfbpACNAKT+p9ukAI0ApP6n26QAjQCk/qfbpACNAKT+p9ukAI0ApP6n26QAjQCk/qfbpACNAKT+p9ukAI0ApP6n26QAjQCk/qfbpACNAKT+p9ukAI0ApP6n26QAjQCk/qfbpACNAKT+p9ukAI0ApP6n26QAjQCk/qfbpACNAKT+p9ukAI0ApP6n26QAjQCk/qfbpACNAKT+p9ukAI0ApP6n26QAjQCk/qfbpACNAKT+p9ukAI0ApP6n26QAjQCk/qfbpACNAKT+p9ukAI0ApP6n26QAjQCk/qfbpACNAKT+p9ukAI0ApP6n26QAjQCk/qfbpACNAKT+p9ukAI0ApP6n26QAjQCk/qfbpACNAKT+p9ukAI0ApP6n26QAjQCk/qfbpACNAKT+p9ukAI0ApP6n26QAjQCk/qfbpACNAKT+p9ukAI0ApP6n26QAjQCk/qfbpACNAKT+p9ukAI0ApP6n26QAjQCk/qfbpACNAKT+p9ukAI0ApP6n26QAjQCk/qfbpACNAKT+p9ukAI0ApP6n26QAjQCk/qfbpACNAKT+p9ukAI0ApP6n26QAjQCk/qfbpACNAKT+p9ukAI0ApP6n26QAjQCk/qfbpACNAKT+p9ukAI0ApP6n26QAjQCk/qfbpACNAKT+p9ukAI0ApP6n26QAjQCk/qfbpACNAKT+p9ukAI0ApP6n26QAjQCk/qfbpACNAKT+p9ukAI0ApP6n26QAjQCk/qfbpACNAKT+p9ukAI0ApP6n26QAjQCk/qfbpACNAKT+p9ukAI0ApP6n26QAjQCk/qfbpACNAKT+p9ukAI0ApP6n26QAjQCk/qfbpACNAKT+p9ukAI0ApP6n26QAjQCk/qfbpACNAKT+p9ukAI0ApP6n26QAjQCk/qfbpACNAKT+p9ukAI0ApP6n26QAjQCk/qfbpACNAKT+p9ukAI0ApP6n26QAjQCk/qfbpACNAKT+p9ukAI0ApP6n26QAjQCk/qfbpACNAKT+p9ukAI0ApP6n26QAjQCk/qfbpACNAKT+p9ukAI0ApP6n26QAjQCk/qfbpACNAKT+p9ukAI0ApP6n26QAjQCk/qfbpACNAKT+p9ukAI0ApP6n26QAjQCk/qfbpACNAKT+p9ukAI0ApP6n26QAjQCk/qfbpACNAKT+p9ukAI0ApP6n26QAjQCk/qfbpACNAKT+p9ukAI0ApP6n26QAjQCk/qfbpACNAKT+p9ukAI0ApP6n26QAjQCk/qfbpACNAKT+p9ukAI0ApP6n26QAjQCk/qfbpACNAKT+p9ukAI0ApP6n26QAjQCk/qfbpACNAKT+p9ukAI0ApP6n26QAjQCk/qfbpACNAKT+p9ukAI0ApP6n26QAjQCk/qfbpACNAKT+p9ukAI0ApP6n26QAjQCk/qfbpACNAKT+p9ukAI0ApP6n26QAjQCk/qfbpACNAKT+p9ukAI0ApP6n26QAjQCk/qfbpACNAKT+p9ukAI0ApP6n26QAjQCk/qfbpACNAKT+p9ukAI0ApP6n26QAjQCk/qfbpACNAKT+p9ukAI0ApP6n26QAjQCk/qfbpACNAKT+p9ukAI0ApP6n26QAjQCk/qfbpACNAKT+p9ukAI0ApP6n26QAjQCk/qfbpACNAKT+p9ukAI0ApP6n26QAjQCk/qfbpACNAKT+p9ukAI0ApP6n26QAjQCk/qfbpACNAKT+p9ukAI0ApP6n26QAjQCk/qfbpACNAKT+p9ukAI0ApP6n26QAjQCk/qfbpACNAKT+p9ukAI0ApP6n26QAjQCk/qfbpACNAKT+p9ukAI0ApP6n26QAjQCk/qfbpACNAKT+p9ukAI0ApP6n26QAjQCk/qfbpACNAKT+p9ukAI0ApP6n26QAjQCk/qfbpACNAKT+p9ukAI0ApP6n26QAjQCk/qfbpACNAKT+p9ukAI0ApP6n26QAjQCk/qfbpACNAKT+p9ukAI0ApP6n26QAjQCk/qfbpACNAKT+p9ukAI0ApP6n26QAjQCk/qfbpACNAKT+p9ukAI0ApP6n26QAjQCk/qfbpACNAKT+p9ukAI0ApP6n26QAjQCk/qfbpACNAKT+p9ukAI0ApP6n26QAjQCk/qfbpACNAKT+p9ukAI0ApP6n26QAjQCk/qfbpACNAKT+p9ukAI0ApP6n26QAjQCk/qfbpACNAKT+p9ukAI0ApP6n26QAjQCk/qfbpACNAKT+p9ukAI0C7XS9NEfQ7QLtdL00R9DtAu10vTRH0O0C7XS9NEfQ7QLtdL00R9DtAu10vTRH0O0C7XS9NEfQ7QLtdL00R9DtAu10vTRH0O0C7XS9NEfQ7QLtdL00R9DtAu10vTRH0O0C7XS9NEfQ7QLtdL00R9DtAu10vTRH0O0C7XS9NEfQ7QLtdL00R9DtAu10vTRH0O0C7XS9NEfQ7QLtdL00R9DtAu10vTRH0O0C7XS9NEfQ7QLtdL00R9DtAu10vTRH0O0C7XS9NEfQ7QLtdL00R9DtAu10vTRH0O0C7XS9NEfQ7QLtdL00R9DtAu10vTRH0O0C7XS9NEfQ7QLtdL00R9DtAu10vTRH0O0C7XS9NEfQ7QLtdL00R9DtAu10vTRH0O0C7XS9NEfQ7QLtdL00R9DtAu10vTRH0O0C7XS9NEfQ7QLtdL00R9DtAu10vTRH0O0C7XS9NEfQ7QLtdL00R9DtAu10vTRH0O0C7XS9NEfQ7QLtdL00R9DtAu10vTRH0O0C7XS9NEfQ7QLtdL00R9DtAu10vTRH0O0C7XS9NEfQ7QLtdL00R9DtAu10vTRH0O0C7XS9NEfQ7QLtdL00R9DtAu10vTRH0O0C7XS9NEfQ7QLtdL00R9DtAu10vTRH0O0C7XS9NEfQ7QLtdL00R9DtAu10vTRH0O0C7XS9NEfQ7QCk/qfbpACNAKT+p9ukAI0ApP6n26QAjQCk/qfbpACNAKT+p9ukAI0ApP6n26QAjQCk/qfbpACNAKT+p9ukAI0ApP6n26QAjQCk/qfbpACNAKT+p9ukAI0ApP6n26QAjQCk/qfbpACNAKT+p9ukAI0ApP6n26QAjQCk/qfbpACNAKT+p9ukAI0ApP6n26QAjQCk/qfbpACNAKT+p9ukAI0ApP6n26QAjQCk/qfbpACNAKT+p9ukAI0ApP6n26QAjQCk/qfbpACNAKT+p9ukAI0ApP6n26QAjQCk/qfbpACNAKT+p9ukAI0ApP6n26QAjQCk/qfbpACNAKT+p9ukAI0ApP6n26QAjQCk/qfbpACNAKT+p9ukAI0ApP6n26QAjQCk/qfbpACNAKT+p9ukAI0ApP6n26QAjQCk/qfbpACNAKT+p9ukAI0ApP6n26QAjQCk/qfbpACNAKT+p9ukAI0ApP6n26QAjQCk/qfbpACNAKT+p9ukAI0ApP6n26QAjQCk/qfbpACNAKT+p9ukAI0ApP6n26QAjQCk/qfbpACNAKT+p9ukAI0ApP6n26QAjQCk/qfbpACNAKT+p9ukAI0ApP6n26QAjQCk/qfbpACNAKT+p9ukAI0ApP6n26QAjQCk/qfbpACNAKT+p9ukAI0ApP6n26QAjQCk/qfbpACNAu10vTRH0O0C7XS9NEfQ7QLtdL00R9DtAu10vTRH0O0C7XS9NEfQ7QLtdL00R9DtAu10vTRH0O0C7XS9NEfQ7QLtdL00R9DtAu10vTRH0O0C7XS9NEfQ7QLtdL00R9DtAu10vTRH0O0C7XS9NEfQ7QLtdL00R9DtAu10vTRH0O0C7XS9NEfQ7QLtdL00R9DtAu10vTRH0O0C7XS9NEfQ7QLtdL00R9DtAu10vTRH0O0C7XS9NEfQ7QLtdL00R9DtAu10vTRH0O0C7XS9NEfQ7QLtdL00R9DtAu10vTRH0O0C7XS9NEfQ7QLtdL00R9DtAu10vTRH0O0C7XS9NEfQ7QLtdL00R9DtAu10vTRH0O0C7XS9NEfQ7QLtdL00R9DtAu10vTRH0O0C7XS9NEfQ7QLtdL00R9DtAu10vTRH0O0C7XS9NEfQ7QLtdL00R9DtAu10vTRH0O0C7XS9NEfQ7QLtdL00R9DtAu10vTRH0O0C7XS9NEfQ7QLtdL00R9DtAu10vTRH0O0C7XS9NEfQ7QLtdL00R9DtAu10vTRH0O0C7XS9NEfQ7QLtdL00R9DtAu10vTRH0O0C7XS9NEfQ7QLtdL00R9DtAu10vTRH0O0C7XS9NEfQ7QLtdL00R9DtAu10vTRH0O0C7XS9NEfQ7QLtdL00R9DtAu10vTRH0O0ApP6n26QAjQCk/qfbpACNAKT+p9ukAI0ApP6n26QAjQCk/qfbpACNAKT+p9ukAI0ApP6n26QAjQCk/qfbpACNAKT+p9ukAI0ApP6n26QAjQCk/qfbpACNAKT+p9ukAI0ApP6n26QAjQCk/qfbpACNAKT+p9ukAI0ApP6n26QAjQCk/qfbpACNAKT+p9ukAI0ApP6n26QAjQCk/qfbpACNAKT+p9ukAI0ApP6n26QAjQCk/qfbpACNAKT+p9ukAI0ApP6n26QAjQCk/qfbpACNAKT+p9ukAI0ApP6n26QAjQCk/qfbpACNAKT+p9ukAI0ApP6n26QAjQCk/qfbpACNAKT+p9ukAI0ApP6n26QAjQCk/qfbpACNAKT+p9ukAI0ApP6n26QAjQCk/qfbpACNAKT+p9ukAI0ApP6n26QAjQCk/qfbpACNAKT+p9ukAI0ApP6n26QAjQCk/qfbpACNAKT+p9ukAI0ApP6n26QAjQCk/qfbpACNAKT+p9ukAI0ApP6n26QAjQCk/qfbpACNAKT+p9ukAI0ApP6n26QAjQCk/qfbpACNAKT+p9ukAI0ApP6n26QAjQCk/qfbpACNAKT+p9ukAI0ApP6n26QAjQCk/qfbpACNAKT+p9ukAI0ApP6n26QAjQCk/qfbpACNAKT+p9ukAI0ApP6n26QAjQCk/qfbpACNAKT+p9ukAI0ApP6n26QAjQCk/qfbpACNAKT+p9ukAI0ApP6n26QAjQCk/qfbpACNAKT+p9ukAI0ApP6n26QAjQCk/qfbpACNAKT+p9ukAI0ApP6n26QAjQCk/qfbpACNAKT+p9ukAI0ApP6n26QAjQCk/qfbpACNAKT+p9ukAI0ApP6n26QAjQCk/qfbpACNAKT+p9ukAI0ApP6n26QAjQCk/qfbpACNAKT+p9ukAI0ApP6n26QAjQCk/qfbpACNAKT+p9ukAI0ApP6n26QAjQCk/qfbpACNAKT+p9ukAI0ApP6n26QAjQCk/qfbpACNAKT+p9ukAI0ApP6n26QAjQCk/qfbpACNAKT+p9ukAI0ApP6n26QAjQCk/qfbpACNAKT+p9ukAI0ApP6n26QAjQCk/qfbpACNA",
          "dtype": "f8"
         },
         "marker": {
          "color": {
           "bdata": "AAAAAAAAAAAAAAAAAAAAAAAAAAAAAAAAAAAAAAAAAAAAAAAAAAAAAAAAAAAAAAAAAAAAAAAAAAAAAAAAAAAAAAAAAAAAAAAAAAAAAAAAAAAAAAAAAAAAAAAAAAAAAAAAAAAAAAAAAAAAAAAAAAAAAAAAAAAAAAAAAAAAAAAAAAAAAAAAAAAAAAAAAAAAAAAAAAAAAAAAAAAAAAAAAAAAAAAAAAAAAAAAAAAAAAAAAAAAAAAAAAAAAAAAAAAAAAAAAAAAAAAAAAAAAAAAAAAAAAAAAAAAAAAAAAAAAAAAAAAAAAAAAAAAAAAAAAAAAAAAAAAAAAAAAAAAAAAAAAAAAAAAAAAAAAAAAAAAAAAAAAAAAAAAAAAAAAAAAAAAAAAAAAAAAAAAAAAAAAAAAAAAAAAAAAAAAAAAAAAAAAAAAAAAAAAAAAAAAAAAAAAAAAAAAAAAAAAAAAAAAAAAAAAAAAAAAAAAAAAAAAAAAAAAAAAAAAAAAAAAAAAAAAAAAAAAAAAAAAAAAAAAAAAAAAAAAAAAAAAAAAAAAAAAAAAAAAAAAAAAAAAAAAAAAAAAAAAAAAAAAAAAAAAAAAAAAAAAAAAAAAAAAAAAAAAAAAAAAAAAAAAAAAAAAAAAAAAAAAAAAAAAAAAAAAAAAAAAAAAAAAAAAAAAAAAAU1f5juzbkkAAAAAAAAAAAAAAAAAAAAAAAAAAAAAAAAAAAAAAAAAAAAAAAAAAAAAAAAAAAAAAAAAAAAAAAAAAAAAAAAAAAAAAAAAAAAAAAAAAAAAAAAAAAAAAAAAAAAAAAAAAAAAAAAAAAAAAAAAAAAAAAAAAAAAAAAAAAAAAAAAAAAAAAAAAAAAAAAAAAAAAAAAAAAAAAAAAAAAAAAAAAAAAAAAAAAAAAAAAAAAAAAAAAAAAAAAAAAAAAAAAAAAAAAAAAAAAAAAAAAAAAAAAAAAAAAAAAAAAAAAAAAAAAAAAAAAAAAAAAAAAAAAAAAAAAAAAAAAAAAAAAAAAAAAAAAAAAAAAAAAAAAAAAAAAAAAAAAAAAAAAAAAAAAAAAAAAAAAAAAAAAAAAAAAAAAAAAAAAAAAAAAAAAAAAAAAAAAAAAAAAAAAAAAAAAAAAAAAAAAAAAAAAAAAAAAAAAAAAAAAAAAAAAAAAAAAAAAAAAAAAAAAAAAAAAAAAAAAAAAAAAAAAAAAAAAAAAAAAAAAAAAAAAAAAAAAAAAAAAAAAAAAAAAAAAAAAAAAAAAAAAAAAAAAAAAAAAAAAAAAAAAAAAAAAAAAAAAAAAAAAAAAAAAAAAAAAAAAAAAAAAAAAAAAAAAAAAAAAAAAAAAAAAAAAAAAAAAAAAAAAAAAAAAAAAAAAAAAAAAAAAAAAAAAAAAAAAAAAAAAAAAAAAAAAAAAAAAAAAAAAAAAAAAAAAAAAAAAAAAAAAAAAAAAAAAAAAAAAAAAAAAAAAAAAAAAAAAAAAAAAAAAAAAAAAAAAAAAAAAAAAAAAAAAAAAAAAAAAAAAAAAAAAAAAAAAAAAAAAAAAAAAAAAAAAAAAAAAAAAAAAAAAAAAAAAAAAAAAAAAAAAAAAAAAAAAAAAAAAAAAAAAAAAAAAAAAAAAAAAAAAAAAAAAAAAAAAAAAAAAAAAAAAAAAAAAAAAAAAAAAAAAAAAAAAAAAAAAAAAAAAAAAAAAAAAAAAAAAAAAAAAAAAAAAAAAAAAAAAAAAAAAAAAAAAAAAAAAAAAAAAAAAAAAAAAAAAAAAAAAAAAAAAAAAAAAAAAAAAAAAAAAAAAAAAAAAAAAAAAAAAAAAAAAAAAAAAAAAAAAAAAAAAAAAAAAAAAAAAAAAAAAAAAAAAAAAAAAAAAAAAAAAAAAAAAAAAAAAAAAAAAAAAAAAAAAAAAAAAAAAAAAAAAAAAAAAAAAAAAAAAAAAAAAAAAAAAAAAAAAAAAAAAAAAAAAAAAAAAAAAAAAAAAAAAAAAAAAAAAAAAAAAAAAAAAAAAAAAAAAAAAAAAAAAAAAAAAAAAAAAAAAAAAAAAAAAAAAAAAAAAAAAAAAAAAAAAFNX+Y7s25JAAAAAAAAAAAAAAAAAAAAAAAAAAAAAAAAAAAAAAAAAAAAAAAAAAAAAAAAAAAAAAAAAAAAAAAAAAAAAAAAAAAAAAAAAAAAAAAAAAAAAAAAAAAAAAAAAAAAAAAAAAAAAAAAAAAAAAAAAAAAAAAAAAAAAAAAAAAAAAAAAAAAAAAAAAAAAAAAAAAAAAAAAAAAAAAAAAAAAAAAAAAAAAAAAAAAAAAAAAAAAAAAAAAAAAAAAAAAAAAAAAAAAAAAAAAAAAAAAAAAAAAAAAAAAAAAAAAAAAAAAAAAAAAAAAAAAAAAAAAAAAAAAAAAAAAAAAAAAAAAAAAAAAAAAAAAAAAAAAAAAAAAAAAAAAAAAAAAAAAAAAAAAAAAAAAAAAAAAAAAAAAAAAAAAAAAAAAAAAAAAAAAAAAAAAAAAAAAAAAAAAAAAAAAAAAAAAAAAAAAAAAAAAAAAAAAAAAAAAAAAAAAAAAAAAAAAAAAAAAAAAAAAAAAAAAAAAAAAAAAAAAAAAAAAAAAAAAAAAAAAAAAAAAAAAAAAAAAAAAAAAAAAAAAAAAAAAAAAAAAAAAAAAAAAAAAAAAAAAAAAAAAAAAAAAAAAAAAAAAAAAAAAAAAAAAAAAAAAAAAAAAAAAAAAAAAAAAAAAAAAAAAAAAAAAAAAAAAAAAAAAAAAAAAAAAAAU1f5juzbkkAAAAAAAAAAAAAAAAAAAAAAAAAAAAAAAAAAAAAAAAAAAAAAAAAAAAAAAAAAAAAAAAAAAAAAAAAAAAAAAAAAAAAAAAAAAAAAAAAAAAAAAAAAAAAAAAAAAAAAAAAAAAAAAAAAAAAAAAAAAAAAAAAAAAAAAAAAAAAAAAAAAAAAAAAAAAAAAAAAAAAAAAAAAAAAAAAAAAAAAAAAAAAAAAAAAAAAAAAAAAAAAAAAAAAAAAAAAAAAAAAAAAAAAAAAAAAAAAAAAAAAAAAAAAAAAAAAAAAAAAAAAAAAAAAAAAAAAAAAAAAAAAAAAAAAAAAAAAAAAAAAAAAAAAAAAAAAAAAAAAAAAAAAAAAAAAAAAAAAAAAAAAAAAAAAAAAAAAAAAAAAAAAAAAAAAAAAAAAAAAAAAAAAAAAAAAAAAAAAAAAAAAAAAAAAAAAAAAAAAAAAAAAAAAAAAAAAAAAAAAAAAAAAAAAAAAAAAAAAAAAAAAAAAAAAAAAAAAAAAAAAAAAAAAAAAAAAAAAAAAAAAAAAAAAAAAAAAAAAAAAAAAAAAAAAAAAAAAAAAAAAAAAAAAAAAAAAAAAAAAAAAAAAAAAAAAAAAAAAAAAAAAAAAAAAAAAAAAAAAAAAAAAAAAAAAAAAAAAAAAAAAAAAAAAAAAAAAAAAAAAAAAAAAAAAAABTV/mO7NuSQAAAAAAAAAAAAAAAAAAAAAAAAAAAAAAAAAAAAAAAAAAAAAAAAAAAAAAAAAAAAAAAAAAAAAAAAAAAAAAAAAAAAAAAAAAAAAAAAAAAAAAAAAAAAAAAAAAAAAAAAAAAAAAAAAAAAAAAAAAAAAAAAAAAAAAAAAAAAAAAAAAAAAAAAAAAAAAAAAAAAAAAAAAAAAAAAAAAAAAAAAAAAAAAAAAAAAAAAAAAAAAAAAAAAAAAAAAAAAAAAAAAAAAAAAAAAAAAAAAAAAAAAAAAAAAAAAAAAAAAAAAAAAAAAAAAAAAAAAAAAAAAAAAAAAAAAAAAAAAAAAAAAAAAAAAAAAAAAAAAAAAAAAAAAAAAAAAAAAAAAAAAAAAAAAAAAAAAAAAAAAAAAAAAAAAAAAAAAAAAAAAAAAAAAAAAAAAAAAAAAAAAAAAAAAAAAAAAAAAAAAAAAAAAAAAAAAAAAAAAAAAAAAAAAAAAAAAAAAAAAAAAAAAAAAAAAAAAAAAAAAAAAAAAAAAAAAAAAAAAAAAAAAAAAAAAAAAAAAAAAAAAAAAAAAAAAAAAAAAAAAAAAAAAAAAAAAAAAAAAAAAAAAAAAAAAAAAAAAAAAAAAAAAAAAAAAAAAAAAAAAAAAAAAAAAAAAAAAAAAAAAAAAAAAAAAAAAAAAAAAAAAAAAAAAAAAAAAAAAAAAAAAAAAAAAAAAAAAAAAAAAAAAAAAAAAAAAAAAAAAAAAAAAAAAAAAAAAAAAAAAAAAAAAAAAAAAAAAAAAAAAAAAAAAAAAAAAAAAAAAAAAAAAAAAAAAAAAAAAAAAAAAAAAAAAAAAAAAAAAAAAAAAAAAAAAAAAAAAAAAAAAAAAAAAAAAAAAAAAAAAAAAAAAAAAAAAAAAAAAAAAAAAAAAAAAAAAAAAAAAAAAAAAAAAAAAAAAAAAAAAAAAAAAAAAAAAAAAAAAAAAAAAAAAAAAAAAAAAAAAAAAAAAAAAAAAAAAAAAAAAAAAAAAAAAAAAAAAAAAAAAAAAAAAAAAAAAAAAAAAAAAAAAAAAAAAAAAAAAAAAAAAAAAAAAAAAAAAAAAAAAAAAAAAAAAAAAAAAAAAAAAAAAAAAAAAAAAAAAAAAAAAAAAAAAAAAAAAAAAAAAAAAAAAAAAAAAAAAAAAAAAAAAAAAAAAAAAAAAAAAAAAAAAAAAAAAAAAAAAAAAAAAAAAAAAAAAAAAAAAAAAAAAAAAAAAAAAAAAAAAAAAAAAAAAAAAAAAAAAAAAAAAAAAAAAAAAAAAAAAAAAAAAAAAAAAAAAAAAAAAAAAAAAAAAAAAAAAAAAAAAAAAAAAAAAAAAAAAAAAAAAAAAAAAAAAAAAAAAAAAAAAAAAAAAAAAAAAAAAAAAAAAAAAAAAAAAAAAAAAAAAAAAAAAAAAAAAAAAAAAAAAAAAAAAAAAAAAAAAAAAAAAAAAAAAAAAAAAAAAAAAAAAAAAAAAAAAAAAAAAAAAAAAAAAAAAAAAAAAAAAAAAAAAAAAAAAAAAAAAAAAAAAAAAAAAAAAAAAAAAAAAAAAAAAAAAAAAAAAAAAAAAAAAAAAAAAAAAAAAAAAAAAAAAAAAAAAAAAAAAAAAAAAAAAAAAAAAAAAAAAAAAAAAAAAAAAAAAAAAAAAAAAAAAAAAAAAAAAAAAAAAAAAAAAAAAAAAAAAAAAAAAAAAAAAAAAAAAAAAAAAAAAAAAAAAAAAAAAAAAAAAAAAAAAAAAAAAAAAAAAAAAAAAAAAAAAAAAAAAAAAAAAAAAAAAAAAAAAAAAAAAAAAAAAAAAAAAAAAAAAAAAAAAAAAAAAAAAAAAAAAAAAAAAAAAAAAAAAAAAAAAAAAAAAAAAAAAAAAAAAAAAAAAAAAAAAAAAAAAAAAAAAAAAAAAAAAAAAAAAAAAAAAAAAAAAAAAAAAAAAAAAAAAAAAAAAAAAAAAAAAAAAAAAAAAAAAAAAAAAAAAAAAAAAAAAAAAAAAAAAAAAAAAAAAAAAAAAAAAAAAAAAAAAAAAAAAAAAAAAAAAAAAAAAAAAAAAAAAAAAAAAAAAAAAAAAAAAAAAAAAAAAAAAAAAAAAAAAAAAAAAAAAAAAAAAAAAAAAAAAAAAAAAAAAAAAAAAAAAAAAAAAAAAAAAAAAAAAAAAAAAAAAAAAAAAAAAAAAAAAAAAAAAAAAAAAAAAAAAAAAAAAAAAAAAAAAAAAAAAAAAAAAAAAAAAAAAAAAAAAAAAAAAAAAAAAAAAAAAAAAAAAAAAAAAAAAAAAAAAAAAAAAAAAAAAAAAAAAAAAAAAAAAAAAAAAAAAAAAAAAAAAAAAAAAAAAAAAAAAAAAAAAAAAAAAAAAAAAAAAAAAAAAAAAAAAAAAAAAAAAAAAAAAAAAAAAAAAAAAAAAAAAAAAAAAAAAAAAAAAAAAAAAAAAAAAAAAAAAAAAAAAAAAAAAAAAAAAAAAAAAAAAAAAAAAAAAAAAAAAAAAAAAAAAAAAAAAAAAAAAAAAAAAAAAAAAAAAAAAAAAAAAAAAAAAAAAAAAAAAAAAAAAAAAAAAAAAAAAAAAAAAAAAAAAAAAAAAAAAAAAAAAAAAAAAAAAAAAAAAAAAAAAAAAAAAAAAAAAAAAAAAAAAAAAAAAAAAAAAAAAAAAAAAAAAAAAAAAAAAAAAAAAAAAAAAAAAAAAAAAAAAAAAAAAAAAAAAAAAAAAAAAAAAAAAAAAAAAAAAAAAAAAAAAAAAAAAAAAAAAAAAAAAAAAAAAAAAAAAAAAAAAAAAAAAAAAAAAAAAAAAAAAAAAAAAAAAAAAAAAAAAAAAAAAAAAAAAAAAAAAAAAAAAAAAAAAAAAAAAAAAAAAAAAAAAAAAAAAAAAAAAAAAAAAAAAAAAAAAAAAAAAAAAAAAAAAAAAAAAAAAAAAAAAAAAAAAAAAAAAAAAAAAAAAAAAAAAAAAAAAAAAAAAAAAAAAAAAAAAAAAAAAAAAAAAAAAAAAAAAAAAAAAAAAAAAAAAAAAAAAAAAAAAAAAAAAAAAAAAAAAAAAAAAAAAAAAAAAAAAAAAAAAAAAAAAAAAAAAAAAAAAAAAAAAAAAAAAAAAAAAAAAAAAAAAAAAAAAAAAAAAAAAAAAAAAAAAAAAAAAAAAAAAAAAAAAAAAAAAAAAAAAAAAAAAAAAAAAAAAAAAAAAAAAAAAAAAAAAAAAAAAAAAAAAAAAAAAAAAAAAAAAAAAAAAAAAAAAAAAAAAAAAAAAAAAAAAAAAAAAAAAAAAAAAAAAAAAAAAAAAAAAAAAAAAAAAAAAAAAAAAAAAAAAAAAAAAAAAAAAAAAAAAAAAAAAAAAAAAAAAAAAAAAAAAAAAAAAAAAAAAAAAAAAAAAAAAAAAAAAAAAAAAAAAAAAAAAAAAAAAAAAAAAAAAAAAAAAAAAAAAAAAAAAAAAAAAAAAAAAAAAAAAAAAAAAAAAAAAAAAAAAAAAAAAAAAAAAAAAAAAAAAAAAAAAAAAAAAAAAAAAAAAAAAAAAAAAAAAAAAAAAAAAAAAAAAAAAAAAAAAAAAAAAAAAAAAAAAAAAAAAAAAAAAAAAAAAAAAAAAAAAAAAAAAAAAAAAAAAAAAAAAAAAAAAAAAAAAAAAAAAAAAAAAAAAAAAAAAAAAAAAAAAAAAAAAAAAAAAAAAAAAAAAAAAAAAAAAAAAAAAAAAAAAAAAAAAAAAAAAAAAAAAAAAAAAAAAAAAAAAAAAAAAAAAAAAAAAAAAAAAAAAAAAAAAAAAAAAAAAAAAAAAAAAAAAAAAAAAAAAAAAAAAAAAAAAAAAAAAAAAAAAAAAAAAAAAAAAAAAAAAAAAAAAAAAAAAAAAAAAAAAAAAAAAAAAAAAAAAAAAAAAAAAAAAAAAAAAAAAAAAAAAAAAAAAAAAAAAAAAAAAAAAAAAAAAAAAAAAAAAAAAAAAAAAAAAAAAAAAAAAAAAAAAAAAAAAAAAAAAAAAAAAAAAAAAAAAAAAAAAAAAAAAAAAAAAAAAAAAAAAAAAAAAAAAAAAAAAAAAAAAAAAAAAAAAAAAAAAAAAAAAAAAAAAAAAAAAAAAAAAAAAAAAAAAAAAAAAAAAAAAAAAAAAAAAAAAAAAAAAAAAAAAAAAAAAAAAAAAAAAAAAAAAAAAAAAAAAAABTV/mO7NuSQAAAAAAAAAAAAAAAAAAAAAAAAAAAAAAAAAAAAAAAAAAAAAAAAAAAAAAAAAAAAAAAAAAAAAAAAAAAAAAAAAAAAAAAAAAAAAAAAAAAAAAAAAAAAAAAAAAAAAAAAAAAAAAAAAAAAAAAAAAAAAAAAAAAAAAAAAAAAAAAAAAAAAAAAAAAAAAAAAAAAAAAAAAAAAAAAAAAAAAAAAAAAAAAAAAAAAAAAAAAAAAAAAAAAAAAAAAAAAAAAAAAAAAAAAAAAAAAAAAAAAAAAAAAAAAAAAAAAAAAAAAAAAAAAAAAAAAAAAAAAAAAAAAAAAAAAAAAAAAAAAAAAAAAAAAAAAAAAAAAAAAAAAAAAAAAAAAAAAAAAAAAAAAAAAAAAAAAAAAAAAAAAAAAAAAAAAAAAAAAAAAAAAAAAAAAAAAAAAAAAAAAAAAAAAAAAAAAAAAAAAAAAAAAAAAAAAAAAAAAAAAAAAAAAAAAAAAAAAAAAAAAAAAAAAAAAAAAAAAAAAAAAAAAAAAAAAAAAAAAAAAAAAAAAAAAAAAAAAAAAAAAAAAAAAAAAAAAAAAAAAAAAAAAAAAAAAAAAAAAAAAAAAAAAAAAAAAAAAAAAAAAAAAAAAAAAAAAAAAAAAAAAAAAAAAAAAAAAAAAAAAAAAAAAAAAAAAAAAAAAAAAAAAAAAAAAFNX+Y7s25JAAAAAAAAAAAAAAAAAAAAAAAAAAAAAAAAAAAAAAAAAAAAAAAAAAAAAAAAAAAAAAAAAAAAAAAAAAAAAAAAAAAAAAAAAAAAAAAAAAAAAAAAAAAAAAAAAAAAAAAAAAAAAAAAAAAAAAAAAAAAAAAAAAAAAAAAAAAAAAAAAAAAAAAAAAAAAAAAAAAAAAAAAAAAAAAAAAAAAAAAAAAAAAAAAAAAAAAAAAAAAAAAAAAAAAAAAAAAAAAAAAAAAAAAAAAAAAAAAAAAAAAAAAAAAAAAAAAAAAAAAAAAAAAAAAAAAAAAAAAAAAAAAAAAAAAAAAAAAAAAAAAAAAAAAAAAAAAAAAAAAAAAAAAAAAAAAAAAAAAAAAAAAAAAAAAAAAAAAAAAAAAAAAAAAAAAAAAAAAAAAAAAAAAAAAAAAAAAAAAAAAAAAAAAAAAAAAAAAAAAAAAAAAAAAAAAAAAAAAAAAAAAAAAAAAAAAAAAAAAAAAAAAAAAAAAAAAAAAAAAAAAAAAAAAAAAAAAAAAAAAAAAAAAAAAAAAAAAAAAAAAAAAAAAAAAAAAAAAAAAAAAAAAAAAAAAAAAAAAAAAAAAAAAAAAAAAAAAAAAAAAAAAAAAAAAAAAAAAAAAAAAAAAAAAAAAAAAAAAAAAAAAAAAAAAAAAAAAAAAAAAAAAAAAAAAAAU1f5juzbkkAAAAAAAAAAAAAAAAAAAAAAAAAAAAAAAAAAAAAAAAAAAAAAAAAAAAAAAAAAAAAAAAAAAAAAAAAAAAAAAAAAAAAAAAAAAAAAAAAAAAAAAAAAAAAAAAAAAAAAAAAAAAAAAAAAAAAAAAAAAAAAAAAAAAAAAAAAAAAAAAAAAAAAAAAAAAAAAAAAAAAAAAAAAAAAAAAAAAAAAAAAAAAAAAAAAAAAAAAAAAAAAAAAAAAAAAAAAAAAAAAAAAAAAAAAAAAAAAAAAAAAAAAAAAAAAAAAAAAAAAAAAAAAAAAAAAAAAAAAAAAAAAAAAAAAAAAAAAAAAAAAAAAAAAAAAAAAAAAAAAAAAAAAAAAAAAAAAAAAAAAAAAAAAAAAAAAAAAAAAAAAAAAAAAAAAAAAAAAAAAAAAAAAAAAAAAAAAAAAAAAAAAAAAAAAAAAAAAAAAAAAAAAAAAAAAAAAAAAAAAAAAAAAAAAAAAAAAAAAAAAAAAAAAAAAAAAAAAAAAAAAAAAAAAAAAAAAAAAAAAAAAAAAAAAAAAAAAAAAAAAAAAAAAAAAAAAAAAAAAAAAAAAAAAAAAAAAAAAAAAAAAAAAAAAAAAAAAAAAAAAAAAAAAAAAAAAAAAAAAAAAAAAAAAAAAAAAAAAAAAAAAAAAAAAAAAAAAAAAAAAAAAAAAAAAAABTV/mO7NuSQAAAAAAAAAAAAAAAAAAAAAAAAAAAAAAAAAAAAAAAAAAAAAAAAAAAAAAAAAAAAAAAAAAAAAAAAAAAAAAAAAAAAAAAAAAAAAAAAAAAAAAAAAAAAAAAAAAAAAAAAAAAAAAAAAAAAAAAAAAAAAAAAAAAAAAAAAAAAAAAAAAAAAAAAAAAAAAAAAAAAAAAAAAAAAAAAAAAAAAAAAAAAAAAAAAAAAAAAAAAAAAAAAAAAAAAAAAAAAAAAAAAAAAAAAAAAAAAAAAAAAAAAAAAAAAAAAAAAAAAAAAAAAAAAAAAAAAAAAAAAAAAAAAAAAAAAAAAAAAAAAAAAAAAAAAAAAAAAAAAAAAAAAAAAAAAAAAAAAAAAAAAAAAAAAAAAAAAAAAAAAAAAAAAAAAAAAAAAAAAAAAAAAAAAAAAAAAAAAAAAAAAAAAAAAAAAAAAAAAAAAAAAAAAAAAAAAAAAAAAAAAAAAAAAAAAAAAAAAAAAAAAAAAAAAAAAAAAAAAAAAAAAAAAAAAAAAAAAAAAAAAAAAAAAAAAAAAAAAAAAAAAAAAAAAAAAAAAAAAAAAAAAAAAAAAAAAAAAAAAAAAAAAAAAAAAAAAAAAAAAAAAAAAAAAAAAAAAAAAAAAAAAAAAAAAAAAAAAAAAAAAAAAAAAAAAAAAAAAAAAAAAAAAAAAAAAAAAAAAAAAAAAAAAAAAAAAAAAAAAAAAAAAAAAAAAAAAAAAAAAAAAAAAAAAAAAAAAAAAAAAAAAAAAAAAAAAAAAAAAAAAAAAAAAAAAAAAAAAAAAAAAAAAAAAAAAAAAAAAAAAAAAAAAAAAAAAAAAAAAAAAAAAAAAAAAAAAAAAAAAAAAAAAAAAAAAAAAAAAAAAAAAAAAAAAAAAAAAAAAAAAAAAAAAAAAAAAAAAAAAAAAAAAAAAAAAAAAAAAAAAAAAAAAAAAAAAAAAAAAAAAAAAAAAAAAAAAAAAAAAAAAAAAAAAAAAAAAAAAAAAAAAAAAAAAAAAAAAAAAAAAAAAAAAAAAAAAAAAAAAAAAAAAAAAAAAAAAAAAAAAAAAAAAAAAAAAAAAAAAAAAAAAAAAAAAAAAAAAAAAAAAAAAAAAAAAAAAAAAA",
           "dtype": "f8"
          },
          "coloraxis": "coloraxis",
          "size": 5,
          "symbol": "circle"
         },
         "mode": "markers",
         "name": "",
         "showlegend": false,
         "type": "scattergeo"
        }
       ],
       "layout": {
        "coloraxis": {
         "colorbar": {
          "title": {
           "text": "velocity_km_per_day"
          }
         },
         "colorscale": [
          [
           0,
           "#30123b"
          ],
          [
           0.07142857142857142,
           "#4145ab"
          ],
          [
           0.14285714285714285,
           "#4675ed"
          ],
          [
           0.21428571428571427,
           "#39a2fc"
          ],
          [
           0.2857142857142857,
           "#1bcfd4"
          ],
          [
           0.35714285714285715,
           "#24eca6"
          ],
          [
           0.42857142857142855,
           "#61fc6c"
          ],
          [
           0.5,
           "#a4fc3b"
          ],
          [
           0.5714285714285714,
           "#d1e834"
          ],
          [
           0.6428571428571429,
           "#f3c63a"
          ],
          [
           0.7142857142857143,
           "#fe9b2d"
          ],
          [
           0.7857142857142857,
           "#f36315"
          ],
          [
           0.8571428571428571,
           "#d93806"
          ],
          [
           0.9285714285714286,
           "#b11901"
          ],
          [
           1,
           "#7a0402"
          ]
         ]
        },
        "geo": {
         "center": {},
         "domain": {
          "x": [
           0,
           1
          ],
          "y": [
           0,
           1
          ]
         },
         "projection": {
          "type": "natural earth"
         }
        },
        "legend": {
         "tracegroupgap": 0
        },
        "template": {
         "data": {
          "bar": [
           {
            "error_x": {
             "color": "#f2f5fa"
            },
            "error_y": {
             "color": "#f2f5fa"
            },
            "marker": {
             "line": {
              "color": "rgb(17,17,17)",
              "width": 0.5
             },
             "pattern": {
              "fillmode": "overlay",
              "size": 10,
              "solidity": 0.2
             }
            },
            "type": "bar"
           }
          ],
          "barpolar": [
           {
            "marker": {
             "line": {
              "color": "rgb(17,17,17)",
              "width": 0.5
             },
             "pattern": {
              "fillmode": "overlay",
              "size": 10,
              "solidity": 0.2
             }
            },
            "type": "barpolar"
           }
          ],
          "carpet": [
           {
            "aaxis": {
             "endlinecolor": "#A2B1C6",
             "gridcolor": "#506784",
             "linecolor": "#506784",
             "minorgridcolor": "#506784",
             "startlinecolor": "#A2B1C6"
            },
            "baxis": {
             "endlinecolor": "#A2B1C6",
             "gridcolor": "#506784",
             "linecolor": "#506784",
             "minorgridcolor": "#506784",
             "startlinecolor": "#A2B1C6"
            },
            "type": "carpet"
           }
          ],
          "choropleth": [
           {
            "colorbar": {
             "outlinewidth": 0,
             "ticks": ""
            },
            "type": "choropleth"
           }
          ],
          "contour": [
           {
            "colorbar": {
             "outlinewidth": 0,
             "ticks": ""
            },
            "colorscale": [
             [
              0,
              "#0d0887"
             ],
             [
              0.1111111111111111,
              "#46039f"
             ],
             [
              0.2222222222222222,
              "#7201a8"
             ],
             [
              0.3333333333333333,
              "#9c179e"
             ],
             [
              0.4444444444444444,
              "#bd3786"
             ],
             [
              0.5555555555555556,
              "#d8576b"
             ],
             [
              0.6666666666666666,
              "#ed7953"
             ],
             [
              0.7777777777777778,
              "#fb9f3a"
             ],
             [
              0.8888888888888888,
              "#fdca26"
             ],
             [
              1,
              "#f0f921"
             ]
            ],
            "type": "contour"
           }
          ],
          "contourcarpet": [
           {
            "colorbar": {
             "outlinewidth": 0,
             "ticks": ""
            },
            "type": "contourcarpet"
           }
          ],
          "heatmap": [
           {
            "colorbar": {
             "outlinewidth": 0,
             "ticks": ""
            },
            "colorscale": [
             [
              0,
              "#0d0887"
             ],
             [
              0.1111111111111111,
              "#46039f"
             ],
             [
              0.2222222222222222,
              "#7201a8"
             ],
             [
              0.3333333333333333,
              "#9c179e"
             ],
             [
              0.4444444444444444,
              "#bd3786"
             ],
             [
              0.5555555555555556,
              "#d8576b"
             ],
             [
              0.6666666666666666,
              "#ed7953"
             ],
             [
              0.7777777777777778,
              "#fb9f3a"
             ],
             [
              0.8888888888888888,
              "#fdca26"
             ],
             [
              1,
              "#f0f921"
             ]
            ],
            "type": "heatmap"
           }
          ],
          "histogram": [
           {
            "marker": {
             "pattern": {
              "fillmode": "overlay",
              "size": 10,
              "solidity": 0.2
             }
            },
            "type": "histogram"
           }
          ],
          "histogram2d": [
           {
            "colorbar": {
             "outlinewidth": 0,
             "ticks": ""
            },
            "colorscale": [
             [
              0,
              "#0d0887"
             ],
             [
              0.1111111111111111,
              "#46039f"
             ],
             [
              0.2222222222222222,
              "#7201a8"
             ],
             [
              0.3333333333333333,
              "#9c179e"
             ],
             [
              0.4444444444444444,
              "#bd3786"
             ],
             [
              0.5555555555555556,
              "#d8576b"
             ],
             [
              0.6666666666666666,
              "#ed7953"
             ],
             [
              0.7777777777777778,
              "#fb9f3a"
             ],
             [
              0.8888888888888888,
              "#fdca26"
             ],
             [
              1,
              "#f0f921"
             ]
            ],
            "type": "histogram2d"
           }
          ],
          "histogram2dcontour": [
           {
            "colorbar": {
             "outlinewidth": 0,
             "ticks": ""
            },
            "colorscale": [
             [
              0,
              "#0d0887"
             ],
             [
              0.1111111111111111,
              "#46039f"
             ],
             [
              0.2222222222222222,
              "#7201a8"
             ],
             [
              0.3333333333333333,
              "#9c179e"
             ],
             [
              0.4444444444444444,
              "#bd3786"
             ],
             [
              0.5555555555555556,
              "#d8576b"
             ],
             [
              0.6666666666666666,
              "#ed7953"
             ],
             [
              0.7777777777777778,
              "#fb9f3a"
             ],
             [
              0.8888888888888888,
              "#fdca26"
             ],
             [
              1,
              "#f0f921"
             ]
            ],
            "type": "histogram2dcontour"
           }
          ],
          "mesh3d": [
           {
            "colorbar": {
             "outlinewidth": 0,
             "ticks": ""
            },
            "type": "mesh3d"
           }
          ],
          "parcoords": [
           {
            "line": {
             "colorbar": {
              "outlinewidth": 0,
              "ticks": ""
             }
            },
            "type": "parcoords"
           }
          ],
          "pie": [
           {
            "automargin": true,
            "type": "pie"
           }
          ],
          "scatter": [
           {
            "marker": {
             "line": {
              "color": "#283442"
             }
            },
            "type": "scatter"
           }
          ],
          "scatter3d": [
           {
            "line": {
             "colorbar": {
              "outlinewidth": 0,
              "ticks": ""
             }
            },
            "marker": {
             "colorbar": {
              "outlinewidth": 0,
              "ticks": ""
             }
            },
            "type": "scatter3d"
           }
          ],
          "scattercarpet": [
           {
            "marker": {
             "colorbar": {
              "outlinewidth": 0,
              "ticks": ""
             }
            },
            "type": "scattercarpet"
           }
          ],
          "scattergeo": [
           {
            "marker": {
             "colorbar": {
              "outlinewidth": 0,
              "ticks": ""
             }
            },
            "type": "scattergeo"
           }
          ],
          "scattergl": [
           {
            "marker": {
             "line": {
              "color": "#283442"
             }
            },
            "type": "scattergl"
           }
          ],
          "scattermap": [
           {
            "marker": {
             "colorbar": {
              "outlinewidth": 0,
              "ticks": ""
             }
            },
            "type": "scattermap"
           }
          ],
          "scattermapbox": [
           {
            "marker": {
             "colorbar": {
              "outlinewidth": 0,
              "ticks": ""
             }
            },
            "type": "scattermapbox"
           }
          ],
          "scatterpolar": [
           {
            "marker": {
             "colorbar": {
              "outlinewidth": 0,
              "ticks": ""
             }
            },
            "type": "scatterpolar"
           }
          ],
          "scatterpolargl": [
           {
            "marker": {
             "colorbar": {
              "outlinewidth": 0,
              "ticks": ""
             }
            },
            "type": "scatterpolargl"
           }
          ],
          "scatterternary": [
           {
            "marker": {
             "colorbar": {
              "outlinewidth": 0,
              "ticks": ""
             }
            },
            "type": "scatterternary"
           }
          ],
          "surface": [
           {
            "colorbar": {
             "outlinewidth": 0,
             "ticks": ""
            },
            "colorscale": [
             [
              0,
              "#0d0887"
             ],
             [
              0.1111111111111111,
              "#46039f"
             ],
             [
              0.2222222222222222,
              "#7201a8"
             ],
             [
              0.3333333333333333,
              "#9c179e"
             ],
             [
              0.4444444444444444,
              "#bd3786"
             ],
             [
              0.5555555555555556,
              "#d8576b"
             ],
             [
              0.6666666666666666,
              "#ed7953"
             ],
             [
              0.7777777777777778,
              "#fb9f3a"
             ],
             [
              0.8888888888888888,
              "#fdca26"
             ],
             [
              1,
              "#f0f921"
             ]
            ],
            "type": "surface"
           }
          ],
          "table": [
           {
            "cells": {
             "fill": {
              "color": "#506784"
             },
             "line": {
              "color": "rgb(17,17,17)"
             }
            },
            "header": {
             "fill": {
              "color": "#2a3f5f"
             },
             "line": {
              "color": "rgb(17,17,17)"
             }
            },
            "type": "table"
           }
          ]
         },
         "layout": {
          "annotationdefaults": {
           "arrowcolor": "#f2f5fa",
           "arrowhead": 0,
           "arrowwidth": 1
          },
          "autotypenumbers": "strict",
          "coloraxis": {
           "colorbar": {
            "outlinewidth": 0,
            "ticks": ""
           }
          },
          "colorscale": {
           "diverging": [
            [
             0,
             "#8e0152"
            ],
            [
             0.1,
             "#c51b7d"
            ],
            [
             0.2,
             "#de77ae"
            ],
            [
             0.3,
             "#f1b6da"
            ],
            [
             0.4,
             "#fde0ef"
            ],
            [
             0.5,
             "#f7f7f7"
            ],
            [
             0.6,
             "#e6f5d0"
            ],
            [
             0.7,
             "#b8e186"
            ],
            [
             0.8,
             "#7fbc41"
            ],
            [
             0.9,
             "#4d9221"
            ],
            [
             1,
             "#276419"
            ]
           ],
           "sequential": [
            [
             0,
             "#0d0887"
            ],
            [
             0.1111111111111111,
             "#46039f"
            ],
            [
             0.2222222222222222,
             "#7201a8"
            ],
            [
             0.3333333333333333,
             "#9c179e"
            ],
            [
             0.4444444444444444,
             "#bd3786"
            ],
            [
             0.5555555555555556,
             "#d8576b"
            ],
            [
             0.6666666666666666,
             "#ed7953"
            ],
            [
             0.7777777777777778,
             "#fb9f3a"
            ],
            [
             0.8888888888888888,
             "#fdca26"
            ],
            [
             1,
             "#f0f921"
            ]
           ],
           "sequentialminus": [
            [
             0,
             "#0d0887"
            ],
            [
             0.1111111111111111,
             "#46039f"
            ],
            [
             0.2222222222222222,
             "#7201a8"
            ],
            [
             0.3333333333333333,
             "#9c179e"
            ],
            [
             0.4444444444444444,
             "#bd3786"
            ],
            [
             0.5555555555555556,
             "#d8576b"
            ],
            [
             0.6666666666666666,
             "#ed7953"
            ],
            [
             0.7777777777777778,
             "#fb9f3a"
            ],
            [
             0.8888888888888888,
             "#fdca26"
            ],
            [
             1,
             "#f0f921"
            ]
           ]
          },
          "colorway": [
           "#636efa",
           "#EF553B",
           "#00cc96",
           "#ab63fa",
           "#FFA15A",
           "#19d3f3",
           "#FF6692",
           "#B6E880",
           "#FF97FF",
           "#FECB52"
          ],
          "font": {
           "color": "#f2f5fa"
          },
          "geo": {
           "bgcolor": "rgb(17,17,17)",
           "lakecolor": "rgb(17,17,17)",
           "landcolor": "rgb(17,17,17)",
           "showlakes": true,
           "showland": true,
           "subunitcolor": "#506784"
          },
          "hoverlabel": {
           "align": "left"
          },
          "hovermode": "closest",
          "mapbox": {
           "style": "dark"
          },
          "paper_bgcolor": "rgb(17,17,17)",
          "plot_bgcolor": "rgb(17,17,17)",
          "polar": {
           "angularaxis": {
            "gridcolor": "#506784",
            "linecolor": "#506784",
            "ticks": ""
           },
           "bgcolor": "rgb(17,17,17)",
           "radialaxis": {
            "gridcolor": "#506784",
            "linecolor": "#506784",
            "ticks": ""
           }
          },
          "scene": {
           "xaxis": {
            "backgroundcolor": "rgb(17,17,17)",
            "gridcolor": "#506784",
            "gridwidth": 2,
            "linecolor": "#506784",
            "showbackground": true,
            "ticks": "",
            "zerolinecolor": "#C8D4E3"
           },
           "yaxis": {
            "backgroundcolor": "rgb(17,17,17)",
            "gridcolor": "#506784",
            "gridwidth": 2,
            "linecolor": "#506784",
            "showbackground": true,
            "ticks": "",
            "zerolinecolor": "#C8D4E3"
           },
           "zaxis": {
            "backgroundcolor": "rgb(17,17,17)",
            "gridcolor": "#506784",
            "gridwidth": 2,
            "linecolor": "#506784",
            "showbackground": true,
            "ticks": "",
            "zerolinecolor": "#C8D4E3"
           }
          },
          "shapedefaults": {
           "line": {
            "color": "#f2f5fa"
           }
          },
          "sliderdefaults": {
           "bgcolor": "#C8D4E3",
           "bordercolor": "rgb(17,17,17)",
           "borderwidth": 1,
           "tickwidth": 0
          },
          "ternary": {
           "aaxis": {
            "gridcolor": "#506784",
            "linecolor": "#506784",
            "ticks": ""
           },
           "baxis": {
            "gridcolor": "#506784",
            "linecolor": "#506784",
            "ticks": ""
           },
           "bgcolor": "rgb(17,17,17)",
           "caxis": {
            "gridcolor": "#506784",
            "linecolor": "#506784",
            "ticks": ""
           }
          },
          "title": {
           "x": 0.05
          },
          "updatemenudefaults": {
           "bgcolor": "#506784",
           "borderwidth": 0
          },
          "xaxis": {
           "automargin": true,
           "gridcolor": "#283442",
           "linecolor": "#506784",
           "ticks": "",
           "title": {
            "standoff": 15
           },
           "zerolinecolor": "#283442",
           "zerolinewidth": 2
          },
          "yaxis": {
           "automargin": true,
           "gridcolor": "#283442",
           "linecolor": "#506784",
           "ticks": "",
           "title": {
            "standoff": 15
           },
           "zerolinecolor": "#283442",
           "zerolinewidth": 2
          }
         }
        },
        "title": {
         "text": "Spread Velocity (km/day)"
        }
       }
      }
     },
     "metadata": {},
     "output_type": "display_data"
    }
   ],
   "source": [
    "fig = px.scatter_geo(\n",
    "    pdf_sample,\n",
    "    lat=\"lat\",\n",
    "    lon=\"lon\",\n",
    "    color=\"velocity_km_per_day\",\n",
    "    title=\"Spread Velocity (km/day)\",\n",
    "    projection=\"natural earth\",\n",
    "    template=\"plotly_dark\",\n",
    "    color_continuous_scale=\"Turbo\"\n",
    ")\n",
    "fig.update_traces(marker=dict(size=5))\n",
    "fig.show()\n"
   ]
  },
  {
   "cell_type": "code",
   "execution_count": 56,
   "id": "fe31a195",
   "metadata": {},
   "outputs": [],
   "source": [
    "# Calculate risk score (Step 18)\n",
    "pdf_sample[\"risk_score\"] = (\n",
    "    pdf_sample[\"cases_density\"] * pdf_sample[\"velocity_km_per_day\"]\n",
    ") / (pdf_sample[\"radius_km\"] + 1)\n",
    "\n",
    "# Tiering\n",
    "import numpy as np\n",
    "pdf_sample[\"risk_tier\"] = np.where(\n",
    "    pdf_sample[\"risk_score\"] > 2000, \"High\",\n",
    "    np.where(pdf_sample[\"risk_score\"] > 500, \"Medium\", \"Low\")\n",
    ")\n"
   ]
  },
  {
   "cell_type": "code",
   "execution_count": 57,
   "id": "744b7f90",
   "metadata": {},
   "outputs": [
    {
     "data": {
      "application/vnd.plotly.v1+json": {
       "config": {
        "plotlyServerURL": "https://plot.ly"
       },
       "data": [
        {
         "geo": "geo",
         "hovertemplate": "risk_tier=Low<br>lat=%{lat}<br>lon=%{lon}<extra></extra>",
         "lat": {
          "bdata": "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",
          "dtype": "f8"
         },
         "legendgroup": "Low",
         "lon": {
          "bdata": "KT+p9ukAI0ApP6n26QAjQCk/qfbpACNAKT+p9ukAI0ApP6n26QAjQCk/qfbpACNAKT+p9ukAI0ApP6n26QAjQCk/qfbpACNAKT+p9ukAI0ApP6n26QAjQCk/qfbpACNAKT+p9ukAI0ApP6n26QAjQCk/qfbpACNAKT+p9ukAI0ApP6n26QAjQCk/qfbpACNAKT+p9ukAI0ApP6n26QAjQCk/qfbpACNAKT+p9ukAI0ApP6n26QAjQCk/qfbpACNAKT+p9ukAI0ApP6n26QAjQCk/qfbpACNAKT+p9ukAI0ApP6n26QAjQCk/qfbpACNAKT+p9ukAI0ApP6n26QAjQCk/qfbpACNAKT+p9ukAI0ApP6n26QAjQCk/qfbpACNAKT+p9ukAI0ApP6n26QAjQCk/qfbpACNAKT+p9ukAI0ApP6n26QAjQCk/qfbpACNAKT+p9ukAI0ApP6n26QAjQCk/qfbpACNAKT+p9ukAI0ApP6n26QAjQCk/qfbpACNAKT+p9ukAI0ApP6n26QAjQCk/qfbpACNAKT+p9ukAI0ApP6n26QAjQCk/qfbpACNAKT+p9ukAI0ApP6n26QAjQCk/qfbpACNAKT+p9ukAI0ApP6n26QAjQCk/qfbpACNAKT+p9ukAI0ApP6n26QAjQCk/qfbpACNAu10vTRH0O0C7XS9NEfQ7QLtdL00R9DtAu10vTRH0O0C7XS9NEfQ7QLtdL00R9DtAu10vTRH0O0C7XS9NEfQ7QLtdL00R9DtAu10vTRH0O0C7XS9NEfQ7QLtdL00R9DtAu10vTRH0O0C7XS9NEfQ7QLtdL00R9DtAu10vTRH0O0C7XS9NEfQ7QLtdL00R9DtAu10vTRH0O0C7XS9NEfQ7QLtdL00R9DtAu10vTRH0O0C7XS9NEfQ7QLtdL00R9DtAu10vTRH0O0C7XS9NEfQ7QLtdL00R9DtAu10vTRH0O0C7XS9NEfQ7QLtdL00R9DtAu10vTRH0O0C7XS9NEfQ7QLtdL00R9DtAu10vTRH0O0C7XS9NEfQ7QLtdL00R9DtAu10vTRH0O0C7XS9NEfQ7QLtdL00R9DtAu10vTRH0O0C7XS9NEfQ7QLtdL00R9DtAu10vTRH0O0C7XS9NEfQ7QLtdL00R9DtAu10vTRH0O0C7XS9NEfQ7QLtdL00R9DtAu10vTRH0O0C7XS9NEfQ7QLtdL00R9DtAu10vTRH0O0C7XS9NEfQ7QLtdL00R9DtAu10vTRH0O0C7XS9NEfQ7QLtdL00R9DtAu10vTRH0O0C7XS9NEfQ7QLtdL00R9DtAu10vTRH0O0C7XS9NEfQ7QLtdL00R9DtAu10vTRH0O0C7XS9NEfQ7QLtdL00R9DtAu10vTRH0O0C7XS9NEfQ7QLtdL00R9DtAu10vTRH0O0C7XS9NEfQ7QLtdL00R9DtAu10vTRH0O0C7XS9NEfQ7QLtdL00R9DtAu10vTRH0O0C7XS9NEfQ7QLtdL00R9DtAu10vTRH0O0C7XS9NEfQ7QLtdL00R9DtAu10vTRH0O0C7XS9NEfQ7QLtdL00R9DtAu10vTRH0O0C7XS9NEfQ7QLtdL00R9DtAu10vTRH0O0C7XS9NEfQ7QLtdL00R9DtAu10vTRH0O0C7XS9NEfQ7QLtdL00R9DtAu10vTRH0O0C7XS9NEfQ7QLtdL00R9DtAu10vTRH0O0C7XS9NEfQ7QLtdL00R9DtAu10vTRH0O0C7XS9NEfQ7QLtdL00R9DtAu10vTRH0O0C7XS9NEfQ7QLtdL00R9DtAu10vTRH0O0C7XS9NEfQ7QLtdL00R9DtAu10vTRH0O0C7XS9NEfQ7QLtdL00R9DtAu10vTRH0O0C7XS9NEfQ7QLtdL00R9DtAu10vTRH0O0C7XS9NEfQ7QLtdL00R9DtAu10vTRH0O0C7XS9NEfQ7QLtdL00R9DtAu10vTRH0O0C7XS9NEfQ7QLtdL00R9DtAu10vTRH0O0C7XS9NEfQ7QLtdL00R9DtAu10vTRH0O0ApP6n26QAjQCk/qfbpACNAKT+p9ukAI0ApP6n26QAjQCk/qfbpACNAKT+p9ukAI0ApP6n26QAjQCk/qfbpACNAKT+p9ukAI0ApP6n26QAjQCk/qfbpACNAKT+p9ukAI0ApP6n26QAjQCk/qfbpACNAKT+p9ukAI0ApP6n26QAjQCk/qfbpACNAKT+p9ukAI0ApP6n26QAjQCk/qfbpACNAKT+p9ukAI0ApP6n26QAjQCk/qfbpACNAKT+p9ukAI0ApP6n26QAjQCk/qfbpACNAKT+p9ukAI0ApP6n26QAjQCk/qfbpACNAKT+p9ukAI0ApP6n26QAjQCk/qfbpACNAKT+p9ukAI0ApP6n26QAjQCk/qfbpACNAKT+p9ukAI0ApP6n26QAjQCk/qfbpACNAKT+p9ukAI0ApP6n26QAjQCk/qfbpACNAKT+p9ukAI0ApP6n26QAjQCk/qfbpACNAKT+p9ukAI0ApP6n26QAjQCk/qfbpACNAKT+p9ukAI0ApP6n26QAjQCk/qfbpACNAKT+p9ukAI0ApP6n26QAjQCk/qfbpACNAKT+p9ukAI0ApP6n26QAjQCk/qfbpACNAKT+p9ukAI0ApP6n26QAjQCk/qfbpACNAKT+p9ukAI0ApP6n26QAjQCk/qfbpACNAKT+p9ukAI0C7XS9NEfQ7QLtdL00R9DtAu10vTRH0O0C7XS9NEfQ7QLtdL00R9DtAu10vTRH0O0C7XS9NEfQ7QLtdL00R9DtAu10vTRH0O0C7XS9NEfQ7QLtdL00R9DtAu10vTRH0O0C7XS9NEfQ7QLtdL00R9DtAu10vTRH0O0C7XS9NEfQ7QLtdL00R9DtAu10vTRH0O0C7XS9NEfQ7QLtdL00R9DtAu10vTRH0O0C7XS9NEfQ7QLtdL00R9DtAu10vTRH0O0C7XS9NEfQ7QLtdL00R9DtAu10vTRH0O0C7XS9NEfQ7QLtdL00R9DtAu10vTRH0O0C7XS9NEfQ7QLtdL00R9DtAu10vTRH0O0C7XS9NEfQ7QLtdL00R9DtAu10vTRH0O0C7XS9NEfQ7QLtdL00R9DtAu10vTRH0O0C7XS9NEfQ7QLtdL00R9DtAu10vTRH0O0C7XS9NEfQ7QLtdL00R9DtAu10vTRH0O0C7XS9NEfQ7QLtdL00R9DtAu10vTRH0O0C7XS9NEfQ7QLtdL00R9DtAu10vTRH0O0C7XS9NEfQ7QLtdL00R9DtAu10vTRH0O0C7XS9NEfQ7QLtdL00R9DtAu10vTRH0O0C7XS9NEfQ7QLtdL00R9DtAu10vTRH0O0C7XS9NEfQ7QLtdL00R9DtAu10vTRH0O0ApP6n26QAjQCk/qfbpACNAKT+p9ukAI0ApP6n26QAjQCk/qfbpACNAKT+p9ukAI0ApP6n26QAjQCk/qfbpACNAKT+p9ukAI0ApP6n26QAjQCk/qfbpACNAKT+p9ukAI0ApP6n26QAjQCk/qfbpACNAKT+p9ukAI0ApP6n26QAjQCk/qfbpACNAKT+p9ukAI0ApP6n26QAjQCk/qfbpACNAKT+p9ukAI0ApP6n26QAjQCk/qfbpACNAKT+p9ukAI0ApP6n26QAjQCk/qfbpACNAKT+p9ukAI0ApP6n26QAjQCk/qfbpACNAKT+p9ukAI0ApP6n26QAjQCk/qfbpACNAKT+p9ukAI0ApP6n26QAjQCk/qfbpACNAKT+p9ukAI0ApP6n26QAjQCk/qfbpACNAKT+p9ukAI0ApP6n26QAjQCk/qfbpACNAKT+p9ukAI0ApP6n26QAjQCk/qfbpACNAKT+p9ukAI0ApP6n26QAjQCk/qfbpACNAKT+p9ukAI0ApP6n26QAjQCk/qfbpACNAKT+p9ukAI0ApP6n26QAjQCk/qfbpACNAKT+p9ukAI0ApP6n26QAjQCk/qfbpACNAKT+p9ukAI0ApP6n26QAjQCk/qfbpACNAKT+p9ukAI0ApP6n26QAjQCk/qfbpACNAKT+p9ukAI0ApP6n26QAjQCk/qfbpACNAKT+p9ukAI0ApP6n26QAjQCk/qfbpACNAKT+p9ukAI0ApP6n26QAjQCk/qfbpACNAKT+p9ukAI0ApP6n26QAjQCk/qfbpACNAKT+p9ukAI0ApP6n26QAjQCk/qfbpACNAKT+p9ukAI0ApP6n26QAjQCk/qfbpACNAKT+p9ukAI0ApP6n26QAjQCk/qfbpACNAKT+p9ukAI0ApP6n26QAjQCk/qfbpACNAKT+p9ukAI0ApP6n26QAjQCk/qfbpACNAKT+p9ukAI0ApP6n26QAjQCk/qfbpACNAKT+p9ukAI0ApP6n26QAjQCk/qfbpACNAKT+p9ukAI0ApP6n26QAjQCk/qfbpACNAKT+p9ukAI0ApP6n26QAjQCk/qfbpACNAKT+p9ukAI0ApP6n26QAjQCk/qfbpACNAKT+p9ukAI0ApP6n26QAjQCk/qfbpACNAKT+p9ukAI0ApP6n26QAjQCk/qfbpACNAKT+p9ukAI0ApP6n26QAjQCk/qfbpACNAKT+p9ukAI0ApP6n26QAjQCk/qfbpACNAKT+p9ukAI0ApP6n26QAjQCk/qfbpACNAKT+p9ukAI0ApP6n26QAjQCk/qfbpACNAKT+p9ukAI0ApP6n26QAjQCk/qfbpACNAKT+p9ukAI0ApP6n26QAjQCk/qfbpACNAKT+p9ukAI0ApP6n26QAjQCk/qfbpACNAKT+p9ukAI0ApP6n26QAjQCk/qfbpACNAKT+p9ukAI0ApP6n26QAjQCk/qfbpACNAKT+p9ukAI0ApP6n26QAjQCk/qfbpACNAKT+p9ukAI0ApP6n26QAjQCk/qfbpACNAKT+p9ukAI0ApP6n26QAjQCk/qfbpACNAKT+p9ukAI0ApP6n26QAjQCk/qfbpACNAKT+p9ukAI0ApP6n26QAjQCk/qfbpACNAKT+p9ukAI0ApP6n26QAjQCk/qfbpACNAKT+p9ukAI0ApP6n26QAjQCk/qfbpACNAKT+p9ukAI0ApP6n26QAjQCk/qfbpACNAKT+p9ukAI0ApP6n26QAjQCk/qfbpACNAKT+p9ukAI0ApP6n26QAjQCk/qfbpACNAKT+p9ukAI0ApP6n26QAjQCk/qfbpACNAKT+p9ukAI0ApP6n26QAjQCk/qfbpACNAKT+p9ukAI0ApP6n26QAjQCk/qfbpACNAKT+p9ukAI0ApP6n26QAjQCk/qfbpACNAKT+p9ukAI0ApP6n26QAjQCk/qfbpACNAKT+p9ukAI0ApP6n26QAjQCk/qfbpACNAKT+p9ukAI0ApP6n26QAjQCk/qfbpACNAKT+p9ukAI0ApP6n26QAjQCk/qfbpACNAKT+p9ukAI0ApP6n26QAjQCk/qfbpACNAKT+p9ukAI0ApP6n26QAjQCk/qfbpACNAKT+p9ukAI0ApP6n26QAjQCk/qfbpACNAKT+p9ukAI0ApP6n26QAjQCk/qfbpACNAKT+p9ukAI0ApP6n26QAjQCk/qfbpACNAKT+p9ukAI0ApP6n26QAjQCk/qfbpACNAKT+p9ukAI0ApP6n26QAjQCk/qfbpACNAKT+p9ukAI0ApP6n26QAjQCk/qfbpACNAKT+p9ukAI0ApP6n26QAjQCk/qfbpACNAKT+p9ukAI0ApP6n26QAjQCk/qfbpACNAKT+p9ukAI0ApP6n26QAjQCk/qfbpACNAKT+p9ukAI0ApP6n26QAjQCk/qfbpACNAKT+p9ukAI0ApP6n26QAjQCk/qfbpACNAKT+p9ukAI0ApP6n26QAjQCk/qfbpACNAKT+p9ukAI0ApP6n26QAjQCk/qfbpACNAKT+p9ukAI0ApP6n26QAjQCk/qfbpACNAKT+p9ukAI0ApP6n26QAjQCk/qfbpACNAKT+p9ukAI0ApP6n26QAjQCk/qfbpACNAKT+p9ukAI0ApP6n26QAjQCk/qfbpACNAKT+p9ukAI0ApP6n26QAjQCk/qfbpACNAKT+p9ukAI0ApP6n26QAjQCk/qfbpACNAKT+p9ukAI0ApP6n26QAjQCk/qfbpACNAKT+p9ukAI0ApP6n26QAjQCk/qfbpACNAKT+p9ukAI0ApP6n26QAjQCk/qfbpACNAKT+p9ukAI0ApP6n26QAjQCk/qfbpACNAKT+p9ukAI0ApP6n26QAjQCk/qfbpACNAKT+p9ukAI0ApP6n26QAjQCk/qfbpACNAKT+p9ukAI0ApP6n26QAjQCk/qfbpACNAKT+p9ukAI0ApP6n26QAjQCk/qfbpACNAKT+p9ukAI0ApP6n26QAjQCk/qfbpACNAKT+p9ukAI0ApP6n26QAjQCk/qfbpACNAKT+p9ukAI0ApP6n26QAjQCk/qfbpACNAKT+p9ukAI0ApP6n26QAjQCk/qfbpACNAKT+p9ukAI0ApP6n26QAjQCk/qfbpACNAKT+p9ukAI0ApP6n26QAjQCk/qfbpACNAKT+p9ukAI0ApP6n26QAjQCk/qfbpACNAKT+p9ukAI0ApP6n26QAjQCk/qfbpACNAKT+p9ukAI0ApP6n26QAjQCk/qfbpACNAKT+p9ukAI0ApP6n26QAjQCk/qfbpACNAKT+p9ukAI0ApP6n26QAjQCk/qfbpACNAKT+p9ukAI0ApP6n26QAjQCk/qfbpACNAKT+p9ukAI0ApP6n26QAjQCk/qfbpACNAKT+p9ukAI0ApP6n26QAjQCk/qfbpACNAKT+p9ukAI0ApP6n26QAjQCk/qfbpACNAKT+p9ukAI0ApP6n26QAjQCk/qfbpACNAKT+p9ukAI0ApP6n26QAjQCk/qfbpACNAKT+p9ukAI0ApP6n26QAjQCk/qfbpACNAKT+p9ukAI0ApP6n26QAjQCk/qfbpACNAKT+p9ukAI0ApP6n26QAjQCk/qfbpACNAKT+p9ukAI0ApP6n26QAjQCk/qfbpACNAKT+p9ukAI0ApP6n26QAjQCk/qfbpACNAKT+p9ukAI0ApP6n26QAjQCk/qfbpACNAKT+p9ukAI0ApP6n26QAjQCk/qfbpACNAKT+p9ukAI0ApP6n26QAjQCk/qfbpACNAKT+p9ukAI0ApP6n26QAjQCk/qfbpACNAKT+p9ukAI0ApP6n26QAjQCk/qfbpACNAKT+p9ukAI0ApP6n26QAjQCk/qfbpACNAKT+p9ukAI0ApP6n26QAjQCk/qfbpACNAKT+p9ukAI0ApP6n26QAjQCk/qfbpACNAKT+p9ukAI0ApP6n26QAjQCk/qfbpACNAKT+p9ukAI0ApP6n26QAjQCk/qfbpACNAKT+p9ukAI0ApP6n26QAjQCk/qfbpACNAKT+p9ukAI0ApP6n26QAjQCk/qfbpACNAKT+p9ukAI0ApP6n26QAjQCk/qfbpACNAu10vTRH0O0C7XS9NEfQ7QLtdL00R9DtAu10vTRH0O0C7XS9NEfQ7QLtdL00R9DtAu10vTRH0O0C7XS9NEfQ7QLtdL00R9DtAu10vTRH0O0C7XS9NEfQ7QLtdL00R9DtAu10vTRH0O0C7XS9NEfQ7QLtdL00R9DtAu10vTRH0O0C7XS9NEfQ7QLtdL00R9DtAu10vTRH0O0C7XS9NEfQ7QLtdL00R9DtAu10vTRH0O0C7XS9NEfQ7QLtdL00R9DtAu10vTRH0O0C7XS9NEfQ7QLtdL00R9DtAu10vTRH0O0C7XS9NEfQ7QLtdL00R9DtAu10vTRH0O0C7XS9NEfQ7QLtdL00R9DtAu10vTRH0O0C7XS9NEfQ7QLtdL00R9DtAu10vTRH0O0C7XS9NEfQ7QLtdL00R9DtAu10vTRH0O0C7XS9NEfQ7QLtdL00R9DtAu10vTRH0O0C7XS9NEfQ7QLtdL00R9DtAu10vTRH0O0C7XS9NEfQ7QLtdL00R9DtAu10vTRH0O0C7XS9NEfQ7QLtdL00R9DtAu10vTRH0O0C7XS9NEfQ7QLtdL00R9DtAu10vTRH0O0C7XS9NEfQ7QLtdL00R9DtAu10vTRH0O0C7XS9NEfQ7QLtdL00R9DtAu10vTRH0O0C7XS9NEfQ7QLtdL00R9DtAKT+p9ukAI0ApP6n26QAjQCk/qfbpACNAKT+p9ukAI0ApP6n26QAjQCk/qfbpACNAKT+p9ukAI0ApP6n26QAjQCk/qfbpACNAKT+p9ukAI0ApP6n26QAjQCk/qfbpACNAKT+p9ukAI0ApP6n26QAjQCk/qfbpACNAKT+p9ukAI0ApP6n26QAjQCk/qfbpACNAKT+p9ukAI0ApP6n26QAjQCk/qfbpACNAKT+p9ukAI0ApP6n26QAjQCk/qfbpACNAKT+p9ukAI0ApP6n26QAjQCk/qfbpACNAKT+p9ukAI0ApP6n26QAjQCk/qfbpACNAKT+p9ukAI0ApP6n26QAjQCk/qfbpACNAKT+p9ukAI0ApP6n26QAjQCk/qfbpACNAKT+p9ukAI0ApP6n26QAjQCk/qfbpACNAKT+p9ukAI0ApP6n26QAjQCk/qfbpACNAKT+p9ukAI0ApP6n26QAjQCk/qfbpACNAKT+p9ukAI0ApP6n26QAjQCk/qfbpACNAKT+p9ukAI0ApP6n26QAjQCk/qfbpACNAKT+p9ukAI0ApP6n26QAjQCk/qfbpACNAKT+p9ukAI0ApP6n26QAjQCk/qfbpACNAKT+p9ukAI0ApP6n26QAjQCk/qfbpACNAKT+p9ukAI0ApP6n26QAjQCk/qfbpACNAu10vTRH0O0C7XS9NEfQ7QLtdL00R9DtAu10vTRH0O0C7XS9NEfQ7QLtdL00R9DtAu10vTRH0O0C7XS9NEfQ7QLtdL00R9DtAu10vTRH0O0C7XS9NEfQ7QLtdL00R9DtAu10vTRH0O0C7XS9NEfQ7QLtdL00R9DtAu10vTRH0O0C7XS9NEfQ7QLtdL00R9DtAu10vTRH0O0C7XS9NEfQ7QLtdL00R9DtAu10vTRH0O0C7XS9NEfQ7QLtdL00R9DtAu10vTRH0O0C7XS9NEfQ7QLtdL00R9DtAu10vTRH0O0C7XS9NEfQ7QLtdL00R9DtAu10vTRH0O0C7XS9NEfQ7QLtdL00R9DtAu10vTRH0O0C7XS9NEfQ7QLtdL00R9DtAu10vTRH0O0C7XS9NEfQ7QLtdL00R9DtAu10vTRH0O0C7XS9NEfQ7QLtdL00R9DtAu10vTRH0O0C7XS9NEfQ7QLtdL00R9DtAu10vTRH0O0C7XS9NEfQ7QLtdL00R9DtAu10vTRH0O0C7XS9NEfQ7QLtdL00R9DtAu10vTRH0O0C7XS9NEfQ7QLtdL00R9DtAu10vTRH0O0C7XS9NEfQ7QLtdL00R9DtAu10vTRH0O0C7XS9NEfQ7QLtdL00R9DtAu10vTRH0O0C7XS9NEfQ7QLtdL00R9DtAKT+p9ukAI0ApP6n26QAjQCk/qfbpACNAKT+p9ukAI0ApP6n26QAjQCk/qfbpACNAKT+p9ukAI0ApP6n26QAjQCk/qfbpACNAKT+p9ukAI0ApP6n26QAjQCk/qfbpACNAKT+p9ukAI0ApP6n26QAjQCk/qfbpACNAKT+p9ukAI0ApP6n26QAjQCk/qfbpACNAKT+p9ukAI0ApP6n26QAjQCk/qfbpACNAKT+p9ukAI0ApP6n26QAjQCk/qfbpACNAKT+p9ukAI0ApP6n26QAjQCk/qfbpACNAKT+p9ukAI0ApP6n26QAjQCk/qfbpACNAKT+p9ukAI0ApP6n26QAjQCk/qfbpACNAKT+p9ukAI0ApP6n26QAjQCk/qfbpACNAKT+p9ukAI0ApP6n26QAjQCk/qfbpACNAKT+p9ukAI0ApP6n26QAjQCk/qfbpACNAKT+p9ukAI0ApP6n26QAjQCk/qfbpACNAKT+p9ukAI0ApP6n26QAjQCk/qfbpACNAKT+p9ukAI0ApP6n26QAjQCk/qfbpACNAKT+p9ukAI0ApP6n26QAjQCk/qfbpACNAKT+p9ukAI0ApP6n26QAjQCk/qfbpACNAKT+p9ukAI0ApP6n26QAjQCk/qfbpACNAKT+p9ukAI0ApP6n26QAjQCk/qfbpACNAKT+p9ukAI0ApP6n26QAjQCk/qfbpACNAKT+p9ukAI0ApP6n26QAjQCk/qfbpACNAKT+p9ukAI0ApP6n26QAjQCk/qfbpACNAKT+p9ukAI0ApP6n26QAjQCk/qfbpACNAKT+p9ukAI0ApP6n26QAjQCk/qfbpACNAKT+p9ukAI0ApP6n26QAjQCk/qfbpACNAKT+p9ukAI0ApP6n26QAjQCk/qfbpACNAKT+p9ukAI0ApP6n26QAjQCk/qfbpACNAKT+p9ukAI0ApP6n26QAjQCk/qfbpACNAKT+p9ukAI0ApP6n26QAjQCk/qfbpACNAKT+p9ukAI0ApP6n26QAjQCk/qfbpACNAKT+p9ukAI0ApP6n26QAjQCk/qfbpACNAKT+p9ukAI0ApP6n26QAjQCk/qfbpACNAKT+p9ukAI0A=",
          "dtype": "f8"
         },
         "marker": {
          "color": "green",
          "line": {
           "width": 0
          },
          "size": 7,
          "symbol": "circle"
         },
         "mode": "markers",
         "name": "Low",
         "showlegend": true,
         "type": "scattergeo"
        },
        {
         "geo": "geo",
         "hovertemplate": "risk_tier=High<br>lat=%{lat}<br>lon=%{lon}<extra></extra>",
         "lat": {
          "bdata": "Zryt9NraSkBTYWwhyCFMQGa8rfTa2kpAU2FsIcghTEBmvK302tpKQFNhbCHIIUxAZryt9NraSkBTYWwhyCFMQA==",
          "dtype": "f8"
         },
         "legendgroup": "High",
         "lon": {
          "bdata": "u10vTRH0O0ApP6n26QAjQLtdL00R9DtAKT+p9ukAI0C7XS9NEfQ7QCk/qfbpACNAu10vTRH0O0ApP6n26QAjQA==",
          "dtype": "f8"
         },
         "marker": {
          "color": "red",
          "line": {
           "width": 0
          },
          "size": 7,
          "symbol": "circle"
         },
         "mode": "markers",
         "name": "High",
         "showlegend": true,
         "type": "scattergeo"
        }
       ],
       "layout": {
        "geo": {
         "center": {},
         "domain": {
          "x": [
           0,
           1
          ],
          "y": [
           0,
           1
          ]
         },
         "projection": {
          "type": "natural earth"
         }
        },
        "legend": {
         "title": {
          "text": "risk_tier"
         },
         "tracegroupgap": 0
        },
        "template": {
         "data": {
          "bar": [
           {
            "error_x": {
             "color": "#2a3f5f"
            },
            "error_y": {
             "color": "#2a3f5f"
            },
            "marker": {
             "line": {
              "color": "white",
              "width": 0.5
             },
             "pattern": {
              "fillmode": "overlay",
              "size": 10,
              "solidity": 0.2
             }
            },
            "type": "bar"
           }
          ],
          "barpolar": [
           {
            "marker": {
             "line": {
              "color": "white",
              "width": 0.5
             },
             "pattern": {
              "fillmode": "overlay",
              "size": 10,
              "solidity": 0.2
             }
            },
            "type": "barpolar"
           }
          ],
          "carpet": [
           {
            "aaxis": {
             "endlinecolor": "#2a3f5f",
             "gridcolor": "#C8D4E3",
             "linecolor": "#C8D4E3",
             "minorgridcolor": "#C8D4E3",
             "startlinecolor": "#2a3f5f"
            },
            "baxis": {
             "endlinecolor": "#2a3f5f",
             "gridcolor": "#C8D4E3",
             "linecolor": "#C8D4E3",
             "minorgridcolor": "#C8D4E3",
             "startlinecolor": "#2a3f5f"
            },
            "type": "carpet"
           }
          ],
          "choropleth": [
           {
            "colorbar": {
             "outlinewidth": 0,
             "ticks": ""
            },
            "type": "choropleth"
           }
          ],
          "contour": [
           {
            "colorbar": {
             "outlinewidth": 0,
             "ticks": ""
            },
            "colorscale": [
             [
              0,
              "#0d0887"
             ],
             [
              0.1111111111111111,
              "#46039f"
             ],
             [
              0.2222222222222222,
              "#7201a8"
             ],
             [
              0.3333333333333333,
              "#9c179e"
             ],
             [
              0.4444444444444444,
              "#bd3786"
             ],
             [
              0.5555555555555556,
              "#d8576b"
             ],
             [
              0.6666666666666666,
              "#ed7953"
             ],
             [
              0.7777777777777778,
              "#fb9f3a"
             ],
             [
              0.8888888888888888,
              "#fdca26"
             ],
             [
              1,
              "#f0f921"
             ]
            ],
            "type": "contour"
           }
          ],
          "contourcarpet": [
           {
            "colorbar": {
             "outlinewidth": 0,
             "ticks": ""
            },
            "type": "contourcarpet"
           }
          ],
          "heatmap": [
           {
            "colorbar": {
             "outlinewidth": 0,
             "ticks": ""
            },
            "colorscale": [
             [
              0,
              "#0d0887"
             ],
             [
              0.1111111111111111,
              "#46039f"
             ],
             [
              0.2222222222222222,
              "#7201a8"
             ],
             [
              0.3333333333333333,
              "#9c179e"
             ],
             [
              0.4444444444444444,
              "#bd3786"
             ],
             [
              0.5555555555555556,
              "#d8576b"
             ],
             [
              0.6666666666666666,
              "#ed7953"
             ],
             [
              0.7777777777777778,
              "#fb9f3a"
             ],
             [
              0.8888888888888888,
              "#fdca26"
             ],
             [
              1,
              "#f0f921"
             ]
            ],
            "type": "heatmap"
           }
          ],
          "histogram": [
           {
            "marker": {
             "pattern": {
              "fillmode": "overlay",
              "size": 10,
              "solidity": 0.2
             }
            },
            "type": "histogram"
           }
          ],
          "histogram2d": [
           {
            "colorbar": {
             "outlinewidth": 0,
             "ticks": ""
            },
            "colorscale": [
             [
              0,
              "#0d0887"
             ],
             [
              0.1111111111111111,
              "#46039f"
             ],
             [
              0.2222222222222222,
              "#7201a8"
             ],
             [
              0.3333333333333333,
              "#9c179e"
             ],
             [
              0.4444444444444444,
              "#bd3786"
             ],
             [
              0.5555555555555556,
              "#d8576b"
             ],
             [
              0.6666666666666666,
              "#ed7953"
             ],
             [
              0.7777777777777778,
              "#fb9f3a"
             ],
             [
              0.8888888888888888,
              "#fdca26"
             ],
             [
              1,
              "#f0f921"
             ]
            ],
            "type": "histogram2d"
           }
          ],
          "histogram2dcontour": [
           {
            "colorbar": {
             "outlinewidth": 0,
             "ticks": ""
            },
            "colorscale": [
             [
              0,
              "#0d0887"
             ],
             [
              0.1111111111111111,
              "#46039f"
             ],
             [
              0.2222222222222222,
              "#7201a8"
             ],
             [
              0.3333333333333333,
              "#9c179e"
             ],
             [
              0.4444444444444444,
              "#bd3786"
             ],
             [
              0.5555555555555556,
              "#d8576b"
             ],
             [
              0.6666666666666666,
              "#ed7953"
             ],
             [
              0.7777777777777778,
              "#fb9f3a"
             ],
             [
              0.8888888888888888,
              "#fdca26"
             ],
             [
              1,
              "#f0f921"
             ]
            ],
            "type": "histogram2dcontour"
           }
          ],
          "mesh3d": [
           {
            "colorbar": {
             "outlinewidth": 0,
             "ticks": ""
            },
            "type": "mesh3d"
           }
          ],
          "parcoords": [
           {
            "line": {
             "colorbar": {
              "outlinewidth": 0,
              "ticks": ""
             }
            },
            "type": "parcoords"
           }
          ],
          "pie": [
           {
            "automargin": true,
            "type": "pie"
           }
          ],
          "scatter": [
           {
            "fillpattern": {
             "fillmode": "overlay",
             "size": 10,
             "solidity": 0.2
            },
            "type": "scatter"
           }
          ],
          "scatter3d": [
           {
            "line": {
             "colorbar": {
              "outlinewidth": 0,
              "ticks": ""
             }
            },
            "marker": {
             "colorbar": {
              "outlinewidth": 0,
              "ticks": ""
             }
            },
            "type": "scatter3d"
           }
          ],
          "scattercarpet": [
           {
            "marker": {
             "colorbar": {
              "outlinewidth": 0,
              "ticks": ""
             }
            },
            "type": "scattercarpet"
           }
          ],
          "scattergeo": [
           {
            "marker": {
             "colorbar": {
              "outlinewidth": 0,
              "ticks": ""
             }
            },
            "type": "scattergeo"
           }
          ],
          "scattergl": [
           {
            "marker": {
             "colorbar": {
              "outlinewidth": 0,
              "ticks": ""
             }
            },
            "type": "scattergl"
           }
          ],
          "scattermap": [
           {
            "marker": {
             "colorbar": {
              "outlinewidth": 0,
              "ticks": ""
             }
            },
            "type": "scattermap"
           }
          ],
          "scattermapbox": [
           {
            "marker": {
             "colorbar": {
              "outlinewidth": 0,
              "ticks": ""
             }
            },
            "type": "scattermapbox"
           }
          ],
          "scatterpolar": [
           {
            "marker": {
             "colorbar": {
              "outlinewidth": 0,
              "ticks": ""
             }
            },
            "type": "scatterpolar"
           }
          ],
          "scatterpolargl": [
           {
            "marker": {
             "colorbar": {
              "outlinewidth": 0,
              "ticks": ""
             }
            },
            "type": "scatterpolargl"
           }
          ],
          "scatterternary": [
           {
            "marker": {
             "colorbar": {
              "outlinewidth": 0,
              "ticks": ""
             }
            },
            "type": "scatterternary"
           }
          ],
          "surface": [
           {
            "colorbar": {
             "outlinewidth": 0,
             "ticks": ""
            },
            "colorscale": [
             [
              0,
              "#0d0887"
             ],
             [
              0.1111111111111111,
              "#46039f"
             ],
             [
              0.2222222222222222,
              "#7201a8"
             ],
             [
              0.3333333333333333,
              "#9c179e"
             ],
             [
              0.4444444444444444,
              "#bd3786"
             ],
             [
              0.5555555555555556,
              "#d8576b"
             ],
             [
              0.6666666666666666,
              "#ed7953"
             ],
             [
              0.7777777777777778,
              "#fb9f3a"
             ],
             [
              0.8888888888888888,
              "#fdca26"
             ],
             [
              1,
              "#f0f921"
             ]
            ],
            "type": "surface"
           }
          ],
          "table": [
           {
            "cells": {
             "fill": {
              "color": "#EBF0F8"
             },
             "line": {
              "color": "white"
             }
            },
            "header": {
             "fill": {
              "color": "#C8D4E3"
             },
             "line": {
              "color": "white"
             }
            },
            "type": "table"
           }
          ]
         },
         "layout": {
          "annotationdefaults": {
           "arrowcolor": "#2a3f5f",
           "arrowhead": 0,
           "arrowwidth": 1
          },
          "autotypenumbers": "strict",
          "coloraxis": {
           "colorbar": {
            "outlinewidth": 0,
            "ticks": ""
           }
          },
          "colorscale": {
           "diverging": [
            [
             0,
             "#8e0152"
            ],
            [
             0.1,
             "#c51b7d"
            ],
            [
             0.2,
             "#de77ae"
            ],
            [
             0.3,
             "#f1b6da"
            ],
            [
             0.4,
             "#fde0ef"
            ],
            [
             0.5,
             "#f7f7f7"
            ],
            [
             0.6,
             "#e6f5d0"
            ],
            [
             0.7,
             "#b8e186"
            ],
            [
             0.8,
             "#7fbc41"
            ],
            [
             0.9,
             "#4d9221"
            ],
            [
             1,
             "#276419"
            ]
           ],
           "sequential": [
            [
             0,
             "#0d0887"
            ],
            [
             0.1111111111111111,
             "#46039f"
            ],
            [
             0.2222222222222222,
             "#7201a8"
            ],
            [
             0.3333333333333333,
             "#9c179e"
            ],
            [
             0.4444444444444444,
             "#bd3786"
            ],
            [
             0.5555555555555556,
             "#d8576b"
            ],
            [
             0.6666666666666666,
             "#ed7953"
            ],
            [
             0.7777777777777778,
             "#fb9f3a"
            ],
            [
             0.8888888888888888,
             "#fdca26"
            ],
            [
             1,
             "#f0f921"
            ]
           ],
           "sequentialminus": [
            [
             0,
             "#0d0887"
            ],
            [
             0.1111111111111111,
             "#46039f"
            ],
            [
             0.2222222222222222,
             "#7201a8"
            ],
            [
             0.3333333333333333,
             "#9c179e"
            ],
            [
             0.4444444444444444,
             "#bd3786"
            ],
            [
             0.5555555555555556,
             "#d8576b"
            ],
            [
             0.6666666666666666,
             "#ed7953"
            ],
            [
             0.7777777777777778,
             "#fb9f3a"
            ],
            [
             0.8888888888888888,
             "#fdca26"
            ],
            [
             1,
             "#f0f921"
            ]
           ]
          },
          "colorway": [
           "#636efa",
           "#EF553B",
           "#00cc96",
           "#ab63fa",
           "#FFA15A",
           "#19d3f3",
           "#FF6692",
           "#B6E880",
           "#FF97FF",
           "#FECB52"
          ],
          "font": {
           "color": "#2a3f5f"
          },
          "geo": {
           "bgcolor": "white",
           "lakecolor": "white",
           "landcolor": "white",
           "showlakes": true,
           "showland": true,
           "subunitcolor": "#C8D4E3"
          },
          "hoverlabel": {
           "align": "left"
          },
          "hovermode": "closest",
          "mapbox": {
           "style": "light"
          },
          "paper_bgcolor": "white",
          "plot_bgcolor": "white",
          "polar": {
           "angularaxis": {
            "gridcolor": "#EBF0F8",
            "linecolor": "#EBF0F8",
            "ticks": ""
           },
           "bgcolor": "white",
           "radialaxis": {
            "gridcolor": "#EBF0F8",
            "linecolor": "#EBF0F8",
            "ticks": ""
           }
          },
          "scene": {
           "xaxis": {
            "backgroundcolor": "white",
            "gridcolor": "#DFE8F3",
            "gridwidth": 2,
            "linecolor": "#EBF0F8",
            "showbackground": true,
            "ticks": "",
            "zerolinecolor": "#EBF0F8"
           },
           "yaxis": {
            "backgroundcolor": "white",
            "gridcolor": "#DFE8F3",
            "gridwidth": 2,
            "linecolor": "#EBF0F8",
            "showbackground": true,
            "ticks": "",
            "zerolinecolor": "#EBF0F8"
           },
           "zaxis": {
            "backgroundcolor": "white",
            "gridcolor": "#DFE8F3",
            "gridwidth": 2,
            "linecolor": "#EBF0F8",
            "showbackground": true,
            "ticks": "",
            "zerolinecolor": "#EBF0F8"
           }
          },
          "shapedefaults": {
           "line": {
            "color": "#2a3f5f"
           }
          },
          "ternary": {
           "aaxis": {
            "gridcolor": "#DFE8F3",
            "linecolor": "#A2B1C6",
            "ticks": ""
           },
           "baxis": {
            "gridcolor": "#DFE8F3",
            "linecolor": "#A2B1C6",
            "ticks": ""
           },
           "bgcolor": "white",
           "caxis": {
            "gridcolor": "#DFE8F3",
            "linecolor": "#A2B1C6",
            "ticks": ""
           }
          },
          "title": {
           "x": 0.05
          },
          "xaxis": {
           "automargin": true,
           "gridcolor": "#EBF0F8",
           "linecolor": "#EBF0F8",
           "ticks": "",
           "title": {
            "standoff": 15
           },
           "zerolinecolor": "#EBF0F8",
           "zerolinewidth": 2
          },
          "yaxis": {
           "automargin": true,
           "gridcolor": "#EBF0F8",
           "linecolor": "#EBF0F8",
           "ticks": "",
           "title": {
            "standoff": 15
           },
           "zerolinecolor": "#EBF0F8",
           "zerolinewidth": 2
          }
         }
        },
        "title": {
         "text": "COVID-19 Risk Tier Map"
        }
       }
      }
     },
     "metadata": {},
     "output_type": "display_data"
    }
   ],
   "source": [
    "fig = px.scatter_geo(\n",
    "    pdf_sample,\n",
    "    lat=\"lat\",\n",
    "    lon=\"lon\",\n",
    "    color=\"risk_tier\",\n",
    "    title=\"COVID-19 Risk Tier Map\",\n",
    "    projection=\"natural earth\",\n",
    "    template=\"plotly_white\",\n",
    "    color_discrete_map={\n",
    "        \"High\": \"red\",\n",
    "        \"Medium\": \"orange\",\n",
    "        \"Low\": \"green\"\n",
    "    }\n",
    ")\n",
    "fig.update_traces(marker=dict(size=7, line=dict(width=0)))\n",
    "fig.show()\n"
   ]
  },
  {
   "cell_type": "code",
   "execution_count": 58,
   "id": "826d9ee3",
   "metadata": {},
   "outputs": [
    {
     "data": {
      "application/vnd.plotly.v1+json": {
       "config": {
        "plotlyServerURL": "https://plot.ly"
       },
       "data": [
        {
         "geo": "geo",
         "hovertemplate": "risk_tier=Low<br>month=2020-01<br>lat=%{lat}<br>lon=%{lon}<extra></extra>",
         "lat": {
          "bdata": "U2FsIcghTEBTYWwhyCFMQFNhbCHIIUxAU2FsIcghTEBTYWwhyCFMQFNhbCHIIUxAU2FsIcghTEBTYWwhyCFMQFNhbCHIIUxAU2FsIcghTEBTYWwhyCFMQFNhbCHIIUxAU2FsIcghTEBTYWwhyCFMQFNhbCHIIUxAU2FsIcghTEBTYWwhyCFMQFNhbCHIIUxAU2FsIcghTEBTYWwhyCFMQFNhbCHIIUxAU2FsIcghTEBTYWwhyCFMQFNhbCHIIUxAU2FsIcghTEBTYWwhyCFMQFNhbCHIIUxAU2FsIcghTEBTYWwhyCFMQFNhbCHIIUxAU2FsIcghTEA=",
          "dtype": "f8"
         },
         "legendgroup": "Low",
         "lon": {
          "bdata": "KT+p9ukAI0ApP6n26QAjQCk/qfbpACNAKT+p9ukAI0ApP6n26QAjQCk/qfbpACNAKT+p9ukAI0ApP6n26QAjQCk/qfbpACNAKT+p9ukAI0ApP6n26QAjQCk/qfbpACNAKT+p9ukAI0ApP6n26QAjQCk/qfbpACNAKT+p9ukAI0ApP6n26QAjQCk/qfbpACNAKT+p9ukAI0ApP6n26QAjQCk/qfbpACNAKT+p9ukAI0ApP6n26QAjQCk/qfbpACNAKT+p9ukAI0ApP6n26QAjQCk/qfbpACNAKT+p9ukAI0ApP6n26QAjQCk/qfbpACNAKT+p9ukAI0A=",
          "dtype": "f8"
         },
         "marker": {
          "color": "green",
          "size": 6,
          "symbol": "circle"
         },
         "mode": "markers",
         "name": "Low",
         "showlegend": true,
         "type": "scattergeo"
        }
       ],
       "frames": [
        {
         "data": [
          {
           "geo": "geo",
           "hovertemplate": "risk_tier=Low<br>month=2020-01<br>lat=%{lat}<br>lon=%{lon}<extra></extra>",
           "lat": {
            "bdata": "U2FsIcghTEBTYWwhyCFMQFNhbCHIIUxAU2FsIcghTEBTYWwhyCFMQFNhbCHIIUxAU2FsIcghTEBTYWwhyCFMQFNhbCHIIUxAU2FsIcghTEBTYWwhyCFMQFNhbCHIIUxAU2FsIcghTEBTYWwhyCFMQFNhbCHIIUxAU2FsIcghTEBTYWwhyCFMQFNhbCHIIUxAU2FsIcghTEBTYWwhyCFMQFNhbCHIIUxAU2FsIcghTEBTYWwhyCFMQFNhbCHIIUxAU2FsIcghTEBTYWwhyCFMQFNhbCHIIUxAU2FsIcghTEBTYWwhyCFMQFNhbCHIIUxAU2FsIcghTEA=",
            "dtype": "f8"
           },
           "legendgroup": "Low",
           "lon": {
            "bdata": "KT+p9ukAI0ApP6n26QAjQCk/qfbpACNAKT+p9ukAI0ApP6n26QAjQCk/qfbpACNAKT+p9ukAI0ApP6n26QAjQCk/qfbpACNAKT+p9ukAI0ApP6n26QAjQCk/qfbpACNAKT+p9ukAI0ApP6n26QAjQCk/qfbpACNAKT+p9ukAI0ApP6n26QAjQCk/qfbpACNAKT+p9ukAI0ApP6n26QAjQCk/qfbpACNAKT+p9ukAI0ApP6n26QAjQCk/qfbpACNAKT+p9ukAI0ApP6n26QAjQCk/qfbpACNAKT+p9ukAI0ApP6n26QAjQCk/qfbpACNAKT+p9ukAI0A=",
            "dtype": "f8"
           },
           "marker": {
            "color": "green",
            "symbol": "circle"
           },
           "mode": "markers",
           "name": "Low",
           "showlegend": true,
           "type": "scattergeo"
          }
         ],
         "name": "2020-01"
        },
        {
         "data": [
          {
           "geo": "geo",
           "hovertemplate": "risk_tier=Low<br>month=2020-02<br>lat=%{lat}<br>lon=%{lon}<extra></extra>",
           "lat": {
            "bdata": "U2FsIcghTEBTYWwhyCFMQFNhbCHIIUxAU2FsIcghTEBTYWwhyCFMQFNhbCHIIUxAU2FsIcghTEBTYWwhyCFMQFNhbCHIIUxAU2FsIcghTEBTYWwhyCFMQFNhbCHIIUxAU2FsIcghTEBTYWwhyCFMQFNhbCHIIUxAU2FsIcghTEBTYWwhyCFMQFNhbCHIIUxAU2FsIcghTEBTYWwhyCFMQFNhbCHIIUxAU2FsIcghTEBTYWwhyCFMQFNhbCHIIUxAU2FsIcghTEBTYWwhyCFMQFNhbCHIIUxAU2FsIcghTEBTYWwhyCFMQA==",
            "dtype": "f8"
           },
           "legendgroup": "Low",
           "lon": {
            "bdata": "KT+p9ukAI0ApP6n26QAjQCk/qfbpACNAKT+p9ukAI0ApP6n26QAjQCk/qfbpACNAKT+p9ukAI0ApP6n26QAjQCk/qfbpACNAKT+p9ukAI0ApP6n26QAjQCk/qfbpACNAKT+p9ukAI0ApP6n26QAjQCk/qfbpACNAKT+p9ukAI0ApP6n26QAjQCk/qfbpACNAKT+p9ukAI0ApP6n26QAjQCk/qfbpACNAKT+p9ukAI0ApP6n26QAjQCk/qfbpACNAKT+p9ukAI0ApP6n26QAjQCk/qfbpACNAKT+p9ukAI0ApP6n26QAjQA==",
            "dtype": "f8"
           },
           "marker": {
            "color": "green",
            "symbol": "circle"
           },
           "mode": "markers",
           "name": "Low",
           "showlegend": true,
           "type": "scattergeo"
          }
         ],
         "name": "2020-02"
        },
        {
         "data": [
          {
           "geo": "geo",
           "hovertemplate": "risk_tier=Low<br>month=2020-03<br>lat=%{lat}<br>lon=%{lon}<extra></extra>",
           "lat": {
            "bdata": "U2FsIcghTEBTYWwhyCFMQFNhbCHIIUxAZryt9NraSkBmvK302tpKQGa8rfTa2kpAZryt9NraSkBmvK302tpKQGa8rfTa2kpAZryt9NraSkBmvK302tpKQGa8rfTa2kpAZryt9NraSkBmvK302tpKQGa8rfTa2kpAZryt9NraSkBmvK302tpKQGa8rfTa2kpAZryt9NraSkBmvK302tpKQGa8rfTa2kpAZryt9NraSkBmvK302tpKQGa8rfTa2kpAZryt9NraSkBmvK302tpKQGa8rfTa2kpAZryt9NraSkBmvK302tpKQGa8rfTa2kpA",
            "dtype": "f8"
           },
           "legendgroup": "Low",
           "lon": {
            "bdata": "KT+p9ukAI0ApP6n26QAjQCk/qfbpACNAu10vTRH0O0C7XS9NEfQ7QLtdL00R9DtAu10vTRH0O0C7XS9NEfQ7QLtdL00R9DtAu10vTRH0O0C7XS9NEfQ7QLtdL00R9DtAu10vTRH0O0C7XS9NEfQ7QLtdL00R9DtAu10vTRH0O0C7XS9NEfQ7QLtdL00R9DtAu10vTRH0O0C7XS9NEfQ7QLtdL00R9DtAu10vTRH0O0C7XS9NEfQ7QLtdL00R9DtAu10vTRH0O0C7XS9NEfQ7QLtdL00R9DtAu10vTRH0O0C7XS9NEfQ7QLtdL00R9DtA",
            "dtype": "f8"
           },
           "marker": {
            "color": "green",
            "symbol": "circle"
           },
           "mode": "markers",
           "name": "Low",
           "showlegend": true,
           "type": "scattergeo"
          },
          {
           "geo": "geo",
           "hovertemplate": "risk_tier=High<br>month=2020-03<br>lat=%{lat}<br>lon=%{lon}<extra></extra>",
           "lat": {
            "bdata": "Zryt9NraSkA=",
            "dtype": "f8"
           },
           "legendgroup": "High",
           "lon": {
            "bdata": "u10vTRH0O0A=",
            "dtype": "f8"
           },
           "marker": {
            "color": "red",
            "symbol": "circle"
           },
           "mode": "markers",
           "name": "High",
           "showlegend": true,
           "type": "scattergeo"
          }
         ],
         "name": "2020-03"
        },
        {
         "data": [
          {
           "geo": "geo",
           "hovertemplate": "risk_tier=Low<br>month=2020-04<br>lat=%{lat}<br>lon=%{lon}<extra></extra>",
           "lat": {
            "bdata": "Zryt9NraSkBmvK302tpKQGa8rfTa2kpAZryt9NraSkBmvK302tpKQGa8rfTa2kpAZryt9NraSkBmvK302tpKQGa8rfTa2kpAZryt9NraSkBmvK302tpKQGa8rfTa2kpAZryt9NraSkBmvK302tpKQGa8rfTa2kpAZryt9NraSkBmvK302tpKQGa8rfTa2kpAZryt9NraSkBmvK302tpKQGa8rfTa2kpAZryt9NraSkBmvK302tpKQGa8rfTa2kpAZryt9NraSkBmvK302tpKQGa8rfTa2kpAZryt9NraSkBmvK302tpKQGa8rfTa2kpA",
            "dtype": "f8"
           },
           "legendgroup": "Low",
           "lon": {
            "bdata": "u10vTRH0O0C7XS9NEfQ7QLtdL00R9DtAu10vTRH0O0C7XS9NEfQ7QLtdL00R9DtAu10vTRH0O0C7XS9NEfQ7QLtdL00R9DtAu10vTRH0O0C7XS9NEfQ7QLtdL00R9DtAu10vTRH0O0C7XS9NEfQ7QLtdL00R9DtAu10vTRH0O0C7XS9NEfQ7QLtdL00R9DtAu10vTRH0O0C7XS9NEfQ7QLtdL00R9DtAu10vTRH0O0C7XS9NEfQ7QLtdL00R9DtAu10vTRH0O0C7XS9NEfQ7QLtdL00R9DtAu10vTRH0O0C7XS9NEfQ7QLtdL00R9DtA",
            "dtype": "f8"
           },
           "marker": {
            "color": "green",
            "symbol": "circle"
           },
           "mode": "markers",
           "name": "Low",
           "showlegend": true,
           "type": "scattergeo"
          }
         ],
         "name": "2020-04"
        },
        {
         "data": [
          {
           "geo": "geo",
           "hovertemplate": "risk_tier=Low<br>month=2020-05<br>lat=%{lat}<br>lon=%{lon}<extra></extra>",
           "lat": {
            "bdata": "Zryt9NraSkBmvK302tpKQGa8rfTa2kpAZryt9NraSkBmvK302tpKQGa8rfTa2kpAZryt9NraSkBmvK302tpKQGa8rfTa2kpAZryt9NraSkBmvK302tpKQGa8rfTa2kpAZryt9NraSkBmvK302tpKQGa8rfTa2kpAZryt9NraSkBmvK302tpKQGa8rfTa2kpAZryt9NraSkBmvK302tpKQGa8rfTa2kpAZryt9NraSkBmvK302tpKQGa8rfTa2kpAZryt9NraSkBmvK302tpKQGa8rfTa2kpAZryt9NraSkBmvK302tpKQGa8rfTa2kpAZryt9NraSkA=",
            "dtype": "f8"
           },
           "legendgroup": "Low",
           "lon": {
            "bdata": "u10vTRH0O0C7XS9NEfQ7QLtdL00R9DtAu10vTRH0O0C7XS9NEfQ7QLtdL00R9DtAu10vTRH0O0C7XS9NEfQ7QLtdL00R9DtAu10vTRH0O0C7XS9NEfQ7QLtdL00R9DtAu10vTRH0O0C7XS9NEfQ7QLtdL00R9DtAu10vTRH0O0C7XS9NEfQ7QLtdL00R9DtAu10vTRH0O0C7XS9NEfQ7QLtdL00R9DtAu10vTRH0O0C7XS9NEfQ7QLtdL00R9DtAu10vTRH0O0C7XS9NEfQ7QLtdL00R9DtAu10vTRH0O0C7XS9NEfQ7QLtdL00R9DtAu10vTRH0O0A=",
            "dtype": "f8"
           },
           "marker": {
            "color": "green",
            "symbol": "circle"
           },
           "mode": "markers",
           "name": "Low",
           "showlegend": true,
           "type": "scattergeo"
          }
         ],
         "name": "2020-05"
        },
        {
         "data": [
          {
           "geo": "geo",
           "hovertemplate": "risk_tier=Low<br>month=2020-06<br>lat=%{lat}<br>lon=%{lon}<extra></extra>",
           "lat": {
            "bdata": "Zryt9NraSkBmvK302tpKQGa8rfTa2kpAZryt9NraSkBmvK302tpKQGa8rfTa2kpAZryt9NraSkBmvK302tpKQGa8rfTa2kpAZryt9NraSkBmvK302tpKQGa8rfTa2kpAZryt9NraSkBmvK302tpKQGa8rfTa2kpAZryt9NraSkBmvK302tpKQGa8rfTa2kpAZryt9NraSkBmvK302tpKQGa8rfTa2kpAZryt9NraSkBmvK302tpKQGa8rfTa2kpAZryt9NraSkBmvK302tpKQGa8rfTa2kpAZryt9NraSkBmvK302tpKQGa8rfTa2kpA",
            "dtype": "f8"
           },
           "legendgroup": "Low",
           "lon": {
            "bdata": "u10vTRH0O0C7XS9NEfQ7QLtdL00R9DtAu10vTRH0O0C7XS9NEfQ7QLtdL00R9DtAu10vTRH0O0C7XS9NEfQ7QLtdL00R9DtAu10vTRH0O0C7XS9NEfQ7QLtdL00R9DtAu10vTRH0O0C7XS9NEfQ7QLtdL00R9DtAu10vTRH0O0C7XS9NEfQ7QLtdL00R9DtAu10vTRH0O0C7XS9NEfQ7QLtdL00R9DtAu10vTRH0O0C7XS9NEfQ7QLtdL00R9DtAu10vTRH0O0C7XS9NEfQ7QLtdL00R9DtAu10vTRH0O0C7XS9NEfQ7QLtdL00R9DtA",
            "dtype": "f8"
           },
           "marker": {
            "color": "green",
            "symbol": "circle"
           },
           "mode": "markers",
           "name": "Low",
           "showlegend": true,
           "type": "scattergeo"
          }
         ],
         "name": "2020-06"
        },
        {
         "data": [
          {
           "geo": "geo",
           "hovertemplate": "risk_tier=Low<br>month=2020-07<br>lat=%{lat}<br>lon=%{lon}<extra></extra>",
           "lat": {
            "bdata": "Zryt9NraSkBmvK302tpKQGa8rfTa2kpAZryt9NraSkBmvK302tpKQGa8rfTa2kpAZryt9NraSkBmvK302tpKQGa8rfTa2kpAU2FsIcghTEBTYWwhyCFMQFNhbCHIIUxAU2FsIcghTEBTYWwhyCFMQFNhbCHIIUxAU2FsIcghTEBTYWwhyCFMQFNhbCHIIUxAU2FsIcghTEBTYWwhyCFMQFNhbCHIIUxAU2FsIcghTEBTYWwhyCFMQFNhbCHIIUxAU2FsIcghTEBTYWwhyCFMQFNhbCHIIUxAU2FsIcghTEBTYWwhyCFMQFNhbCHIIUxA",
            "dtype": "f8"
           },
           "legendgroup": "Low",
           "lon": {
            "bdata": "u10vTRH0O0C7XS9NEfQ7QLtdL00R9DtAu10vTRH0O0C7XS9NEfQ7QLtdL00R9DtAu10vTRH0O0C7XS9NEfQ7QLtdL00R9DtAKT+p9ukAI0ApP6n26QAjQCk/qfbpACNAKT+p9ukAI0ApP6n26QAjQCk/qfbpACNAKT+p9ukAI0ApP6n26QAjQCk/qfbpACNAKT+p9ukAI0ApP6n26QAjQCk/qfbpACNAKT+p9ukAI0ApP6n26QAjQCk/qfbpACNAKT+p9ukAI0ApP6n26QAjQCk/qfbpACNAKT+p9ukAI0ApP6n26QAjQCk/qfbpACNA",
            "dtype": "f8"
           },
           "marker": {
            "color": "green",
            "symbol": "circle"
           },
           "mode": "markers",
           "name": "Low",
           "showlegend": true,
           "type": "scattergeo"
          },
          {
           "geo": "geo",
           "hovertemplate": "risk_tier=High<br>month=2020-07<br>lat=%{lat}<br>lon=%{lon}<extra></extra>",
           "lat": {
            "bdata": "U2FsIcghTEA=",
            "dtype": "f8"
           },
           "legendgroup": "High",
           "lon": {
            "bdata": "KT+p9ukAI0A=",
            "dtype": "f8"
           },
           "marker": {
            "color": "red",
            "symbol": "circle"
           },
           "mode": "markers",
           "name": "High",
           "showlegend": true,
           "type": "scattergeo"
          }
         ],
         "name": "2020-07"
        },
        {
         "data": [
          {
           "geo": "geo",
           "hovertemplate": "risk_tier=Low<br>month=2020-08<br>lat=%{lat}<br>lon=%{lon}<extra></extra>",
           "lat": {
            "bdata": "U2FsIcghTEBTYWwhyCFMQFNhbCHIIUxAU2FsIcghTEBTYWwhyCFMQFNhbCHIIUxAU2FsIcghTEBTYWwhyCFMQFNhbCHIIUxAU2FsIcghTEBTYWwhyCFMQFNhbCHIIUxAU2FsIcghTEBTYWwhyCFMQFNhbCHIIUxAU2FsIcghTEBTYWwhyCFMQFNhbCHIIUxAU2FsIcghTEBTYWwhyCFMQFNhbCHIIUxAU2FsIcghTEBTYWwhyCFMQFNhbCHIIUxAU2FsIcghTEBTYWwhyCFMQFNhbCHIIUxAU2FsIcghTEBTYWwhyCFMQFNhbCHIIUxAU2FsIcghTEA=",
            "dtype": "f8"
           },
           "legendgroup": "Low",
           "lon": {
            "bdata": "KT+p9ukAI0ApP6n26QAjQCk/qfbpACNAKT+p9ukAI0ApP6n26QAjQCk/qfbpACNAKT+p9ukAI0ApP6n26QAjQCk/qfbpACNAKT+p9ukAI0ApP6n26QAjQCk/qfbpACNAKT+p9ukAI0ApP6n26QAjQCk/qfbpACNAKT+p9ukAI0ApP6n26QAjQCk/qfbpACNAKT+p9ukAI0ApP6n26QAjQCk/qfbpACNAKT+p9ukAI0ApP6n26QAjQCk/qfbpACNAKT+p9ukAI0ApP6n26QAjQCk/qfbpACNAKT+p9ukAI0ApP6n26QAjQCk/qfbpACNAKT+p9ukAI0A=",
            "dtype": "f8"
           },
           "marker": {
            "color": "green",
            "symbol": "circle"
           },
           "mode": "markers",
           "name": "Low",
           "showlegend": true,
           "type": "scattergeo"
          }
         ],
         "name": "2020-08"
        },
        {
         "data": [
          {
           "geo": "geo",
           "hovertemplate": "risk_tier=Low<br>month=2020-09<br>lat=%{lat}<br>lon=%{lon}<extra></extra>",
           "lat": {
            "bdata": "U2FsIcghTEBTYWwhyCFMQFNhbCHIIUxAU2FsIcghTEBTYWwhyCFMQFNhbCHIIUxAU2FsIcghTEBTYWwhyCFMQFNhbCHIIUxAU2FsIcghTEBTYWwhyCFMQGa8rfTa2kpAZryt9NraSkBmvK302tpKQGa8rfTa2kpAZryt9NraSkBmvK302tpKQGa8rfTa2kpAZryt9NraSkBmvK302tpKQGa8rfTa2kpAZryt9NraSkBmvK302tpKQGa8rfTa2kpAZryt9NraSkBmvK302tpKQGa8rfTa2kpAZryt9NraSkBmvK302tpKQA==",
            "dtype": "f8"
           },
           "legendgroup": "Low",
           "lon": {
            "bdata": "KT+p9ukAI0ApP6n26QAjQCk/qfbpACNAKT+p9ukAI0ApP6n26QAjQCk/qfbpACNAKT+p9ukAI0ApP6n26QAjQCk/qfbpACNAKT+p9ukAI0ApP6n26QAjQLtdL00R9DtAu10vTRH0O0C7XS9NEfQ7QLtdL00R9DtAu10vTRH0O0C7XS9NEfQ7QLtdL00R9DtAu10vTRH0O0C7XS9NEfQ7QLtdL00R9DtAu10vTRH0O0C7XS9NEfQ7QLtdL00R9DtAu10vTRH0O0C7XS9NEfQ7QLtdL00R9DtAu10vTRH0O0C7XS9NEfQ7QA==",
            "dtype": "f8"
           },
           "marker": {
            "color": "green",
            "symbol": "circle"
           },
           "mode": "markers",
           "name": "Low",
           "showlegend": true,
           "type": "scattergeo"
          },
          {
           "geo": "geo",
           "hovertemplate": "risk_tier=High<br>month=2020-09<br>lat=%{lat}<br>lon=%{lon}<extra></extra>",
           "lat": {
            "bdata": "Zryt9NraSkA=",
            "dtype": "f8"
           },
           "legendgroup": "High",
           "lon": {
            "bdata": "u10vTRH0O0A=",
            "dtype": "f8"
           },
           "marker": {
            "color": "red",
            "symbol": "circle"
           },
           "mode": "markers",
           "name": "High",
           "showlegend": true,
           "type": "scattergeo"
          }
         ],
         "name": "2020-09"
        },
        {
         "data": [
          {
           "geo": "geo",
           "hovertemplate": "risk_tier=Low<br>month=2020-10<br>lat=%{lat}<br>lon=%{lon}<extra></extra>",
           "lat": {
            "bdata": "Zryt9NraSkBmvK302tpKQGa8rfTa2kpAZryt9NraSkBmvK302tpKQGa8rfTa2kpAZryt9NraSkBmvK302tpKQGa8rfTa2kpAZryt9NraSkBmvK302tpKQGa8rfTa2kpAZryt9NraSkBmvK302tpKQGa8rfTa2kpAZryt9NraSkBmvK302tpKQGa8rfTa2kpAZryt9NraSkBmvK302tpKQGa8rfTa2kpAZryt9NraSkBmvK302tpKQGa8rfTa2kpAZryt9NraSkBmvK302tpKQGa8rfTa2kpAZryt9NraSkBmvK302tpKQGa8rfTa2kpAZryt9NraSkA=",
            "dtype": "f8"
           },
           "legendgroup": "Low",
           "lon": {
            "bdata": "u10vTRH0O0C7XS9NEfQ7QLtdL00R9DtAu10vTRH0O0C7XS9NEfQ7QLtdL00R9DtAu10vTRH0O0C7XS9NEfQ7QLtdL00R9DtAu10vTRH0O0C7XS9NEfQ7QLtdL00R9DtAu10vTRH0O0C7XS9NEfQ7QLtdL00R9DtAu10vTRH0O0C7XS9NEfQ7QLtdL00R9DtAu10vTRH0O0C7XS9NEfQ7QLtdL00R9DtAu10vTRH0O0C7XS9NEfQ7QLtdL00R9DtAu10vTRH0O0C7XS9NEfQ7QLtdL00R9DtAu10vTRH0O0C7XS9NEfQ7QLtdL00R9DtAu10vTRH0O0A=",
            "dtype": "f8"
           },
           "marker": {
            "color": "green",
            "symbol": "circle"
           },
           "mode": "markers",
           "name": "Low",
           "showlegend": true,
           "type": "scattergeo"
          }
         ],
         "name": "2020-10"
        },
        {
         "data": [
          {
           "geo": "geo",
           "hovertemplate": "risk_tier=Low<br>month=2020-11<br>lat=%{lat}<br>lon=%{lon}<extra></extra>",
           "lat": {
            "bdata": "Zryt9NraSkBmvK302tpKQGa8rfTa2kpAZryt9NraSkBmvK302tpKQGa8rfTa2kpAZryt9NraSkBmvK302tpKQGa8rfTa2kpAZryt9NraSkBmvK302tpKQGa8rfTa2kpAZryt9NraSkBmvK302tpKQFNhbCHIIUxAU2FsIcghTEBTYWwhyCFMQFNhbCHIIUxAU2FsIcghTEBTYWwhyCFMQFNhbCHIIUxAU2FsIcghTEBTYWwhyCFMQFNhbCHIIUxAU2FsIcghTEBTYWwhyCFMQFNhbCHIIUxAU2FsIcghTEBTYWwhyCFMQA==",
            "dtype": "f8"
           },
           "legendgroup": "Low",
           "lon": {
            "bdata": "u10vTRH0O0C7XS9NEfQ7QLtdL00R9DtAu10vTRH0O0C7XS9NEfQ7QLtdL00R9DtAu10vTRH0O0C7XS9NEfQ7QLtdL00R9DtAu10vTRH0O0C7XS9NEfQ7QLtdL00R9DtAu10vTRH0O0C7XS9NEfQ7QCk/qfbpACNAKT+p9ukAI0ApP6n26QAjQCk/qfbpACNAKT+p9ukAI0ApP6n26QAjQCk/qfbpACNAKT+p9ukAI0ApP6n26QAjQCk/qfbpACNAKT+p9ukAI0ApP6n26QAjQCk/qfbpACNAKT+p9ukAI0ApP6n26QAjQA==",
            "dtype": "f8"
           },
           "marker": {
            "color": "green",
            "symbol": "circle"
           },
           "mode": "markers",
           "name": "Low",
           "showlegend": true,
           "type": "scattergeo"
          },
          {
           "geo": "geo",
           "hovertemplate": "risk_tier=High<br>month=2020-11<br>lat=%{lat}<br>lon=%{lon}<extra></extra>",
           "lat": {
            "bdata": "U2FsIcghTEA=",
            "dtype": "f8"
           },
           "legendgroup": "High",
           "lon": {
            "bdata": "KT+p9ukAI0A=",
            "dtype": "f8"
           },
           "marker": {
            "color": "red",
            "symbol": "circle"
           },
           "mode": "markers",
           "name": "High",
           "showlegend": true,
           "type": "scattergeo"
          }
         ],
         "name": "2020-11"
        },
        {
         "data": [
          {
           "geo": "geo",
           "hovertemplate": "risk_tier=Low<br>month=2020-12<br>lat=%{lat}<br>lon=%{lon}<extra></extra>",
           "lat": {
            "bdata": "U2FsIcghTEBTYWwhyCFMQFNhbCHIIUxAU2FsIcghTEBTYWwhyCFMQFNhbCHIIUxAU2FsIcghTEBTYWwhyCFMQFNhbCHIIUxAU2FsIcghTEBTYWwhyCFMQFNhbCHIIUxAU2FsIcghTEBTYWwhyCFMQFNhbCHIIUxAU2FsIcghTEBTYWwhyCFMQFNhbCHIIUxAU2FsIcghTEBTYWwhyCFMQFNhbCHIIUxAU2FsIcghTEBTYWwhyCFMQFNhbCHIIUxAU2FsIcghTEBTYWwhyCFMQFNhbCHIIUxAU2FsIcghTEBTYWwhyCFMQFNhbCHIIUxAU2FsIcghTEA=",
            "dtype": "f8"
           },
           "legendgroup": "Low",
           "lon": {
            "bdata": "KT+p9ukAI0ApP6n26QAjQCk/qfbpACNAKT+p9ukAI0ApP6n26QAjQCk/qfbpACNAKT+p9ukAI0ApP6n26QAjQCk/qfbpACNAKT+p9ukAI0ApP6n26QAjQCk/qfbpACNAKT+p9ukAI0ApP6n26QAjQCk/qfbpACNAKT+p9ukAI0ApP6n26QAjQCk/qfbpACNAKT+p9ukAI0ApP6n26QAjQCk/qfbpACNAKT+p9ukAI0ApP6n26QAjQCk/qfbpACNAKT+p9ukAI0ApP6n26QAjQCk/qfbpACNAKT+p9ukAI0ApP6n26QAjQCk/qfbpACNAKT+p9ukAI0A=",
            "dtype": "f8"
           },
           "marker": {
            "color": "green",
            "symbol": "circle"
           },
           "mode": "markers",
           "name": "Low",
           "showlegend": true,
           "type": "scattergeo"
          }
         ],
         "name": "2020-12"
        },
        {
         "data": [
          {
           "geo": "geo",
           "hovertemplate": "risk_tier=Low<br>month=2021-01<br>lat=%{lat}<br>lon=%{lon}<extra></extra>",
           "lat": {
            "bdata": "U2FsIcghTEBTYWwhyCFMQFNhbCHIIUxAU2FsIcghTEBTYWwhyCFMQFNhbCHIIUxAU2FsIcghTEBTYWwhyCFMQFNhbCHIIUxAU2FsIcghTEBTYWwhyCFMQFNhbCHIIUxAU2FsIcghTEBTYWwhyCFMQFNhbCHIIUxAU2FsIcghTEBTYWwhyCFMQFNhbCHIIUxAU2FsIcghTEBTYWwhyCFMQFNhbCHIIUxAU2FsIcghTEBTYWwhyCFMQFNhbCHIIUxAU2FsIcghTEBTYWwhyCFMQFNhbCHIIUxAU2FsIcghTEBTYWwhyCFMQFNhbCHIIUxAU2FsIcghTEA=",
            "dtype": "f8"
           },
           "legendgroup": "Low",
           "lon": {
            "bdata": "KT+p9ukAI0ApP6n26QAjQCk/qfbpACNAKT+p9ukAI0ApP6n26QAjQCk/qfbpACNAKT+p9ukAI0ApP6n26QAjQCk/qfbpACNAKT+p9ukAI0ApP6n26QAjQCk/qfbpACNAKT+p9ukAI0ApP6n26QAjQCk/qfbpACNAKT+p9ukAI0ApP6n26QAjQCk/qfbpACNAKT+p9ukAI0ApP6n26QAjQCk/qfbpACNAKT+p9ukAI0ApP6n26QAjQCk/qfbpACNAKT+p9ukAI0ApP6n26QAjQCk/qfbpACNAKT+p9ukAI0ApP6n26QAjQCk/qfbpACNAKT+p9ukAI0A=",
            "dtype": "f8"
           },
           "marker": {
            "color": "green",
            "symbol": "circle"
           },
           "mode": "markers",
           "name": "Low",
           "showlegend": true,
           "type": "scattergeo"
          }
         ],
         "name": "2021-01"
        },
        {
         "data": [
          {
           "geo": "geo",
           "hovertemplate": "risk_tier=Low<br>month=2021-02<br>lat=%{lat}<br>lon=%{lon}<extra></extra>",
           "lat": {
            "bdata": "U2FsIcghTEBTYWwhyCFMQFNhbCHIIUxAU2FsIcghTEBTYWwhyCFMQFNhbCHIIUxAU2FsIcghTEBTYWwhyCFMQFNhbCHIIUxAU2FsIcghTEBTYWwhyCFMQFNhbCHIIUxAU2FsIcghTEBTYWwhyCFMQFNhbCHIIUxAU2FsIcghTEBTYWwhyCFMQFNhbCHIIUxAU2FsIcghTEBTYWwhyCFMQFNhbCHIIUxAU2FsIcghTEBTYWwhyCFMQFNhbCHIIUxAU2FsIcghTEBTYWwhyCFMQFNhbCHIIUxAU2FsIcghTEA=",
            "dtype": "f8"
           },
           "legendgroup": "Low",
           "lon": {
            "bdata": "KT+p9ukAI0ApP6n26QAjQCk/qfbpACNAKT+p9ukAI0ApP6n26QAjQCk/qfbpACNAKT+p9ukAI0ApP6n26QAjQCk/qfbpACNAKT+p9ukAI0ApP6n26QAjQCk/qfbpACNAKT+p9ukAI0ApP6n26QAjQCk/qfbpACNAKT+p9ukAI0ApP6n26QAjQCk/qfbpACNAKT+p9ukAI0ApP6n26QAjQCk/qfbpACNAKT+p9ukAI0ApP6n26QAjQCk/qfbpACNAKT+p9ukAI0ApP6n26QAjQCk/qfbpACNAKT+p9ukAI0A=",
            "dtype": "f8"
           },
           "marker": {
            "color": "green",
            "symbol": "circle"
           },
           "mode": "markers",
           "name": "Low",
           "showlegend": true,
           "type": "scattergeo"
          }
         ],
         "name": "2021-02"
        },
        {
         "data": [
          {
           "geo": "geo",
           "hovertemplate": "risk_tier=Low<br>month=2021-03<br>lat=%{lat}<br>lon=%{lon}<extra></extra>",
           "lat": {
            "bdata": "U2FsIcghTEBTYWwhyCFMQFNhbCHIIUxAU2FsIcghTEBTYWwhyCFMQFNhbCHIIUxAU2FsIcghTEBTYWwhyCFMQFNhbCHIIUxAU2FsIcghTEBTYWwhyCFMQFNhbCHIIUxAU2FsIcghTEBTYWwhyCFMQFNhbCHIIUxAU2FsIcghTEBTYWwhyCFMQFNhbCHIIUxAU2FsIcghTEBTYWwhyCFMQFNhbCHIIUxAU2FsIcghTEBTYWwhyCFMQFNhbCHIIUxAU2FsIcghTEBTYWwhyCFMQFNhbCHIIUxAU2FsIcghTEBTYWwhyCFMQFNhbCHIIUxAU2FsIcghTEA=",
            "dtype": "f8"
           },
           "legendgroup": "Low",
           "lon": {
            "bdata": "KT+p9ukAI0ApP6n26QAjQCk/qfbpACNAKT+p9ukAI0ApP6n26QAjQCk/qfbpACNAKT+p9ukAI0ApP6n26QAjQCk/qfbpACNAKT+p9ukAI0ApP6n26QAjQCk/qfbpACNAKT+p9ukAI0ApP6n26QAjQCk/qfbpACNAKT+p9ukAI0ApP6n26QAjQCk/qfbpACNAKT+p9ukAI0ApP6n26QAjQCk/qfbpACNAKT+p9ukAI0ApP6n26QAjQCk/qfbpACNAKT+p9ukAI0ApP6n26QAjQCk/qfbpACNAKT+p9ukAI0ApP6n26QAjQCk/qfbpACNAKT+p9ukAI0A=",
            "dtype": "f8"
           },
           "marker": {
            "color": "green",
            "symbol": "circle"
           },
           "mode": "markers",
           "name": "Low",
           "showlegend": true,
           "type": "scattergeo"
          }
         ],
         "name": "2021-03"
        },
        {
         "data": [
          {
           "geo": "geo",
           "hovertemplate": "risk_tier=Low<br>month=2021-04<br>lat=%{lat}<br>lon=%{lon}<extra></extra>",
           "lat": {
            "bdata": "U2FsIcghTEBTYWwhyCFMQFNhbCHIIUxAU2FsIcghTEBTYWwhyCFMQFNhbCHIIUxAU2FsIcghTEBTYWwhyCFMQFNhbCHIIUxAU2FsIcghTEBTYWwhyCFMQFNhbCHIIUxAU2FsIcghTEBTYWwhyCFMQFNhbCHIIUxAU2FsIcghTEBTYWwhyCFMQFNhbCHIIUxAU2FsIcghTEBTYWwhyCFMQFNhbCHIIUxAU2FsIcghTEBTYWwhyCFMQFNhbCHIIUxAU2FsIcghTEBTYWwhyCFMQFNhbCHIIUxAU2FsIcghTEBTYWwhyCFMQFNhbCHIIUxA",
            "dtype": "f8"
           },
           "legendgroup": "Low",
           "lon": {
            "bdata": "KT+p9ukAI0ApP6n26QAjQCk/qfbpACNAKT+p9ukAI0ApP6n26QAjQCk/qfbpACNAKT+p9ukAI0ApP6n26QAjQCk/qfbpACNAKT+p9ukAI0ApP6n26QAjQCk/qfbpACNAKT+p9ukAI0ApP6n26QAjQCk/qfbpACNAKT+p9ukAI0ApP6n26QAjQCk/qfbpACNAKT+p9ukAI0ApP6n26QAjQCk/qfbpACNAKT+p9ukAI0ApP6n26QAjQCk/qfbpACNAKT+p9ukAI0ApP6n26QAjQCk/qfbpACNAKT+p9ukAI0ApP6n26QAjQCk/qfbpACNA",
            "dtype": "f8"
           },
           "marker": {
            "color": "green",
            "symbol": "circle"
           },
           "mode": "markers",
           "name": "Low",
           "showlegend": true,
           "type": "scattergeo"
          }
         ],
         "name": "2021-04"
        },
        {
         "data": [
          {
           "geo": "geo",
           "hovertemplate": "risk_tier=Low<br>month=2021-05<br>lat=%{lat}<br>lon=%{lon}<extra></extra>",
           "lat": {
            "bdata": "U2FsIcghTEBTYWwhyCFMQFNhbCHIIUxAU2FsIcghTEBTYWwhyCFMQFNhbCHIIUxAU2FsIcghTEBTYWwhyCFMQFNhbCHIIUxAU2FsIcghTEBTYWwhyCFMQFNhbCHIIUxAU2FsIcghTEBTYWwhyCFMQFNhbCHIIUxAU2FsIcghTEBTYWwhyCFMQFNhbCHIIUxAU2FsIcghTEBTYWwhyCFMQFNhbCHIIUxAU2FsIcghTEBTYWwhyCFMQFNhbCHIIUxAU2FsIcghTEBTYWwhyCFMQFNhbCHIIUxAU2FsIcghTEBTYWwhyCFMQFNhbCHIIUxAU2FsIcghTEA=",
            "dtype": "f8"
           },
           "legendgroup": "Low",
           "lon": {
            "bdata": "KT+p9ukAI0ApP6n26QAjQCk/qfbpACNAKT+p9ukAI0ApP6n26QAjQCk/qfbpACNAKT+p9ukAI0ApP6n26QAjQCk/qfbpACNAKT+p9ukAI0ApP6n26QAjQCk/qfbpACNAKT+p9ukAI0ApP6n26QAjQCk/qfbpACNAKT+p9ukAI0ApP6n26QAjQCk/qfbpACNAKT+p9ukAI0ApP6n26QAjQCk/qfbpACNAKT+p9ukAI0ApP6n26QAjQCk/qfbpACNAKT+p9ukAI0ApP6n26QAjQCk/qfbpACNAKT+p9ukAI0ApP6n26QAjQCk/qfbpACNAKT+p9ukAI0A=",
            "dtype": "f8"
           },
           "marker": {
            "color": "green",
            "symbol": "circle"
           },
           "mode": "markers",
           "name": "Low",
           "showlegend": true,
           "type": "scattergeo"
          }
         ],
         "name": "2021-05"
        },
        {
         "data": [
          {
           "geo": "geo",
           "hovertemplate": "risk_tier=Low<br>month=2021-06<br>lat=%{lat}<br>lon=%{lon}<extra></extra>",
           "lat": {
            "bdata": "U2FsIcghTEBTYWwhyCFMQFNhbCHIIUxAU2FsIcghTEBTYWwhyCFMQFNhbCHIIUxAU2FsIcghTEBTYWwhyCFMQFNhbCHIIUxAU2FsIcghTEBTYWwhyCFMQFNhbCHIIUxAU2FsIcghTEBTYWwhyCFMQFNhbCHIIUxAU2FsIcghTEBTYWwhyCFMQFNhbCHIIUxAU2FsIcghTEBTYWwhyCFMQFNhbCHIIUxAU2FsIcghTEBTYWwhyCFMQFNhbCHIIUxAU2FsIcghTEBTYWwhyCFMQFNhbCHIIUxAU2FsIcghTEBTYWwhyCFMQFNhbCHIIUxA",
            "dtype": "f8"
           },
           "legendgroup": "Low",
           "lon": {
            "bdata": "KT+p9ukAI0ApP6n26QAjQCk/qfbpACNAKT+p9ukAI0ApP6n26QAjQCk/qfbpACNAKT+p9ukAI0ApP6n26QAjQCk/qfbpACNAKT+p9ukAI0ApP6n26QAjQCk/qfbpACNAKT+p9ukAI0ApP6n26QAjQCk/qfbpACNAKT+p9ukAI0ApP6n26QAjQCk/qfbpACNAKT+p9ukAI0ApP6n26QAjQCk/qfbpACNAKT+p9ukAI0ApP6n26QAjQCk/qfbpACNAKT+p9ukAI0ApP6n26QAjQCk/qfbpACNAKT+p9ukAI0ApP6n26QAjQCk/qfbpACNA",
            "dtype": "f8"
           },
           "marker": {
            "color": "green",
            "symbol": "circle"
           },
           "mode": "markers",
           "name": "Low",
           "showlegend": true,
           "type": "scattergeo"
          }
         ],
         "name": "2021-06"
        },
        {
         "data": [
          {
           "geo": "geo",
           "hovertemplate": "risk_tier=Low<br>month=2021-07<br>lat=%{lat}<br>lon=%{lon}<extra></extra>",
           "lat": {
            "bdata": "U2FsIcghTEBTYWwhyCFMQFNhbCHIIUxAU2FsIcghTEBTYWwhyCFMQFNhbCHIIUxAU2FsIcghTEBTYWwhyCFMQFNhbCHIIUxAU2FsIcghTEBTYWwhyCFMQFNhbCHIIUxAU2FsIcghTEBTYWwhyCFMQFNhbCHIIUxAU2FsIcghTEBTYWwhyCFMQFNhbCHIIUxAU2FsIcghTEBTYWwhyCFMQFNhbCHIIUxAU2FsIcghTEBTYWwhyCFMQFNhbCHIIUxAU2FsIcghTEBTYWwhyCFMQFNhbCHIIUxAU2FsIcghTEBTYWwhyCFMQFNhbCHIIUxAU2FsIcghTEA=",
            "dtype": "f8"
           },
           "legendgroup": "Low",
           "lon": {
            "bdata": "KT+p9ukAI0ApP6n26QAjQCk/qfbpACNAKT+p9ukAI0ApP6n26QAjQCk/qfbpACNAKT+p9ukAI0ApP6n26QAjQCk/qfbpACNAKT+p9ukAI0ApP6n26QAjQCk/qfbpACNAKT+p9ukAI0ApP6n26QAjQCk/qfbpACNAKT+p9ukAI0ApP6n26QAjQCk/qfbpACNAKT+p9ukAI0ApP6n26QAjQCk/qfbpACNAKT+p9ukAI0ApP6n26QAjQCk/qfbpACNAKT+p9ukAI0ApP6n26QAjQCk/qfbpACNAKT+p9ukAI0ApP6n26QAjQCk/qfbpACNAKT+p9ukAI0A=",
            "dtype": "f8"
           },
           "marker": {
            "color": "green",
            "symbol": "circle"
           },
           "mode": "markers",
           "name": "Low",
           "showlegend": true,
           "type": "scattergeo"
          }
         ],
         "name": "2021-07"
        },
        {
         "data": [
          {
           "geo": "geo",
           "hovertemplate": "risk_tier=Low<br>month=2021-08<br>lat=%{lat}<br>lon=%{lon}<extra></extra>",
           "lat": {
            "bdata": "U2FsIcghTEBTYWwhyCFMQFNhbCHIIUxAU2FsIcghTEBTYWwhyCFMQFNhbCHIIUxAU2FsIcghTEBTYWwhyCFMQFNhbCHIIUxAU2FsIcghTEBTYWwhyCFMQFNhbCHIIUxAU2FsIcghTEBTYWwhyCFMQFNhbCHIIUxAU2FsIcghTEBTYWwhyCFMQFNhbCHIIUxAU2FsIcghTEBTYWwhyCFMQFNhbCHIIUxAU2FsIcghTEBTYWwhyCFMQFNhbCHIIUxAU2FsIcghTEBTYWwhyCFMQFNhbCHIIUxAU2FsIcghTEBTYWwhyCFMQFNhbCHIIUxAU2FsIcghTEA=",
            "dtype": "f8"
           },
           "legendgroup": "Low",
           "lon": {
            "bdata": "KT+p9ukAI0ApP6n26QAjQCk/qfbpACNAKT+p9ukAI0ApP6n26QAjQCk/qfbpACNAKT+p9ukAI0ApP6n26QAjQCk/qfbpACNAKT+p9ukAI0ApP6n26QAjQCk/qfbpACNAKT+p9ukAI0ApP6n26QAjQCk/qfbpACNAKT+p9ukAI0ApP6n26QAjQCk/qfbpACNAKT+p9ukAI0ApP6n26QAjQCk/qfbpACNAKT+p9ukAI0ApP6n26QAjQCk/qfbpACNAKT+p9ukAI0ApP6n26QAjQCk/qfbpACNAKT+p9ukAI0ApP6n26QAjQCk/qfbpACNAKT+p9ukAI0A=",
            "dtype": "f8"
           },
           "marker": {
            "color": "green",
            "symbol": "circle"
           },
           "mode": "markers",
           "name": "Low",
           "showlegend": true,
           "type": "scattergeo"
          }
         ],
         "name": "2021-08"
        },
        {
         "data": [
          {
           "geo": "geo",
           "hovertemplate": "risk_tier=Low<br>month=2021-09<br>lat=%{lat}<br>lon=%{lon}<extra></extra>",
           "lat": {
            "bdata": "U2FsIcghTEBTYWwhyCFMQFNhbCHIIUxAU2FsIcghTEBTYWwhyCFMQFNhbCHIIUxAU2FsIcghTEBTYWwhyCFMQFNhbCHIIUxAU2FsIcghTEBTYWwhyCFMQFNhbCHIIUxAU2FsIcghTEBTYWwhyCFMQFNhbCHIIUxAU2FsIcghTEBTYWwhyCFMQFNhbCHIIUxAU2FsIcghTEBTYWwhyCFMQFNhbCHIIUxAU2FsIcghTEBTYWwhyCFMQFNhbCHIIUxAU2FsIcghTEBTYWwhyCFMQFNhbCHIIUxAU2FsIcghTEBTYWwhyCFMQFNhbCHIIUxA",
            "dtype": "f8"
           },
           "legendgroup": "Low",
           "lon": {
            "bdata": "KT+p9ukAI0ApP6n26QAjQCk/qfbpACNAKT+p9ukAI0ApP6n26QAjQCk/qfbpACNAKT+p9ukAI0ApP6n26QAjQCk/qfbpACNAKT+p9ukAI0ApP6n26QAjQCk/qfbpACNAKT+p9ukAI0ApP6n26QAjQCk/qfbpACNAKT+p9ukAI0ApP6n26QAjQCk/qfbpACNAKT+p9ukAI0ApP6n26QAjQCk/qfbpACNAKT+p9ukAI0ApP6n26QAjQCk/qfbpACNAKT+p9ukAI0ApP6n26QAjQCk/qfbpACNAKT+p9ukAI0ApP6n26QAjQCk/qfbpACNA",
            "dtype": "f8"
           },
           "marker": {
            "color": "green",
            "symbol": "circle"
           },
           "mode": "markers",
           "name": "Low",
           "showlegend": true,
           "type": "scattergeo"
          }
         ],
         "name": "2021-09"
        },
        {
         "data": [
          {
           "geo": "geo",
           "hovertemplate": "risk_tier=Low<br>month=2021-10<br>lat=%{lat}<br>lon=%{lon}<extra></extra>",
           "lat": {
            "bdata": "U2FsIcghTEBTYWwhyCFMQFNhbCHIIUxAU2FsIcghTEBTYWwhyCFMQFNhbCHIIUxAU2FsIcghTEBTYWwhyCFMQFNhbCHIIUxAU2FsIcghTEBTYWwhyCFMQFNhbCHIIUxAU2FsIcghTEBTYWwhyCFMQFNhbCHIIUxAU2FsIcghTEBTYWwhyCFMQFNhbCHIIUxAU2FsIcghTEBTYWwhyCFMQFNhbCHIIUxAU2FsIcghTEBTYWwhyCFMQFNhbCHIIUxAU2FsIcghTEBTYWwhyCFMQFNhbCHIIUxAU2FsIcghTEBTYWwhyCFMQFNhbCHIIUxAU2FsIcghTEA=",
            "dtype": "f8"
           },
           "legendgroup": "Low",
           "lon": {
            "bdata": "KT+p9ukAI0ApP6n26QAjQCk/qfbpACNAKT+p9ukAI0ApP6n26QAjQCk/qfbpACNAKT+p9ukAI0ApP6n26QAjQCk/qfbpACNAKT+p9ukAI0ApP6n26QAjQCk/qfbpACNAKT+p9ukAI0ApP6n26QAjQCk/qfbpACNAKT+p9ukAI0ApP6n26QAjQCk/qfbpACNAKT+p9ukAI0ApP6n26QAjQCk/qfbpACNAKT+p9ukAI0ApP6n26QAjQCk/qfbpACNAKT+p9ukAI0ApP6n26QAjQCk/qfbpACNAKT+p9ukAI0ApP6n26QAjQCk/qfbpACNAKT+p9ukAI0A=",
            "dtype": "f8"
           },
           "marker": {
            "color": "green",
            "symbol": "circle"
           },
           "mode": "markers",
           "name": "Low",
           "showlegend": true,
           "type": "scattergeo"
          }
         ],
         "name": "2021-10"
        },
        {
         "data": [
          {
           "geo": "geo",
           "hovertemplate": "risk_tier=Low<br>month=2021-11<br>lat=%{lat}<br>lon=%{lon}<extra></extra>",
           "lat": {
            "bdata": "U2FsIcghTEBTYWwhyCFMQFNhbCHIIUxAU2FsIcghTEBTYWwhyCFMQFNhbCHIIUxAU2FsIcghTEBTYWwhyCFMQFNhbCHIIUxAU2FsIcghTEBTYWwhyCFMQFNhbCHIIUxAU2FsIcghTEBTYWwhyCFMQFNhbCHIIUxAU2FsIcghTEBTYWwhyCFMQFNhbCHIIUxAU2FsIcghTEBTYWwhyCFMQFNhbCHIIUxAU2FsIcghTEBTYWwhyCFMQFNhbCHIIUxAU2FsIcghTEBTYWwhyCFMQFNhbCHIIUxAU2FsIcghTEBTYWwhyCFMQFNhbCHIIUxA",
            "dtype": "f8"
           },
           "legendgroup": "Low",
           "lon": {
            "bdata": "KT+p9ukAI0ApP6n26QAjQCk/qfbpACNAKT+p9ukAI0ApP6n26QAjQCk/qfbpACNAKT+p9ukAI0ApP6n26QAjQCk/qfbpACNAKT+p9ukAI0ApP6n26QAjQCk/qfbpACNAKT+p9ukAI0ApP6n26QAjQCk/qfbpACNAKT+p9ukAI0ApP6n26QAjQCk/qfbpACNAKT+p9ukAI0ApP6n26QAjQCk/qfbpACNAKT+p9ukAI0ApP6n26QAjQCk/qfbpACNAKT+p9ukAI0ApP6n26QAjQCk/qfbpACNAKT+p9ukAI0ApP6n26QAjQCk/qfbpACNA",
            "dtype": "f8"
           },
           "marker": {
            "color": "green",
            "symbol": "circle"
           },
           "mode": "markers",
           "name": "Low",
           "showlegend": true,
           "type": "scattergeo"
          }
         ],
         "name": "2021-11"
        },
        {
         "data": [
          {
           "geo": "geo",
           "hovertemplate": "risk_tier=Low<br>month=2021-12<br>lat=%{lat}<br>lon=%{lon}<extra></extra>",
           "lat": {
            "bdata": "U2FsIcghTEBTYWwhyCFMQFNhbCHIIUxAZryt9NraSkBmvK302tpKQGa8rfTa2kpAZryt9NraSkBmvK302tpKQGa8rfTa2kpAZryt9NraSkBmvK302tpKQGa8rfTa2kpAZryt9NraSkBmvK302tpKQGa8rfTa2kpAZryt9NraSkBmvK302tpKQGa8rfTa2kpAZryt9NraSkBmvK302tpKQGa8rfTa2kpAZryt9NraSkBmvK302tpKQGa8rfTa2kpAZryt9NraSkBmvK302tpKQGa8rfTa2kpAZryt9NraSkBmvK302tpKQGa8rfTa2kpA",
            "dtype": "f8"
           },
           "legendgroup": "Low",
           "lon": {
            "bdata": "KT+p9ukAI0ApP6n26QAjQCk/qfbpACNAu10vTRH0O0C7XS9NEfQ7QLtdL00R9DtAu10vTRH0O0C7XS9NEfQ7QLtdL00R9DtAu10vTRH0O0C7XS9NEfQ7QLtdL00R9DtAu10vTRH0O0C7XS9NEfQ7QLtdL00R9DtAu10vTRH0O0C7XS9NEfQ7QLtdL00R9DtAu10vTRH0O0C7XS9NEfQ7QLtdL00R9DtAu10vTRH0O0C7XS9NEfQ7QLtdL00R9DtAu10vTRH0O0C7XS9NEfQ7QLtdL00R9DtAu10vTRH0O0C7XS9NEfQ7QLtdL00R9DtA",
            "dtype": "f8"
           },
           "marker": {
            "color": "green",
            "symbol": "circle"
           },
           "mode": "markers",
           "name": "Low",
           "showlegend": true,
           "type": "scattergeo"
          },
          {
           "geo": "geo",
           "hovertemplate": "risk_tier=High<br>month=2021-12<br>lat=%{lat}<br>lon=%{lon}<extra></extra>",
           "lat": {
            "bdata": "Zryt9NraSkA=",
            "dtype": "f8"
           },
           "legendgroup": "High",
           "lon": {
            "bdata": "u10vTRH0O0A=",
            "dtype": "f8"
           },
           "marker": {
            "color": "red",
            "symbol": "circle"
           },
           "mode": "markers",
           "name": "High",
           "showlegend": true,
           "type": "scattergeo"
          }
         ],
         "name": "2021-12"
        },
        {
         "data": [
          {
           "geo": "geo",
           "hovertemplate": "risk_tier=Low<br>month=2022-01<br>lat=%{lat}<br>lon=%{lon}<extra></extra>",
           "lat": {
            "bdata": "Zryt9NraSkBmvK302tpKQGa8rfTa2kpAZryt9NraSkBmvK302tpKQGa8rfTa2kpAZryt9NraSkBmvK302tpKQGa8rfTa2kpAZryt9NraSkBmvK302tpKQGa8rfTa2kpAZryt9NraSkBmvK302tpKQGa8rfTa2kpAZryt9NraSkBmvK302tpKQGa8rfTa2kpAZryt9NraSkBmvK302tpKQGa8rfTa2kpAZryt9NraSkBmvK302tpKQGa8rfTa2kpAZryt9NraSkBmvK302tpKQGa8rfTa2kpAZryt9NraSkBmvK302tpKQGa8rfTa2kpAZryt9NraSkA=",
            "dtype": "f8"
           },
           "legendgroup": "Low",
           "lon": {
            "bdata": "u10vTRH0O0C7XS9NEfQ7QLtdL00R9DtAu10vTRH0O0C7XS9NEfQ7QLtdL00R9DtAu10vTRH0O0C7XS9NEfQ7QLtdL00R9DtAu10vTRH0O0C7XS9NEfQ7QLtdL00R9DtAu10vTRH0O0C7XS9NEfQ7QLtdL00R9DtAu10vTRH0O0C7XS9NEfQ7QLtdL00R9DtAu10vTRH0O0C7XS9NEfQ7QLtdL00R9DtAu10vTRH0O0C7XS9NEfQ7QLtdL00R9DtAu10vTRH0O0C7XS9NEfQ7QLtdL00R9DtAu10vTRH0O0C7XS9NEfQ7QLtdL00R9DtAu10vTRH0O0A=",
            "dtype": "f8"
           },
           "marker": {
            "color": "green",
            "symbol": "circle"
           },
           "mode": "markers",
           "name": "Low",
           "showlegend": true,
           "type": "scattergeo"
          }
         ],
         "name": "2022-01"
        },
        {
         "data": [
          {
           "geo": "geo",
           "hovertemplate": "risk_tier=Low<br>month=2022-02<br>lat=%{lat}<br>lon=%{lon}<extra></extra>",
           "lat": {
            "bdata": "Zryt9NraSkBmvK302tpKQGa8rfTa2kpAZryt9NraSkBmvK302tpKQFNhbCHIIUxAU2FsIcghTEBTYWwhyCFMQFNhbCHIIUxAU2FsIcghTEBTYWwhyCFMQFNhbCHIIUxAU2FsIcghTEBTYWwhyCFMQFNhbCHIIUxAU2FsIcghTEBTYWwhyCFMQFNhbCHIIUxAU2FsIcghTEBTYWwhyCFMQFNhbCHIIUxAU2FsIcghTEBTYWwhyCFMQFNhbCHIIUxAU2FsIcghTEBTYWwhyCFMQFNhbCHIIUxA",
            "dtype": "f8"
           },
           "legendgroup": "Low",
           "lon": {
            "bdata": "u10vTRH0O0C7XS9NEfQ7QLtdL00R9DtAu10vTRH0O0C7XS9NEfQ7QCk/qfbpACNAKT+p9ukAI0ApP6n26QAjQCk/qfbpACNAKT+p9ukAI0ApP6n26QAjQCk/qfbpACNAKT+p9ukAI0ApP6n26QAjQCk/qfbpACNAKT+p9ukAI0ApP6n26QAjQCk/qfbpACNAKT+p9ukAI0ApP6n26QAjQCk/qfbpACNAKT+p9ukAI0ApP6n26QAjQCk/qfbpACNAKT+p9ukAI0ApP6n26QAjQCk/qfbpACNA",
            "dtype": "f8"
           },
           "marker": {
            "color": "green",
            "symbol": "circle"
           },
           "mode": "markers",
           "name": "Low",
           "showlegend": true,
           "type": "scattergeo"
          },
          {
           "geo": "geo",
           "hovertemplate": "risk_tier=High<br>month=2022-02<br>lat=%{lat}<br>lon=%{lon}<extra></extra>",
           "lat": {
            "bdata": "U2FsIcghTEA=",
            "dtype": "f8"
           },
           "legendgroup": "High",
           "lon": {
            "bdata": "KT+p9ukAI0A=",
            "dtype": "f8"
           },
           "marker": {
            "color": "red",
            "symbol": "circle"
           },
           "mode": "markers",
           "name": "High",
           "showlegend": true,
           "type": "scattergeo"
          }
         ],
         "name": "2022-02"
        },
        {
         "data": [
          {
           "geo": "geo",
           "hovertemplate": "risk_tier=Low<br>month=2022-03<br>lat=%{lat}<br>lon=%{lon}<extra></extra>",
           "lat": {
            "bdata": "U2FsIcghTEBTYWwhyCFMQFNhbCHIIUxAU2FsIcghTEBTYWwhyCFMQFNhbCHIIUxAU2FsIcghTEBTYWwhyCFMQFNhbCHIIUxAU2FsIcghTEBTYWwhyCFMQFNhbCHIIUxAU2FsIcghTEBTYWwhyCFMQFNhbCHIIUxAU2FsIcghTEBTYWwhyCFMQFNhbCHIIUxAU2FsIcghTEBTYWwhyCFMQFNhbCHIIUxAU2FsIcghTEBTYWwhyCFMQFNhbCHIIUxAU2FsIcghTEBTYWwhyCFMQFNhbCHIIUxAU2FsIcghTEBTYWwhyCFMQFNhbCHIIUxAU2FsIcghTEA=",
            "dtype": "f8"
           },
           "legendgroup": "Low",
           "lon": {
            "bdata": "KT+p9ukAI0ApP6n26QAjQCk/qfbpACNAKT+p9ukAI0ApP6n26QAjQCk/qfbpACNAKT+p9ukAI0ApP6n26QAjQCk/qfbpACNAKT+p9ukAI0ApP6n26QAjQCk/qfbpACNAKT+p9ukAI0ApP6n26QAjQCk/qfbpACNAKT+p9ukAI0ApP6n26QAjQCk/qfbpACNAKT+p9ukAI0ApP6n26QAjQCk/qfbpACNAKT+p9ukAI0ApP6n26QAjQCk/qfbpACNAKT+p9ukAI0ApP6n26QAjQCk/qfbpACNAKT+p9ukAI0ApP6n26QAjQCk/qfbpACNAKT+p9ukAI0A=",
            "dtype": "f8"
           },
           "marker": {
            "color": "green",
            "symbol": "circle"
           },
           "mode": "markers",
           "name": "Low",
           "showlegend": true,
           "type": "scattergeo"
          }
         ],
         "name": "2022-03"
        },
        {
         "data": [
          {
           "geo": "geo",
           "hovertemplate": "risk_tier=Low<br>month=2022-04<br>lat=%{lat}<br>lon=%{lon}<extra></extra>",
           "lat": {
            "bdata": "U2FsIcghTEBTYWwhyCFMQFNhbCHIIUxAU2FsIcghTEBTYWwhyCFMQFNhbCHIIUxAU2FsIcghTEBTYWwhyCFMQFNhbCHIIUxAU2FsIcghTEBmvK302tpKQGa8rfTa2kpAZryt9NraSkBmvK302tpKQGa8rfTa2kpAZryt9NraSkBmvK302tpKQGa8rfTa2kpAZryt9NraSkBmvK302tpKQGa8rfTa2kpAZryt9NraSkBmvK302tpKQGa8rfTa2kpAZryt9NraSkBmvK302tpKQGa8rfTa2kpAZryt9NraSkBmvK302tpKQA==",
            "dtype": "f8"
           },
           "legendgroup": "Low",
           "lon": {
            "bdata": "KT+p9ukAI0ApP6n26QAjQCk/qfbpACNAKT+p9ukAI0ApP6n26QAjQCk/qfbpACNAKT+p9ukAI0ApP6n26QAjQCk/qfbpACNAKT+p9ukAI0C7XS9NEfQ7QLtdL00R9DtAu10vTRH0O0C7XS9NEfQ7QLtdL00R9DtAu10vTRH0O0C7XS9NEfQ7QLtdL00R9DtAu10vTRH0O0C7XS9NEfQ7QLtdL00R9DtAu10vTRH0O0C7XS9NEfQ7QLtdL00R9DtAu10vTRH0O0C7XS9NEfQ7QLtdL00R9DtAu10vTRH0O0C7XS9NEfQ7QA==",
            "dtype": "f8"
           },
           "marker": {
            "color": "green",
            "symbol": "circle"
           },
           "mode": "markers",
           "name": "Low",
           "showlegend": true,
           "type": "scattergeo"
          },
          {
           "geo": "geo",
           "hovertemplate": "risk_tier=High<br>month=2022-04<br>lat=%{lat}<br>lon=%{lon}<extra></extra>",
           "lat": {
            "bdata": "Zryt9NraSkA=",
            "dtype": "f8"
           },
           "legendgroup": "High",
           "lon": {
            "bdata": "u10vTRH0O0A=",
            "dtype": "f8"
           },
           "marker": {
            "color": "red",
            "symbol": "circle"
           },
           "mode": "markers",
           "name": "High",
           "showlegend": true,
           "type": "scattergeo"
          }
         ],
         "name": "2022-04"
        },
        {
         "data": [
          {
           "geo": "geo",
           "hovertemplate": "risk_tier=Low<br>month=2022-05<br>lat=%{lat}<br>lon=%{lon}<extra></extra>",
           "lat": {
            "bdata": "Zryt9NraSkBmvK302tpKQGa8rfTa2kpAZryt9NraSkBmvK302tpKQGa8rfTa2kpAZryt9NraSkBmvK302tpKQGa8rfTa2kpAZryt9NraSkBmvK302tpKQGa8rfTa2kpAZryt9NraSkBmvK302tpKQGa8rfTa2kpAZryt9NraSkBmvK302tpKQGa8rfTa2kpAZryt9NraSkBmvK302tpKQGa8rfTa2kpAZryt9NraSkBmvK302tpKQGa8rfTa2kpAZryt9NraSkBmvK302tpKQGa8rfTa2kpAZryt9NraSkBmvK302tpKQGa8rfTa2kpAZryt9NraSkA=",
            "dtype": "f8"
           },
           "legendgroup": "Low",
           "lon": {
            "bdata": "u10vTRH0O0C7XS9NEfQ7QLtdL00R9DtAu10vTRH0O0C7XS9NEfQ7QLtdL00R9DtAu10vTRH0O0C7XS9NEfQ7QLtdL00R9DtAu10vTRH0O0C7XS9NEfQ7QLtdL00R9DtAu10vTRH0O0C7XS9NEfQ7QLtdL00R9DtAu10vTRH0O0C7XS9NEfQ7QLtdL00R9DtAu10vTRH0O0C7XS9NEfQ7QLtdL00R9DtAu10vTRH0O0C7XS9NEfQ7QLtdL00R9DtAu10vTRH0O0C7XS9NEfQ7QLtdL00R9DtAu10vTRH0O0C7XS9NEfQ7QLtdL00R9DtAu10vTRH0O0A=",
            "dtype": "f8"
           },
           "marker": {
            "color": "green",
            "symbol": "circle"
           },
           "mode": "markers",
           "name": "Low",
           "showlegend": true,
           "type": "scattergeo"
          }
         ],
         "name": "2022-05"
        },
        {
         "data": [
          {
           "geo": "geo",
           "hovertemplate": "risk_tier=Low<br>month=2022-06<br>lat=%{lat}<br>lon=%{lon}<extra></extra>",
           "lat": {
            "bdata": "Zryt9NraSkBmvK302tpKQGa8rfTa2kpAZryt9NraSkBmvK302tpKQGa8rfTa2kpAZryt9NraSkBmvK302tpKQGa8rfTa2kpAZryt9NraSkBmvK302tpKQGa8rfTa2kpAZryt9NraSkBTYWwhyCFMQFNhbCHIIUxAU2FsIcghTEBTYWwhyCFMQFNhbCHIIUxAU2FsIcghTEBTYWwhyCFMQFNhbCHIIUxAU2FsIcghTEBTYWwhyCFMQFNhbCHIIUxAU2FsIcghTEBTYWwhyCFMQFNhbCHIIUxAU2FsIcghTEBTYWwhyCFMQA==",
            "dtype": "f8"
           },
           "legendgroup": "Low",
           "lon": {
            "bdata": "u10vTRH0O0C7XS9NEfQ7QLtdL00R9DtAu10vTRH0O0C7XS9NEfQ7QLtdL00R9DtAu10vTRH0O0C7XS9NEfQ7QLtdL00R9DtAu10vTRH0O0C7XS9NEfQ7QLtdL00R9DtAu10vTRH0O0ApP6n26QAjQCk/qfbpACNAKT+p9ukAI0ApP6n26QAjQCk/qfbpACNAKT+p9ukAI0ApP6n26QAjQCk/qfbpACNAKT+p9ukAI0ApP6n26QAjQCk/qfbpACNAKT+p9ukAI0ApP6n26QAjQCk/qfbpACNAKT+p9ukAI0ApP6n26QAjQA==",
            "dtype": "f8"
           },
           "marker": {
            "color": "green",
            "symbol": "circle"
           },
           "mode": "markers",
           "name": "Low",
           "showlegend": true,
           "type": "scattergeo"
          },
          {
           "geo": "geo",
           "hovertemplate": "risk_tier=High<br>month=2022-06<br>lat=%{lat}<br>lon=%{lon}<extra></extra>",
           "lat": {
            "bdata": "U2FsIcghTEA=",
            "dtype": "f8"
           },
           "legendgroup": "High",
           "lon": {
            "bdata": "KT+p9ukAI0A=",
            "dtype": "f8"
           },
           "marker": {
            "color": "red",
            "symbol": "circle"
           },
           "mode": "markers",
           "name": "High",
           "showlegend": true,
           "type": "scattergeo"
          }
         ],
         "name": "2022-06"
        },
        {
         "data": [
          {
           "geo": "geo",
           "hovertemplate": "risk_tier=Low<br>month=2022-07<br>lat=%{lat}<br>lon=%{lon}<extra></extra>",
           "lat": {
            "bdata": "U2FsIcghTEBTYWwhyCFMQFNhbCHIIUxAU2FsIcghTEBTYWwhyCFMQFNhbCHIIUxAU2FsIcghTEBTYWwhyCFMQFNhbCHIIUxAU2FsIcghTEBTYWwhyCFMQFNhbCHIIUxAU2FsIcghTEBTYWwhyCFMQFNhbCHIIUxAU2FsIcghTEBTYWwhyCFMQFNhbCHIIUxAU2FsIcghTEBTYWwhyCFMQFNhbCHIIUxAU2FsIcghTEBTYWwhyCFMQFNhbCHIIUxAU2FsIcghTEBTYWwhyCFMQFNhbCHIIUxAU2FsIcghTEBTYWwhyCFMQFNhbCHIIUxAU2FsIcghTEA=",
            "dtype": "f8"
           },
           "legendgroup": "Low",
           "lon": {
            "bdata": "KT+p9ukAI0ApP6n26QAjQCk/qfbpACNAKT+p9ukAI0ApP6n26QAjQCk/qfbpACNAKT+p9ukAI0ApP6n26QAjQCk/qfbpACNAKT+p9ukAI0ApP6n26QAjQCk/qfbpACNAKT+p9ukAI0ApP6n26QAjQCk/qfbpACNAKT+p9ukAI0ApP6n26QAjQCk/qfbpACNAKT+p9ukAI0ApP6n26QAjQCk/qfbpACNAKT+p9ukAI0ApP6n26QAjQCk/qfbpACNAKT+p9ukAI0ApP6n26QAjQCk/qfbpACNAKT+p9ukAI0ApP6n26QAjQCk/qfbpACNAKT+p9ukAI0A=",
            "dtype": "f8"
           },
           "marker": {
            "color": "green",
            "symbol": "circle"
           },
           "mode": "markers",
           "name": "Low",
           "showlegend": true,
           "type": "scattergeo"
          }
         ],
         "name": "2022-07"
        },
        {
         "data": [
          {
           "geo": "geo",
           "hovertemplate": "risk_tier=Low<br>month=2022-08<br>lat=%{lat}<br>lon=%{lon}<extra></extra>",
           "lat": {
            "bdata": "U2FsIcghTEBTYWwhyCFMQFNhbCHIIUxAU2FsIcghTEBTYWwhyCFMQFNhbCHIIUxAU2FsIcghTEBTYWwhyCFMQFNhbCHIIUxAU2FsIcghTEBTYWwhyCFMQFNhbCHIIUxAU2FsIcghTEBTYWwhyCFMQFNhbCHIIUxAU2FsIcghTEBTYWwhyCFMQFNhbCHIIUxAU2FsIcghTEBTYWwhyCFMQFNhbCHIIUxAU2FsIcghTEBTYWwhyCFMQFNhbCHIIUxAU2FsIcghTEBTYWwhyCFMQFNhbCHIIUxAU2FsIcghTEBTYWwhyCFMQFNhbCHIIUxAU2FsIcghTEA=",
            "dtype": "f8"
           },
           "legendgroup": "Low",
           "lon": {
            "bdata": "KT+p9ukAI0ApP6n26QAjQCk/qfbpACNAKT+p9ukAI0ApP6n26QAjQCk/qfbpACNAKT+p9ukAI0ApP6n26QAjQCk/qfbpACNAKT+p9ukAI0ApP6n26QAjQCk/qfbpACNAKT+p9ukAI0ApP6n26QAjQCk/qfbpACNAKT+p9ukAI0ApP6n26QAjQCk/qfbpACNAKT+p9ukAI0ApP6n26QAjQCk/qfbpACNAKT+p9ukAI0ApP6n26QAjQCk/qfbpACNAKT+p9ukAI0ApP6n26QAjQCk/qfbpACNAKT+p9ukAI0ApP6n26QAjQCk/qfbpACNAKT+p9ukAI0A=",
            "dtype": "f8"
           },
           "marker": {
            "color": "green",
            "symbol": "circle"
           },
           "mode": "markers",
           "name": "Low",
           "showlegend": true,
           "type": "scattergeo"
          }
         ],
         "name": "2022-08"
        },
        {
         "data": [
          {
           "geo": "geo",
           "hovertemplate": "risk_tier=Low<br>month=2022-09<br>lat=%{lat}<br>lon=%{lon}<extra></extra>",
           "lat": {
            "bdata": "U2FsIcghTEBTYWwhyCFMQFNhbCHIIUxAU2FsIcghTEBTYWwhyCFMQFNhbCHIIUxAU2FsIcghTEBTYWwhyCFMQFNhbCHIIUxAU2FsIcghTEBTYWwhyCFMQFNhbCHIIUxAU2FsIcghTEBTYWwhyCFMQFNhbCHIIUxAU2FsIcghTEBTYWwhyCFMQFNhbCHIIUxAU2FsIcghTEBTYWwhyCFMQFNhbCHIIUxAU2FsIcghTEBTYWwhyCFMQFNhbCHIIUxAU2FsIcghTEA=",
            "dtype": "f8"
           },
           "legendgroup": "Low",
           "lon": {
            "bdata": "KT+p9ukAI0ApP6n26QAjQCk/qfbpACNAKT+p9ukAI0ApP6n26QAjQCk/qfbpACNAKT+p9ukAI0ApP6n26QAjQCk/qfbpACNAKT+p9ukAI0ApP6n26QAjQCk/qfbpACNAKT+p9ukAI0ApP6n26QAjQCk/qfbpACNAKT+p9ukAI0ApP6n26QAjQCk/qfbpACNAKT+p9ukAI0ApP6n26QAjQCk/qfbpACNAKT+p9ukAI0ApP6n26QAjQCk/qfbpACNAKT+p9ukAI0A=",
            "dtype": "f8"
           },
           "marker": {
            "color": "green",
            "symbol": "circle"
           },
           "mode": "markers",
           "name": "Low",
           "showlegend": true,
           "type": "scattergeo"
          }
         ],
         "name": "2022-09"
        }
       ],
       "layout": {
        "geo": {
         "center": {},
         "domain": {
          "x": [
           0,
           1
          ],
          "y": [
           0,
           1
          ]
         },
         "projection": {
          "type": "natural earth"
         }
        },
        "legend": {
         "title": {
          "text": "risk_tier"
         },
         "tracegroupgap": 0
        },
        "sliders": [
         {
          "active": 0,
          "currentvalue": {
           "prefix": "month="
          },
          "len": 0.9,
          "pad": {
           "b": 10,
           "t": 60
          },
          "steps": [
           {
            "args": [
             [
              "2020-01"
             ],
             {
              "frame": {
               "duration": 0,
               "redraw": true
              },
              "fromcurrent": true,
              "mode": "immediate",
              "transition": {
               "duration": 0,
               "easing": "linear"
              }
             }
            ],
            "label": "2020-01",
            "method": "animate"
           },
           {
            "args": [
             [
              "2020-02"
             ],
             {
              "frame": {
               "duration": 0,
               "redraw": true
              },
              "fromcurrent": true,
              "mode": "immediate",
              "transition": {
               "duration": 0,
               "easing": "linear"
              }
             }
            ],
            "label": "2020-02",
            "method": "animate"
           },
           {
            "args": [
             [
              "2020-03"
             ],
             {
              "frame": {
               "duration": 0,
               "redraw": true
              },
              "fromcurrent": true,
              "mode": "immediate",
              "transition": {
               "duration": 0,
               "easing": "linear"
              }
             }
            ],
            "label": "2020-03",
            "method": "animate"
           },
           {
            "args": [
             [
              "2020-04"
             ],
             {
              "frame": {
               "duration": 0,
               "redraw": true
              },
              "fromcurrent": true,
              "mode": "immediate",
              "transition": {
               "duration": 0,
               "easing": "linear"
              }
             }
            ],
            "label": "2020-04",
            "method": "animate"
           },
           {
            "args": [
             [
              "2020-05"
             ],
             {
              "frame": {
               "duration": 0,
               "redraw": true
              },
              "fromcurrent": true,
              "mode": "immediate",
              "transition": {
               "duration": 0,
               "easing": "linear"
              }
             }
            ],
            "label": "2020-05",
            "method": "animate"
           },
           {
            "args": [
             [
              "2020-06"
             ],
             {
              "frame": {
               "duration": 0,
               "redraw": true
              },
              "fromcurrent": true,
              "mode": "immediate",
              "transition": {
               "duration": 0,
               "easing": "linear"
              }
             }
            ],
            "label": "2020-06",
            "method": "animate"
           },
           {
            "args": [
             [
              "2020-07"
             ],
             {
              "frame": {
               "duration": 0,
               "redraw": true
              },
              "fromcurrent": true,
              "mode": "immediate",
              "transition": {
               "duration": 0,
               "easing": "linear"
              }
             }
            ],
            "label": "2020-07",
            "method": "animate"
           },
           {
            "args": [
             [
              "2020-08"
             ],
             {
              "frame": {
               "duration": 0,
               "redraw": true
              },
              "fromcurrent": true,
              "mode": "immediate",
              "transition": {
               "duration": 0,
               "easing": "linear"
              }
             }
            ],
            "label": "2020-08",
            "method": "animate"
           },
           {
            "args": [
             [
              "2020-09"
             ],
             {
              "frame": {
               "duration": 0,
               "redraw": true
              },
              "fromcurrent": true,
              "mode": "immediate",
              "transition": {
               "duration": 0,
               "easing": "linear"
              }
             }
            ],
            "label": "2020-09",
            "method": "animate"
           },
           {
            "args": [
             [
              "2020-10"
             ],
             {
              "frame": {
               "duration": 0,
               "redraw": true
              },
              "fromcurrent": true,
              "mode": "immediate",
              "transition": {
               "duration": 0,
               "easing": "linear"
              }
             }
            ],
            "label": "2020-10",
            "method": "animate"
           },
           {
            "args": [
             [
              "2020-11"
             ],
             {
              "frame": {
               "duration": 0,
               "redraw": true
              },
              "fromcurrent": true,
              "mode": "immediate",
              "transition": {
               "duration": 0,
               "easing": "linear"
              }
             }
            ],
            "label": "2020-11",
            "method": "animate"
           },
           {
            "args": [
             [
              "2020-12"
             ],
             {
              "frame": {
               "duration": 0,
               "redraw": true
              },
              "fromcurrent": true,
              "mode": "immediate",
              "transition": {
               "duration": 0,
               "easing": "linear"
              }
             }
            ],
            "label": "2020-12",
            "method": "animate"
           },
           {
            "args": [
             [
              "2021-01"
             ],
             {
              "frame": {
               "duration": 0,
               "redraw": true
              },
              "fromcurrent": true,
              "mode": "immediate",
              "transition": {
               "duration": 0,
               "easing": "linear"
              }
             }
            ],
            "label": "2021-01",
            "method": "animate"
           },
           {
            "args": [
             [
              "2021-02"
             ],
             {
              "frame": {
               "duration": 0,
               "redraw": true
              },
              "fromcurrent": true,
              "mode": "immediate",
              "transition": {
               "duration": 0,
               "easing": "linear"
              }
             }
            ],
            "label": "2021-02",
            "method": "animate"
           },
           {
            "args": [
             [
              "2021-03"
             ],
             {
              "frame": {
               "duration": 0,
               "redraw": true
              },
              "fromcurrent": true,
              "mode": "immediate",
              "transition": {
               "duration": 0,
               "easing": "linear"
              }
             }
            ],
            "label": "2021-03",
            "method": "animate"
           },
           {
            "args": [
             [
              "2021-04"
             ],
             {
              "frame": {
               "duration": 0,
               "redraw": true
              },
              "fromcurrent": true,
              "mode": "immediate",
              "transition": {
               "duration": 0,
               "easing": "linear"
              }
             }
            ],
            "label": "2021-04",
            "method": "animate"
           },
           {
            "args": [
             [
              "2021-05"
             ],
             {
              "frame": {
               "duration": 0,
               "redraw": true
              },
              "fromcurrent": true,
              "mode": "immediate",
              "transition": {
               "duration": 0,
               "easing": "linear"
              }
             }
            ],
            "label": "2021-05",
            "method": "animate"
           },
           {
            "args": [
             [
              "2021-06"
             ],
             {
              "frame": {
               "duration": 0,
               "redraw": true
              },
              "fromcurrent": true,
              "mode": "immediate",
              "transition": {
               "duration": 0,
               "easing": "linear"
              }
             }
            ],
            "label": "2021-06",
            "method": "animate"
           },
           {
            "args": [
             [
              "2021-07"
             ],
             {
              "frame": {
               "duration": 0,
               "redraw": true
              },
              "fromcurrent": true,
              "mode": "immediate",
              "transition": {
               "duration": 0,
               "easing": "linear"
              }
             }
            ],
            "label": "2021-07",
            "method": "animate"
           },
           {
            "args": [
             [
              "2021-08"
             ],
             {
              "frame": {
               "duration": 0,
               "redraw": true
              },
              "fromcurrent": true,
              "mode": "immediate",
              "transition": {
               "duration": 0,
               "easing": "linear"
              }
             }
            ],
            "label": "2021-08",
            "method": "animate"
           },
           {
            "args": [
             [
              "2021-09"
             ],
             {
              "frame": {
               "duration": 0,
               "redraw": true
              },
              "fromcurrent": true,
              "mode": "immediate",
              "transition": {
               "duration": 0,
               "easing": "linear"
              }
             }
            ],
            "label": "2021-09",
            "method": "animate"
           },
           {
            "args": [
             [
              "2021-10"
             ],
             {
              "frame": {
               "duration": 0,
               "redraw": true
              },
              "fromcurrent": true,
              "mode": "immediate",
              "transition": {
               "duration": 0,
               "easing": "linear"
              }
             }
            ],
            "label": "2021-10",
            "method": "animate"
           },
           {
            "args": [
             [
              "2021-11"
             ],
             {
              "frame": {
               "duration": 0,
               "redraw": true
              },
              "fromcurrent": true,
              "mode": "immediate",
              "transition": {
               "duration": 0,
               "easing": "linear"
              }
             }
            ],
            "label": "2021-11",
            "method": "animate"
           },
           {
            "args": [
             [
              "2021-12"
             ],
             {
              "frame": {
               "duration": 0,
               "redraw": true
              },
              "fromcurrent": true,
              "mode": "immediate",
              "transition": {
               "duration": 0,
               "easing": "linear"
              }
             }
            ],
            "label": "2021-12",
            "method": "animate"
           },
           {
            "args": [
             [
              "2022-01"
             ],
             {
              "frame": {
               "duration": 0,
               "redraw": true
              },
              "fromcurrent": true,
              "mode": "immediate",
              "transition": {
               "duration": 0,
               "easing": "linear"
              }
             }
            ],
            "label": "2022-01",
            "method": "animate"
           },
           {
            "args": [
             [
              "2022-02"
             ],
             {
              "frame": {
               "duration": 0,
               "redraw": true
              },
              "fromcurrent": true,
              "mode": "immediate",
              "transition": {
               "duration": 0,
               "easing": "linear"
              }
             }
            ],
            "label": "2022-02",
            "method": "animate"
           },
           {
            "args": [
             [
              "2022-03"
             ],
             {
              "frame": {
               "duration": 0,
               "redraw": true
              },
              "fromcurrent": true,
              "mode": "immediate",
              "transition": {
               "duration": 0,
               "easing": "linear"
              }
             }
            ],
            "label": "2022-03",
            "method": "animate"
           },
           {
            "args": [
             [
              "2022-04"
             ],
             {
              "frame": {
               "duration": 0,
               "redraw": true
              },
              "fromcurrent": true,
              "mode": "immediate",
              "transition": {
               "duration": 0,
               "easing": "linear"
              }
             }
            ],
            "label": "2022-04",
            "method": "animate"
           },
           {
            "args": [
             [
              "2022-05"
             ],
             {
              "frame": {
               "duration": 0,
               "redraw": true
              },
              "fromcurrent": true,
              "mode": "immediate",
              "transition": {
               "duration": 0,
               "easing": "linear"
              }
             }
            ],
            "label": "2022-05",
            "method": "animate"
           },
           {
            "args": [
             [
              "2022-06"
             ],
             {
              "frame": {
               "duration": 0,
               "redraw": true
              },
              "fromcurrent": true,
              "mode": "immediate",
              "transition": {
               "duration": 0,
               "easing": "linear"
              }
             }
            ],
            "label": "2022-06",
            "method": "animate"
           },
           {
            "args": [
             [
              "2022-07"
             ],
             {
              "frame": {
               "duration": 0,
               "redraw": true
              },
              "fromcurrent": true,
              "mode": "immediate",
              "transition": {
               "duration": 0,
               "easing": "linear"
              }
             }
            ],
            "label": "2022-07",
            "method": "animate"
           },
           {
            "args": [
             [
              "2022-08"
             ],
             {
              "frame": {
               "duration": 0,
               "redraw": true
              },
              "fromcurrent": true,
              "mode": "immediate",
              "transition": {
               "duration": 0,
               "easing": "linear"
              }
             }
            ],
            "label": "2022-08",
            "method": "animate"
           },
           {
            "args": [
             [
              "2022-09"
             ],
             {
              "frame": {
               "duration": 0,
               "redraw": true
              },
              "fromcurrent": true,
              "mode": "immediate",
              "transition": {
               "duration": 0,
               "easing": "linear"
              }
             }
            ],
            "label": "2022-09",
            "method": "animate"
           }
          ],
          "x": 0.1,
          "xanchor": "left",
          "y": 0,
          "yanchor": "top"
         }
        ],
        "template": {
         "data": {
          "bar": [
           {
            "error_x": {
             "color": "#2a3f5f"
            },
            "error_y": {
             "color": "#2a3f5f"
            },
            "marker": {
             "line": {
              "color": "white",
              "width": 0.5
             },
             "pattern": {
              "fillmode": "overlay",
              "size": 10,
              "solidity": 0.2
             }
            },
            "type": "bar"
           }
          ],
          "barpolar": [
           {
            "marker": {
             "line": {
              "color": "white",
              "width": 0.5
             },
             "pattern": {
              "fillmode": "overlay",
              "size": 10,
              "solidity": 0.2
             }
            },
            "type": "barpolar"
           }
          ],
          "carpet": [
           {
            "aaxis": {
             "endlinecolor": "#2a3f5f",
             "gridcolor": "#C8D4E3",
             "linecolor": "#C8D4E3",
             "minorgridcolor": "#C8D4E3",
             "startlinecolor": "#2a3f5f"
            },
            "baxis": {
             "endlinecolor": "#2a3f5f",
             "gridcolor": "#C8D4E3",
             "linecolor": "#C8D4E3",
             "minorgridcolor": "#C8D4E3",
             "startlinecolor": "#2a3f5f"
            },
            "type": "carpet"
           }
          ],
          "choropleth": [
           {
            "colorbar": {
             "outlinewidth": 0,
             "ticks": ""
            },
            "type": "choropleth"
           }
          ],
          "contour": [
           {
            "colorbar": {
             "outlinewidth": 0,
             "ticks": ""
            },
            "colorscale": [
             [
              0,
              "#0d0887"
             ],
             [
              0.1111111111111111,
              "#46039f"
             ],
             [
              0.2222222222222222,
              "#7201a8"
             ],
             [
              0.3333333333333333,
              "#9c179e"
             ],
             [
              0.4444444444444444,
              "#bd3786"
             ],
             [
              0.5555555555555556,
              "#d8576b"
             ],
             [
              0.6666666666666666,
              "#ed7953"
             ],
             [
              0.7777777777777778,
              "#fb9f3a"
             ],
             [
              0.8888888888888888,
              "#fdca26"
             ],
             [
              1,
              "#f0f921"
             ]
            ],
            "type": "contour"
           }
          ],
          "contourcarpet": [
           {
            "colorbar": {
             "outlinewidth": 0,
             "ticks": ""
            },
            "type": "contourcarpet"
           }
          ],
          "heatmap": [
           {
            "colorbar": {
             "outlinewidth": 0,
             "ticks": ""
            },
            "colorscale": [
             [
              0,
              "#0d0887"
             ],
             [
              0.1111111111111111,
              "#46039f"
             ],
             [
              0.2222222222222222,
              "#7201a8"
             ],
             [
              0.3333333333333333,
              "#9c179e"
             ],
             [
              0.4444444444444444,
              "#bd3786"
             ],
             [
              0.5555555555555556,
              "#d8576b"
             ],
             [
              0.6666666666666666,
              "#ed7953"
             ],
             [
              0.7777777777777778,
              "#fb9f3a"
             ],
             [
              0.8888888888888888,
              "#fdca26"
             ],
             [
              1,
              "#f0f921"
             ]
            ],
            "type": "heatmap"
           }
          ],
          "histogram": [
           {
            "marker": {
             "pattern": {
              "fillmode": "overlay",
              "size": 10,
              "solidity": 0.2
             }
            },
            "type": "histogram"
           }
          ],
          "histogram2d": [
           {
            "colorbar": {
             "outlinewidth": 0,
             "ticks": ""
            },
            "colorscale": [
             [
              0,
              "#0d0887"
             ],
             [
              0.1111111111111111,
              "#46039f"
             ],
             [
              0.2222222222222222,
              "#7201a8"
             ],
             [
              0.3333333333333333,
              "#9c179e"
             ],
             [
              0.4444444444444444,
              "#bd3786"
             ],
             [
              0.5555555555555556,
              "#d8576b"
             ],
             [
              0.6666666666666666,
              "#ed7953"
             ],
             [
              0.7777777777777778,
              "#fb9f3a"
             ],
             [
              0.8888888888888888,
              "#fdca26"
             ],
             [
              1,
              "#f0f921"
             ]
            ],
            "type": "histogram2d"
           }
          ],
          "histogram2dcontour": [
           {
            "colorbar": {
             "outlinewidth": 0,
             "ticks": ""
            },
            "colorscale": [
             [
              0,
              "#0d0887"
             ],
             [
              0.1111111111111111,
              "#46039f"
             ],
             [
              0.2222222222222222,
              "#7201a8"
             ],
             [
              0.3333333333333333,
              "#9c179e"
             ],
             [
              0.4444444444444444,
              "#bd3786"
             ],
             [
              0.5555555555555556,
              "#d8576b"
             ],
             [
              0.6666666666666666,
              "#ed7953"
             ],
             [
              0.7777777777777778,
              "#fb9f3a"
             ],
             [
              0.8888888888888888,
              "#fdca26"
             ],
             [
              1,
              "#f0f921"
             ]
            ],
            "type": "histogram2dcontour"
           }
          ],
          "mesh3d": [
           {
            "colorbar": {
             "outlinewidth": 0,
             "ticks": ""
            },
            "type": "mesh3d"
           }
          ],
          "parcoords": [
           {
            "line": {
             "colorbar": {
              "outlinewidth": 0,
              "ticks": ""
             }
            },
            "type": "parcoords"
           }
          ],
          "pie": [
           {
            "automargin": true,
            "type": "pie"
           }
          ],
          "scatter": [
           {
            "fillpattern": {
             "fillmode": "overlay",
             "size": 10,
             "solidity": 0.2
            },
            "type": "scatter"
           }
          ],
          "scatter3d": [
           {
            "line": {
             "colorbar": {
              "outlinewidth": 0,
              "ticks": ""
             }
            },
            "marker": {
             "colorbar": {
              "outlinewidth": 0,
              "ticks": ""
             }
            },
            "type": "scatter3d"
           }
          ],
          "scattercarpet": [
           {
            "marker": {
             "colorbar": {
              "outlinewidth": 0,
              "ticks": ""
             }
            },
            "type": "scattercarpet"
           }
          ],
          "scattergeo": [
           {
            "marker": {
             "colorbar": {
              "outlinewidth": 0,
              "ticks": ""
             }
            },
            "type": "scattergeo"
           }
          ],
          "scattergl": [
           {
            "marker": {
             "colorbar": {
              "outlinewidth": 0,
              "ticks": ""
             }
            },
            "type": "scattergl"
           }
          ],
          "scattermap": [
           {
            "marker": {
             "colorbar": {
              "outlinewidth": 0,
              "ticks": ""
             }
            },
            "type": "scattermap"
           }
          ],
          "scattermapbox": [
           {
            "marker": {
             "colorbar": {
              "outlinewidth": 0,
              "ticks": ""
             }
            },
            "type": "scattermapbox"
           }
          ],
          "scatterpolar": [
           {
            "marker": {
             "colorbar": {
              "outlinewidth": 0,
              "ticks": ""
             }
            },
            "type": "scatterpolar"
           }
          ],
          "scatterpolargl": [
           {
            "marker": {
             "colorbar": {
              "outlinewidth": 0,
              "ticks": ""
             }
            },
            "type": "scatterpolargl"
           }
          ],
          "scatterternary": [
           {
            "marker": {
             "colorbar": {
              "outlinewidth": 0,
              "ticks": ""
             }
            },
            "type": "scatterternary"
           }
          ],
          "surface": [
           {
            "colorbar": {
             "outlinewidth": 0,
             "ticks": ""
            },
            "colorscale": [
             [
              0,
              "#0d0887"
             ],
             [
              0.1111111111111111,
              "#46039f"
             ],
             [
              0.2222222222222222,
              "#7201a8"
             ],
             [
              0.3333333333333333,
              "#9c179e"
             ],
             [
              0.4444444444444444,
              "#bd3786"
             ],
             [
              0.5555555555555556,
              "#d8576b"
             ],
             [
              0.6666666666666666,
              "#ed7953"
             ],
             [
              0.7777777777777778,
              "#fb9f3a"
             ],
             [
              0.8888888888888888,
              "#fdca26"
             ],
             [
              1,
              "#f0f921"
             ]
            ],
            "type": "surface"
           }
          ],
          "table": [
           {
            "cells": {
             "fill": {
              "color": "#EBF0F8"
             },
             "line": {
              "color": "white"
             }
            },
            "header": {
             "fill": {
              "color": "#C8D4E3"
             },
             "line": {
              "color": "white"
             }
            },
            "type": "table"
           }
          ]
         },
         "layout": {
          "annotationdefaults": {
           "arrowcolor": "#2a3f5f",
           "arrowhead": 0,
           "arrowwidth": 1
          },
          "autotypenumbers": "strict",
          "coloraxis": {
           "colorbar": {
            "outlinewidth": 0,
            "ticks": ""
           }
          },
          "colorscale": {
           "diverging": [
            [
             0,
             "#8e0152"
            ],
            [
             0.1,
             "#c51b7d"
            ],
            [
             0.2,
             "#de77ae"
            ],
            [
             0.3,
             "#f1b6da"
            ],
            [
             0.4,
             "#fde0ef"
            ],
            [
             0.5,
             "#f7f7f7"
            ],
            [
             0.6,
             "#e6f5d0"
            ],
            [
             0.7,
             "#b8e186"
            ],
            [
             0.8,
             "#7fbc41"
            ],
            [
             0.9,
             "#4d9221"
            ],
            [
             1,
             "#276419"
            ]
           ],
           "sequential": [
            [
             0,
             "#0d0887"
            ],
            [
             0.1111111111111111,
             "#46039f"
            ],
            [
             0.2222222222222222,
             "#7201a8"
            ],
            [
             0.3333333333333333,
             "#9c179e"
            ],
            [
             0.4444444444444444,
             "#bd3786"
            ],
            [
             0.5555555555555556,
             "#d8576b"
            ],
            [
             0.6666666666666666,
             "#ed7953"
            ],
            [
             0.7777777777777778,
             "#fb9f3a"
            ],
            [
             0.8888888888888888,
             "#fdca26"
            ],
            [
             1,
             "#f0f921"
            ]
           ],
           "sequentialminus": [
            [
             0,
             "#0d0887"
            ],
            [
             0.1111111111111111,
             "#46039f"
            ],
            [
             0.2222222222222222,
             "#7201a8"
            ],
            [
             0.3333333333333333,
             "#9c179e"
            ],
            [
             0.4444444444444444,
             "#bd3786"
            ],
            [
             0.5555555555555556,
             "#d8576b"
            ],
            [
             0.6666666666666666,
             "#ed7953"
            ],
            [
             0.7777777777777778,
             "#fb9f3a"
            ],
            [
             0.8888888888888888,
             "#fdca26"
            ],
            [
             1,
             "#f0f921"
            ]
           ]
          },
          "colorway": [
           "#636efa",
           "#EF553B",
           "#00cc96",
           "#ab63fa",
           "#FFA15A",
           "#19d3f3",
           "#FF6692",
           "#B6E880",
           "#FF97FF",
           "#FECB52"
          ],
          "font": {
           "color": "#2a3f5f"
          },
          "geo": {
           "bgcolor": "white",
           "lakecolor": "white",
           "landcolor": "white",
           "showlakes": true,
           "showland": true,
           "subunitcolor": "#C8D4E3"
          },
          "hoverlabel": {
           "align": "left"
          },
          "hovermode": "closest",
          "mapbox": {
           "style": "light"
          },
          "paper_bgcolor": "white",
          "plot_bgcolor": "white",
          "polar": {
           "angularaxis": {
            "gridcolor": "#EBF0F8",
            "linecolor": "#EBF0F8",
            "ticks": ""
           },
           "bgcolor": "white",
           "radialaxis": {
            "gridcolor": "#EBF0F8",
            "linecolor": "#EBF0F8",
            "ticks": ""
           }
          },
          "scene": {
           "xaxis": {
            "backgroundcolor": "white",
            "gridcolor": "#DFE8F3",
            "gridwidth": 2,
            "linecolor": "#EBF0F8",
            "showbackground": true,
            "ticks": "",
            "zerolinecolor": "#EBF0F8"
           },
           "yaxis": {
            "backgroundcolor": "white",
            "gridcolor": "#DFE8F3",
            "gridwidth": 2,
            "linecolor": "#EBF0F8",
            "showbackground": true,
            "ticks": "",
            "zerolinecolor": "#EBF0F8"
           },
           "zaxis": {
            "backgroundcolor": "white",
            "gridcolor": "#DFE8F3",
            "gridwidth": 2,
            "linecolor": "#EBF0F8",
            "showbackground": true,
            "ticks": "",
            "zerolinecolor": "#EBF0F8"
           }
          },
          "shapedefaults": {
           "line": {
            "color": "#2a3f5f"
           }
          },
          "ternary": {
           "aaxis": {
            "gridcolor": "#DFE8F3",
            "linecolor": "#A2B1C6",
            "ticks": ""
           },
           "baxis": {
            "gridcolor": "#DFE8F3",
            "linecolor": "#A2B1C6",
            "ticks": ""
           },
           "bgcolor": "white",
           "caxis": {
            "gridcolor": "#DFE8F3",
            "linecolor": "#A2B1C6",
            "ticks": ""
           }
          },
          "title": {
           "x": 0.05
          },
          "xaxis": {
           "automargin": true,
           "gridcolor": "#EBF0F8",
           "linecolor": "#EBF0F8",
           "ticks": "",
           "title": {
            "standoff": 15
           },
           "zerolinecolor": "#EBF0F8",
           "zerolinewidth": 2
          },
          "yaxis": {
           "automargin": true,
           "gridcolor": "#EBF0F8",
           "linecolor": "#EBF0F8",
           "ticks": "",
           "title": {
            "standoff": 15
           },
           "zerolinecolor": "#EBF0F8",
           "zerolinewidth": 2
          }
         }
        },
        "title": {
         "text": "COVID-19 Risk Evolution Over Time"
        },
        "updatemenus": [
         {
          "buttons": [
           {
            "args": [
             null,
             {
              "frame": {
               "duration": 500,
               "redraw": true
              },
              "fromcurrent": true,
              "mode": "immediate",
              "transition": {
               "duration": 500,
               "easing": "linear"
              }
             }
            ],
            "label": "&#9654;",
            "method": "animate"
           },
           {
            "args": [
             [
              null
             ],
             {
              "frame": {
               "duration": 0,
               "redraw": true
              },
              "fromcurrent": true,
              "mode": "immediate",
              "transition": {
               "duration": 0,
               "easing": "linear"
              }
             }
            ],
            "label": "&#9724;",
            "method": "animate"
           }
          ],
          "direction": "left",
          "pad": {
           "r": 10,
           "t": 70
          },
          "showactive": false,
          "type": "buttons",
          "x": 0.1,
          "xanchor": "right",
          "y": 0,
          "yanchor": "top"
         }
        ]
       }
      }
     },
     "metadata": {},
     "output_type": "display_data"
    }
   ],
   "source": [
    "pdf_sample[\"month\"] = pd.to_datetime(pdf_sample[\"Date_reported\"]).dt.to_period(\"M\").astype(str)\n",
    "\n",
    "fig = px.scatter_geo(\n",
    "    pdf_sample,\n",
    "    lat=\"lat\",\n",
    "    lon=\"lon\",\n",
    "    color=\"risk_tier\",\n",
    "    animation_frame=\"month\",\n",
    "    title=\"COVID-19 Risk Evolution Over Time\",\n",
    "    projection=\"natural earth\",\n",
    "    template=\"plotly_white\",\n",
    "    color_discrete_map={\"High\": \"red\", \"Medium\": \"orange\", \"Low\": \"green\"}\n",
    ")\n",
    "fig.update_traces(marker=dict(size=6))\n",
    "fig.show()\n"
   ]
  },
  {
   "cell_type": "code",
   "execution_count": 59,
   "id": "ab7d6549",
   "metadata": {},
   "outputs": [],
   "source": [
    "import numpy as np\n",
    "\n",
    "# Define buffer radius (in km)\n",
    "buffer_radius_km = 300\n",
    "\n",
    "# Calculate degree deltas\n",
    "pdf_sample[\"buffer_lat\"] = pdf_sample[\"lat\"] + (buffer_radius_km / 111.0)\n",
    "pdf_sample[\"buffer_lon\"] = pdf_sample[\"lon\"] + (buffer_radius_km / (111.0 * np.cos(np.radians(pdf_sample[\"lat\"]))))\n"
   ]
  },
  {
   "cell_type": "code",
   "execution_count": 60,
   "id": "b0e51b7c",
   "metadata": {},
   "outputs": [
    {
     "data": {
      "application/vnd.plotly.v1+json": {
       "config": {
        "plotlyServerURL": "https://plot.ly"
       },
       "data": [
        {
         "hoverinfo": "text",
         "lat": {
          "bdata": "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",
          "dtype": "f8"
         },
         "lon": {
          "bdata": "KT+p9ukAI0ApP6n26QAjQCk/qfbpACNAKT+p9ukAI0ApP6n26QAjQCk/qfbpACNAKT+p9ukAI0ApP6n26QAjQCk/qfbpACNAKT+p9ukAI0ApP6n26QAjQCk/qfbpACNAKT+p9ukAI0ApP6n26QAjQCk/qfbpACNAKT+p9ukAI0ApP6n26QAjQCk/qfbpACNAKT+p9ukAI0ApP6n26QAjQCk/qfbpACNAKT+p9ukAI0ApP6n26QAjQCk/qfbpACNAKT+p9ukAI0ApP6n26QAjQCk/qfbpACNAKT+p9ukAI0ApP6n26QAjQCk/qfbpACNAKT+p9ukAI0ApP6n26QAjQCk/qfbpACNAKT+p9ukAI0ApP6n26QAjQCk/qfbpACNAKT+p9ukAI0ApP6n26QAjQCk/qfbpACNAKT+p9ukAI0ApP6n26QAjQCk/qfbpACNAKT+p9ukAI0ApP6n26QAjQCk/qfbpACNAKT+p9ukAI0ApP6n26QAjQCk/qfbpACNAKT+p9ukAI0ApP6n26QAjQCk/qfbpACNAKT+p9ukAI0ApP6n26QAjQCk/qfbpACNAKT+p9ukAI0ApP6n26QAjQCk/qfbpACNAKT+p9ukAI0ApP6n26QAjQCk/qfbpACNAKT+p9ukAI0ApP6n26QAjQCk/qfbpACNAu10vTRH0O0C7XS9NEfQ7QLtdL00R9DtAu10vTRH0O0C7XS9NEfQ7QLtdL00R9DtAu10vTRH0O0C7XS9NEfQ7QLtdL00R9DtAu10vTRH0O0C7XS9NEfQ7QLtdL00R9DtAu10vTRH0O0C7XS9NEfQ7QLtdL00R9DtAu10vTRH0O0C7XS9NEfQ7QLtdL00R9DtAu10vTRH0O0C7XS9NEfQ7QLtdL00R9DtAu10vTRH0O0C7XS9NEfQ7QLtdL00R9DtAu10vTRH0O0C7XS9NEfQ7QLtdL00R9DtAu10vTRH0O0C7XS9NEfQ7QLtdL00R9DtAu10vTRH0O0C7XS9NEfQ7QLtdL00R9DtAu10vTRH0O0C7XS9NEfQ7QLtdL00R9DtAu10vTRH0O0C7XS9NEfQ7QLtdL00R9DtAu10vTRH0O0C7XS9NEfQ7QLtdL00R9DtAu10vTRH0O0C7XS9NEfQ7QLtdL00R9DtAu10vTRH0O0C7XS9NEfQ7QLtdL00R9DtAu10vTRH0O0C7XS9NEfQ7QLtdL00R9DtAu10vTRH0O0C7XS9NEfQ7QLtdL00R9DtAu10vTRH0O0C7XS9NEfQ7QLtdL00R9DtAu10vTRH0O0C7XS9NEfQ7QLtdL00R9DtAu10vTRH0O0C7XS9NEfQ7QLtdL00R9DtAu10vTRH0O0C7XS9NEfQ7QLtdL00R9DtAu10vTRH0O0C7XS9NEfQ7QLtdL00R9DtAu10vTRH0O0C7XS9NEfQ7QLtdL00R9DtAu10vTRH0O0C7XS9NEfQ7QLtdL00R9DtAu10vTRH0O0C7XS9NEfQ7QLtdL00R9DtAu10vTRH0O0C7XS9NEfQ7QLtdL00R9DtAu10vTRH0O0C7XS9NEfQ7QLtdL00R9DtAu10vTRH0O0C7XS9NEfQ7QLtdL00R9DtAu10vTRH0O0C7XS9NEfQ7QLtdL00R9DtAu10vTRH0O0C7XS9NEfQ7QLtdL00R9DtAu10vTRH0O0C7XS9NEfQ7QLtdL00R9DtAu10vTRH0O0C7XS9NEfQ7QLtdL00R9DtAu10vTRH0O0C7XS9NEfQ7QLtdL00R9DtAu10vTRH0O0C7XS9NEfQ7QLtdL00R9DtAu10vTRH0O0C7XS9NEfQ7QLtdL00R9DtAu10vTRH0O0C7XS9NEfQ7QLtdL00R9DtAu10vTRH0O0C7XS9NEfQ7QLtdL00R9DtAu10vTRH0O0C7XS9NEfQ7QLtdL00R9DtAu10vTRH0O0C7XS9NEfQ7QLtdL00R9DtAu10vTRH0O0C7XS9NEfQ7QLtdL00R9DtAu10vTRH0O0C7XS9NEfQ7QLtdL00R9DtAu10vTRH0O0C7XS9NEfQ7QCk/qfbpACNAKT+p9ukAI0ApP6n26QAjQCk/qfbpACNAKT+p9ukAI0ApP6n26QAjQCk/qfbpACNAKT+p9ukAI0ApP6n26QAjQCk/qfbpACNAKT+p9ukAI0ApP6n26QAjQCk/qfbpACNAKT+p9ukAI0ApP6n26QAjQCk/qfbpACNAKT+p9ukAI0ApP6n26QAjQCk/qfbpACNAKT+p9ukAI0ApP6n26QAjQCk/qfbpACNAKT+p9ukAI0ApP6n26QAjQCk/qfbpACNAKT+p9ukAI0ApP6n26QAjQCk/qfbpACNAKT+p9ukAI0ApP6n26QAjQCk/qfbpACNAKT+p9ukAI0ApP6n26QAjQCk/qfbpACNAKT+p9ukAI0ApP6n26QAjQCk/qfbpACNAKT+p9ukAI0ApP6n26QAjQCk/qfbpACNAKT+p9ukAI0ApP6n26QAjQCk/qfbpACNAKT+p9ukAI0ApP6n26QAjQCk/qfbpACNAKT+p9ukAI0ApP6n26QAjQCk/qfbpACNAKT+p9ukAI0ApP6n26QAjQCk/qfbpACNAKT+p9ukAI0ApP6n26QAjQCk/qfbpACNAKT+p9ukAI0ApP6n26QAjQCk/qfbpACNAKT+p9ukAI0ApP6n26QAjQCk/qfbpACNAKT+p9ukAI0ApP6n26QAjQCk/qfbpACNAu10vTRH0O0C7XS9NEfQ7QLtdL00R9DtAu10vTRH0O0C7XS9NEfQ7QLtdL00R9DtAu10vTRH0O0C7XS9NEfQ7QLtdL00R9DtAu10vTRH0O0C7XS9NEfQ7QLtdL00R9DtAu10vTRH0O0C7XS9NEfQ7QLtdL00R9DtAu10vTRH0O0C7XS9NEfQ7QLtdL00R9DtAu10vTRH0O0C7XS9NEfQ7QLtdL00R9DtAu10vTRH0O0C7XS9NEfQ7QLtdL00R9DtAu10vTRH0O0C7XS9NEfQ7QLtdL00R9DtAu10vTRH0O0C7XS9NEfQ7QLtdL00R9DtAu10vTRH0O0C7XS9NEfQ7QLtdL00R9DtAu10vTRH0O0C7XS9NEfQ7QLtdL00R9DtAu10vTRH0O0C7XS9NEfQ7QLtdL00R9DtAu10vTRH0O0C7XS9NEfQ7QLtdL00R9DtAu10vTRH0O0C7XS9NEfQ7QLtdL00R9DtAu10vTRH0O0C7XS9NEfQ7QLtdL00R9DtAu10vTRH0O0C7XS9NEfQ7QLtdL00R9DtAu10vTRH0O0C7XS9NEfQ7QLtdL00R9DtAu10vTRH0O0C7XS9NEfQ7QLtdL00R9DtAu10vTRH0O0C7XS9NEfQ7QLtdL00R9DtAu10vTRH0O0C7XS9NEfQ7QLtdL00R9DtAu10vTRH0O0ApP6n26QAjQCk/qfbpACNAKT+p9ukAI0ApP6n26QAjQCk/qfbpACNAKT+p9ukAI0ApP6n26QAjQCk/qfbpACNAKT+p9ukAI0ApP6n26QAjQCk/qfbpACNAKT+p9ukAI0ApP6n26QAjQCk/qfbpACNAKT+p9ukAI0ApP6n26QAjQCk/qfbpACNAKT+p9ukAI0ApP6n26QAjQCk/qfbpACNAKT+p9ukAI0ApP6n26QAjQCk/qfbpACNAKT+p9ukAI0ApP6n26QAjQCk/qfbpACNAKT+p9ukAI0ApP6n26QAjQCk/qfbpACNAKT+p9ukAI0ApP6n26QAjQCk/qfbpACNAKT+p9ukAI0ApP6n26QAjQCk/qfbpACNAKT+p9ukAI0ApP6n26QAjQCk/qfbpACNAKT+p9ukAI0ApP6n26QAjQCk/qfbpACNAKT+p9ukAI0ApP6n26QAjQCk/qfbpACNAKT+p9ukAI0ApP6n26QAjQCk/qfbpACNAKT+p9ukAI0ApP6n26QAjQCk/qfbpACNAKT+p9ukAI0ApP6n26QAjQCk/qfbpACNAKT+p9ukAI0ApP6n26QAjQCk/qfbpACNAKT+p9ukAI0ApP6n26QAjQCk/qfbpACNAKT+p9ukAI0ApP6n26QAjQCk/qfbpACNAKT+p9ukAI0ApP6n26QAjQCk/qfbpACNAKT+p9ukAI0ApP6n26QAjQCk/qfbpACNAKT+p9ukAI0ApP6n26QAjQCk/qfbpACNAKT+p9ukAI0ApP6n26QAjQCk/qfbpACNAKT+p9ukAI0ApP6n26QAjQCk/qfbpACNAKT+p9ukAI0ApP6n26QAjQCk/qfbpACNAKT+p9ukAI0ApP6n26QAjQCk/qfbpACNAKT+p9ukAI0ApP6n26QAjQCk/qfbpACNAKT+p9ukAI0ApP6n26QAjQCk/qfbpACNAKT+p9ukAI0ApP6n26QAjQCk/qfbpACNAKT+p9ukAI0ApP6n26QAjQCk/qfbpACNAKT+p9ukAI0ApP6n26QAjQCk/qfbpACNAKT+p9ukAI0ApP6n26QAjQCk/qfbpACNAKT+p9ukAI0ApP6n26QAjQCk/qfbpACNAKT+p9ukAI0ApP6n26QAjQCk/qfbpACNAKT+p9ukAI0ApP6n26QAjQCk/qfbpACNAKT+p9ukAI0ApP6n26QAjQCk/qfbpACNAKT+p9ukAI0ApP6n26QAjQCk/qfbpACNAKT+p9ukAI0ApP6n26QAjQCk/qfbpACNAKT+p9ukAI0ApP6n26QAjQCk/qfbpACNAKT+p9ukAI0ApP6n26QAjQCk/qfbpACNAKT+p9ukAI0ApP6n26QAjQCk/qfbpACNAKT+p9ukAI0ApP6n26QAjQCk/qfbpACNAKT+p9ukAI0ApP6n26QAjQCk/qfbpACNAKT+p9ukAI0ApP6n26QAjQCk/qfbpACNAKT+p9ukAI0ApP6n26QAjQCk/qfbpACNAKT+p9ukAI0ApP6n26QAjQCk/qfbpACNAKT+p9ukAI0ApP6n26QAjQCk/qfbpACNAKT+p9ukAI0ApP6n26QAjQCk/qfbpACNAKT+p9ukAI0ApP6n26QAjQCk/qfbpACNAKT+p9ukAI0ApP6n26QAjQCk/qfbpACNAKT+p9ukAI0ApP6n26QAjQCk/qfbpACNAKT+p9ukAI0ApP6n26QAjQCk/qfbpACNAKT+p9ukAI0ApP6n26QAjQCk/qfbpACNAKT+p9ukAI0ApP6n26QAjQCk/qfbpACNAKT+p9ukAI0ApP6n26QAjQCk/qfbpACNAKT+p9ukAI0ApP6n26QAjQCk/qfbpACNAKT+p9ukAI0ApP6n26QAjQCk/qfbpACNAKT+p9ukAI0ApP6n26QAjQCk/qfbpACNAKT+p9ukAI0ApP6n26QAjQCk/qfbpACNAKT+p9ukAI0ApP6n26QAjQCk/qfbpACNAKT+p9ukAI0ApP6n26QAjQCk/qfbpACNAKT+p9ukAI0ApP6n26QAjQCk/qfbpACNAKT+p9ukAI0ApP6n26QAjQCk/qfbpACNAKT+p9ukAI0ApP6n26QAjQCk/qfbpACNAKT+p9ukAI0ApP6n26QAjQCk/qfbpACNAKT+p9ukAI0ApP6n26QAjQCk/qfbpACNAKT+p9ukAI0ApP6n26QAjQCk/qfbpACNAKT+p9ukAI0ApP6n26QAjQCk/qfbpACNAKT+p9ukAI0ApP6n26QAjQCk/qfbpACNAKT+p9ukAI0ApP6n26QAjQCk/qfbpACNAKT+p9ukAI0ApP6n26QAjQCk/qfbpACNAKT+p9ukAI0ApP6n26QAjQCk/qfbpACNAKT+p9ukAI0ApP6n26QAjQCk/qfbpACNAKT+p9ukAI0ApP6n26QAjQCk/qfbpACNAKT+p9ukAI0ApP6n26QAjQCk/qfbpACNAKT+p9ukAI0ApP6n26QAjQCk/qfbpACNAKT+p9ukAI0ApP6n26QAjQCk/qfbpACNAKT+p9ukAI0ApP6n26QAjQCk/qfbpACNAKT+p9ukAI0ApP6n26QAjQCk/qfbpACNAKT+p9ukAI0ApP6n26QAjQCk/qfbpACNAKT+p9ukAI0ApP6n26QAjQCk/qfbpACNAKT+p9ukAI0ApP6n26QAjQCk/qfbpACNAKT+p9ukAI0ApP6n26QAjQCk/qfbpACNAKT+p9ukAI0ApP6n26QAjQCk/qfbpACNAKT+p9ukAI0ApP6n26QAjQCk/qfbpACNAKT+p9ukAI0ApP6n26QAjQCk/qfbpACNAKT+p9ukAI0ApP6n26QAjQCk/qfbpACNAKT+p9ukAI0ApP6n26QAjQCk/qfbpACNAKT+p9ukAI0ApP6n26QAjQCk/qfbpACNAKT+p9ukAI0ApP6n26QAjQCk/qfbpACNAKT+p9ukAI0ApP6n26QAjQCk/qfbpACNAKT+p9ukAI0ApP6n26QAjQCk/qfbpACNAKT+p9ukAI0ApP6n26QAjQCk/qfbpACNAKT+p9ukAI0ApP6n26QAjQCk/qfbpACNAKT+p9ukAI0ApP6n26QAjQCk/qfbpACNAKT+p9ukAI0ApP6n26QAjQCk/qfbpACNAKT+p9ukAI0ApP6n26QAjQCk/qfbpACNAKT+p9ukAI0ApP6n26QAjQCk/qfbpACNAKT+p9ukAI0ApP6n26QAjQCk/qfbpACNAKT+p9ukAI0ApP6n26QAjQCk/qfbpACNAKT+p9ukAI0ApP6n26QAjQCk/qfbpACNAKT+p9ukAI0ApP6n26QAjQCk/qfbpACNAKT+p9ukAI0ApP6n26QAjQCk/qfbpACNAKT+p9ukAI0ApP6n26QAjQCk/qfbpACNAKT+p9ukAI0ApP6n26QAjQCk/qfbpACNAKT+p9ukAI0ApP6n26QAjQCk/qfbpACNAKT+p9ukAI0ApP6n26QAjQCk/qfbpACNAKT+p9ukAI0ApP6n26QAjQCk/qfbpACNAKT+p9ukAI0ApP6n26QAjQCk/qfbpACNAKT+p9ukAI0ApP6n26QAjQCk/qfbpACNAKT+p9ukAI0ApP6n26QAjQCk/qfbpACNAKT+p9ukAI0ApP6n26QAjQCk/qfbpACNAKT+p9ukAI0ApP6n26QAjQCk/qfbpACNAKT+p9ukAI0ApP6n26QAjQCk/qfbpACNAKT+p9ukAI0ApP6n26QAjQCk/qfbpACNAKT+p9ukAI0ApP6n26QAjQCk/qfbpACNAKT+p9ukAI0ApP6n26QAjQCk/qfbpACNAKT+p9ukAI0ApP6n26QAjQCk/qfbpACNAKT+p9ukAI0ApP6n26QAjQCk/qfbpACNAKT+p9ukAI0ApP6n26QAjQCk/qfbpACNAKT+p9ukAI0ApP6n26QAjQCk/qfbpACNAKT+p9ukAI0ApP6n26QAjQCk/qfbpACNAKT+p9ukAI0ApP6n26QAjQCk/qfbpACNAKT+p9ukAI0ApP6n26QAjQCk/qfbpACNAKT+p9ukAI0ApP6n26QAjQCk/qfbpACNAKT+p9ukAI0ApP6n26QAjQCk/qfbpACNAKT+p9ukAI0C7XS9NEfQ7QLtdL00R9DtAu10vTRH0O0C7XS9NEfQ7QLtdL00R9DtAu10vTRH0O0C7XS9NEfQ7QLtdL00R9DtAu10vTRH0O0C7XS9NEfQ7QLtdL00R9DtAu10vTRH0O0C7XS9NEfQ7QLtdL00R9DtAu10vTRH0O0C7XS9NEfQ7QLtdL00R9DtAu10vTRH0O0C7XS9NEfQ7QLtdL00R9DtAu10vTRH0O0C7XS9NEfQ7QLtdL00R9DtAu10vTRH0O0C7XS9NEfQ7QLtdL00R9DtAu10vTRH0O0C7XS9NEfQ7QLtdL00R9DtAu10vTRH0O0C7XS9NEfQ7QLtdL00R9DtAu10vTRH0O0C7XS9NEfQ7QLtdL00R9DtAu10vTRH0O0C7XS9NEfQ7QLtdL00R9DtAu10vTRH0O0C7XS9NEfQ7QLtdL00R9DtAu10vTRH0O0C7XS9NEfQ7QLtdL00R9DtAu10vTRH0O0C7XS9NEfQ7QLtdL00R9DtAu10vTRH0O0C7XS9NEfQ7QLtdL00R9DtAu10vTRH0O0C7XS9NEfQ7QLtdL00R9DtAu10vTRH0O0C7XS9NEfQ7QLtdL00R9DtAu10vTRH0O0C7XS9NEfQ7QLtdL00R9DtAu10vTRH0O0C7XS9NEfQ7QLtdL00R9DtAu10vTRH0O0C7XS9NEfQ7QCk/qfbpACNAKT+p9ukAI0ApP6n26QAjQCk/qfbpACNAKT+p9ukAI0ApP6n26QAjQCk/qfbpACNAKT+p9ukAI0ApP6n26QAjQCk/qfbpACNAKT+p9ukAI0ApP6n26QAjQCk/qfbpACNAKT+p9ukAI0ApP6n26QAjQCk/qfbpACNAKT+p9ukAI0ApP6n26QAjQCk/qfbpACNAKT+p9ukAI0ApP6n26QAjQCk/qfbpACNAKT+p9ukAI0ApP6n26QAjQCk/qfbpACNAKT+p9ukAI0ApP6n26QAjQCk/qfbpACNAKT+p9ukAI0ApP6n26QAjQCk/qfbpACNAKT+p9ukAI0ApP6n26QAjQCk/qfbpACNAKT+p9ukAI0ApP6n26QAjQCk/qfbpACNAKT+p9ukAI0ApP6n26QAjQCk/qfbpACNAKT+p9ukAI0ApP6n26QAjQCk/qfbpACNAKT+p9ukAI0ApP6n26QAjQCk/qfbpACNAKT+p9ukAI0ApP6n26QAjQCk/qfbpACNAKT+p9ukAI0ApP6n26QAjQCk/qfbpACNAKT+p9ukAI0ApP6n26QAjQCk/qfbpACNAKT+p9ukAI0ApP6n26QAjQCk/qfbpACNAKT+p9ukAI0ApP6n26QAjQCk/qfbpACNAKT+p9ukAI0ApP6n26QAjQCk/qfbpACNAu10vTRH0O0C7XS9NEfQ7QLtdL00R9DtAu10vTRH0O0C7XS9NEfQ7QLtdL00R9DtAu10vTRH0O0C7XS9NEfQ7QLtdL00R9DtAu10vTRH0O0C7XS9NEfQ7QLtdL00R9DtAu10vTRH0O0C7XS9NEfQ7QLtdL00R9DtAu10vTRH0O0C7XS9NEfQ7QLtdL00R9DtAu10vTRH0O0C7XS9NEfQ7QLtdL00R9DtAu10vTRH0O0C7XS9NEfQ7QLtdL00R9DtAu10vTRH0O0C7XS9NEfQ7QLtdL00R9DtAu10vTRH0O0C7XS9NEfQ7QLtdL00R9DtAu10vTRH0O0C7XS9NEfQ7QLtdL00R9DtAu10vTRH0O0C7XS9NEfQ7QLtdL00R9DtAu10vTRH0O0C7XS9NEfQ7QLtdL00R9DtAu10vTRH0O0C7XS9NEfQ7QLtdL00R9DtAu10vTRH0O0C7XS9NEfQ7QLtdL00R9DtAu10vTRH0O0C7XS9NEfQ7QLtdL00R9DtAu10vTRH0O0C7XS9NEfQ7QLtdL00R9DtAu10vTRH0O0C7XS9NEfQ7QLtdL00R9DtAu10vTRH0O0C7XS9NEfQ7QLtdL00R9DtAu10vTRH0O0C7XS9NEfQ7QLtdL00R9DtAu10vTRH0O0C7XS9NEfQ7QLtdL00R9DtAu10vTRH0O0ApP6n26QAjQCk/qfbpACNAKT+p9ukAI0ApP6n26QAjQCk/qfbpACNAKT+p9ukAI0ApP6n26QAjQCk/qfbpACNAKT+p9ukAI0ApP6n26QAjQCk/qfbpACNAKT+p9ukAI0ApP6n26QAjQCk/qfbpACNAKT+p9ukAI0ApP6n26QAjQCk/qfbpACNAKT+p9ukAI0ApP6n26QAjQCk/qfbpACNAKT+p9ukAI0ApP6n26QAjQCk/qfbpACNAKT+p9ukAI0ApP6n26QAjQCk/qfbpACNAKT+p9ukAI0ApP6n26QAjQCk/qfbpACNAKT+p9ukAI0ApP6n26QAjQCk/qfbpACNAKT+p9ukAI0ApP6n26QAjQCk/qfbpACNAKT+p9ukAI0ApP6n26QAjQCk/qfbpACNAKT+p9ukAI0ApP6n26QAjQCk/qfbpACNAKT+p9ukAI0ApP6n26QAjQCk/qfbpACNAKT+p9ukAI0ApP6n26QAjQCk/qfbpACNAKT+p9ukAI0ApP6n26QAjQCk/qfbpACNAKT+p9ukAI0ApP6n26QAjQCk/qfbpACNAKT+p9ukAI0ApP6n26QAjQCk/qfbpACNAKT+p9ukAI0ApP6n26QAjQCk/qfbpACNAKT+p9ukAI0ApP6n26QAjQCk/qfbpACNAKT+p9ukAI0ApP6n26QAjQCk/qfbpACNAKT+p9ukAI0ApP6n26QAjQCk/qfbpACNAKT+p9ukAI0ApP6n26QAjQCk/qfbpACNAKT+p9ukAI0ApP6n26QAjQCk/qfbpACNAKT+p9ukAI0ApP6n26QAjQCk/qfbpACNAKT+p9ukAI0ApP6n26QAjQCk/qfbpACNAKT+p9ukAI0ApP6n26QAjQCk/qfbpACNAKT+p9ukAI0ApP6n26QAjQCk/qfbpACNAKT+p9ukAI0ApP6n26QAjQCk/qfbpACNAKT+p9ukAI0ApP6n26QAjQCk/qfbpACNAKT+p9ukAI0ApP6n26QAjQCk/qfbpACNAKT+p9ukAI0ApP6n26QAjQCk/qfbpACNAKT+p9ukAI0ApP6n26QAjQCk/qfbpACNAKT+p9ukAI0ApP6n26QAjQCk/qfbpACNA",
          "dtype": "f8"
         },
         "marker": {
          "color": "red",
          "size": 4
         },
         "mode": "markers",
         "name": "Original Points",
         "text": {
          "bdata": "AAAAAAAAAAAAAAAAAAAAAAAAAAAAAAAAAAAAAAAAAAAAAAAAAAAAAAAAAAAAAAAAAAAAAAAAAAAAAAAAAAAAAAAAAAAAAAAAAAAAAAAAAAAAAAAAAAAAAAAAAAAAAAAAAAAAAAAAAAAAAAAAAAAAAAAAAAAAAAAAAAAAAAAAAAAAAAAAAAAAAAAAAAAAAAAAAAAAAAAAAAAAAAAAAAAAAAAAAAAAAAAAAAAAAAAAAAAAAAAAAAAAAAAAAAAAAAAAAAAAAAAAAAAAAAAAAAAAAAAAAAAAAAAAAAAAAAAAAAAAAAAAAAAAAAAAAAAAAAAAAAAAAAAAAAAAAAAAAAAAAAAAAAAAAAAAAAAAAAAAAAAAAAAAAAAAAAAAAAAAAAAAAAAAAAAAAAAAAAAAAAAAAAAAAAAAAAAAAAAAAAAAAAAAAAAAAAAAAAAAAAAAAAAAAAAAAAAAAAAAAAAAAAAAAAAAAAAAAAAAAAAAAAAAAAAAAAAAAAAAAAAAAAAAAAAAAAAAAAAAAAAAAAAAAAAAAAAAAAAAAAAAAAAAAAAAAAAAAAAAAAAAAAAAAAAAAAAAAAAAAAAAAAAAAAAAAAAAAAAAAAAAAAAAAAAAAAAAAAAAAAAAAAAAAAAAAAAAAAAAAAAAAAAAAAAAAAAAAAAAAAAAAAAAAAAAAAAAAAAA8D8AAAAAAADwPwAAAAAAAPA/AAAAAAAA8D8AAAAAAADwPwAAAAAAAPA/AAAAAAAA8D8AAAAAAADwPwAAAAAAAPA/AAAAAAAA8D8AAAAAAADwPwAAAAAAAPA/AAAAAAAA8D8AAAAAAADwPwAAAAAAAPA/AAAAAAAA8D8AAAAAAADwPwAAAAAAAPA/AAAAAAAA8D8AAAAAAADwPwAAAAAAAPA/AAAAAAAA8D8AAAAAAADwPwAAAAAAAPA/AAAAAAAA8D8AAAAAAADwPwAAAAAAAPA/AAAAAAAA8D8AAAAAAADwPwAAAAAAAPA/AAAAAAAA8D8AAAAAAADwPwAAAAAAAPA/AAAAAAAA8D8AAAAAAADwPwAAAAAAAPA/AAAAAAAA8D8AAAAAAADwPwAAAAAAAPA/AAAAAAAA8D8AAAAAAADwPwAAAAAAAPA/AAAAAAAA8D8AAAAAAADwPwAAAAAAAPA/AAAAAAAA8D8AAAAAAADwPwAAAAAAAPA/AAAAAAAA8D8AAAAAAADwPwAAAAAAAPA/AAAAAAAA8D8AAAAAAADwPwAAAAAAAPA/AAAAAAAA8D8AAAAAAADwPwAAAAAAAPA/AAAAAAAA8D8AAAAAAADwPwAAAAAAAPA/AAAAAAAA8D8AAAAAAADwPwAAAAAAAPA/AAAAAAAA8D8AAAAAAADwPwAAAAAAAPA/AAAAAAAA8D8AAAAAAADwPwAAAAAAAPA/AAAAAAAA8D8AAAAAAADwPwAAAAAAAPA/AAAAAAAA8D8AAAAAAADwPwAAAAAAAPA/AAAAAAAA8D8AAAAAAADwPwAAAAAAAPA/AAAAAAAA8D8AAAAAAADwPwAAAAAAAPA/AAAAAAAA8D8AAAAAAADwPwAAAAAAAPA/AAAAAAAA8D8AAAAAAADwPwAAAAAAAPA/AAAAAAAA8D8AAAAAAADwPwAAAAAAAPA/AAAAAAAA8D8AAAAAAADwPwAAAAAAAPA/AAAAAAAA8D8AAAAAAADwPwAAAAAAAPA/AAAAAAAA8D8AAAAAAADwPwAAAAAAAPA/AAAAAAAA8D8AAAAAAADwPwAAAAAAAPA/AAAAAAAA8D8AAAAAAADwPwAAAAAAAPA/AAAAAAAA8D8AAAAAAADwPwAAAAAAAPA/AAAAAAAA8D8AAAAAAADwPwAAAAAAAPA/AAAAAAAA8D8AAAAAAADwPwAAAAAAAPA/AAAAAAAA8D8AAAAAAADwPwAAAAAAAPA/AAAAAAAA8D8AAAAAAADwPwAAAAAAAPA/AAAAAAAA8D8AAAAAAADwPwAAAAAAAPA/AAAAAAAA8D8AAAAAAADwPwAAAAAAAPA/AAAAAAAA8D8AAAAAAADwPwAAAAAAAAAAAAAAAAAAAAAAAAAAAAAAAAAAAAAAAAAAAAAAAAAAAAAAAAAAAAAAAAAAAAAAAAAAAAAAAAAAAAAAAAAAAAAAAAAAAAAAAAAAAAAAAAAAAAAAAAAAAAAAAAAAAAAAAAAAAAAAAAAAAAAAAAAAAAAAAAAAAAAAAAAAAAAAAAAAAAAAAAAAAAAAAAAAAAAAAAAAAAAAAAAAAAAAAAAAAAAAAAAAAAAAAAAAAAAAAAAAAAAAAAAAAAAAAAAAAAAAAAAAAAAAAAAAAAAAAAAAAAAAAAAAAAAAAAAAAAAAAAAAAAAAAAAAAAAAAAAAAAAAAAAAAAAAAAAAAAAAAAAAAAAAAAAAAAAAAAAAAAAAAAAAAAAAAAAAAAAAAAAAAAAAAAAAAAAAAAAAAAAAAAAAAAAAAAAAAAAAAAAAAAAAAAAAAAAAAAAAAAAAAAAAAAAAAAAAAAAAAAAAAAAAAAAAAAAAAAAAAAAAAAAAAAAAAAAAAAAAAAAAAAAAAAAAAAAAAAAAAAAAAAAAAAAAAAAAAAAAAAAAAAAAAAAAAAAAAAAAAAAAAAAAAAAAAAAAAAAAAAAAAAAAAAAAAAAAAAAAAAAAAAAAAAAAAAAAAAAAAAAAAAAAAAAAAAAAAAAAAAAAAAAAAAAAAAAAAAAAAAAAAAAAAAAAAAAAAAAAAAAAAAAA8D8AAAAAAADwPwAAAAAAAPA/AAAAAAAA8D8AAAAAAADwPwAAAAAAAPA/AAAAAAAA8D8AAAAAAADwPwAAAAAAAPA/AAAAAAAA8D8AAAAAAADwPwAAAAAAAPA/AAAAAAAA8D8AAAAAAADwPwAAAAAAAPA/AAAAAAAA8D8AAAAAAADwPwAAAAAAAPA/AAAAAAAA8D8AAAAAAADwPwAAAAAAAPA/AAAAAAAA8D8AAAAAAADwPwAAAAAAAPA/AAAAAAAA8D8AAAAAAADwPwAAAAAAAPA/AAAAAAAA8D8AAAAAAADwPwAAAAAAAPA/AAAAAAAA8D8AAAAAAADwPwAAAAAAAPA/AAAAAAAA8D8AAAAAAADwPwAAAAAAAPA/AAAAAAAA8D8AAAAAAADwPwAAAAAAAPA/AAAAAAAA8D8AAAAAAADwPwAAAAAAAPA/AAAAAAAA8D8AAAAAAADwPwAAAAAAAPA/AAAAAAAA8D8AAAAAAADwPwAAAAAAAPA/AAAAAAAA8D8AAAAAAADwPwAAAAAAAPA/AAAAAAAA8D8AAAAAAADwPwAAAAAAAPA/AAAAAAAA8D8AAAAAAADwPwAAAAAAAPA/AAAAAAAA8D8AAAAAAADwPwAAAAAAAPA/AAAAAAAA8D8AAAAAAADwPwAAAAAAAPA/AAAAAAAA8D8AAAAAAAAAAAAAAAAAAAAAAAAAAAAAAAAAAAAAAAAAAAAAAAAAAAAAAAAAAAAAAAAAAAAAAAAAAAAAAAAAAAAAAAAAAAAAAAAAAAAAAAAAAAAAAAAAAAAAAAAAAAAAAAAAAAAAAAAAAAAAAAAAAAAAAAAAAAAAAAAAAAAAAAAAAAAAAAAAAAAAAAAAAAAAAAAAAAAAAAAAAAAAAAAAAAAAAAAAAAAAAAAAAAAAAAAAAAAAAAAAAAAAAAAAAAAAAAAAAAAAAAAAAAAAAAAAAAAAAAAAAAAAAAAAAAAAAAAAAAAAAAAAAAAAAAAAAAAAAAAAAAAAAAAAAAAAAAAAAAAAAAAAAAAAAAAAAAAAAAAAAAAAAAAAAAAAAAAAAAAAAAAAAAAAAAAAAAAAAAAAAAAAAAAAAAAAAAAAAAAAAAAAAAAAAAAAAAAAAAAAAAAAAAAAAAAAAAAAAAAAAAAAAAAAAAAAAAAAAAAAAAAAAAAAAAAAAAAAAAAAAAAAAAAAAAAAAAAAAAAAAAAAAAAAAAAAAAAAAAAAAAAAAAAAAAAAAAAAAAAAAAAAAAAAAAAAAAAAAAAAAAAAAAAAAAAAAAAAAAAAAAAAAAAAAAAAAAAAAAAAAAAAAAAAAAAAAAAAAAAAAAAAAAAAAAAAAAAAAAAAAAAAAAAAAAAAAAAAAAAAAAAAAAAAAAAAAAAAAAAAAAAAAAAAAAAAAAAAAAAAAAAAAAAAAAAAAAAAAAAAAAAAAAAAAAAAAAAAAAAAAAAAAAAAAAAAAAAAAAAAAAAAAAAAAAAAAAAAAAAAAAAAAAAAAAAAAAAAAAAAAAAAAAAAAAAAAAAAAAAAAAAAAAAAAAAAAAAAAAAAAAAAAAAAAAAAAAAAAAAAAAAAAAAAAAAAAAAAAAAAAAAAAAAAAAAAAAAAAAAAAAAAAAAAAAAAAAAAAAAAAAAAAAAAAAAAAAAAAAAAAAAAAAAAAAAAAAAAAAAAAAAAAAAAAAAAAAAAAAAAAAAAAAAAAAAAAAAAAAAAAAAAAAAAAAAAAAAAAAAAAAAAAAAAAAAAAAAAAAAAAAAAAAAAAAAAAAAAAAAAAAAAAAAAAAAAAAAAAAAAAAAAAAAAAAAAAAAAAAAAAAAAAAAAAAAAAAAAAAAAAAAAAAAAAAAAAAAAAAAAAAAAAAAAAAAAAAAAAAAAAAAAAAAAAAAAAAAAAAAAAAAAAAAAAAAAAAAAAAAAAAAAAAAAAAAAAAAAAAAAAAAAAAAAAAAAAAAAAAAAAAAAAAAAAAAAAAAAAAAAAAAAAAAAAAAAAAAAAAAAAAAAAAAAAAAAAAAAAAAAAAAAAAAAAAAAAAAAAAAAAAAAAAAAAAAAAAAAAAAAAAAAAAAAAAAAAAAAAAAAAAAAAAAAAAAAAAAAAAAAAAAAAAAAAAAAAAAAAAAAAAAAAAAAAAAAAAAAAAAAAAAAAAAAAAAAAAAAAAAAAAAAAAAAAAAAAAAAAAAAAAAAAAAAAAAAAAAAAAAAAAAAAAAAAAAAAAAAAAAAAAAAAAAAAAAAAAAAAAAAAAAAAAAAAAAAAAAAAAAAAAAAAAAAAAAAAAAAAAAAAAAAAAAAAAAAAAAAAAAAAAAAAAAAAAAAAAAAAAAAAAAAAAAAAAAAAAAAAAAAAAAAAAAAAAAAAAAAAAAAAAAAAAAAAAAAAAAAAAAAAAAAAAAAAAAAAAAAAAAAAAAAAAAAAAAAAAAAAAAAAAAAAAAAAAAAAAAAAAAAAAAAAAAAAAAAAAAAAAAAAAAAAAAAAAAAAAAAAAAAAAAAAAAAAAAAAAAAAAAAAAAAAAAAAAAAAAAAAAAAAAAAAAAAAAAAAAAAAAAAAAAAAAAAAAAAAAAAAAAAAAAAAAAAAAAAAAAAAAAAAAAAAAAAAAAAAAAAAAAAAAAAAAAAAAAAAAAAAAAAAAAAAAAAAAAAAAAAAAAAAAAAAAAAAAAAAAAAAAAAAAAAAAAAAAAAAAAAAAAAAAAAAAAAAAAAAAAAAAAAAAAAAAAAAAAAAAAAAAAAAAAAAAAAAAAAAAAAAAAAAAAAAAAAAAAAAAAAAAAAAAAAAAAAAAAAAAAAAAAAAAAAAAAAAAAAAAAAAAAAAAAAAAAAAAAAAAAAAAAAAAAAAAAAAAAAAAAAAAAAAAAAAAAAAAAAAAAAAAAAAAAAAAAAAAAAAAAAAAAAAAAAAAAAAAAAAAAAAAAAAAAAAAAAAAAAAAAAAAAAAAAAAAAAAAAAAAAAAAAAAAAAAAAAAAAAAAAAAAAAAAAAAAAAAAAAAAAAAAAAAAAAAAAAAAAAAAAAAAAAAAAAAAAAAAAAAAAAAAAAAAAAAAAAAAAAAAAAAAAAAAAAAAAAAAAAAAAAAAAAAAAAAAAAAAAAAAAAAAAAAAAAAAAAAAAAAAAAAAAAAAAAAAAAAAAAAAAAAAAAAAAAAAAAAAAAAAAAAAAAAAAAAAAAAAAAAAAAAAAAAAAAAAAAAAAAAAAAAAAAAAAAAAAAAAAAAAAAAAAAAAAAAAAAAAAAAAAAAAAAAAAAAAAAAAAAAAAAAAAAAAAAAAAAAAAAAAAAAAAAAAAAAAAAAAAAAAAAAAAAAAAAAAAAAAAAAAAAAAAAAAAAAAAAAAAAAAAAAAAAAAAAAAAAAAAAAAAAAAAAAAAAAAAAAAAAAAAAAAAAAAAAAAAAAAAAAAAAAAAAAAAAAAAAAAAAAAAAAAAAAAAAAAAAAAAAAAAAAAAAAAAAAAAAAAAAAAAAAAAAAAAAAAAAAAAAAAAAAAAAAAAAAAAAAAAAAAAAAAAAAAAAAAAAAAAAAAAAAAAAAAAAAAAAAAAAAAAAAAAAAAAAAAAAAAAAAAAAAAAAAAAAAAAAAAAAAAAAAAAAAAAAAAAAAAAAAAAAAAAAAAAAAAAAAAAAAAAAAAAAAAAAAAAAAAAAAAAAAAAAAAAAAAAAAAAAAAAAAAAAAAAAAAAAAAAAAAAAAAAAAAAAAAAAAAAAAAAAAAAAAAAAAAAAAAAAAAAAAAAAAAAAAAAAAAAAAAAAAAAAAAAAAAAAAAAAAAAAAAAAAAAAAAAAAAAAAAAAAAAAAAAAAAAAAAAAAAAAAAAAAAAAAAAAAAAAAAAAAAAAAAAAAAAAAAAAAAAAAAAAAAAAAAAAAAAAAAAAAAAAAAAAAAAAAAAAAAAAAAAAAAAAAAAAAAAAAAAAAAAAAAAAAAAAAAAAAAAAAAAAAAAAAAAAAAAAAAAAAAAAAAAAAAAAAAAAAAAAAAAAAAAAAAAAAAAAAAAAAAAAAAAAAAAAAAAAAAAAAAAAAAAAAAAAAAAAAAAAAAAAAAAAAAAAAAAAAAAAAAAAAAAAAAAAAAAAAAAAAAAAAAAAAAAAAAAAAAAAAAAAAAAAAAAAAAAAAAAAAAAAAAAAAAAAAAAAAAAAAAAAAAAAAAAAAAAAAAAAAAAAAAAAAAAAAAAAAAAAAAAAAAAAAAAAAAAAAAAAAAAAAAAAAAAAAAAAAAAAAAAAAAAAAAAAAAAAAAAAAAAAAAAAAAAAAAAAAAAAAAAAAAAAAAAAAAAAAAAAAAAAAAAAAAAAAAAAAAAAAAAAAAAAAAAAAAAAAAAAAAAAAAAAAAAAAAAAAAAAAAAAAAAAAAAAAAAAAAAAAAAAAAAAAAAAAAAAAAAAAAAAAAAAAAAAAAAAAAAAAAAAAAAAAAAAAAAAAAAAAAAAAAAAAAAAAAAAAAAAAAAAAAAAAAAAAAAAAAAAAAAAAAAAAAAAAAAAAAAAAAAAAAAAAAAAAAAAAAAAAAAAAAAAAAAAAAAAAAAAAAAAAAAAAAAAAAAAAAAAAAAAAAAAAAAAAAAAAAAAAAAAAAAAAAAAAAAAAAAAAAAAAAAAAAAAAAAAAAAAAAAAAAAAAAAAAAAAAAAAAAAAAAAAAAAAAAAAAAAAAAAAAAAAAAAAAAAAAAAAAAAAAAAAAAAAAAAAAAAAAAAAAAAAAAAAAAAAAAAAAAAAAAAAAAAAAAAAAAAAAAAAAAAAAAAAAAAAAAAAAAAAAAAAAAAAAAAAAAAAAAAAAAAAAAAAAAAAAAAAAAAAAAAAAAAAAAAAAAAAAAAAAAAAAAAAAAAAAAAAAAAAAAAAAAAAAAAAAAAAAAAAAADwPwAAAAAAAPA/AAAAAAAA8D8AAAAAAADwPwAAAAAAAPA/AAAAAAAA8D8AAAAAAADwPwAAAAAAAPA/AAAAAAAA8D8AAAAAAADwPwAAAAAAAPA/AAAAAAAA8D8AAAAAAADwPwAAAAAAAPA/AAAAAAAA8D8AAAAAAADwPwAAAAAAAPA/AAAAAAAA8D8AAAAAAADwPwAAAAAAAPA/AAAAAAAA8D8AAAAAAADwPwAAAAAAAPA/AAAAAAAA8D8AAAAAAADwPwAAAAAAAPA/AAAAAAAA8D8AAAAAAADwPwAAAAAAAPA/AAAAAAAA8D8AAAAAAADwPwAAAAAAAPA/AAAAAAAA8D8AAAAAAADwPwAAAAAAAPA/AAAAAAAA8D8AAAAAAADwPwAAAAAAAPA/AAAAAAAA8D8AAAAAAADwPwAAAAAAAPA/AAAAAAAA8D8AAAAAAADwPwAAAAAAAPA/AAAAAAAA8D8AAAAAAADwPwAAAAAAAPA/AAAAAAAA8D8AAAAAAADwPwAAAAAAAPA/AAAAAAAA8D8AAAAAAADwPwAAAAAAAPA/AAAAAAAA8D8AAAAAAADwPwAAAAAAAPA/AAAAAAAA8D8AAAAAAADwPwAAAAAAAPA/AAAAAAAA8D8AAAAAAADwPwAAAAAAAPA/AAAAAAAA8D8AAAAAAADwPwAAAAAAAAAAAAAAAAAAAAAAAAAAAAAAAAAAAAAAAAAAAAAAAAAAAAAAAAAAAAAAAAAAAAAAAAAAAAAAAAAAAAAAAAAAAAAAAAAAAAAAAAAAAAAAAAAAAAAAAAAAAAAAAAAAAAAAAAAAAAAAAAAAAAAAAAAAAAAAAAAAAAAAAAAAAAAAAAAAAAAAAAAAAAAAAAAAAAAAAAAAAAAAAAAAAAAAAAAAAAAAAAAAAAAAAAAAAAAAAAAAAAAAAAAAAAAAAAAAAAAAAAAAAAAAAAAAAAAAAAAAAAAAAAAAAAAAAAAAAAAAAAAAAAAAAAAAAAAAAAAAAAAAAAAAAAAAAAAAAAAAAAAAAAAAAAAAAAAAAAAAAAAAAAAAAAAAAAAAAAAAAAAAAAAAAAAAAAAAAAAAAAAAAAAAAAAAAAAAAAAAAAAAAAAAAAAAAAAAAAAAAAAAAAAAAAAAAAAAAAAAAAAAAAAAAAAAAAAAAAAAAAAAAAAAAAAAAAAAAAAAAAAAAAAAAAAAAAAAAAAAAAAAAAAAAAAAAAAAAAAAAAAAAAAAAAAAAAAAAAAAAAAAAAAAAAAAAAAAAAAAAAAAAAAAAAAAAAAAAAAAAAAAAAAAAAAAAAAAAAAAAAAAAAAAAAAAAAAAAAAAAAAAAAAAAAAAAAAAAAAAAAAAAAAAAAAAAAAAAAAAAAAAAAAA8D8AAAAAAADwPwAAAAAAAPA/AAAAAAAA8D8AAAAAAADwPwAAAAAAAPA/AAAAAAAA8D8AAAAAAADwPwAAAAAAAPA/AAAAAAAA8D8AAAAAAADwPwAAAAAAAPA/AAAAAAAA8D8AAAAAAADwPwAAAAAAAPA/AAAAAAAA8D8AAAAAAADwPwAAAAAAAPA/AAAAAAAA8D8AAAAAAADwPwAAAAAAAPA/AAAAAAAA8D8AAAAAAADwPwAAAAAAAPA/AAAAAAAA8D8AAAAAAADwPwAAAAAAAPA/AAAAAAAA8D8AAAAAAADwPwAAAAAAAPA/AAAAAAAA8D8AAAAAAADwPwAAAAAAAPA/AAAAAAAA8D8AAAAAAADwPwAAAAAAAPA/AAAAAAAA8D8AAAAAAADwPwAAAAAAAPA/AAAAAAAA8D8AAAAAAADwPwAAAAAAAPA/AAAAAAAA8D8AAAAAAADwPwAAAAAAAPA/AAAAAAAA8D8AAAAAAADwPwAAAAAAAPA/AAAAAAAA8D8AAAAAAADwPwAAAAAAAPA/AAAAAAAA8D8AAAAAAADwPwAAAAAAAPA/AAAAAAAA8D8AAAAAAADwPwAAAAAAAPA/AAAAAAAA8D8AAAAAAADwPwAAAAAAAPA/AAAAAAAA8D8AAAAAAADwPwAAAAAAAPA/AAAAAAAA8D8AAAAAAAAAAAAAAAAAAAAAAAAAAAAAAAAAAAAAAAAAAAAAAAAAAAAAAAAAAAAAAAAAAAAAAAAAAAAAAAAAAAAAAAAAAAAAAAAAAAAAAAAAAAAAAAAAAAAAAAAAAAAAAAAAAAAAAAAAAAAAAAAAAAAAAAAAAAAAAAAAAAAAAAAAAAAAAAAAAAAAAAAAAAAAAAAAAAAAAAAAAAAAAAAAAAAAAAAAAAAAAAAAAAAAAAAAAAAAAAAAAAAAAAAAAAAAAAAAAAAAAAAAAAAAAAAAAAAAAAAAAAAAAAAAAAAAAAAAAAAAAAAAAAAAAAAAAAAAAAAAAAAAAAAAAAAAAAAAAAAAAAAAAAAAAAAAAAAAAAAAAAAAAAAAAAAAAAAAAAAAAAAAAAAAAAAAAAAAAAAAAAAAAAAAAAAAAAAAAAAAAAAAAAAAAAAAAAAAAAAAAAAAAAAAAAAAAAAAAAAAAAAAAAAAAAAAAAAAAAAAAAAAAAAAAAAAAAAAAAAAAAAAAAAAAAAAAAAAAAAAAAAAAAAAAAAAAAAAAAAAAAAAAAAAAAAAAAAAAAAAAAAAAAAAAAAAAAAAAAAAAAAAAAAAAAAAAAAAAAAAAAAAAAAAAAAAAAAAAAAAAAAAAAAAAAAAAAAAAAAAAAAAAAAAAAAAAAAAAAAAAAAAAAAAAAAAAAAAAAAAAAAAAAAAAAAAAAAAAAAAAAAAAAAAAAAAAAAAAAAAAAAAAAAAAAAAAAAAAAAAAAAAAAAAAAAAAAAAAAAAAAAAAAAAAAAAAAAAAAAAAAAAAAAAAAAAAAAAAAAAAAAAAAAAAAAAAAAAAAAAAAAAAAAAAAAAAAAAAAAAAAAAAAAAAAAAAAAAAAAAAAAAAAAAAAAAAAAAAAAAAAAAAAAAAAAAAAAAAAAAAAAAAAAAAAAAAAAAAAAAAAAAAAAAAAAAAAAAAAAAAAAAAAAAAAAAAAAAAAAAAAAAAAAAAAAAAAAAAAAAAAAAAAAAAAAAAAAAAAAAAAAAAAAAAAAAAAAAAAAAAAAAAAAAAAAAAAAAAAAAAAAAAAAAAAAAAAAAAAAAAAAAAAAAAAAAAAAAAAAAAAAAAAAAAAAAAAAAAAAAAAAAAAAA",
          "dtype": "f8"
         },
         "type": "scattergeo"
        },
        {
         "hoverinfo": "skip",
         "lat": {
          "bdata": "8tbvSrp7TUDy1u9KuntNQPLW70q6e01A8tbvSrp7TUDy1u9KuntNQPLW70q6e01A8tbvSrp7TUDy1u9KuntNQPLW70q6e01A8tbvSrp7TUDy1u9KuntNQPLW70q6e01A8tbvSrp7TUDy1u9KuntNQPLW70q6e01A8tbvSrp7TUDy1u9KuntNQPLW70q6e01A8tbvSrp7TUDy1u9KuntNQPLW70q6e01A8tbvSrp7TUDy1u9KuntNQPLW70q6e01A8tbvSrp7TUDy1u9KuntNQPLW70q6e01A8tbvSrp7TUDy1u9KuntNQPLW70q6e01A8tbvSrp7TUDy1u9KuntNQPLW70q6e01A8tbvSrp7TUDy1u9KuntNQPLW70q6e01A8tbvSrp7TUDy1u9KuntNQPLW70q6e01A8tbvSrp7TUDy1u9KuntNQPLW70q6e01A8tbvSrp7TUDy1u9KuntNQPLW70q6e01A8tbvSrp7TUDy1u9KuntNQPLW70q6e01A8tbvSrp7TUDy1u9KuntNQPLW70q6e01A8tbvSrp7TUDy1u9KuntNQPLW70q6e01A8tbvSrp7TUDy1u9KuntNQPLW70q6e01A8tbvSrp7TUDy1u9KuntNQPLW70q6e01A8tbvSrp7TUDy1u9KuntNQPLW70q6e01ABTIxHs00TEAFMjEezTRMQAUyMR7NNExABTIxHs00TEAFMjEezTRMQAUyMR7NNExABTIxHs00TEAFMjEezTRMQAUyMR7NNExABTIxHs00TEAFMjEezTRMQAUyMR7NNExABTIxHs00TEAFMjEezTRMQAUyMR7NNExABTIxHs00TEAFMjEezTRMQAUyMR7NNExABTIxHs00TEAFMjEezTRMQAUyMR7NNExABTIxHs00TEAFMjEezTRMQAUyMR7NNExABTIxHs00TEAFMjEezTRMQAUyMR7NNExABTIxHs00TEAFMjEezTRMQAUyMR7NNExABTIxHs00TEAFMjEezTRMQAUyMR7NNExABTIxHs00TEAFMjEezTRMQAUyMR7NNExABTIxHs00TEAFMjEezTRMQAUyMR7NNExABTIxHs00TEAFMjEezTRMQAUyMR7NNExABTIxHs00TEAFMjEezTRMQAUyMR7NNExABTIxHs00TEAFMjEezTRMQAUyMR7NNExABTIxHs00TEAFMjEezTRMQAUyMR7NNExABTIxHs00TEAFMjEezTRMQAUyMR7NNExABTIxHs00TEAFMjEezTRMQAUyMR7NNExABTIxHs00TEAFMjEezTRMQAUyMR7NNExABTIxHs00TEAFMjEezTRMQAUyMR7NNExABTIxHs00TEAFMjEezTRMQAUyMR7NNExABTIxHs00TEAFMjEezTRMQAUyMR7NNExABTIxHs00TEAFMjEezTRMQAUyMR7NNExABTIxHs00TEAFMjEezTRMQAUyMR7NNExABTIxHs00TEAFMjEezTRMQAUyMR7NNExABTIxHs00TEAFMjEezTRMQAUyMR7NNExABTIxHs00TEAFMjEezTRMQAUyMR7NNExABTIxHs00TEAFMjEezTRMQAUyMR7NNExABTIxHs00TEAFMjEezTRMQAUyMR7NNExABTIxHs00TEAFMjEezTRMQAUyMR7NNExABTIxHs00TEAFMjEezTRMQAUyMR7NNExABTIxHs00TEAFMjEezTRMQAUyMR7NNExABTIxHs00TEAFMjEezTRMQAUyMR7NNExABTIxHs00TEAFMjEezTRMQAUyMR7NNExABTIxHs00TEAFMjEezTRMQAUyMR7NNExABTIxHs00TEAFMjEezTRMQAUyMR7NNExABTIxHs00TEAFMjEezTRMQAUyMR7NNExABTIxHs00TEAFMjEezTRMQAUyMR7NNExABTIxHs00TEAFMjEezTRMQAUyMR7NNExABTIxHs00TEAFMjEezTRMQAUyMR7NNExABTIxHs00TEAFMjEezTRMQAUyMR7NNExABTIxHs00TEAFMjEezTRMQPLW70q6e01A8tbvSrp7TUDy1u9KuntNQPLW70q6e01A8tbvSrp7TUDy1u9KuntNQPLW70q6e01A8tbvSrp7TUDy1u9KuntNQPLW70q6e01A8tbvSrp7TUDy1u9KuntNQPLW70q6e01A8tbvSrp7TUDy1u9KuntNQPLW70q6e01A8tbvSrp7TUDy1u9KuntNQPLW70q6e01A8tbvSrp7TUDy1u9KuntNQPLW70q6e01A8tbvSrp7TUDy1u9KuntNQPLW70q6e01A8tbvSrp7TUDy1u9KuntNQPLW70q6e01A8tbvSrp7TUDy1u9KuntNQPLW70q6e01A8tbvSrp7TUDy1u9KuntNQPLW70q6e01A8tbvSrp7TUDy1u9KuntNQPLW70q6e01A8tbvSrp7TUDy1u9KuntNQPLW70q6e01A8tbvSrp7TUDy1u9KuntNQPLW70q6e01A8tbvSrp7TUDy1u9KuntNQPLW70q6e01A8tbvSrp7TUDy1u9KuntNQPLW70q6e01A8tbvSrp7TUDy1u9KuntNQPLW70q6e01A8tbvSrp7TUDy1u9KuntNQPLW70q6e01A8tbvSrp7TUDy1u9KuntNQPLW70q6e01A8tbvSrp7TUDy1u9KuntNQPLW70q6e01A8tbvSrp7TUDy1u9KuntNQPLW70q6e01ABTIxHs00TEAFMjEezTRMQAUyMR7NNExABTIxHs00TEAFMjEezTRMQAUyMR7NNExABTIxHs00TEAFMjEezTRMQAUyMR7NNExABTIxHs00TEAFMjEezTRMQAUyMR7NNExABTIxHs00TEAFMjEezTRMQAUyMR7NNExABTIxHs00TEAFMjEezTRMQAUyMR7NNExABTIxHs00TEAFMjEezTRMQAUyMR7NNExABTIxHs00TEAFMjEezTRMQAUyMR7NNExABTIxHs00TEAFMjEezTRMQAUyMR7NNExABTIxHs00TEAFMjEezTRMQAUyMR7NNExABTIxHs00TEAFMjEezTRMQAUyMR7NNExABTIxHs00TEAFMjEezTRMQAUyMR7NNExABTIxHs00TEAFMjEezTRMQAUyMR7NNExABTIxHs00TEAFMjEezTRMQAUyMR7NNExABTIxHs00TEAFMjEezTRMQAUyMR7NNExABTIxHs00TEAFMjEezTRMQAUyMR7NNExABTIxHs00TEAFMjEezTRMQAUyMR7NNExABTIxHs00TEAFMjEezTRMQAUyMR7NNExABTIxHs00TEAFMjEezTRMQAUyMR7NNExABTIxHs00TEAFMjEezTRMQAUyMR7NNExABTIxHs00TEAFMjEezTRMQAUyMR7NNExABTIxHs00TEDy1u9KuntNQPLW70q6e01A8tbvSrp7TUDy1u9KuntNQPLW70q6e01A8tbvSrp7TUDy1u9KuntNQPLW70q6e01A8tbvSrp7TUDy1u9KuntNQPLW70q6e01A8tbvSrp7TUDy1u9KuntNQPLW70q6e01A8tbvSrp7TUDy1u9KuntNQPLW70q6e01A8tbvSrp7TUDy1u9KuntNQPLW70q6e01A8tbvSrp7TUDy1u9KuntNQPLW70q6e01A8tbvSrp7TUDy1u9KuntNQPLW70q6e01A8tbvSrp7TUDy1u9KuntNQPLW70q6e01A8tbvSrp7TUDy1u9KuntNQPLW70q6e01A8tbvSrp7TUDy1u9KuntNQPLW70q6e01A8tbvSrp7TUDy1u9KuntNQPLW70q6e01A8tbvSrp7TUDy1u9KuntNQPLW70q6e01A8tbvSrp7TUDy1u9KuntNQPLW70q6e01A8tbvSrp7TUDy1u9KuntNQPLW70q6e01A8tbvSrp7TUDy1u9KuntNQPLW70q6e01A8tbvSrp7TUDy1u9KuntNQPLW70q6e01A8tbvSrp7TUDy1u9KuntNQPLW70q6e01A8tbvSrp7TUDy1u9KuntNQPLW70q6e01A8tbvSrp7TUDy1u9KuntNQPLW70q6e01A8tbvSrp7TUDy1u9KuntNQPLW70q6e01A8tbvSrp7TUDy1u9KuntNQPLW70q6e01A8tbvSrp7TUDy1u9KuntNQPLW70q6e01A8tbvSrp7TUDy1u9KuntNQPLW70q6e01A8tbvSrp7TUDy1u9KuntNQPLW70q6e01A8tbvSrp7TUDy1u9KuntNQPLW70q6e01A8tbvSrp7TUDy1u9KuntNQPLW70q6e01A8tbvSrp7TUDy1u9KuntNQPLW70q6e01A8tbvSrp7TUDy1u9KuntNQPLW70q6e01A8tbvSrp7TUDy1u9KuntNQPLW70q6e01A8tbvSrp7TUDy1u9KuntNQPLW70q6e01A8tbvSrp7TUDy1u9KuntNQPLW70q6e01A8tbvSrp7TUDy1u9KuntNQPLW70q6e01A8tbvSrp7TUDy1u9KuntNQPLW70q6e01A8tbvSrp7TUDy1u9KuntNQPLW70q6e01A8tbvSrp7TUDy1u9KuntNQPLW70q6e01A8tbvSrp7TUDy1u9KuntNQPLW70q6e01A8tbvSrp7TUDy1u9KuntNQPLW70q6e01A8tbvSrp7TUDy1u9KuntNQPLW70q6e01A8tbvSrp7TUDy1u9KuntNQPLW70q6e01A8tbvSrp7TUDy1u9KuntNQPLW70q6e01A8tbvSrp7TUDy1u9KuntNQPLW70q6e01A8tbvSrp7TUDy1u9KuntNQPLW70q6e01A8tbvSrp7TUDy1u9KuntNQPLW70q6e01A8tbvSrp7TUDy1u9KuntNQPLW70q6e01A8tbvSrp7TUDy1u9KuntNQPLW70q6e01A8tbvSrp7TUDy1u9KuntNQPLW70q6e01A8tbvSrp7TUDy1u9KuntNQPLW70q6e01A8tbvSrp7TUDy1u9KuntNQPLW70q6e01A8tbvSrp7TUDy1u9KuntNQPLW70q6e01A8tbvSrp7TUDy1u9KuntNQPLW70q6e01A8tbvSrp7TUDy1u9KuntNQPLW70q6e01A8tbvSrp7TUDy1u9KuntNQPLW70q6e01A8tbvSrp7TUDy1u9KuntNQPLW70q6e01A8tbvSrp7TUDy1u9KuntNQPLW70q6e01A8tbvSrp7TUDy1u9KuntNQPLW70q6e01A8tbvSrp7TUDy1u9KuntNQPLW70q6e01A8tbvSrp7TUDy1u9KuntNQPLW70q6e01A8tbvSrp7TUDy1u9KuntNQPLW70q6e01A8tbvSrp7TUDy1u9KuntNQPLW70q6e01A8tbvSrp7TUDy1u9KuntNQPLW70q6e01A8tbvSrp7TUDy1u9KuntNQPLW70q6e01A8tbvSrp7TUDy1u9KuntNQPLW70q6e01A8tbvSrp7TUDy1u9KuntNQPLW70q6e01A8tbvSrp7TUDy1u9KuntNQPLW70q6e01A8tbvSrp7TUDy1u9KuntNQPLW70q6e01A8tbvSrp7TUDy1u9KuntNQPLW70q6e01A8tbvSrp7TUDy1u9KuntNQPLW70q6e01A8tbvSrp7TUDy1u9KuntNQPLW70q6e01A8tbvSrp7TUDy1u9KuntNQPLW70q6e01A8tbvSrp7TUDy1u9KuntNQPLW70q6e01A8tbvSrp7TUDy1u9KuntNQPLW70q6e01A8tbvSrp7TUDy1u9KuntNQPLW70q6e01A8tbvSrp7TUDy1u9KuntNQPLW70q6e01A8tbvSrp7TUDy1u9KuntNQPLW70q6e01A8tbvSrp7TUDy1u9KuntNQPLW70q6e01A8tbvSrp7TUDy1u9KuntNQPLW70q6e01A8tbvSrp7TUDy1u9KuntNQPLW70q6e01A8tbvSrp7TUDy1u9KuntNQPLW70q6e01A8tbvSrp7TUDy1u9KuntNQPLW70q6e01A8tbvSrp7TUDy1u9KuntNQPLW70q6e01A8tbvSrp7TUDy1u9KuntNQPLW70q6e01A8tbvSrp7TUDy1u9KuntNQPLW70q6e01A8tbvSrp7TUDy1u9KuntNQPLW70q6e01A8tbvSrp7TUDy1u9KuntNQPLW70q6e01A8tbvSrp7TUDy1u9KuntNQPLW70q6e01A8tbvSrp7TUDy1u9KuntNQPLW70q6e01A8tbvSrp7TUDy1u9KuntNQPLW70q6e01A8tbvSrp7TUDy1u9KuntNQPLW70q6e01A8tbvSrp7TUDy1u9KuntNQPLW70q6e01A8tbvSrp7TUDy1u9KuntNQPLW70q6e01A8tbvSrp7TUDy1u9KuntNQPLW70q6e01A8tbvSrp7TUDy1u9KuntNQPLW70q6e01A8tbvSrp7TUDy1u9KuntNQPLW70q6e01A8tbvSrp7TUDy1u9KuntNQPLW70q6e01A8tbvSrp7TUDy1u9KuntNQPLW70q6e01A8tbvSrp7TUDy1u9KuntNQPLW70q6e01A8tbvSrp7TUDy1u9KuntNQPLW70q6e01A8tbvSrp7TUDy1u9KuntNQPLW70q6e01A8tbvSrp7TUDy1u9KuntNQPLW70q6e01A8tbvSrp7TUDy1u9KuntNQPLW70q6e01A8tbvSrp7TUDy1u9KuntNQPLW70q6e01A8tbvSrp7TUDy1u9KuntNQPLW70q6e01A8tbvSrp7TUDy1u9KuntNQPLW70q6e01A8tbvSrp7TUDy1u9KuntNQPLW70q6e01A8tbvSrp7TUDy1u9KuntNQPLW70q6e01A8tbvSrp7TUDy1u9KuntNQPLW70q6e01A8tbvSrp7TUDy1u9KuntNQPLW70q6e01A8tbvSrp7TUDy1u9KuntNQPLW70q6e01A8tbvSrp7TUDy1u9KuntNQPLW70q6e01A8tbvSrp7TUDy1u9KuntNQPLW70q6e01A8tbvSrp7TUDy1u9KuntNQPLW70q6e01A8tbvSrp7TUDy1u9KuntNQPLW70q6e01A8tbvSrp7TUDy1u9KuntNQPLW70q6e01A8tbvSrp7TUDy1u9KuntNQPLW70q6e01A8tbvSrp7TUDy1u9KuntNQPLW70q6e01A8tbvSrp7TUDy1u9KuntNQPLW70q6e01A8tbvSrp7TUDy1u9KuntNQPLW70q6e01A8tbvSrp7TUDy1u9KuntNQPLW70q6e01A8tbvSrp7TUDy1u9KuntNQPLW70q6e01A8tbvSrp7TUDy1u9KuntNQPLW70q6e01A8tbvSrp7TUDy1u9KuntNQPLW70q6e01A8tbvSrp7TUDy1u9KuntNQPLW70q6e01A8tbvSrp7TUDy1u9KuntNQPLW70q6e01A8tbvSrp7TUDy1u9KuntNQPLW70q6e01A8tbvSrp7TUDy1u9KuntNQPLW70q6e01A8tbvSrp7TUDy1u9KuntNQPLW70q6e01A8tbvSrp7TUAFMjEezTRMQAUyMR7NNExABTIxHs00TEAFMjEezTRMQAUyMR7NNExABTIxHs00TEAFMjEezTRMQAUyMR7NNExABTIxHs00TEAFMjEezTRMQAUyMR7NNExABTIxHs00TEAFMjEezTRMQAUyMR7NNExABTIxHs00TEAFMjEezTRMQAUyMR7NNExABTIxHs00TEAFMjEezTRMQAUyMR7NNExABTIxHs00TEAFMjEezTRMQAUyMR7NNExABTIxHs00TEAFMjEezTRMQAUyMR7NNExABTIxHs00TEAFMjEezTRMQAUyMR7NNExABTIxHs00TEAFMjEezTRMQAUyMR7NNExABTIxHs00TEAFMjEezTRMQAUyMR7NNExABTIxHs00TEAFMjEezTRMQAUyMR7NNExABTIxHs00TEAFMjEezTRMQAUyMR7NNExABTIxHs00TEAFMjEezTRMQAUyMR7NNExABTIxHs00TEAFMjEezTRMQAUyMR7NNExABTIxHs00TEAFMjEezTRMQAUyMR7NNExABTIxHs00TEAFMjEezTRMQAUyMR7NNExABTIxHs00TEAFMjEezTRMQAUyMR7NNExABTIxHs00TEAFMjEezTRMQAUyMR7NNExABTIxHs00TEAFMjEezTRMQAUyMR7NNExABTIxHs00TEAFMjEezTRMQPLW70q6e01A8tbvSrp7TUDy1u9KuntNQPLW70q6e01A8tbvSrp7TUDy1u9KuntNQPLW70q6e01A8tbvSrp7TUDy1u9KuntNQPLW70q6e01A8tbvSrp7TUDy1u9KuntNQPLW70q6e01A8tbvSrp7TUDy1u9KuntNQPLW70q6e01A8tbvSrp7TUDy1u9KuntNQPLW70q6e01A8tbvSrp7TUDy1u9KuntNQPLW70q6e01A8tbvSrp7TUDy1u9KuntNQPLW70q6e01A8tbvSrp7TUDy1u9KuntNQPLW70q6e01A8tbvSrp7TUDy1u9KuntNQPLW70q6e01A8tbvSrp7TUDy1u9KuntNQPLW70q6e01A8tbvSrp7TUDy1u9KuntNQPLW70q6e01A8tbvSrp7TUDy1u9KuntNQPLW70q6e01A8tbvSrp7TUDy1u9KuntNQPLW70q6e01A8tbvSrp7TUDy1u9KuntNQPLW70q6e01A8tbvSrp7TUDy1u9KuntNQPLW70q6e01A8tbvSrp7TUDy1u9KuntNQPLW70q6e01A8tbvSrp7TUDy1u9KuntNQPLW70q6e01A8tbvSrp7TUDy1u9KuntNQPLW70q6e01A8tbvSrp7TUDy1u9KuntNQPLW70q6e01A8tbvSrp7TUDy1u9KuntNQPLW70q6e01ABTIxHs00TEAFMjEezTRMQAUyMR7NNExABTIxHs00TEAFMjEezTRMQAUyMR7NNExABTIxHs00TEAFMjEezTRMQAUyMR7NNExABTIxHs00TEAFMjEezTRMQAUyMR7NNExABTIxHs00TEAFMjEezTRMQAUyMR7NNExABTIxHs00TEAFMjEezTRMQAUyMR7NNExABTIxHs00TEAFMjEezTRMQAUyMR7NNExABTIxHs00TEAFMjEezTRMQAUyMR7NNExABTIxHs00TEAFMjEezTRMQAUyMR7NNExABTIxHs00TEAFMjEezTRMQAUyMR7NNExABTIxHs00TEAFMjEezTRMQAUyMR7NNExABTIxHs00TEAFMjEezTRMQAUyMR7NNExABTIxHs00TEAFMjEezTRMQAUyMR7NNExABTIxHs00TEAFMjEezTRMQAUyMR7NNExABTIxHs00TEAFMjEezTRMQAUyMR7NNExABTIxHs00TEAFMjEezTRMQAUyMR7NNExABTIxHs00TEAFMjEezTRMQAUyMR7NNExABTIxHs00TEAFMjEezTRMQAUyMR7NNExABTIxHs00TEAFMjEezTRMQAUyMR7NNExABTIxHs00TEAFMjEezTRMQAUyMR7NNExABTIxHs00TEAFMjEezTRMQAUyMR7NNExABTIxHs00TEDy1u9KuntNQPLW70q6e01A8tbvSrp7TUDy1u9KuntNQPLW70q6e01A8tbvSrp7TUDy1u9KuntNQPLW70q6e01A8tbvSrp7TUDy1u9KuntNQPLW70q6e01A8tbvSrp7TUDy1u9KuntNQPLW70q6e01A8tbvSrp7TUDy1u9KuntNQPLW70q6e01A8tbvSrp7TUDy1u9KuntNQPLW70q6e01A8tbvSrp7TUDy1u9KuntNQPLW70q6e01A8tbvSrp7TUDy1u9KuntNQPLW70q6e01A8tbvSrp7TUDy1u9KuntNQPLW70q6e01A8tbvSrp7TUDy1u9KuntNQPLW70q6e01A8tbvSrp7TUDy1u9KuntNQPLW70q6e01A8tbvSrp7TUDy1u9KuntNQPLW70q6e01A8tbvSrp7TUDy1u9KuntNQPLW70q6e01A8tbvSrp7TUDy1u9KuntNQPLW70q6e01A8tbvSrp7TUDy1u9KuntNQPLW70q6e01A8tbvSrp7TUDy1u9KuntNQPLW70q6e01A8tbvSrp7TUDy1u9KuntNQPLW70q6e01A8tbvSrp7TUDy1u9KuntNQPLW70q6e01A8tbvSrp7TUDy1u9KuntNQPLW70q6e01A8tbvSrp7TUDy1u9KuntNQPLW70q6e01A8tbvSrp7TUDy1u9KuntNQPLW70q6e01A8tbvSrp7TUDy1u9KuntNQPLW70q6e01A8tbvSrp7TUDy1u9KuntNQPLW70q6e01A8tbvSrp7TUDy1u9KuntNQPLW70q6e01A8tbvSrp7TUDy1u9KuntNQPLW70q6e01A8tbvSrp7TUDy1u9KuntNQPLW70q6e01A8tbvSrp7TUDy1u9KuntNQPLW70q6e01A8tbvSrp7TUDy1u9KuntNQPLW70q6e01A8tbvSrp7TUDy1u9KuntNQPLW70q6e01A8tbvSrp7TUDy1u9KuntNQPLW70q6e01A8tbvSrp7TUDy1u9KuntNQPLW70q6e01A8tbvSrp7TUDy1u9KuntNQPLW70q6e01A8tbvSrp7TUDy1u9KuntNQPLW70q6e01A8tbvSrp7TUDy1u9KuntNQPLW70q6e01A",
          "dtype": "f8"
         },
         "lon": {
          "bdata": "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",
          "dtype": "f8"
         },
         "marker": {
          "color": "blue",
          "size": 4,
          "symbol": "circle-open"
         },
         "mode": "markers",
         "name": "300 km Buffer Edge",
         "type": "scattergeo"
        }
       ],
       "layout": {
        "geo": {
         "lakecolor": "rgb(255, 255, 255)",
         "landcolor": "rgb(229, 229, 229)",
         "oceancolor": "lightblue",
         "projection": {
          "type": "natural earth"
         },
         "showlakes": true,
         "showland": true,
         "showocean": true,
         "subunitcolor": "rgb(255, 255, 255)"
        },
        "template": {
         "data": {
          "bar": [
           {
            "error_x": {
             "color": "#2a3f5f"
            },
            "error_y": {
             "color": "#2a3f5f"
            },
            "marker": {
             "line": {
              "color": "white",
              "width": 0.5
             },
             "pattern": {
              "fillmode": "overlay",
              "size": 10,
              "solidity": 0.2
             }
            },
            "type": "bar"
           }
          ],
          "barpolar": [
           {
            "marker": {
             "line": {
              "color": "white",
              "width": 0.5
             },
             "pattern": {
              "fillmode": "overlay",
              "size": 10,
              "solidity": 0.2
             }
            },
            "type": "barpolar"
           }
          ],
          "carpet": [
           {
            "aaxis": {
             "endlinecolor": "#2a3f5f",
             "gridcolor": "#C8D4E3",
             "linecolor": "#C8D4E3",
             "minorgridcolor": "#C8D4E3",
             "startlinecolor": "#2a3f5f"
            },
            "baxis": {
             "endlinecolor": "#2a3f5f",
             "gridcolor": "#C8D4E3",
             "linecolor": "#C8D4E3",
             "minorgridcolor": "#C8D4E3",
             "startlinecolor": "#2a3f5f"
            },
            "type": "carpet"
           }
          ],
          "choropleth": [
           {
            "colorbar": {
             "outlinewidth": 0,
             "ticks": ""
            },
            "type": "choropleth"
           }
          ],
          "contour": [
           {
            "colorbar": {
             "outlinewidth": 0,
             "ticks": ""
            },
            "colorscale": [
             [
              0,
              "#0d0887"
             ],
             [
              0.1111111111111111,
              "#46039f"
             ],
             [
              0.2222222222222222,
              "#7201a8"
             ],
             [
              0.3333333333333333,
              "#9c179e"
             ],
             [
              0.4444444444444444,
              "#bd3786"
             ],
             [
              0.5555555555555556,
              "#d8576b"
             ],
             [
              0.6666666666666666,
              "#ed7953"
             ],
             [
              0.7777777777777778,
              "#fb9f3a"
             ],
             [
              0.8888888888888888,
              "#fdca26"
             ],
             [
              1,
              "#f0f921"
             ]
            ],
            "type": "contour"
           }
          ],
          "contourcarpet": [
           {
            "colorbar": {
             "outlinewidth": 0,
             "ticks": ""
            },
            "type": "contourcarpet"
           }
          ],
          "heatmap": [
           {
            "colorbar": {
             "outlinewidth": 0,
             "ticks": ""
            },
            "colorscale": [
             [
              0,
              "#0d0887"
             ],
             [
              0.1111111111111111,
              "#46039f"
             ],
             [
              0.2222222222222222,
              "#7201a8"
             ],
             [
              0.3333333333333333,
              "#9c179e"
             ],
             [
              0.4444444444444444,
              "#bd3786"
             ],
             [
              0.5555555555555556,
              "#d8576b"
             ],
             [
              0.6666666666666666,
              "#ed7953"
             ],
             [
              0.7777777777777778,
              "#fb9f3a"
             ],
             [
              0.8888888888888888,
              "#fdca26"
             ],
             [
              1,
              "#f0f921"
             ]
            ],
            "type": "heatmap"
           }
          ],
          "histogram": [
           {
            "marker": {
             "pattern": {
              "fillmode": "overlay",
              "size": 10,
              "solidity": 0.2
             }
            },
            "type": "histogram"
           }
          ],
          "histogram2d": [
           {
            "colorbar": {
             "outlinewidth": 0,
             "ticks": ""
            },
            "colorscale": [
             [
              0,
              "#0d0887"
             ],
             [
              0.1111111111111111,
              "#46039f"
             ],
             [
              0.2222222222222222,
              "#7201a8"
             ],
             [
              0.3333333333333333,
              "#9c179e"
             ],
             [
              0.4444444444444444,
              "#bd3786"
             ],
             [
              0.5555555555555556,
              "#d8576b"
             ],
             [
              0.6666666666666666,
              "#ed7953"
             ],
             [
              0.7777777777777778,
              "#fb9f3a"
             ],
             [
              0.8888888888888888,
              "#fdca26"
             ],
             [
              1,
              "#f0f921"
             ]
            ],
            "type": "histogram2d"
           }
          ],
          "histogram2dcontour": [
           {
            "colorbar": {
             "outlinewidth": 0,
             "ticks": ""
            },
            "colorscale": [
             [
              0,
              "#0d0887"
             ],
             [
              0.1111111111111111,
              "#46039f"
             ],
             [
              0.2222222222222222,
              "#7201a8"
             ],
             [
              0.3333333333333333,
              "#9c179e"
             ],
             [
              0.4444444444444444,
              "#bd3786"
             ],
             [
              0.5555555555555556,
              "#d8576b"
             ],
             [
              0.6666666666666666,
              "#ed7953"
             ],
             [
              0.7777777777777778,
              "#fb9f3a"
             ],
             [
              0.8888888888888888,
              "#fdca26"
             ],
             [
              1,
              "#f0f921"
             ]
            ],
            "type": "histogram2dcontour"
           }
          ],
          "mesh3d": [
           {
            "colorbar": {
             "outlinewidth": 0,
             "ticks": ""
            },
            "type": "mesh3d"
           }
          ],
          "parcoords": [
           {
            "line": {
             "colorbar": {
              "outlinewidth": 0,
              "ticks": ""
             }
            },
            "type": "parcoords"
           }
          ],
          "pie": [
           {
            "automargin": true,
            "type": "pie"
           }
          ],
          "scatter": [
           {
            "fillpattern": {
             "fillmode": "overlay",
             "size": 10,
             "solidity": 0.2
            },
            "type": "scatter"
           }
          ],
          "scatter3d": [
           {
            "line": {
             "colorbar": {
              "outlinewidth": 0,
              "ticks": ""
             }
            },
            "marker": {
             "colorbar": {
              "outlinewidth": 0,
              "ticks": ""
             }
            },
            "type": "scatter3d"
           }
          ],
          "scattercarpet": [
           {
            "marker": {
             "colorbar": {
              "outlinewidth": 0,
              "ticks": ""
             }
            },
            "type": "scattercarpet"
           }
          ],
          "scattergeo": [
           {
            "marker": {
             "colorbar": {
              "outlinewidth": 0,
              "ticks": ""
             }
            },
            "type": "scattergeo"
           }
          ],
          "scattergl": [
           {
            "marker": {
             "colorbar": {
              "outlinewidth": 0,
              "ticks": ""
             }
            },
            "type": "scattergl"
           }
          ],
          "scattermap": [
           {
            "marker": {
             "colorbar": {
              "outlinewidth": 0,
              "ticks": ""
             }
            },
            "type": "scattermap"
           }
          ],
          "scattermapbox": [
           {
            "marker": {
             "colorbar": {
              "outlinewidth": 0,
              "ticks": ""
             }
            },
            "type": "scattermapbox"
           }
          ],
          "scatterpolar": [
           {
            "marker": {
             "colorbar": {
              "outlinewidth": 0,
              "ticks": ""
             }
            },
            "type": "scatterpolar"
           }
          ],
          "scatterpolargl": [
           {
            "marker": {
             "colorbar": {
              "outlinewidth": 0,
              "ticks": ""
             }
            },
            "type": "scatterpolargl"
           }
          ],
          "scatterternary": [
           {
            "marker": {
             "colorbar": {
              "outlinewidth": 0,
              "ticks": ""
             }
            },
            "type": "scatterternary"
           }
          ],
          "surface": [
           {
            "colorbar": {
             "outlinewidth": 0,
             "ticks": ""
            },
            "colorscale": [
             [
              0,
              "#0d0887"
             ],
             [
              0.1111111111111111,
              "#46039f"
             ],
             [
              0.2222222222222222,
              "#7201a8"
             ],
             [
              0.3333333333333333,
              "#9c179e"
             ],
             [
              0.4444444444444444,
              "#bd3786"
             ],
             [
              0.5555555555555556,
              "#d8576b"
             ],
             [
              0.6666666666666666,
              "#ed7953"
             ],
             [
              0.7777777777777778,
              "#fb9f3a"
             ],
             [
              0.8888888888888888,
              "#fdca26"
             ],
             [
              1,
              "#f0f921"
             ]
            ],
            "type": "surface"
           }
          ],
          "table": [
           {
            "cells": {
             "fill": {
              "color": "#EBF0F8"
             },
             "line": {
              "color": "white"
             }
            },
            "header": {
             "fill": {
              "color": "#C8D4E3"
             },
             "line": {
              "color": "white"
             }
            },
            "type": "table"
           }
          ]
         },
         "layout": {
          "annotationdefaults": {
           "arrowcolor": "#2a3f5f",
           "arrowhead": 0,
           "arrowwidth": 1
          },
          "autotypenumbers": "strict",
          "coloraxis": {
           "colorbar": {
            "outlinewidth": 0,
            "ticks": ""
           }
          },
          "colorscale": {
           "diverging": [
            [
             0,
             "#8e0152"
            ],
            [
             0.1,
             "#c51b7d"
            ],
            [
             0.2,
             "#de77ae"
            ],
            [
             0.3,
             "#f1b6da"
            ],
            [
             0.4,
             "#fde0ef"
            ],
            [
             0.5,
             "#f7f7f7"
            ],
            [
             0.6,
             "#e6f5d0"
            ],
            [
             0.7,
             "#b8e186"
            ],
            [
             0.8,
             "#7fbc41"
            ],
            [
             0.9,
             "#4d9221"
            ],
            [
             1,
             "#276419"
            ]
           ],
           "sequential": [
            [
             0,
             "#0d0887"
            ],
            [
             0.1111111111111111,
             "#46039f"
            ],
            [
             0.2222222222222222,
             "#7201a8"
            ],
            [
             0.3333333333333333,
             "#9c179e"
            ],
            [
             0.4444444444444444,
             "#bd3786"
            ],
            [
             0.5555555555555556,
             "#d8576b"
            ],
            [
             0.6666666666666666,
             "#ed7953"
            ],
            [
             0.7777777777777778,
             "#fb9f3a"
            ],
            [
             0.8888888888888888,
             "#fdca26"
            ],
            [
             1,
             "#f0f921"
            ]
           ],
           "sequentialminus": [
            [
             0,
             "#0d0887"
            ],
            [
             0.1111111111111111,
             "#46039f"
            ],
            [
             0.2222222222222222,
             "#7201a8"
            ],
            [
             0.3333333333333333,
             "#9c179e"
            ],
            [
             0.4444444444444444,
             "#bd3786"
            ],
            [
             0.5555555555555556,
             "#d8576b"
            ],
            [
             0.6666666666666666,
             "#ed7953"
            ],
            [
             0.7777777777777778,
             "#fb9f3a"
            ],
            [
             0.8888888888888888,
             "#fdca26"
            ],
            [
             1,
             "#f0f921"
            ]
           ]
          },
          "colorway": [
           "#636efa",
           "#EF553B",
           "#00cc96",
           "#ab63fa",
           "#FFA15A",
           "#19d3f3",
           "#FF6692",
           "#B6E880",
           "#FF97FF",
           "#FECB52"
          ],
          "font": {
           "color": "#2a3f5f"
          },
          "geo": {
           "bgcolor": "white",
           "lakecolor": "white",
           "landcolor": "white",
           "showlakes": true,
           "showland": true,
           "subunitcolor": "#C8D4E3"
          },
          "hoverlabel": {
           "align": "left"
          },
          "hovermode": "closest",
          "mapbox": {
           "style": "light"
          },
          "paper_bgcolor": "white",
          "plot_bgcolor": "white",
          "polar": {
           "angularaxis": {
            "gridcolor": "#EBF0F8",
            "linecolor": "#EBF0F8",
            "ticks": ""
           },
           "bgcolor": "white",
           "radialaxis": {
            "gridcolor": "#EBF0F8",
            "linecolor": "#EBF0F8",
            "ticks": ""
           }
          },
          "scene": {
           "xaxis": {
            "backgroundcolor": "white",
            "gridcolor": "#DFE8F3",
            "gridwidth": 2,
            "linecolor": "#EBF0F8",
            "showbackground": true,
            "ticks": "",
            "zerolinecolor": "#EBF0F8"
           },
           "yaxis": {
            "backgroundcolor": "white",
            "gridcolor": "#DFE8F3",
            "gridwidth": 2,
            "linecolor": "#EBF0F8",
            "showbackground": true,
            "ticks": "",
            "zerolinecolor": "#EBF0F8"
           },
           "zaxis": {
            "backgroundcolor": "white",
            "gridcolor": "#DFE8F3",
            "gridwidth": 2,
            "linecolor": "#EBF0F8",
            "showbackground": true,
            "ticks": "",
            "zerolinecolor": "#EBF0F8"
           }
          },
          "shapedefaults": {
           "line": {
            "color": "#2a3f5f"
           }
          },
          "ternary": {
           "aaxis": {
            "gridcolor": "#DFE8F3",
            "linecolor": "#A2B1C6",
            "ticks": ""
           },
           "baxis": {
            "gridcolor": "#DFE8F3",
            "linecolor": "#A2B1C6",
            "ticks": ""
           },
           "bgcolor": "white",
           "caxis": {
            "gridcolor": "#DFE8F3",
            "linecolor": "#A2B1C6",
            "ticks": ""
           }
          },
          "title": {
           "x": 0.05
          },
          "xaxis": {
           "automargin": true,
           "gridcolor": "#EBF0F8",
           "linecolor": "#EBF0F8",
           "ticks": "",
           "title": {
            "standoff": 15
           },
           "zerolinecolor": "#EBF0F8",
           "zerolinewidth": 2
          },
          "yaxis": {
           "automargin": true,
           "gridcolor": "#EBF0F8",
           "linecolor": "#EBF0F8",
           "ticks": "",
           "title": {
            "standoff": 15
           },
           "zerolinecolor": "#EBF0F8",
           "zerolinewidth": 2
          }
         }
        },
        "title": {
         "text": "COVID Points with 300 km Buffer Zones (Approx)"
        }
       }
      }
     },
     "metadata": {},
     "output_type": "display_data"
    }
   ],
   "source": [
    "import plotly.graph_objects as go\n",
    "\n",
    "# Create scatter points for original locations\n",
    "points_trace = go.Scattergeo(\n",
    "    lon=pdf_sample[\"lon\"],\n",
    "    lat=pdf_sample[\"lat\"],\n",
    "    mode=\"markers\",\n",
    "    name=\"Original Points\",\n",
    "    marker=dict(color=\"red\", size=4),\n",
    "    hoverinfo=\"text\",\n",
    "    text=pdf_sample[\"cluster\"]\n",
    ")\n",
    "\n",
    "# Create buffer point markers (representing edge of buffer)\n",
    "buffer_trace = go.Scattergeo(\n",
    "    lon=pdf_sample[\"buffer_lon\"],\n",
    "    lat=pdf_sample[\"buffer_lat\"],\n",
    "    mode=\"markers\",\n",
    "    name=\"300 km Buffer Edge\",\n",
    "    marker=dict(color=\"blue\", size=4, symbol=\"circle-open\"),\n",
    "    hoverinfo=\"skip\"\n",
    ")\n",
    "\n",
    "fig = go.Figure(data=[points_trace, buffer_trace])\n",
    "\n",
    "fig.update_layout(\n",
    "    title=\"COVID Points with 300 km Buffer Zones (Approx)\",\n",
    "    geo=dict(\n",
    "        projection_type=\"natural earth\",\n",
    "        showland=True,\n",
    "        landcolor=\"rgb(229, 229, 229)\",\n",
    "        subunitcolor=\"rgb(255, 255, 255)\",\n",
    "        showlakes=True,\n",
    "        lakecolor=\"rgb(255, 255, 255)\",\n",
    "        showocean=True,\n",
    "        oceancolor=\"lightblue\",\n",
    "    ),\n",
    "    template=\"plotly_white\"\n",
    ")\n",
    "\n",
    "fig.show()\n"
   ]
  }
 ],
 "metadata": {
  "kernelspec": {
   "display_name": "Python (cuspatial)",
   "language": "python",
   "name": "cuspatial"
  },
  "language_info": {
   "codemirror_mode": {
    "name": "ipython",
    "version": 3
   },
   "file_extension": ".py",
   "mimetype": "text/x-python",
   "name": "python",
   "nbconvert_exporter": "python",
   "pygments_lexer": "ipython3",
   "version": "3.9.22"
  }
 },
 "nbformat": 4,
 "nbformat_minor": 5
}
